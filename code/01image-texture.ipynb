{
 "cells": [
  {
   "cell_type": "code",
   "execution_count": null,
   "id": "4feff589-e0b0-4e8c-b435-7353522f082f",
   "metadata": {},
   "outputs": [],
   "source": [
    "\"\"\"\n",
    "Calculating image texture metrics\n",
    "\"\"\"\n",
    "\n",
    "import os, sys, time\n",
    "import numpy as np\n",
    "import rioxarray as rxr\n",
    "import xarray as xr\n",
    "import matplotlib.pyplot as plt\n",
    "import earthpy.plot as ep\n",
    "import gc\n",
    "\n",
    "from scipy.ndimage import generic_filter\n",
    "\n",
    "# Custom functions\n",
    "sys.path.append(os.path.join(os.getcwd(),'code/'))\n",
    "from __functions import *\n",
    "\n",
    "# Load the environment variables\n",
    "\n",
    "maindir = '/Users/max/Library/CloudStorage/OneDrive-Personal/mcook/earth-lab/opp-rooftop-mapping'\n",
    "\n",
    "# Coordinate Ref. System\n",
    "proj = 32618  # UTM Zone 18N (Washington, D.C.)\n",
    "\n",
    "print(\"Ready !\")"
   ]
  },
  {
   "cell_type": "code",
   "execution_count": null,
   "id": "976cb74b-d19f-4d9b-b3c7-554d1f3efeb3",
   "metadata": {},
   "outputs": [],
   "source": [
    "stack_out_norm_fp = os.path.join(maindir,'data/spatial/mod/dc_data/planet-data/dc_0623_psscene8b_fil_sc.tif')\n",
    "da_stack = rxr.open_rasterio(stack_out_norm_fp, masked=True,cache=False).squeeze()\n",
    "print(da_stack)"
   ]
  },
  {
   "cell_type": "code",
   "execution_count": null,
   "id": "5d773ed7-d2c1-4be8-bacb-fbbcc2c36beb",
   "metadata": {},
   "outputs": [],
   "source": [
    "# Select the NISI band for analysis\n",
    "nisi_band = da_stack[3]\n",
    "print(nisi_band)"
   ]
  },
  {
   "cell_type": "markdown",
   "id": "dc5c4073-3a47-4966-a53b-4f3984fe9cca",
   "metadata": {},
   "source": [
    "#### Calculate Simple Texture Features\n",
    "\n",
    "Now that we have an image stack of uncorrelated bands, we can use some feature extraction to create additional data. In particular, creating textural metrics from the spectral data may improve image classification. In the section below, we calculate image texture using a simple moving window analysis on the Normalised Impervious Surface Index (NISI)."
   ]
  },
  {
   "cell_type": "code",
   "execution_count": null,
   "id": "ec58f9cb-4ee3-4a80-b3ef-63633febb9b5",
   "metadata": {},
   "outputs": [],
   "source": [
    "t0 = time.time()\n",
    "\n",
    "# Define the window size (N x N)\n",
    "window_sizes = [9,27]  # 9x9,27x27\n",
    "\n",
    "da_out = {}\n",
    "\n",
    "for window_size in window_sizes:\n",
    "    t00 = time.time()\n",
    "    name = str(window_size)+'x'+str(window_size)\n",
    "    print(f\"Processing a {name} window size ...\")\n",
    "    \n",
    "    # Calculate the standard deviation using a moving window\n",
    "    nisi_std = generic_filter(nisi_band, np.std, size=window_size)\n",
    "    \n",
    "    # Convert the result to a DataArray with the same coordinates and dimensions as the original band\n",
    "    nisi_std_da = xr.DataArray(\n",
    "        nisi_std,\n",
    "        dims=nisi_band.dims,\n",
    "        coords=nisi_band.coords,\n",
    "        attrs=nisi_band.attrs\n",
    "    )\n",
    "\n",
    "    # Prep the array for export as a GeoTIFF\n",
    "    # Assign the long name attribute\n",
    "    nisi_std_da.attrs['long_name'] = 'NISI'+str(name)\n",
    "    nisi_std_da.rio.write_crs(proj, inplace=True) # write the CRS\n",
    "\n",
    "    # Plot the result to visualize the texture\n",
    "    ep.plot_bands(nisi_std_da, figsize=(4,4))\n",
    "\n",
    "    da_out[name] = nisi_std_da\n",
    "\n",
    "    t1 = (time.time() - t00) / 60\n",
    "    print(f\"Elapsed time for {name}: {t1:.2f} minutes.\")\n",
    "\n",
    "t2 = (time.time() - t0) / 60\n",
    "print(f\"Total elapsed time: {t2:.2f} minutes.\")"
   ]
  },
  {
   "cell_type": "code",
   "execution_count": null,
   "id": "b6587ee3-ee71-4dfb-a9c9-f3d2b6b01408",
   "metadata": {},
   "outputs": [],
   "source": [
    "# Create a multiband image stack from the results\n",
    "da_texture = xr.concat(list(da_out.values()), dim='band')\n",
    "# Assign band labels (window sizes) as a coordinate for the 'band' dimension\n",
    "da_texture = da_texture.assign_coords(band=np.arange(6, 6 + len(da_out)))\n",
    "# Set the long_name attribute for each band\n",
    "new_names = ['NISI9x9','NISI27x27']\n",
    "da_texture.attrs['long_name'] = tuple(new_names)\n",
    "# View the shape of the multiband texture stack\n",
    "print(da_texture)"
   ]
  },
  {
   "cell_type": "code",
   "execution_count": null,
   "id": "8bd8542c-c2c7-43cc-aba9-cfbdf33f29e0",
   "metadata": {},
   "outputs": [],
   "source": [
    "# Test the band correlations to make sure we can keep them all ...\n",
    "print(new_names)\n",
    "# Plot the correlation matrix\n",
    "out_png = os.path.join(maindir,'figures/FigX_band_correlations_texture.png')\n",
    "band_correlations(da_texture, out_png)\n",
    "gc.collect()"
   ]
  },
  {
   "cell_type": "code",
   "execution_count": null,
   "id": "7bb5206a-21ae-4739-b38f-473b81708969",
   "metadata": {},
   "outputs": [],
   "source": []
  },
  {
   "cell_type": "code",
   "execution_count": null,
   "id": "3e40ab80-5652-469c-81f5-012b04c17fcb",
   "metadata": {},
   "outputs": [],
   "source": [
    "# Merge with the original data\n",
    "stack_out = xr.concat([da_stack, da_texture], dim='band') # Concatenate all bands\n",
    "print(stack_out.shape)"
   ]
  },
  {
   "cell_type": "code",
   "execution_count": null,
   "id": "5b46d5f7-df38-4042-96b3-2c6336145195",
   "metadata": {},
   "outputs": [],
   "source": [
    "# Save the normalized image array out with the correct CRS and compression\n",
    "da_texture_fp = os.path.join(maindir,'data/spatial/mod/dc_data/planet-data/dc_0623_psscene8b_nisi_text.tif')\n",
    "da_texture.rio.to_raster(da_texture_fp, compress='zstd', zstd_level=9, driver='GTiff', dtype='float32')\n",
    "\n",
    "print(f\"Saved raster stack to: {da_texture_fp}\")"
   ]
  },
  {
   "cell_type": "markdown",
   "id": "b39dd813-bb86-4226-8bb3-a5ac8bb65f90",
   "metadata": {
    "jp-MarkdownHeadingCollapsed": true
   },
   "source": [
    "### Graylevel Co-Occurrence Matrix (GLCM) Method\n",
    "\n",
    "The GLCM method is a more robust way for calculating texture features from image data. \n",
    "\n",
    "GLCM Contrast: Measures the difference in intensity between neighboring pixels in a window. It is based on the co-occurrence matrix and captures more localized intensity variations."
   ]
  },
  {
   "cell_type": "code",
   "execution_count": null,
   "id": "dc40e7e4-76cb-4aa7-b045-d08f0642b137",
   "metadata": {},
   "outputs": [],
   "source": [
    "# t0 = time.time()\n",
    "\n",
    "# # Convert NIR band to uint8 (GLCM requires integer values)\n",
    "# nir_band_fill = nir_band.fillna(-9999)  # Replace NaN with 0 or another suitable value\n",
    "# nir_band_uint8 = (nir_band_fill * 255 / nir_band_fill.max()).astype(np.uint8)\n",
    "\n",
    "# # Define the window size for the GLCM calculation\n",
    "# window_size = 5\n",
    "\n",
    "# # Initialize a new array to store the GLCM contrast (or other metrics)\n",
    "# nir_glcm_con = np.zeros_like(nir_band_uint8)\n",
    "\n",
    "# # Calculate GLCM contrast in a moving window\n",
    "# for i in range(window_size//2, nir_band_uint8.shape[0] - window_size//2):\n",
    "#     for j in range(window_size//2, nir_band_uint8.shape[1] - window_size//2):\n",
    "#         # Extract the local window\n",
    "#         window = nir_band_uint8[i - window_size//2: i + window_size//2 + 1,\n",
    "#                                 j - window_size//2: j + window_size//2 + 1]\n",
    "        \n",
    "#         # Calculate GLCM\n",
    "#         glcm = graycomatrix(window, [1], [0], symmetric=True, normed=True)\n",
    "        \n",
    "#         # Calculate GLCM contrast and store in the array\n",
    "#         contrast = graycoprops(glcm, 'contrast')[0, 0]\n",
    "#         nir_glcm_con[i, j] = contrast\n",
    "\n",
    "# # Convert the result to a DataArray\n",
    "# nir_glcm_con_da = xr.DataArray(\n",
    "#     nir_glcm_contrast,\n",
    "#     dims=nir_band_uint8.dims,\n",
    "#     coords=nir_band_uint8.coords,\n",
    "#     attrs=nir_band_uint8.attrs\n",
    "# )\n",
    "\n",
    "# # Plot the result to visualize the texture\n",
    "# ep.plot_bands(nir_glcm_con_da, figsize=(4,4))\n",
    "\n",
    "# t1 = (time.time() - t0) / 60\n",
    "# print(f\"Total elapsed time: {t1:.2f} minutes.\")"
   ]
  }
 ],
 "metadata": {
  "kernelspec": {
   "display_name": "rspy",
   "language": "python",
   "name": "rspy"
  },
  "language_info": {
   "codemirror_mode": {
    "name": "ipython",
    "version": 3
   },
   "file_extension": ".py",
   "mimetype": "text/x-python",
   "name": "python",
   "nbconvert_exporter": "python",
   "pygments_lexer": "ipython3",
   "version": "3.10.14"
  }
 },
 "nbformat": 4,
 "nbformat_minor": 5
}
