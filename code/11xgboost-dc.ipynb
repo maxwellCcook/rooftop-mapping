{
 "cells": [
  {
   "cell_type": "code",
   "execution_count": 1,
   "id": "b1fd450a-7dd2-438a-ba05-a26148aa6e21",
   "metadata": {},
   "outputs": [
    {
     "name": "stdout",
     "output_type": "stream",
     "text": [
      "/home/jovyan/data-store/opp-rooftop-mapping/code\n",
      "Imports successful!\n"
     ]
    }
   ],
   "source": [
    "\"\"\"\n",
    "XGBoost multiclassifier for roof materials in D.C.\n",
    "\"\"\"\n",
    "\n",
    "import os, sys, glob, time\n",
    "import geopandas as gpd\n",
    "import pandas as pd\n",
    "import numpy as np\n",
    "import rioxarray as rxr\n",
    "import rasterio as rio\n",
    "import xgboost as xgb\n",
    "import gc\n",
    "\n",
    "from sklearn.ensemble import IsolationForest\n",
    "from sklearn.model_selection import StratifiedKFold\n",
    "from sklearn.metrics import precision_score, recall_score, f1_score, matthews_corrcoef, accuracy_score\n",
    "\n",
    "# Functions!\n",
    "sys.path.append(os.path.join(os.getcwd(),'code/'))\n",
    "from __functions import *\n",
    "\n",
    "print(os.getcwd())\n",
    "\n",
    "# maindir = '/Users/max/Library/CloudStorage/OneDrive-Personal/mcook/earth-lab/opp-rooftop-mapping'\n",
    "homedir = '/home/jovyan/data-store/data/iplant/home/maco4303/data/' # cyverse\n",
    "\n",
    "print(\"Imports successful!\")"
   ]
  },
  {
   "cell_type": "code",
   "execution_count": 2,
   "id": "66ef25c1-8672-4bce-868f-adf6c4f631f2",
   "metadata": {},
   "outputs": [],
   "source": [
    "# Load the image data"
   ]
  },
  {
   "cell_type": "code",
   "execution_count": 3,
   "id": "dcd8fe2e-8c01-4730-85ce-33d3db2977c5",
   "metadata": {},
   "outputs": [
    {
     "name": "stdout",
     "output_type": "stream",
     "text": [
      "shape: (8223, 6714)\n",
      "resolution: (3.0, -3.0)\n",
      "bounds: (315267.0, 4294629.0, 335409.0, 4319298.0)\n",
      "sum: 8.181640625\n",
      "CRS: EPSG:32618\n",
      "NoData: None\n",
      "['nir', 'NDBIbg', 'NDBIrg', 'NISI', 'MNF1', 'NISI5x5']\n"
     ]
    }
   ],
   "source": [
    "# Load our image data to check on the format\n",
    "# stack_da_fp = os.path.join(maindir,'data/spatial/mod/dc_data/planet-data/dc_0623_psscene8b_final_norm.tif')\n",
    "stack_da_fp = os.path.join(homedir,'OPP/planet/dc/dc_0623_psscene8b_final_norm.tif') # cyverse\n",
    "\n",
    "stack_da = rxr.open_rasterio(stack_da_fp, masked=True, cache=False).squeeze()\n",
    "print_raster(stack_da, open_file=False)\n",
    "band_names = list(stack_da.long_name)\n",
    "print(band_names)\n",
    "del stack_da"
   ]
  },
  {
   "cell_type": "code",
   "execution_count": 4,
   "id": "c29e3a84-ad5e-4f77-9ea1-f6f00b044983",
   "metadata": {},
   "outputs": [
    {
     "data": {
      "text/plain": [
       "['nir', 'NDBIbg', 'NDBIrg', 'NISI', 'MNF1', 'NISI5x5', 'class_code', 'uid']"
      ]
     },
     "execution_count": 4,
     "metadata": {},
     "output_type": "execute_result"
    }
   ],
   "source": [
    "# Prep the data columns\n",
    "band_names_plus = band_names\n",
    "band_names_plus.append('class_code')\n",
    "band_names_plus.append('uid')\n",
    "band_names_plus"
   ]
  },
  {
   "cell_type": "code",
   "execution_count": 5,
   "id": "b40a29ed-8971-46dc-93ce-aea7781eb888",
   "metadata": {},
   "outputs": [
    {
     "ename": "DriverError",
     "evalue": "'/home/jovyan/data-store/data/iplant/home/maco4303/data/OPP/training/dc/dc_data_reference_footprints_sampled.gpkg' not recognized as a supported file format.",
     "output_type": "error",
     "traceback": [
      "\u001b[0;31m---------------------------------------------------------------------------\u001b[0m",
      "\u001b[0;31mCPLE_OpenFailedError\u001b[0m                      Traceback (most recent call last)",
      "File \u001b[0;32mfiona/ogrext.pyx:136\u001b[0m, in \u001b[0;36mfiona.ogrext.gdal_open_vector\u001b[0;34m()\u001b[0m\n",
      "File \u001b[0;32mfiona/_err.pyx:291\u001b[0m, in \u001b[0;36mfiona._err.exc_wrap_pointer\u001b[0;34m()\u001b[0m\n",
      "\u001b[0;31mCPLE_OpenFailedError\u001b[0m: '/home/jovyan/data-store/data/iplant/home/maco4303/data/OPP/training/dc/dc_data_reference_footprints_sampled.gpkg' not recognized as a supported file format.",
      "\nDuring handling of the above exception, another exception occurred:\n",
      "\u001b[0;31mDriverError\u001b[0m                               Traceback (most recent call last)",
      "Cell \u001b[0;32mIn[5], line 4\u001b[0m\n\u001b[1;32m      1\u001b[0m \u001b[38;5;66;03m# Load the training data (footprints)\u001b[39;00m\n\u001b[1;32m      2\u001b[0m \u001b[38;5;66;03m# gdf_path = os.path.join(maindir,'data/tabular/mod/dc_data/training/dc_data_reference_footprint_sampled.csv')\u001b[39;00m\n\u001b[1;32m      3\u001b[0m gdf_path \u001b[38;5;241m=\u001b[39m os\u001b[38;5;241m.\u001b[39mpath\u001b[38;5;241m.\u001b[39mjoin(homedir,\u001b[38;5;124m'\u001b[39m\u001b[38;5;124mOPP/training/dc/dc_data_reference_footprints_sampled.gpkg\u001b[39m\u001b[38;5;124m'\u001b[39m)\n\u001b[0;32m----> 4\u001b[0m ref \u001b[38;5;241m=\u001b[39m \u001b[43mgpd\u001b[49m\u001b[38;5;241;43m.\u001b[39;49m\u001b[43mread_file\u001b[49m\u001b[43m(\u001b[49m\u001b[43mgdf_path\u001b[49m\u001b[43m)\u001b[49m\n\u001b[1;32m      5\u001b[0m ref\u001b[38;5;241m.\u001b[39mhead()\n",
      "File \u001b[0;32m/opt/conda/envs/macrosystems/lib/python3.10/site-packages/geopandas/io/file.py:297\u001b[0m, in \u001b[0;36m_read_file\u001b[0;34m(filename, bbox, mask, rows, engine, **kwargs)\u001b[0m\n\u001b[1;32m    294\u001b[0m     \u001b[38;5;28;01melse\u001b[39;00m:\n\u001b[1;32m    295\u001b[0m         path_or_bytes \u001b[38;5;241m=\u001b[39m filename\n\u001b[0;32m--> 297\u001b[0m     \u001b[38;5;28;01mreturn\u001b[39;00m \u001b[43m_read_file_fiona\u001b[49m\u001b[43m(\u001b[49m\n\u001b[1;32m    298\u001b[0m \u001b[43m        \u001b[49m\u001b[43mpath_or_bytes\u001b[49m\u001b[43m,\u001b[49m\u001b[43m \u001b[49m\u001b[43mfrom_bytes\u001b[49m\u001b[43m,\u001b[49m\u001b[43m \u001b[49m\u001b[43mbbox\u001b[49m\u001b[38;5;241;43m=\u001b[39;49m\u001b[43mbbox\u001b[49m\u001b[43m,\u001b[49m\u001b[43m \u001b[49m\u001b[43mmask\u001b[49m\u001b[38;5;241;43m=\u001b[39;49m\u001b[43mmask\u001b[49m\u001b[43m,\u001b[49m\u001b[43m \u001b[49m\u001b[43mrows\u001b[49m\u001b[38;5;241;43m=\u001b[39;49m\u001b[43mrows\u001b[49m\u001b[43m,\u001b[49m\u001b[43m \u001b[49m\u001b[38;5;241;43m*\u001b[39;49m\u001b[38;5;241;43m*\u001b[39;49m\u001b[43mkwargs\u001b[49m\n\u001b[1;32m    299\u001b[0m \u001b[43m    \u001b[49m\u001b[43m)\u001b[49m\n\u001b[1;32m    301\u001b[0m \u001b[38;5;28;01melse\u001b[39;00m:\n\u001b[1;32m    302\u001b[0m     \u001b[38;5;28;01mraise\u001b[39;00m \u001b[38;5;167;01mValueError\u001b[39;00m(\u001b[38;5;124mf\u001b[39m\u001b[38;5;124m\"\u001b[39m\u001b[38;5;124munknown engine \u001b[39m\u001b[38;5;124m'\u001b[39m\u001b[38;5;132;01m{\u001b[39;00mengine\u001b[38;5;132;01m}\u001b[39;00m\u001b[38;5;124m'\u001b[39m\u001b[38;5;124m\"\u001b[39m)\n",
      "File \u001b[0;32m/opt/conda/envs/macrosystems/lib/python3.10/site-packages/geopandas/io/file.py:338\u001b[0m, in \u001b[0;36m_read_file_fiona\u001b[0;34m(path_or_bytes, from_bytes, bbox, mask, rows, where, **kwargs)\u001b[0m\n\u001b[1;32m    335\u001b[0m     reader \u001b[38;5;241m=\u001b[39m fiona\u001b[38;5;241m.\u001b[39mopen\n\u001b[1;32m    337\u001b[0m \u001b[38;5;28;01mwith\u001b[39;00m fiona_env():\n\u001b[0;32m--> 338\u001b[0m     \u001b[38;5;28;01mwith\u001b[39;00m \u001b[43mreader\u001b[49m\u001b[43m(\u001b[49m\u001b[43mpath_or_bytes\u001b[49m\u001b[43m,\u001b[49m\u001b[43m \u001b[49m\u001b[38;5;241;43m*\u001b[39;49m\u001b[38;5;241;43m*\u001b[39;49m\u001b[43mkwargs\u001b[49m\u001b[43m)\u001b[49m \u001b[38;5;28;01mas\u001b[39;00m features:\n\u001b[1;32m    339\u001b[0m         crs \u001b[38;5;241m=\u001b[39m features\u001b[38;5;241m.\u001b[39mcrs_wkt\n\u001b[1;32m    340\u001b[0m         \u001b[38;5;66;03m# attempt to get EPSG code\u001b[39;00m\n",
      "File \u001b[0;32m/opt/conda/envs/macrosystems/lib/python3.10/site-packages/fiona/env.py:457\u001b[0m, in \u001b[0;36mensure_env_with_credentials.<locals>.wrapper\u001b[0;34m(*args, **kwds)\u001b[0m\n\u001b[1;32m    454\u001b[0m     session \u001b[38;5;241m=\u001b[39m DummySession()\n\u001b[1;32m    456\u001b[0m \u001b[38;5;28;01mwith\u001b[39;00m env_ctor(session\u001b[38;5;241m=\u001b[39msession):\n\u001b[0;32m--> 457\u001b[0m     \u001b[38;5;28;01mreturn\u001b[39;00m \u001b[43mf\u001b[49m\u001b[43m(\u001b[49m\u001b[38;5;241;43m*\u001b[39;49m\u001b[43margs\u001b[49m\u001b[43m,\u001b[49m\u001b[43m \u001b[49m\u001b[38;5;241;43m*\u001b[39;49m\u001b[38;5;241;43m*\u001b[39;49m\u001b[43mkwds\u001b[49m\u001b[43m)\u001b[49m\n",
      "File \u001b[0;32m/opt/conda/envs/macrosystems/lib/python3.10/site-packages/fiona/__init__.py:292\u001b[0m, in \u001b[0;36mopen\u001b[0;34m(fp, mode, driver, schema, crs, encoding, layer, vfs, enabled_drivers, crs_wkt, allow_unsupported_drivers, **kwargs)\u001b[0m\n\u001b[1;32m    289\u001b[0m     path \u001b[38;5;241m=\u001b[39m parse_path(fp)\n\u001b[1;32m    291\u001b[0m \u001b[38;5;28;01mif\u001b[39;00m mode \u001b[38;5;129;01min\u001b[39;00m (\u001b[38;5;124m\"\u001b[39m\u001b[38;5;124ma\u001b[39m\u001b[38;5;124m\"\u001b[39m, \u001b[38;5;124m\"\u001b[39m\u001b[38;5;124mr\u001b[39m\u001b[38;5;124m\"\u001b[39m):\n\u001b[0;32m--> 292\u001b[0m     colxn \u001b[38;5;241m=\u001b[39m \u001b[43mCollection\u001b[49m\u001b[43m(\u001b[49m\n\u001b[1;32m    293\u001b[0m \u001b[43m        \u001b[49m\u001b[43mpath\u001b[49m\u001b[43m,\u001b[49m\n\u001b[1;32m    294\u001b[0m \u001b[43m        \u001b[49m\u001b[43mmode\u001b[49m\u001b[43m,\u001b[49m\n\u001b[1;32m    295\u001b[0m \u001b[43m        \u001b[49m\u001b[43mdriver\u001b[49m\u001b[38;5;241;43m=\u001b[39;49m\u001b[43mdriver\u001b[49m\u001b[43m,\u001b[49m\n\u001b[1;32m    296\u001b[0m \u001b[43m        \u001b[49m\u001b[43mencoding\u001b[49m\u001b[38;5;241;43m=\u001b[39;49m\u001b[43mencoding\u001b[49m\u001b[43m,\u001b[49m\n\u001b[1;32m    297\u001b[0m \u001b[43m        \u001b[49m\u001b[43mlayer\u001b[49m\u001b[38;5;241;43m=\u001b[39;49m\u001b[43mlayer\u001b[49m\u001b[43m,\u001b[49m\n\u001b[1;32m    298\u001b[0m \u001b[43m        \u001b[49m\u001b[43menabled_drivers\u001b[49m\u001b[38;5;241;43m=\u001b[39;49m\u001b[43menabled_drivers\u001b[49m\u001b[43m,\u001b[49m\n\u001b[1;32m    299\u001b[0m \u001b[43m        \u001b[49m\u001b[43mallow_unsupported_drivers\u001b[49m\u001b[38;5;241;43m=\u001b[39;49m\u001b[43mallow_unsupported_drivers\u001b[49m\u001b[43m,\u001b[49m\n\u001b[1;32m    300\u001b[0m \u001b[43m        \u001b[49m\u001b[38;5;241;43m*\u001b[39;49m\u001b[38;5;241;43m*\u001b[39;49m\u001b[43mkwargs\u001b[49m\n\u001b[1;32m    301\u001b[0m \u001b[43m    \u001b[49m\u001b[43m)\u001b[49m\n\u001b[1;32m    302\u001b[0m \u001b[38;5;28;01melif\u001b[39;00m mode \u001b[38;5;241m==\u001b[39m \u001b[38;5;124m\"\u001b[39m\u001b[38;5;124mw\u001b[39m\u001b[38;5;124m\"\u001b[39m:\n\u001b[1;32m    303\u001b[0m     colxn \u001b[38;5;241m=\u001b[39m Collection(\n\u001b[1;32m    304\u001b[0m         path,\n\u001b[1;32m    305\u001b[0m         mode,\n\u001b[0;32m   (...)\u001b[0m\n\u001b[1;32m    314\u001b[0m         \u001b[38;5;241m*\u001b[39m\u001b[38;5;241m*\u001b[39mkwargs\n\u001b[1;32m    315\u001b[0m     )\n",
      "File \u001b[0;32m/opt/conda/envs/macrosystems/lib/python3.10/site-packages/fiona/collection.py:243\u001b[0m, in \u001b[0;36mCollection.__init__\u001b[0;34m(self, path, mode, driver, schema, crs, encoding, layer, vsi, archive, enabled_drivers, crs_wkt, ignore_fields, ignore_geometry, include_fields, wkt_version, allow_unsupported_drivers, **kwargs)\u001b[0m\n\u001b[1;32m    241\u001b[0m \u001b[38;5;28;01mif\u001b[39;00m \u001b[38;5;28mself\u001b[39m\u001b[38;5;241m.\u001b[39mmode \u001b[38;5;241m==\u001b[39m \u001b[38;5;124m\"\u001b[39m\u001b[38;5;124mr\u001b[39m\u001b[38;5;124m\"\u001b[39m:\n\u001b[1;32m    242\u001b[0m     \u001b[38;5;28mself\u001b[39m\u001b[38;5;241m.\u001b[39msession \u001b[38;5;241m=\u001b[39m Session()\n\u001b[0;32m--> 243\u001b[0m     \u001b[38;5;28;43mself\u001b[39;49m\u001b[38;5;241;43m.\u001b[39;49m\u001b[43msession\u001b[49m\u001b[38;5;241;43m.\u001b[39;49m\u001b[43mstart\u001b[49m\u001b[43m(\u001b[49m\u001b[38;5;28;43mself\u001b[39;49m\u001b[43m,\u001b[49m\u001b[43m \u001b[49m\u001b[38;5;241;43m*\u001b[39;49m\u001b[38;5;241;43m*\u001b[39;49m\u001b[43mkwargs\u001b[49m\u001b[43m)\u001b[49m\n\u001b[1;32m    244\u001b[0m \u001b[38;5;28;01melif\u001b[39;00m \u001b[38;5;28mself\u001b[39m\u001b[38;5;241m.\u001b[39mmode \u001b[38;5;129;01min\u001b[39;00m (\u001b[38;5;124m\"\u001b[39m\u001b[38;5;124ma\u001b[39m\u001b[38;5;124m\"\u001b[39m, \u001b[38;5;124m\"\u001b[39m\u001b[38;5;124mw\u001b[39m\u001b[38;5;124m\"\u001b[39m):\n\u001b[1;32m    245\u001b[0m     \u001b[38;5;28mself\u001b[39m\u001b[38;5;241m.\u001b[39msession \u001b[38;5;241m=\u001b[39m WritingSession()\n",
      "File \u001b[0;32mfiona/ogrext.pyx:588\u001b[0m, in \u001b[0;36mfiona.ogrext.Session.start\u001b[0;34m()\u001b[0m\n",
      "File \u001b[0;32mfiona/ogrext.pyx:143\u001b[0m, in \u001b[0;36mfiona.ogrext.gdal_open_vector\u001b[0;34m()\u001b[0m\n",
      "\u001b[0;31mDriverError\u001b[0m: '/home/jovyan/data-store/data/iplant/home/maco4303/data/OPP/training/dc/dc_data_reference_footprints_sampled.gpkg' not recognized as a supported file format."
     ]
    }
   ],
   "source": [
    "# Load the training data (footprints)\n",
    "# gdf_path = os.path.join(maindir,'data/tabular/mod/dc_data/training/dc_data_reference_footprint_sampled.csv')\n",
    "ref_fp = os.path.join(homedir,'OPP/training/dc/dc_data_reference_footprints_sampled.gpkg')\n",
    "ref = gpd.read_file(ref_fp)\n",
    "ref.head()"
   ]
  },
  {
   "cell_type": "code",
   "execution_count": 6,
   "id": "e838e9a2-12ce-4347-87aa-2e6a10929a71",
   "metadata": {},
   "outputs": [
    {
     "name": "stdout",
     "output_type": "stream",
     "text": [
      "class_code\n",
      "ME    29651\n",
      "CS    27687\n",
      "SL    11080\n",
      "UR     1018\n",
      "WS      866\n",
      "TL      617\n",
      "SH      589\n",
      "Name: count, dtype: int64\n"
     ]
    }
   ],
   "source": [
    "print(ref['class_code'].value_counts())"
   ]
  },
  {
   "cell_type": "code",
   "execution_count": 7,
   "id": "2836e13d-90c2-4ee7-a251-90686b6468e3",
   "metadata": {},
   "outputs": [
    {
     "name": "stdout",
     "output_type": "stream",
     "text": [
      "class_code\n",
      "ME     29651\n",
      "CS     27687\n",
      "SL     11080\n",
      "WSH     1455\n",
      "UR      1018\n",
      "TL       617\n",
      "Name: count, dtype: int64\n"
     ]
    },
    {
     "data": {
      "text/plain": [
       "60"
      ]
     },
     "execution_count": 7,
     "metadata": {},
     "output_type": "execute_result"
    }
   ],
   "source": [
    "# Merge the misc shingle classes (wood shingle and shingle)\n",
    "merge = {'WS': 'WSH', 'SH': 'WSH'}\n",
    "ref['class_code'] = ref['class_code'].replace(merge)\n",
    "print(ref['class_code'].value_counts())  # Check the counts\n",
    "gc.collect()"
   ]
  },
  {
   "cell_type": "code",
   "execution_count": null,
   "id": "57cd12a1-24a2-46a7-9580-4e3003d94048",
   "metadata": {},
   "outputs": [],
   "source": []
  },
  {
   "cell_type": "code",
   "execution_count": 8,
   "id": "cd1c59b2-d877-4ea7-8ff0-cfff586bd885",
   "metadata": {},
   "outputs": [],
   "source": [
    "# Create a balanced sample"
   ]
  },
  {
   "cell_type": "code",
   "execution_count": 9,
   "id": "cbb7e894-9720-45ce-b00e-0cf87d28e770",
   "metadata": {},
   "outputs": [
    {
     "data": {
      "text/plain": [
       "Index(['field_1', 'class_code', 'areaUTMsqft', 'uid', 'description', 'code',\n",
       "       'nir', 'NDBIbg', 'NDBIrg', 'NISI', 'MNF1', 'NISI9x9', 'NISI27x27'],\n",
       "      dtype='object')"
      ]
     },
     "execution_count": 9,
     "metadata": {},
     "output_type": "execute_result"
    }
   ],
   "source": [
    "ref.columns"
   ]
  },
  {
   "cell_type": "code",
   "execution_count": 10,
   "id": "b872646b-5b62-45b7-8e71-5ccd856fb301",
   "metadata": {},
   "outputs": [
    {
     "name": "stdout",
     "output_type": "stream",
     "text": [
      "{'CS': 0, 'ME': 1, 'SL': 2, 'UR': 3, 'TL': 4, 'WSH': 5}\n"
     ]
    }
   ],
   "source": [
    "# Create a numeric code column\n",
    "ref['code'], _ = pd.factorize(ref['class_code'])\n",
    "# Create a dictionary mapping class_code to code\n",
    "class_mapping = dict(zip(ref['class_code'], ref['code']))\n",
    "print(class_mapping)"
   ]
  },
  {
   "cell_type": "code",
   "execution_count": 11,
   "id": "dd7ad887-6348-485c-93e6-5755db27c4b5",
   "metadata": {},
   "outputs": [
    {
     "data": {
      "text/plain": [
       "class_code\n",
       "ME     6170\n",
       "CS     6170\n",
       "SL     6170\n",
       "WSH    1455\n",
       "UR     1018\n",
       "TL      617\n",
       "Name: count, dtype: int64"
      ]
     },
     "execution_count": 11,
     "metadata": {},
     "output_type": "execute_result"
    }
   ],
   "source": [
    "# Perform balanced sampling (random undersampling)\n",
    "ref_bal = balance_sampling(ref, ratio=10, strategy='undersample')\n",
    "ref_bal.class_code.value_counts()"
   ]
  },
  {
   "cell_type": "code",
   "execution_count": null,
   "id": "e0fd47c6-15e8-450f-821c-070d1b7d2e97",
   "metadata": {},
   "outputs": [],
   "source": []
  },
  {
   "cell_type": "code",
   "execution_count": 17,
   "id": "3b9fb00c-2014-4ffd-b608-6a8bf418db55",
   "metadata": {},
   "outputs": [
    {
     "data": {
      "text/plain": [
       "Index(['nir', 'NDBIbg', 'NDBIrg', 'NISI', 'MNF1', 'NISI9x9', 'NISI27x27',\n",
       "       'class_code', 'uid'],\n",
       "      dtype='object')"
      ]
     },
     "execution_count": 17,
     "metadata": {},
     "output_type": "execute_result"
    }
   ],
   "source": [
    "X.columns"
   ]
  },
  {
   "cell_type": "code",
   "execution_count": 20,
   "id": "4d78ee0d-c08f-4af0-9e8e-1bbfadcf66cf",
   "metadata": {},
   "outputs": [
    {
     "name": "stdout",
     "output_type": "stream",
     "text": [
      "Fold: 1\n",
      "Normalized class weights: [0.04293355 0.04293355 0.04293355 0.18213141 0.26027294 0.42879499]\n",
      "Total elapsed time for fold 2: 0.87 minutes.\n",
      "\n",
      "~~~~~~~~~~\n",
      "\n",
      "Fold: 2\n",
      "Normalized class weights: [0.04293355 0.04293355 0.04293355 0.18213141 0.26027294 0.42879499]\n",
      "Total elapsed time for fold 3: 1.73 minutes.\n",
      "\n",
      "~~~~~~~~~~\n",
      "\n",
      "Fold: 3\n",
      "Normalized class weights: [0.04293355 0.04293355 0.04293355 0.18213141 0.26027294 0.42879499]\n",
      "Total elapsed time for fold 4: 2.60 minutes.\n",
      "\n",
      "~~~~~~~~~~\n",
      "\n",
      "Fold: 4\n",
      "Normalized class weights: [0.04291258 0.04291258 0.04291258 0.18204243 0.2598621  0.42935774]\n",
      "Total elapsed time for fold 5: 3.46 minutes.\n",
      "\n",
      "~~~~~~~~~~\n",
      "\n",
      "Fold: 5\n",
      "Normalized class weights: [0.04291258 0.04291258 0.04291258 0.18204243 0.2598621  0.42935774]\n",
      "Total elapsed time for fold 6: 4.33 minutes.\n",
      "\n",
      "~~~~~~~~~~\n",
      "\n",
      "Fold: 6\n",
      "Normalized class weights: [0.04290637 0.04290637 0.04290637 0.18187715 0.26010815 0.42929561]\n",
      "Total elapsed time for fold 7: 5.19 minutes.\n",
      "\n",
      "~~~~~~~~~~\n",
      "\n",
      "Fold: 7\n",
      "Normalized class weights: [0.04290637 0.04290637 0.04290637 0.18187715 0.26010815 0.42929561]\n",
      "Total elapsed time for fold 8: 6.07 minutes.\n",
      "\n",
      "~~~~~~~~~~\n",
      "\n",
      "Fold: 8\n",
      "Normalized class weights: [0.04290637 0.04290637 0.04290637 0.18187715 0.26010815 0.42929561]\n",
      "Total elapsed time for fold 9: 6.93 minutes.\n",
      "\n",
      "~~~~~~~~~~\n",
      "\n",
      "Fold: 9\n",
      "Normalized class weights: [0.04290637 0.04290637 0.04290637 0.18187715 0.26010815 0.42929561]\n",
      "Total elapsed time for fold 10: 7.80 minutes.\n",
      "\n",
      "~~~~~~~~~~\n",
      "\n",
      "Fold: 10\n",
      "Normalized class weights: [0.04290637 0.04290637 0.04290637 0.18187715 0.26010815 0.42929561]\n",
      "Total elapsed time for fold 11: 8.67 minutes.\n",
      "\n",
      "~~~~~~~~~~\n",
      "\n",
      "Total elapsed time: 8.67 minutes.\n"
     ]
    }
   ],
   "source": [
    "t0 = time.time()\n",
    "\n",
    "y = ref_bal['code'] # class code\n",
    "X = ref_bal[band_names].astype(float) # the image data\n",
    "\n",
    "# Define dataframes to store results for this feature set\n",
    "results = pd.DataFrame()  # to store the model performance metrics\n",
    "feat_imps = pd.DataFrame()  # to store the feature importances\n",
    "prob_preds = pd.DataFrame()  # for testing optimum cutoff\n",
    "\n",
    "# Set up the stratified K-fold\n",
    "skf = StratifiedKFold(n_splits=10, shuffle=True, random_state=42)\n",
    "\n",
    "# Loop the folds\n",
    "fold_idx = 1\n",
    "for train_index, test_index in skf.split(X, y):\n",
    "    t00 = time.time()\n",
    "    print(f'Fold: {fold_idx}')\n",
    "\n",
    "    # Split into train/test sets\n",
    "    X_train, X_test = X.iloc[train_index], X.iloc[test_index]\n",
    "    y_train, y_test = y.iloc[train_index], y.iloc[test_index]\n",
    "\n",
    "    # Calculate class weights\n",
    "    val_counts = list(y_train.value_counts())\n",
    "    total_samples = sum(val_counts) # total number of samples\n",
    "    class_weights = [total_samples / count for count in val_counts]\n",
    "    class_weights = class_weights / np.array(class_weights).sum()     # Normalize the weights\n",
    "    class_weight_dict = {cls: weight for cls, weight in zip(np.unique(y_train), class_weights)}\n",
    "    print(f\"Normalized class weights: {class_weights}\")\n",
    "    \n",
    "    # Map class weights to each sample in the training set\n",
    "    sample_weights = y_train.map(class_weight_dict).values\n",
    "\n",
    "    # Initialize the XGBoost classifier for multi-class classification\n",
    "    xgb_model = xgb.XGBClassifier(\n",
    "        objective='multi:softmax',\n",
    "        num_class=len(np.unique(y)),\n",
    "        n_estimators=1001,\n",
    "        learning_rate=0.01,\n",
    "        max_depth=8,\n",
    "        random_state=42\n",
    "    )\n",
    "\n",
    "    # Fit the model\n",
    "    xgb_model.fit(X_train, y_train, sample_weight=sample_weights)\n",
    "\n",
    "    # Store feature importance\n",
    "    fold_imps = pd.DataFrame({\n",
    "        'Fold': fold_idx,\n",
    "        'Feature': X.columns,\n",
    "        'Importance': xgb_model.feature_importances_\n",
    "    })\n",
    "\n",
    "    feat_imps = pd.concat([feat_imps, fold_imps], axis=0)\n",
    "\n",
    "    # Predict on the test set\n",
    "    y_pred = xgb_model.predict(X_test)\n",
    "\n",
    "    # Retrieve the accuracy/performance metrics\n",
    "    precision = precision_score(y_test, y_pred, average='weighted', zero_division=0)\n",
    "    recall = recall_score(y_test, y_pred, average='weighted', zero_division=0)\n",
    "    f1 = f1_score(y_test, y_pred, average='weighted')\n",
    "    mcc = matthews_corrcoef(y_test, y_pred)\n",
    "    accuracy = accuracy_score(y_test, y_pred)\n",
    "\n",
    "    # Store the metrics into the results data frame\n",
    "    fold_results = pd.DataFrame({\n",
    "        'Fold': [fold_idx],\n",
    "        'Precision': [precision],\n",
    "        'Recall': [recall],\n",
    "        'F1': [f1],\n",
    "        'MCC': [mcc],\n",
    "        'Accuracy': [accuracy]\n",
    "    })\n",
    "    results = pd.concat([results, fold_results], ignore_index=True)\n",
    "\n",
    "    # Store the probability values for cutoff testing\n",
    "    y_pred_proba = xgb_model.predict_proba(X_test)\n",
    "\n",
    "    # Store probabilities and true labels\n",
    "    fold_probs = pd.DataFrame({\n",
    "        'TrueLabel': y_test,\n",
    "        'PredictedProb': list(y_pred_proba),\n",
    "        'Fold': fold_idx\n",
    "    })\n",
    "    prob_preds = pd.concat([prob_preds, fold_probs], ignore_index=True)\n",
    "\n",
    "    fold_idx += 1\n",
    "\n",
    "    del fold_probs, fold_results, fold_imps\n",
    "\n",
    "    t1 = (time.time() - t00) / 60\n",
    "    print(f\"Total elapsed time for fold {fold_idx}: {t1:.2f} minutes.\")\n",
    "    print(\"\\n~~~~~~~~~~\\n\")\n",
    "\n",
    "t2 = (time.time() - t0) / 60\n",
    "print(f\"Total elapsed time: {t2:.2f} minutes.\")\n",
    "\n",
    "# # Append the feature set-specific results to the overall results dataframes\n",
    "# all_results = pd.concat([all_results, results], ignore_index=True)\n",
    "# all_feat_imps = pd.concat([all_feat_imps, feat_imps], ignore_index=True)\n",
    "# all_prob_preds = pd.concat([all_prob_preds, prob_preds], ignore_index=True)\n",
    "\n",
    "# del results, feat_imps, prob_preds"
   ]
  },
  {
   "cell_type": "code",
   "execution_count": null,
   "id": "0a359560-13bf-456e-a769-ad3541b57735",
   "metadata": {},
   "outputs": [],
   "source": []
  },
  {
   "cell_type": "code",
   "execution_count": null,
   "id": "60fb4940-db26-434a-b599-dce7f150956b",
   "metadata": {},
   "outputs": [],
   "source": []
  },
  {
   "cell_type": "code",
   "execution_count": 21,
   "id": "ca468c06-2dc4-4525-b23f-2237436c146a",
   "metadata": {},
   "outputs": [
    {
     "data": {
      "text/html": [
       "<div>\n",
       "<style scoped>\n",
       "    .dataframe tbody tr th:only-of-type {\n",
       "        vertical-align: middle;\n",
       "    }\n",
       "\n",
       "    .dataframe tbody tr th {\n",
       "        vertical-align: top;\n",
       "    }\n",
       "\n",
       "    .dataframe thead th {\n",
       "        text-align: right;\n",
       "    }\n",
       "</style>\n",
       "<table border=\"1\" class=\"dataframe\">\n",
       "  <thead>\n",
       "    <tr style=\"text-align: right;\">\n",
       "      <th></th>\n",
       "      <th>Fold</th>\n",
       "      <th>Precision</th>\n",
       "      <th>Recall</th>\n",
       "      <th>F1</th>\n",
       "      <th>MCC</th>\n",
       "      <th>Accuracy</th>\n",
       "    </tr>\n",
       "  </thead>\n",
       "  <tbody>\n",
       "    <tr>\n",
       "      <th>0</th>\n",
       "      <td>1</td>\n",
       "      <td>0.604671</td>\n",
       "      <td>0.431944</td>\n",
       "      <td>0.474587</td>\n",
       "      <td>0.332230</td>\n",
       "      <td>0.431944</td>\n",
       "    </tr>\n",
       "    <tr>\n",
       "      <th>1</th>\n",
       "      <td>2</td>\n",
       "      <td>0.596590</td>\n",
       "      <td>0.426852</td>\n",
       "      <td>0.467754</td>\n",
       "      <td>0.323575</td>\n",
       "      <td>0.426852</td>\n",
       "    </tr>\n",
       "    <tr>\n",
       "      <th>2</th>\n",
       "      <td>3</td>\n",
       "      <td>0.602312</td>\n",
       "      <td>0.421296</td>\n",
       "      <td>0.462878</td>\n",
       "      <td>0.322503</td>\n",
       "      <td>0.421296</td>\n",
       "    </tr>\n",
       "    <tr>\n",
       "      <th>3</th>\n",
       "      <td>4</td>\n",
       "      <td>0.603875</td>\n",
       "      <td>0.412500</td>\n",
       "      <td>0.453011</td>\n",
       "      <td>0.315974</td>\n",
       "      <td>0.412500</td>\n",
       "    </tr>\n",
       "    <tr>\n",
       "      <th>4</th>\n",
       "      <td>5</td>\n",
       "      <td>0.598957</td>\n",
       "      <td>0.427315</td>\n",
       "      <td>0.465195</td>\n",
       "      <td>0.327764</td>\n",
       "      <td>0.427315</td>\n",
       "    </tr>\n",
       "  </tbody>\n",
       "</table>\n",
       "</div>"
      ],
      "text/plain": [
       "   Fold  Precision    Recall        F1       MCC  Accuracy\n",
       "0     1   0.604671  0.431944  0.474587  0.332230  0.431944\n",
       "1     2   0.596590  0.426852  0.467754  0.323575  0.426852\n",
       "2     3   0.602312  0.421296  0.462878  0.322503  0.421296\n",
       "3     4   0.603875  0.412500  0.453011  0.315974  0.412500\n",
       "4     5   0.598957  0.427315  0.465195  0.327764  0.427315"
      ]
     },
     "execution_count": 21,
     "metadata": {},
     "output_type": "execute_result"
    }
   ],
   "source": [
    "results.head()"
   ]
  },
  {
   "cell_type": "code",
   "execution_count": 24,
   "id": "118160d7-5f09-45a0-95b9-f634ef04e17b",
   "metadata": {},
   "outputs": [
    {
     "data": {
      "image/png": "[encoded data removed]",
      "text/plain": [
       "<Figure size 1000x1000 with 2 Axes>"
      ]
     },
     "metadata": {},
     "output_type": "display_data"
    }
   ],
   "source": [
    "from sklearn.metrics import confusion_matrix, ConfusionMatrixDisplay\n",
    "import numpy as np\n",
    "import matplotlib.pyplot as plt\n",
    "\n",
    "# Initialize the confusion matrix accumulator\n",
    "n_classes = len(np.unique(y))  # Number of classes\n",
    "cm_accumulator = np.zeros((n_classes, n_classes))\n",
    "\n",
    "# Loop over the folds and compute confusion matrices\n",
    "for fold in range(1, fold_idx):\n",
    "    fold_data = prob_preds[prob_preds['Fold'] == fold]\n",
    "    true_labels = fold_data['TrueLabel']\n",
    "    pred_labels = np.argmax(np.vstack(fold_data['PredictedProb']), axis=1)\n",
    "\n",
    "    # Compute the confusion matrix for this fold\n",
    "    cm_fold = confusion_matrix(true_labels, pred_labels, labels=np.unique(y))\n",
    "\n",
    "    # Accumulate the confusion matrix\n",
    "    cm_accumulator += cm_fold\n",
    "\n",
    "# Average the confusion matrix by the number of folds\n",
    "cm_avg = cm_accumulator / (fold_idx - 1)\n",
    "\n",
    "# Round to the nearest integer (optional, as you mentioned it's fine)\n",
    "cm_avg = np.rint(cm_avg).astype(int)\n",
    "\n",
    "# Display the averaged confusion matrix\n",
    "disp = ConfusionMatrixDisplay(confusion_matrix=cm_avg, display_labels=np.unique(y))\n",
    "\n",
    "# Plot the confusion matrix\n",
    "fig, ax = plt.subplots(figsize=(10, 10))\n",
    "disp.plot(ax=ax)\n",
    "plt.title('Averaged Confusion Matrix Across Folds')\n",
    "\n",
    "# Save the figure\n",
    "plt.savefig(os.path.join(maindir, 'figures/FigX_xgboost_confusion_matrix_avg.png'), dpi=300, bbox_inches='tight')\n",
    "\n",
    "plt.show()"
   ]
  },
  {
   "cell_type": "code",
   "execution_count": 23,
   "id": "0f89e8e9-2e32-4b96-811a-7357330c5057",
   "metadata": {},
   "outputs": [
    {
     "data": {
      "text/html": [
       "<div>\n",
       "<style scoped>\n",
       "    .dataframe tbody tr th:only-of-type {\n",
       "        vertical-align: middle;\n",
       "    }\n",
       "\n",
       "    .dataframe tbody tr th {\n",
       "        vertical-align: top;\n",
       "    }\n",
       "\n",
       "    .dataframe thead th {\n",
       "        text-align: right;\n",
       "    }\n",
       "</style>\n",
       "<table border=\"1\" class=\"dataframe\">\n",
       "  <thead>\n",
       "    <tr style=\"text-align: right;\">\n",
       "      <th></th>\n",
       "      <th>precision</th>\n",
       "      <th>recall</th>\n",
       "      <th>f1-score</th>\n",
       "      <th>support</th>\n",
       "    </tr>\n",
       "  </thead>\n",
       "  <tbody>\n",
       "    <tr>\n",
       "      <th>CS</th>\n",
       "      <td>0.668110</td>\n",
       "      <td>0.300162</td>\n",
       "      <td>0.414225</td>\n",
       "      <td>6170.000000</td>\n",
       "    </tr>\n",
       "    <tr>\n",
       "      <th>ME</th>\n",
       "      <td>0.702536</td>\n",
       "      <td>0.628525</td>\n",
       "      <td>0.663473</td>\n",
       "      <td>6170.000000</td>\n",
       "    </tr>\n",
       "    <tr>\n",
       "      <th>SL</th>\n",
       "      <td>0.628302</td>\n",
       "      <td>0.323825</td>\n",
       "      <td>0.427380</td>\n",
       "      <td>6170.000000</td>\n",
       "    </tr>\n",
       "    <tr>\n",
       "      <th>UR</th>\n",
       "      <td>0.227443</td>\n",
       "      <td>0.418468</td>\n",
       "      <td>0.294708</td>\n",
       "      <td>1018.000000</td>\n",
       "    </tr>\n",
       "    <tr>\n",
       "      <th>TL</th>\n",
       "      <td>0.352734</td>\n",
       "      <td>0.324149</td>\n",
       "      <td>0.337838</td>\n",
       "      <td>617.000000</td>\n",
       "    </tr>\n",
       "    <tr>\n",
       "      <th>WSH</th>\n",
       "      <td>0.101327</td>\n",
       "      <td>0.535395</td>\n",
       "      <td>0.170404</td>\n",
       "      <td>1455.000000</td>\n",
       "    </tr>\n",
       "    <tr>\n",
       "      <th>accuracy</th>\n",
       "      <td>0.422824</td>\n",
       "      <td>0.422824</td>\n",
       "      <td>0.422824</td>\n",
       "      <td>0.422824</td>\n",
       "    </tr>\n",
       "    <tr>\n",
       "      <th>macro avg</th>\n",
       "      <td>0.446742</td>\n",
       "      <td>0.421754</td>\n",
       "      <td>0.384671</td>\n",
       "      <td>21600.000000</td>\n",
       "    </tr>\n",
       "    <tr>\n",
       "      <th>weighted avg</th>\n",
       "      <td>0.598616</td>\n",
       "      <td>0.422824</td>\n",
       "      <td>0.464941</td>\n",
       "      <td>21600.000000</td>\n",
       "    </tr>\n",
       "  </tbody>\n",
       "</table>\n",
       "</div>"
      ],
      "text/plain": [
       "              precision    recall  f1-score       support\n",
       "CS             0.668110  0.300162  0.414225   6170.000000\n",
       "ME             0.702536  0.628525  0.663473   6170.000000\n",
       "SL             0.628302  0.323825  0.427380   6170.000000\n",
       "UR             0.227443  0.418468  0.294708   1018.000000\n",
       "TL             0.352734  0.324149  0.337838    617.000000\n",
       "WSH            0.101327  0.535395  0.170404   1455.000000\n",
       "accuracy       0.422824  0.422824  0.422824      0.422824\n",
       "macro avg      0.446742  0.421754  0.384671  21600.000000\n",
       "weighted avg   0.598616  0.422824  0.464941  21600.000000"
      ]
     },
     "execution_count": 23,
     "metadata": {},
     "output_type": "execute_result"
    }
   ],
   "source": [
    "from sklearn.metrics import classification_report\n",
    "\n",
    "# Create a classification report and convert it to a DataFrame\n",
    "cor_labels = [label for label, idx in sorted(class_mapping.items(), key=lambda item: item[1])]\n",
    "cr_df = pd.DataFrame(classification_report(all_true_labels, all_pred_labels, target_names=cor_labels, output_dict=True)).transpose()\n",
    "\n",
    "# Compute the average accuracy metrics across the 10 folds\n",
    "average_metrics = cr_df.loc[cor_labels].mean()\n",
    "\n",
    "# Display the DataFrame\n",
    "cr_df"
   ]
  },
  {
   "cell_type": "code",
   "execution_count": null,
   "id": "7515aca9-c573-42f1-8bd9-f6f5295fef38",
   "metadata": {},
   "outputs": [],
   "source": [
    "# Save out the results\n",
    "results.to_csv(os.path.join(maindir,'xgboost_folds_results.csv'))\n",
    "feat_imps.to_csv(os.path.join(maindir,'xgboost_folds_feat_imps.csv'))\n",
    "prob_preds.to_csv(os.path.join(maindir,'xgboost_folds_prob_peds.csv'))\n",
    "cr_df.to_csv(os.path.join(maindir,'xgboost_classification_report_avg.csv'))"
   ]
  }
 ],
 "metadata": {
  "kernelspec": {
   "display_name": "macrosystems",
   "language": "python",
   "name": "macrosystems"
  },
  "language_info": {
   "codemirror_mode": {
    "name": "ipython",
    "version": 3
   },
   "file_extension": ".py",
   "mimetype": "text/x-python",
   "name": "python",
   "nbconvert_exporter": "python",
   "pygments_lexer": "ipython3",
   "version": "3.10.13"
  }
 },
 "nbformat": 4,
 "nbformat_minor": 5
}
