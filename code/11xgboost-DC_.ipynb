{
 "cells": [
  {
   "cell_type": "code",
   "execution_count": 2,
   "id": "b1fd450a-7dd2-438a-ba05-a26148aa6e21",
   "metadata": {},
   "outputs": [
    {
     "name": "stdout",
     "output_type": "stream",
     "text": [
      "/Users/max/Library/CloudStorage/OneDrive-Personal/mcook/earth-lab/opp-rooftop-mapping/code\n",
      "Imports successful!\n"
     ]
    }
   ],
   "source": [
    "\"\"\"\n",
    "XGBoost multiclassifier for roof materials in D.C.\n",
    "\"\"\"\n",
    "\n",
    "import os, sys, glob, time\n",
    "import geopandas as gpd\n",
    "import pandas as pd\n",
    "import numpy as np\n",
    "import rioxarray as rxr\n",
    "import rasterio as rio\n",
    "import xgboost as xgb\n",
    "import gc\n",
    "\n",
    "from sklearn.ensemble import IsolationForest\n",
    "from sklearn.model_selection import StratifiedKFold\n",
    "from sklearn.metrics import precision_score, recall_score, f1_score, matthews_corrcoef, accuracy_score\n",
    "\n",
    "# Functions script import\n",
    "sys.path.append(os.path.join(os.getcwd(),'code/'))\n",
    "from __functions import *\n",
    "\n",
    "print(os.getcwd())\n",
    "\n",
    "maindir = '/Users/max/Library/CloudStorage/OneDrive-Personal/mcook/earth-lab/opp-rooftop-mapping'\n",
    "# homedir = '/home/jovyan/data-store/data/iplant/home/maco4303/data/' # cyverse\n",
    "\n",
    "print(\"Imports successful!\")"
   ]
  },
  {
   "cell_type": "code",
   "execution_count": 2,
   "id": "66ef25c1-8672-4bce-868f-adf6c4f631f2",
   "metadata": {},
   "outputs": [],
   "source": [
    "# Load the image data"
   ]
  },
  {
   "cell_type": "code",
   "execution_count": 3,
   "id": "dcd8fe2e-8c01-4730-85ce-33d3db2977c5",
   "metadata": {},
   "outputs": [
    {
     "name": "stdout",
     "output_type": "stream",
     "text": [
      "shape: (8223, 6714)\n",
      "resolution: (3.0, -3.0)\n",
      "bounds: (315267.0, 4294629.0, 335409.0, 4319298.0)\n",
      "sum: 8.181640625\n",
      "CRS: EPSG:32618\n",
      "NoData: None\n",
      "Band names: ['nir', 'NDBIbg', 'NDBIrg', 'NISI', 'MNF1', 'NISI5x5']\n"
     ]
    }
   ],
   "source": [
    "# Load our image data to check on the format\n",
    "stack_da_fp = os.path.join(maindir,'data/spatial/mod/dc_data/planet-data/dc_0623_psscene8b_final_norm.tif')\n",
    "# stack_da_fp = os.path.join(homedir,'OPP/planet/dc/dc_0623_psscene8b_final_norm.tif') # cyverse\n",
    "\n",
    "stack_da = rxr.open_rasterio(stack_da_fp, masked=True, cache=False).squeeze()\n",
    "print_raster(stack_da, open_file=False)\n",
    "band_names = list(stack_da.long_name)\n",
    "print(f\"Band names: {band_names}\")\n",
    "del stack_da"
   ]
  },
  {
   "cell_type": "code",
   "execution_count": 4,
   "id": "c29e3a84-ad5e-4f77-9ea1-f6f00b044983",
   "metadata": {},
   "outputs": [
    {
     "data": {
      "text/plain": [
       "['nir', 'NDBIbg', 'NDBIrg', 'NISI', 'MNF1', 'NISI5x5', 'class_code', 'uid']"
      ]
     },
     "execution_count": 4,
     "metadata": {},
     "output_type": "execute_result"
    }
   ],
   "source": [
    "# Prep the data columns\n",
    "band_names_plus = band_names\n",
    "band_names_plus.append('class_code')\n",
    "band_names_plus.append('uid')\n",
    "band_names_plus"
   ]
  },
  {
   "cell_type": "code",
   "execution_count": 9,
   "id": "b40a29ed-8971-46dc-93ce-aea7781eb888",
   "metadata": {},
   "outputs": [
    {
     "data": {
      "text/html": [
       "<div>\n",
       "<style scoped>\n",
       "    .dataframe tbody tr th:only-of-type {\n",
       "        vertical-align: middle;\n",
       "    }\n",
       "\n",
       "    .dataframe tbody tr th {\n",
       "        vertical-align: top;\n",
       "    }\n",
       "\n",
       "    .dataframe thead th {\n",
       "        text-align: right;\n",
       "    }\n",
       "</style>\n",
       "<table border=\"1\" class=\"dataframe\">\n",
       "  <thead>\n",
       "    <tr style=\"text-align: right;\">\n",
       "      <th></th>\n",
       "      <th>uid</th>\n",
       "      <th>class_code</th>\n",
       "      <th>description</th>\n",
       "      <th>areaUTMsqft</th>\n",
       "      <th>lotSizeSqft</th>\n",
       "      <th>nir</th>\n",
       "      <th>NDBIbg</th>\n",
       "      <th>NDBIrg</th>\n",
       "      <th>NISI</th>\n",
       "      <th>MNF1</th>\n",
       "      <th>NISI5x5</th>\n",
       "      <th>geometry</th>\n",
       "    </tr>\n",
       "  </thead>\n",
       "  <tbody>\n",
       "    <tr>\n",
       "      <th>0</th>\n",
       "      <td>1CS</td>\n",
       "      <td>CS</td>\n",
       "      <td>Composition Shingle</td>\n",
       "      <td>357.783709</td>\n",
       "      <td>5574.0</td>\n",
       "      <td>-0.246291</td>\n",
       "      <td>0.373826</td>\n",
       "      <td>0.472331</td>\n",
       "      <td>0.204085</td>\n",
       "      <td>0.080244</td>\n",
       "      <td>2.598158</td>\n",
       "      <td>POLYGON ((324215.868 4313568.665, 324215.792 4...</td>\n",
       "    </tr>\n",
       "    <tr>\n",
       "      <th>1</th>\n",
       "      <td>3CS</td>\n",
       "      <td>CS</td>\n",
       "      <td>Composition Shingle</td>\n",
       "      <td>918.640862</td>\n",
       "      <td>1111.0</td>\n",
       "      <td>-0.856021</td>\n",
       "      <td>0.632535</td>\n",
       "      <td>1.064584</td>\n",
       "      <td>1.001515</td>\n",
       "      <td>0.569262</td>\n",
       "      <td>0.367447</td>\n",
       "      <td>POLYGON ((324602.816 4311717.247, 324604.322 4...</td>\n",
       "    </tr>\n",
       "    <tr>\n",
       "      <th>2</th>\n",
       "      <td>9CS</td>\n",
       "      <td>CS</td>\n",
       "      <td>Composition Shingle</td>\n",
       "      <td>1383.414170</td>\n",
       "      <td>4222.0</td>\n",
       "      <td>-0.864054</td>\n",
       "      <td>0.813552</td>\n",
       "      <td>0.806408</td>\n",
       "      <td>0.734980</td>\n",
       "      <td>0.218044</td>\n",
       "      <td>-0.683204</td>\n",
       "      <td>POLYGON ((327253.581 4300371.859, 327258.154 4...</td>\n",
       "    </tr>\n",
       "    <tr>\n",
       "      <th>3</th>\n",
       "      <td>19CS</td>\n",
       "      <td>CS</td>\n",
       "      <td>Composition Shingle</td>\n",
       "      <td>836.410297</td>\n",
       "      <td>3450.0</td>\n",
       "      <td>-0.735984</td>\n",
       "      <td>0.305262</td>\n",
       "      <td>0.856115</td>\n",
       "      <td>0.508690</td>\n",
       "      <td>0.070037</td>\n",
       "      <td>0.680645</td>\n",
       "      <td>POLYGON ((333608.13 4306267.691, 333607.957 43...</td>\n",
       "    </tr>\n",
       "    <tr>\n",
       "      <th>4</th>\n",
       "      <td>27CS</td>\n",
       "      <td>CS</td>\n",
       "      <td>Composition Shingle</td>\n",
       "      <td>330.514264</td>\n",
       "      <td>4352.0</td>\n",
       "      <td>-0.418819</td>\n",
       "      <td>0.516599</td>\n",
       "      <td>0.897064</td>\n",
       "      <td>0.448048</td>\n",
       "      <td>0.185206</td>\n",
       "      <td>-0.394834</td>\n",
       "      <td>POLYGON ((326482.699 4300939.466, 326487.386 4...</td>\n",
       "    </tr>\n",
       "  </tbody>\n",
       "</table>\n",
       "</div>"
      ],
      "text/plain": [
       "    uid class_code          description  areaUTMsqft  lotSizeSqft       nir  \\\n",
       "0   1CS         CS  Composition Shingle   357.783709       5574.0 -0.246291   \n",
       "1   3CS         CS  Composition Shingle   918.640862       1111.0 -0.856021   \n",
       "2   9CS         CS  Composition Shingle  1383.414170       4222.0 -0.864054   \n",
       "3  19CS         CS  Composition Shingle   836.410297       3450.0 -0.735984   \n",
       "4  27CS         CS  Composition Shingle   330.514264       4352.0 -0.418819   \n",
       "\n",
       "     NDBIbg    NDBIrg      NISI      MNF1   NISI5x5  \\\n",
       "0  0.373826  0.472331  0.204085  0.080244  2.598158   \n",
       "1  0.632535  1.064584  1.001515  0.569262  0.367447   \n",
       "2  0.813552  0.806408  0.734980  0.218044 -0.683204   \n",
       "3  0.305262  0.856115  0.508690  0.070037  0.680645   \n",
       "4  0.516599  0.897064  0.448048  0.185206 -0.394834   \n",
       "\n",
       "                                            geometry  \n",
       "0  POLYGON ((324215.868 4313568.665, 324215.792 4...  \n",
       "1  POLYGON ((324602.816 4311717.247, 324604.322 4...  \n",
       "2  POLYGON ((327253.581 4300371.859, 327258.154 4...  \n",
       "3  POLYGON ((333608.13 4306267.691, 333607.957 43...  \n",
       "4  POLYGON ((326482.699 4300939.466, 326487.386 4...  "
      ]
     },
     "execution_count": 9,
     "metadata": {},
     "output_type": "execute_result"
    }
   ],
   "source": [
    "# Load the training data (footprints)\n",
    "ref_fp = os.path.join(maindir,'data/spatial/mod/dc_data/training/dc_data_reference_footprints_sampled.gpkg')\n",
    "# ref_fp = os.path.join(homedir,'OPP/training/dc/dc_data_reference_footprints_sampled.gpkg')\n",
    "ref = gpd.read_file(ref_fp)\n",
    "ref.head()"
   ]
  },
  {
   "cell_type": "code",
   "execution_count": 10,
   "id": "e838e9a2-12ce-4347-87aa-2e6a10929a71",
   "metadata": {},
   "outputs": [
    {
     "name": "stdout",
     "output_type": "stream",
     "text": [
      "class_code\n",
      "CS    37133\n",
      "ME    36864\n",
      "SL    15267\n",
      "UR     1279\n",
      "WS     1152\n",
      "TL      924\n",
      "SH      783\n",
      "Name: count, dtype: int64\n"
     ]
    }
   ],
   "source": [
    "print(ref['class_code'].value_counts())"
   ]
  },
  {
   "cell_type": "code",
   "execution_count": null,
   "id": "57cd12a1-24a2-46a7-9580-4e3003d94048",
   "metadata": {},
   "outputs": [],
   "source": []
  },
  {
   "cell_type": "code",
   "execution_count": 8,
   "id": "cd1c59b2-d877-4ea7-8ff0-cfff586bd885",
   "metadata": {},
   "outputs": [],
   "source": [
    "# Create a balanced sample"
   ]
  },
  {
   "cell_type": "code",
   "execution_count": 11,
   "id": "cbb7e894-9720-45ce-b00e-0cf87d28e770",
   "metadata": {},
   "outputs": [
    {
     "data": {
      "text/plain": [
       "Index(['uid', 'class_code', 'description', 'areaUTMsqft', 'lotSizeSqft', 'nir',\n",
       "       'NDBIbg', 'NDBIrg', 'NISI', 'MNF1', 'NISI5x5', 'geometry'],\n",
       "      dtype='object')"
      ]
     },
     "execution_count": 11,
     "metadata": {},
     "output_type": "execute_result"
    }
   ],
   "source": [
    "ref.columns"
   ]
  },
  {
   "cell_type": "code",
   "execution_count": 12,
   "id": "b872646b-5b62-45b7-8e71-5ccd856fb301",
   "metadata": {},
   "outputs": [
    {
     "name": "stdout",
     "output_type": "stream",
     "text": [
      "Class mapping: {'CS': 0, 'ME': 1, 'SL': 2, 'UR': 3, 'TL': 4, 'WS': 5, 'SH': 6}\n",
      "Description mapping: {'CS': 'Composition Shingle', 'ME': 'Metal', 'SL': 'Slate', 'UR': 'Urethane', 'TL': 'Tile', 'WS': 'Wood shake/shingle', 'SH': 'Shingle'}\n"
     ]
    }
   ],
   "source": [
    "# Create a numeric code column\n",
    "ref['code'], _ = pd.factorize(ref['class_code'])\n",
    "# Create a dictionary mapping class_code to code\n",
    "class_mapping = dict(zip(ref['class_code'], ref['code']))\n",
    "desc_mapping = dict(zip(ref['class_code'], ref['description']))\n",
    "print(f\"Class mapping: {class_mapping}\\nDescription mapping: {desc_mapping}\")"
   ]
  },
  {
   "cell_type": "code",
   "execution_count": 13,
   "id": "dd7ad887-6348-485c-93e6-5755db27c4b5",
   "metadata": {},
   "outputs": [
    {
     "data": {
      "text/plain": [
       "class_code\n",
       "CS    7830\n",
       "ME    7830\n",
       "SL    7830\n",
       "UR    1279\n",
       "WS    1152\n",
       "TL     924\n",
       "SH     783\n",
       "Name: count, dtype: int64"
      ]
     },
     "execution_count": 13,
     "metadata": {},
     "output_type": "execute_result"
    }
   ],
   "source": [
    "# Perform balanced sampling (random undersampling)\n",
    "ref_bal = balance_sampling(ref, ratio=10, strategy='undersample')\n",
    "ref_bal.class_code.value_counts()"
   ]
  },
  {
   "cell_type": "code",
   "execution_count": 14,
   "id": "e0fd47c6-15e8-450f-821c-070d1b7d2e97",
   "metadata": {},
   "outputs": [
    {
     "data": {
      "text/plain": [
       "['nir', 'NDBIbg', 'NDBIrg', 'NISI', 'MNF1', 'NISI5x5']"
      ]
     },
     "execution_count": 14,
     "metadata": {},
     "output_type": "execute_result"
    }
   ],
   "source": [
    "band_names"
   ]
  },
  {
   "cell_type": "code",
   "execution_count": null,
   "id": "e0251b80-e4b4-4899-88e6-4dcf346a9f74",
   "metadata": {},
   "outputs": [],
   "source": []
  },
  {
   "cell_type": "code",
   "execution_count": null,
   "id": "b4c5b0bb-f046-49b0-bad2-23e51d224ac4",
   "metadata": {},
   "outputs": [],
   "source": [
    "# Parameter tuning"
   ]
  },
  {
   "cell_type": "code",
   "execution_count": null,
   "id": "d4cc7fd2-362d-44fe-ad19-b4c986f3ae7e",
   "metadata": {},
   "outputs": [],
   "source": []
  },
  {
   "cell_type": "code",
   "execution_count": null,
   "id": "41f54b92-4002-45be-97e6-985ac3c8ce3f",
   "metadata": {},
   "outputs": [],
   "source": []
  },
  {
   "cell_type": "code",
   "execution_count": null,
   "id": "175717db-2bf0-42c0-8d6b-692ed733cfd3",
   "metadata": {},
   "outputs": [],
   "source": []
  },
  {
   "cell_type": "code",
   "execution_count": null,
   "id": "e5b343ec-d52b-4545-b70b-e97f4341f15a",
   "metadata": {},
   "outputs": [],
   "source": [
    "# Model run"
   ]
  },
  {
   "cell_type": "code",
   "execution_count": null,
   "id": "a13e8627-ec00-4b93-af85-209f0c157b0f",
   "metadata": {},
   "outputs": [],
   "source": []
  },
  {
   "cell_type": "code",
   "execution_count": 15,
   "id": "4d78ee0d-c08f-4af0-9e8e-1bbfadcf66cf",
   "metadata": {},
   "outputs": [
    {
     "name": "stdout",
     "output_type": "stream",
     "text": [
      "Fold: 1\n",
      "Normalized class weights: {0: 0.01519441059309522, 1: 0.01519441059309522, 2: 0.015585882307065797, 3: 0.18605562371770987, 4: 0.20650918312351405, 5: 0.2577015919363225, 6: 0.30375889772919723}\n",
      "Total elapsed time for fold 2: 0.28 minutes.\n",
      "\n",
      "~~~~~~~~~~\n",
      "\n",
      "Fold: 2\n",
      "Normalized class weights: {0: 0.01519441059309522, 1: 0.01519441059309522, 2: 0.015585882307065797, 3: 0.18605562371770987, 4: 0.20650918312351405, 5: 0.2577015919363225, 6: 0.30375889772919723}\n",
      "Total elapsed time for fold 3: 0.28 minutes.\n",
      "\n",
      "~~~~~~~~~~\n",
      "\n",
      "Fold: 3\n",
      "Normalized class weights: {0: 0.0151925610778026, 1: 0.0151925610778026, 2: 0.01558398514050581, 3: 0.18603297639491734, 4: 0.2064840461239632, 5: 0.25736052383479546, 6: 0.30415334635021285}\n",
      "Total elapsed time for fold 4: 0.27 minutes.\n",
      "\n",
      "~~~~~~~~~~\n",
      "\n",
      "Fold: 4\n",
      "Normalized class weights: {0: 0.0151925610778026, 1: 0.0151925610778026, 2: 0.01558398514050581, 3: 0.18603297639491734, 4: 0.2064840461239632, 5: 0.25736052383479546, 6: 0.30415334635021285}\n",
      "Total elapsed time for fold 5: 0.26 minutes.\n",
      "\n",
      "~~~~~~~~~~\n",
      "\n",
      "Fold: 5\n",
      "Normalized class weights: {0: 0.0151925610778026, 1: 0.0151925610778026, 2: 0.01558398514050581, 3: 0.18603297639491734, 4: 0.2064840461239632, 5: 0.25736052383479546, 6: 0.30415334635021285}\n",
      "Total elapsed time for fold 6: 0.27 minutes.\n",
      "\n",
      "~~~~~~~~~~\n",
      "\n",
      "Fold: 6\n",
      "Normalized class weights: {0: 0.015199118329861608, 1: 0.015199118329861608, 2: 0.015590711334866775, 3: 0.1861132699748649, 4: 0.20657316657769478, 5: 0.2574716030541701, 6: 0.3038530123986802}\n",
      "Total elapsed time for fold 7: 0.34 minutes.\n",
      "\n",
      "~~~~~~~~~~\n",
      "\n",
      "Fold: 7\n",
      "Normalized class weights: {0: 0.015198543242967667, 1: 0.015198543242967667, 2: 0.0155901214313236, 3: 0.18594467748818255, 4: 0.20676473790191724, 5: 0.25746186113748354, 6: 0.30384151555515787}\n",
      "Total elapsed time for fold 8: 0.26 minutes.\n",
      "\n",
      "~~~~~~~~~~\n",
      "\n",
      "Fold: 8\n",
      "Normalized class weights: {0: 0.015196105544872471, 1: 0.015196105544872471, 2: 0.015586486540239619, 3: 0.18607637840958524, 4: 0.20673157485466465, 5: 0.25742056676614494, 6: 0.3037927823396207}\n",
      "Total elapsed time for fold 9: 0.27 minutes.\n",
      "\n",
      "~~~~~~~~~~\n",
      "\n",
      "Fold: 9\n",
      "Normalized class weights: {0: 0.015194427827544231, 1: 0.015194427827544231, 2: 0.015584765723121197, 3: 0.18605583475361284, 4: 0.2065094173591209, 5: 0.2577018842375552, 6: 0.30375924227150125}\n",
      "Total elapsed time for fold 10: 0.34 minutes.\n",
      "\n",
      "~~~~~~~~~~\n",
      "\n",
      "Fold: 10\n",
      "Normalized class weights: {0: 0.015194427827544231, 1: 0.015194427827544231, 2: 0.015584765723121197, 3: 0.18605583475361284, 4: 0.2065094173591209, 5: 0.2577018842375552, 6: 0.30375924227150125}\n",
      "Total elapsed time for fold 11: 0.30 minutes.\n",
      "\n",
      "~~~~~~~~~~\n",
      "\n",
      "Total elapsed time: 2.86 minutes.\n"
     ]
    }
   ],
   "source": [
    "t0 = time.time()\n",
    "\n",
    "y = ref_bal['code'] # class code\n",
    "X = ref_bal[band_names].astype(float) # the image data\n",
    "\n",
    "# Define dataframes to store results for this feature set\n",
    "results = pd.DataFrame()  # to store the model performance metrics\n",
    "feat_imps = pd.DataFrame()  # to store the feature importances\n",
    "prob_preds = pd.DataFrame()  # for testing optimum cutoff\n",
    "\n",
    "# Set up the stratified K-fold\n",
    "skf = StratifiedKFold(n_splits=10, shuffle=True, random_state=42)\n",
    "\n",
    "# Loop the folds\n",
    "fold_idx = 1\n",
    "for train_index, test_index in skf.split(X, y):\n",
    "    t00 = time.time()\n",
    "    print(f'Fold: {fold_idx}')\n",
    "\n",
    "    # Split into train/test sets\n",
    "    X_train, X_test = X.iloc[train_index], X.iloc[test_index]\n",
    "    y_train, y_test = y.iloc[train_index], y.iloc[test_index]\n",
    "\n",
    "    # Calculate class weights\n",
    "    val_counts = list(y_train.value_counts())\n",
    "    class_weights = [sum(val_counts) / count for count in val_counts]\n",
    "    class_weights = class_weights / np.array(class_weights).sum()     # Normalize the weights\n",
    "    class_weights_dict = {cls: weight for cls, weight in zip(np.unique(y_train), class_weights)}\n",
    "    print(f\"Normalized class weights: {class_weights_dict}\")\n",
    "    \n",
    "    # Map class weights to each sample in the training set\n",
    "    sample_weights = y_train.map(class_weight_dict).values\n",
    "\n",
    "    # Initialize the XGBoost classifier for multi-class classification\n",
    "    xgb_model = xgb.XGBClassifier(\n",
    "        objective='multi:softmax',\n",
    "        num_class=len(np.unique(y)),\n",
    "        n_estimators=1001,\n",
    "        learning_rate=0.01,\n",
    "        max_depth=8,\n",
    "        random_state=42\n",
    "    )\n",
    "\n",
    "    # Fit the model\n",
    "    xgb_model.fit(X_train, y_train, sample_weight=sample_weights)\n",
    "\n",
    "    # Store feature importance\n",
    "    fold_imps = pd.DataFrame({\n",
    "        'Fold': fold_idx,\n",
    "        'Feature': X.columns,\n",
    "        'Importance': xgb_model.feature_importances_\n",
    "    })\n",
    "\n",
    "    feat_imps = pd.concat([feat_imps, fold_imps], axis=0)\n",
    "\n",
    "    # Predict on the test set\n",
    "    y_pred = xgb_model.predict(X_test)\n",
    "\n",
    "    # Retrieve the accuracy/performance metrics\n",
    "    precision = precision_score(y_test, y_pred, average='weighted', zero_division=0)\n",
    "    recall = recall_score(y_test, y_pred, average='weighted', zero_division=0)\n",
    "    f1 = f1_score(y_test, y_pred, average='weighted')\n",
    "    mcc = matthews_corrcoef(y_test, y_pred)\n",
    "    accuracy = accuracy_score(y_test, y_pred)\n",
    "\n",
    "    # Store the metrics into the results data frame\n",
    "    fold_results = pd.DataFrame({\n",
    "        'Fold': [fold_idx],\n",
    "        'Precision': [precision],\n",
    "        'Recall': [recall],\n",
    "        'F1': [f1],\n",
    "        'MCC': [mcc],\n",
    "        'Accuracy': [accuracy]\n",
    "    })\n",
    "    results = pd.concat([results, fold_results], ignore_index=True)\n",
    "\n",
    "    # Store the probability values for cutoff testing\n",
    "    y_pred_proba = xgb_model.predict_proba(X_test)\n",
    "\n",
    "    # Store probabilities and true labels\n",
    "    fold_probs = pd.DataFrame({\n",
    "        'TrueLabel': y_test,\n",
    "        'PredictedProb': list(y_pred_proba),\n",
    "        'Fold': fold_idx\n",
    "    })\n",
    "\n",
    "    # Concatenate the feature importances and probabilities\n",
    "    prob_preds = pd.concat([prob_preds, fold_probs], ignore_index=True)\n",
    "\n",
    "    fold_idx += 1 # fold counter\n",
    "\n",
    "    del fold_probs, fold_results, fold_imps\n",
    "    gc.collect()\n",
    "\n",
    "    t1 = (time.time() - t00) / 60\n",
    "    print(f\"Total elapsed time for fold {fold_idx}: {t1:.2f} minutes.\")\n",
    "    print(\"\\n~~~~~~~~~~\\n\")\n",
    "\n",
    "t2 = (time.time() - t0) / 60\n",
    "print(f\"Total elapsed time: {t2:.2f} minutes.\")\n",
    "\n",
    "# # Append the feature set-specific results to the overall results dataframes\n",
    "# all_results = pd.concat([all_results, results], ignore_index=True)\n",
    "# all_feat_imps = pd.concat([all_feat_imps, feat_imps], ignore_index=True)\n",
    "# all_prob_preds = pd.concat([all_prob_preds, prob_preds], ignore_index=True)\n",
    "\n",
    "# del results, feat_imps, prob_preds"
   ]
  },
  {
   "cell_type": "code",
   "execution_count": null,
   "id": "0a359560-13bf-456e-a769-ad3541b57735",
   "metadata": {},
   "outputs": [],
   "source": []
  },
  {
   "cell_type": "code",
   "execution_count": null,
   "id": "60fb4940-db26-434a-b599-dce7f150956b",
   "metadata": {},
   "outputs": [],
   "source": []
  },
  {
   "cell_type": "code",
   "execution_count": 16,
   "id": "ca468c06-2dc4-4525-b23f-2237436c146a",
   "metadata": {},
   "outputs": [
    {
     "data": {
      "text/html": [
       "<div>\n",
       "<style scoped>\n",
       "    .dataframe tbody tr th:only-of-type {\n",
       "        vertical-align: middle;\n",
       "    }\n",
       "\n",
       "    .dataframe tbody tr th {\n",
       "        vertical-align: top;\n",
       "    }\n",
       "\n",
       "    .dataframe thead th {\n",
       "        text-align: right;\n",
       "    }\n",
       "</style>\n",
       "<table border=\"1\" class=\"dataframe\">\n",
       "  <thead>\n",
       "    <tr style=\"text-align: right;\">\n",
       "      <th></th>\n",
       "      <th>Fold</th>\n",
       "      <th>Precision</th>\n",
       "      <th>Recall</th>\n",
       "      <th>F1</th>\n",
       "      <th>MCC</th>\n",
       "      <th>Accuracy</th>\n",
       "    </tr>\n",
       "  </thead>\n",
       "  <tbody>\n",
       "    <tr>\n",
       "      <th>0</th>\n",
       "      <td>1</td>\n",
       "      <td>0.599565</td>\n",
       "      <td>0.439385</td>\n",
       "      <td>0.493615</td>\n",
       "      <td>0.307817</td>\n",
       "      <td>0.439385</td>\n",
       "    </tr>\n",
       "    <tr>\n",
       "      <th>1</th>\n",
       "      <td>2</td>\n",
       "      <td>0.596827</td>\n",
       "      <td>0.441356</td>\n",
       "      <td>0.497292</td>\n",
       "      <td>0.307139</td>\n",
       "      <td>0.441356</td>\n",
       "    </tr>\n",
       "    <tr>\n",
       "      <th>2</th>\n",
       "      <td>3</td>\n",
       "      <td>0.585360</td>\n",
       "      <td>0.430712</td>\n",
       "      <td>0.485600</td>\n",
       "      <td>0.294947</td>\n",
       "      <td>0.430712</td>\n",
       "    </tr>\n",
       "    <tr>\n",
       "      <th>3</th>\n",
       "      <td>4</td>\n",
       "      <td>0.594596</td>\n",
       "      <td>0.437020</td>\n",
       "      <td>0.491725</td>\n",
       "      <td>0.303645</td>\n",
       "      <td>0.437020</td>\n",
       "    </tr>\n",
       "    <tr>\n",
       "      <th>4</th>\n",
       "      <td>5</td>\n",
       "      <td>0.594489</td>\n",
       "      <td>0.432880</td>\n",
       "      <td>0.487081</td>\n",
       "      <td>0.301198</td>\n",
       "      <td>0.432880</td>\n",
       "    </tr>\n",
       "  </tbody>\n",
       "</table>\n",
       "</div>"
      ],
      "text/plain": [
       "   Fold  Precision    Recall        F1       MCC  Accuracy\n",
       "0     1   0.599565  0.439385  0.493615  0.307817  0.439385\n",
       "1     2   0.596827  0.441356  0.497292  0.307139  0.441356\n",
       "2     3   0.585360  0.430712  0.485600  0.294947  0.430712\n",
       "3     4   0.594596  0.437020  0.491725  0.303645  0.437020\n",
       "4     5   0.594489  0.432880  0.487081  0.301198  0.432880"
      ]
     },
     "execution_count": 16,
     "metadata": {},
     "output_type": "execute_result"
    }
   ],
   "source": [
    "results.head()"
   ]
  },
  {
   "cell_type": "code",
   "execution_count": 22,
   "id": "118160d7-5f09-45a0-95b9-f634ef04e17b",
   "metadata": {},
   "outputs": [
    {
     "data": {
      "image/png": "[encoded data removed]",
      "text/plain": [
       "<Figure size 1000x1000 with 2 Axes>"
      ]
     },
     "metadata": {},
     "output_type": "display_data"
    }
   ],
   "source": [
    "from sklearn.metrics import confusion_matrix, ConfusionMatrixDisplay\n",
    "import numpy as np\n",
    "import matplotlib.pyplot as plt\n",
    "\n",
    "# Initialize the confusion matrix accumulator\n",
    "n_classes = len(np.unique(y))  # Number of classes\n",
    "cm_accumulator = np.zeros((n_classes, n_classes))\n",
    "\n",
    "all_true_labels = []\n",
    "all_pred_labels = []\n",
    "\n",
    "class_acc_reports = []\n",
    "\n",
    "# Loop over the folds and compute confusion matrices\n",
    "for fold in range(1, fold_idx):\n",
    "    fold_data = prob_preds[prob_preds['Fold'] == fold]\n",
    "    true_labels = fold_data['TrueLabel']\n",
    "    pred_labels = np.argmax(np.vstack(fold_data['PredictedProb']), axis=1)\n",
    "\n",
    "    all_true_labels.extend(true_labels)\n",
    "    all_pred_labels.extend(pred_labels)\n",
    "\n",
    "    # Compute the classification report for this fold\n",
    "    cr_fold = classification_report(true_labels, pred_labels, target_names=cor_labels, output_dict=True)\n",
    "    # Convert the classification report to a DataFrame and store it\n",
    "    cr_df_fold = pd.DataFrame(cr_fold).transpose()\n",
    "    class_acc_reports.append(cr_df_fold)\n",
    "    \n",
    "    # Compute the confusion matrix for this fold\n",
    "    cm_fold = confusion_matrix(true_labels, pred_labels, labels=np.unique(y))\n",
    "\n",
    "    # Accumulate the confusion matrix\n",
    "    cm_accumulator += cm_fold\n",
    "\n",
    "# Average the confusion matrix by the number of folds\n",
    "cm_avg = cm_accumulator / (fold_idx - 1)\n",
    "\n",
    "# Round to the nearest integer (optional, as you mentioned it's fine)\n",
    "cm_avg = np.rint(cm_avg).astype(int)\n",
    "\n",
    "# Display the averaged confusion matrix\n",
    "disp = ConfusionMatrixDisplay(confusion_matrix=cm_avg, display_labels=np.unique(y))\n",
    "\n",
    "# Plot the confusion matrix\n",
    "fig, ax = plt.subplots(figsize=(10, 10))\n",
    "disp.plot(ax=ax)\n",
    "plt.title('Averaged Confusion Matrix Across Folds')\n",
    "\n",
    "# Save the figure\n",
    "plt.savefig(os.path.join('/home/jovyan/data-store/results/FigX_xgboost_confusion_matrix_avg.png'), dpi=300, bbox_inches='tight')\n",
    "\n",
    "plt.show()"
   ]
  },
  {
   "cell_type": "code",
   "execution_count": 24,
   "id": "dbebb232-21a6-4e35-afa8-542d2d2665f1",
   "metadata": {},
   "outputs": [
    {
     "name": "stdout",
     "output_type": "stream",
     "text": [
      "              precision    recall  f1-score      support\n",
      "CS             0.621601  0.409579  0.493694  1566.000000\n",
      "ME             0.706062  0.466858  0.561915  1566.000000\n",
      "SH             0.025236  0.043460  0.031758    78.300000\n",
      "SL             0.583665  0.448222  0.506972  1526.700000\n",
      "TL             0.118675  0.331265  0.174600    92.400000\n",
      "UR             0.107669  0.613736  0.183174   127.900000\n",
      "WS             0.044571  0.272601  0.076608   115.200000\n",
      "accuracy       0.433849  0.433849  0.433849     0.433849\n",
      "macro avg      0.315354  0.369389  0.289817  5072.500000\n",
      "weighted avg   0.591828  0.433849  0.488505  5072.500000\n"
     ]
    }
   ],
   "source": [
    "cr_avg = pd.concat(class_acc_reports).groupby(level=0).mean()\n",
    "print(cr_avg)"
   ]
  },
  {
   "cell_type": "code",
   "execution_count": 20,
   "id": "0f89e8e9-2e32-4b96-811a-7357330c5057",
   "metadata": {},
   "outputs": [
    {
     "data": {
      "text/html": [
       "<div>\n",
       "<style scoped>\n",
       "    .dataframe tbody tr th:only-of-type {\n",
       "        vertical-align: middle;\n",
       "    }\n",
       "\n",
       "    .dataframe tbody tr th {\n",
       "        vertical-align: top;\n",
       "    }\n",
       "\n",
       "    .dataframe thead th {\n",
       "        text-align: right;\n",
       "    }\n",
       "</style>\n",
       "<table border=\"1\" class=\"dataframe\">\n",
       "  <thead>\n",
       "    <tr style=\"text-align: right;\">\n",
       "      <th></th>\n",
       "      <th>precision</th>\n",
       "      <th>recall</th>\n",
       "      <th>f1-score</th>\n",
       "      <th>support</th>\n",
       "    </tr>\n",
       "  </thead>\n",
       "  <tbody>\n",
       "    <tr>\n",
       "      <th>CS</th>\n",
       "      <td>0.621211</td>\n",
       "      <td>0.409579</td>\n",
       "      <td>0.493669</td>\n",
       "      <td>15660.000000</td>\n",
       "    </tr>\n",
       "    <tr>\n",
       "      <th>ME</th>\n",
       "      <td>0.705831</td>\n",
       "      <td>0.466858</td>\n",
       "      <td>0.561996</td>\n",
       "      <td>15660.000000</td>\n",
       "    </tr>\n",
       "    <tr>\n",
       "      <th>SL</th>\n",
       "      <td>0.583525</td>\n",
       "      <td>0.448222</td>\n",
       "      <td>0.507002</td>\n",
       "      <td>15267.000000</td>\n",
       "    </tr>\n",
       "    <tr>\n",
       "      <th>UR</th>\n",
       "      <td>0.107800</td>\n",
       "      <td>0.613761</td>\n",
       "      <td>0.183390</td>\n",
       "      <td>1279.000000</td>\n",
       "    </tr>\n",
       "    <tr>\n",
       "      <th>TL</th>\n",
       "      <td>0.118697</td>\n",
       "      <td>0.331169</td>\n",
       "      <td>0.174757</td>\n",
       "      <td>924.000000</td>\n",
       "    </tr>\n",
       "    <tr>\n",
       "      <th>WS</th>\n",
       "      <td>0.044495</td>\n",
       "      <td>0.272569</td>\n",
       "      <td>0.076501</td>\n",
       "      <td>1152.000000</td>\n",
       "    </tr>\n",
       "    <tr>\n",
       "      <th>SH</th>\n",
       "      <td>0.024320</td>\n",
       "      <td>0.043423</td>\n",
       "      <td>0.031178</td>\n",
       "      <td>783.000000</td>\n",
       "    </tr>\n",
       "    <tr>\n",
       "      <th>accuracy</th>\n",
       "      <td>0.433849</td>\n",
       "      <td>0.433849</td>\n",
       "      <td>0.433849</td>\n",
       "      <td>0.433849</td>\n",
       "    </tr>\n",
       "    <tr>\n",
       "      <th>macro avg</th>\n",
       "      <td>0.315126</td>\n",
       "      <td>0.369369</td>\n",
       "      <td>0.289785</td>\n",
       "      <td>50725.000000</td>\n",
       "    </tr>\n",
       "    <tr>\n",
       "      <th>weighted avg</th>\n",
       "      <td>0.591582</td>\n",
       "      <td>0.433849</td>\n",
       "      <td>0.488530</td>\n",
       "      <td>50725.000000</td>\n",
       "    </tr>\n",
       "  </tbody>\n",
       "</table>\n",
       "</div>"
      ],
      "text/plain": [
       "              precision    recall  f1-score       support\n",
       "CS             0.621211  0.409579  0.493669  15660.000000\n",
       "ME             0.705831  0.466858  0.561996  15660.000000\n",
       "SL             0.583525  0.448222  0.507002  15267.000000\n",
       "UR             0.107800  0.613761  0.183390   1279.000000\n",
       "TL             0.118697  0.331169  0.174757    924.000000\n",
       "WS             0.044495  0.272569  0.076501   1152.000000\n",
       "SH             0.024320  0.043423  0.031178    783.000000\n",
       "accuracy       0.433849  0.433849  0.433849      0.433849\n",
       "macro avg      0.315126  0.369369  0.289785  50725.000000\n",
       "weighted avg   0.591582  0.433849  0.488530  50725.000000"
      ]
     },
     "execution_count": 20,
     "metadata": {},
     "output_type": "execute_result"
    }
   ],
   "source": [
    "from sklearn.metrics import classification_report\n",
    "\n",
    "# Create a classification report and convert it to a DataFrame\n",
    "cor_labels = [label for label, idx in sorted(class_mapping.items(), key=lambda item: item[1])]\n",
    "cr_df = pd.DataFrame(classification_report(all_true_labels, all_pred_labels, target_names=cor_labels, output_dict=True)).transpose()\n",
    "\n",
    "# Compute the average accuracy metrics across the 10 folds\n",
    "average_metrics = cr_df.loc[cor_labels].mean()\n",
    "\n",
    "# Display the DataFrame\n",
    "cr_df"
   ]
  },
  {
   "cell_type": "code",
   "execution_count": 21,
   "id": "7515aca9-c573-42f1-8bd9-f6f5295fef38",
   "metadata": {},
   "outputs": [],
   "source": [
    "# Save out the results\n",
    "results_dir = '/home/jovyan/data-store/results/'\n",
    "results.to_csv(os.path.join(results_dir,'dc_xgboost_folds_results.csv'))\n",
    "feat_imps.to_csv(os.path.join(results_dir,'dc_xgboost_folds_feat_imps.csv'))\n",
    "prob_preds.to_csv(os.path.join(results_dir,'dc_xgboost_folds_prob_peds.csv'))\n",
    "cr_df.to_csv(os.path.join(results_dir,'dc_xgboost_classification_report_avg.csv'))"
   ]
  }
 ],
 "metadata": {
  "kernelspec": {
   "display_name": "rspy",
   "language": "python",
   "name": "rspy"
  },
  "language_info": {
   "codemirror_mode": {
    "name": "ipython",
    "version": 3
   },
   "file_extension": ".py",
   "mimetype": "text/x-python",
   "name": "python",
   "nbconvert_exporter": "python",
   "pygments_lexer": "ipython3",
   "version": "3.10.14"
  }
 },
 "nbformat": 4,
 "nbformat_minor": 5
}
