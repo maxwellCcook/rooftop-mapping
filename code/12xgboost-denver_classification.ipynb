{
 "cells": [
  {
   "cell_type": "code",
   "execution_count": 2,
   "id": "dd92b15d-3cc3-4301-b41a-699c767fd6b6",
   "metadata": {},
   "outputs": [
    {
     "name": "stdout",
     "output_type": "stream",
     "text": [
      "/home/jovyan/data-store/opp-rooftop-mapping/code\n",
      "Imports successful!\n"
     ]
    }
   ],
   "source": [
    "\"\"\"\n",
    "Classification of the Planet SuperDove imagery from the XGBoost model\n",
    "Author: maxwell.cook@colorado.edu\n",
    "\"\"\"\n",
    "\n",
    "import os, time, sys\n",
    "import xgboost as xgb\n",
    "\n",
    "# Functions script import\n",
    "sys.path.append(os.path.join(os.getcwd(),'code/'))\n",
    "from __functions import *\n",
    "\n",
    "print(os.getcwd())\n",
    "\n",
    "# maindir = '/Users/max/Library/CloudStorage/OneDrive-Personal/mcook/earth-lab/opp-rooftop-mapping'\n",
    "homedir = '/home/jovyan/data-store/data/iplant/home/maco4303/data/' # cyverse\n",
    "\n",
    "print(\"Imports successful!\")"
   ]
  },
  {
   "cell_type": "code",
   "execution_count": 3,
   "id": "a3519d0c-199a-4451-8afb-90586cc5d0a7",
   "metadata": {},
   "outputs": [
    {
     "name": "stdout",
     "output_type": "stream",
     "text": [
      "Saving results to /home/jovyan/data-store/data/iplant/home/maco4303/data/OPP/results/xgboost-cv/classification/\n"
     ]
    }
   ],
   "source": [
    "# results_dir = os.path.join(maindir, 'results/xgboost-cv/classification/')\n",
    "results_dir = os.path.join(homedir, 'OPP/results/xgboost-cv/classification/') # cyverse\n",
    "if not os.path.exists(results_dir):\n",
    "    os.makedirs(results_dir)\n",
    "print(f\"Saving results to {results_dir}\")"
   ]
  },
  {
   "cell_type": "code",
   "execution_count": null,
   "id": "080be2ef-c6f6-4bff-a93b-9d8b26be6bda",
   "metadata": {},
   "outputs": [],
   "source": []
  },
  {
   "cell_type": "code",
   "execution_count": null,
   "id": "1e0500ea-5a31-4da3-bb3a-2924d4c8636a",
   "metadata": {},
   "outputs": [],
   "source": [
    "# Load the reference footprint data"
   ]
  },
  {
   "cell_type": "code",
   "execution_count": 4,
   "id": "04def1b4-3a5f-4c25-a324-84e4d3e2aa9e",
   "metadata": {},
   "outputs": [
    {
     "data": {
      "text/html": [
       "<div>\n",
       "<style scoped>\n",
       "    .dataframe tbody tr th:only-of-type {\n",
       "        vertical-align: middle;\n",
       "    }\n",
       "\n",
       "    .dataframe tbody tr th {\n",
       "        vertical-align: top;\n",
       "    }\n",
       "\n",
       "    .dataframe thead th {\n",
       "        text-align: right;\n",
       "    }\n",
       "</style>\n",
       "<table border=\"1\" class=\"dataframe\">\n",
       "  <thead>\n",
       "    <tr style=\"text-align: right;\">\n",
       "      <th></th>\n",
       "      <th>uid</th>\n",
       "      <th>class_code</th>\n",
       "      <th>description</th>\n",
       "      <th>areaUTMsqft</th>\n",
       "      <th>lotSizeSqft</th>\n",
       "      <th>geometry</th>\n",
       "    </tr>\n",
       "  </thead>\n",
       "  <tbody>\n",
       "    <tr>\n",
       "      <th>0</th>\n",
       "      <td>78TL</td>\n",
       "      <td>TL</td>\n",
       "      <td>Tile</td>\n",
       "      <td>271.028875</td>\n",
       "      <td>4710.0</td>\n",
       "      <td>MULTIPOLYGON (((502162.154 4397355.647, 502162...</td>\n",
       "    </tr>\n",
       "    <tr>\n",
       "      <th>1</th>\n",
       "      <td>269TL</td>\n",
       "      <td>TL</td>\n",
       "      <td>Tile</td>\n",
       "      <td>3885.053236</td>\n",
       "      <td>22307.0</td>\n",
       "      <td>MULTIPOLYGON (((503091.622 4397021.987, 503101...</td>\n",
       "    </tr>\n",
       "    <tr>\n",
       "      <th>2</th>\n",
       "      <td>490TL</td>\n",
       "      <td>TL</td>\n",
       "      <td>Tile</td>\n",
       "      <td>2018.268605</td>\n",
       "      <td>6250.0</td>\n",
       "      <td>MULTIPOLYGON (((501990.912 4396754.280, 502007...</td>\n",
       "    </tr>\n",
       "    <tr>\n",
       "      <th>3</th>\n",
       "      <td>497TL</td>\n",
       "      <td>TL</td>\n",
       "      <td>Tile</td>\n",
       "      <td>273.843801</td>\n",
       "      <td>6370.0</td>\n",
       "      <td>MULTIPOLYGON (((502773.275 4396965.742, 502773...</td>\n",
       "    </tr>\n",
       "    <tr>\n",
       "      <th>4</th>\n",
       "      <td>537TL</td>\n",
       "      <td>TL</td>\n",
       "      <td>Tile</td>\n",
       "      <td>281.649002</td>\n",
       "      <td>6000.0</td>\n",
       "      <td>MULTIPOLYGON (((502162.107 4396885.437, 502168...</td>\n",
       "    </tr>\n",
       "  </tbody>\n",
       "</table>\n",
       "</div>"
      ],
      "text/plain": [
       "     uid class_code description  areaUTMsqft  lotSizeSqft  \\\n",
       "0   78TL         TL        Tile   271.028875       4710.0   \n",
       "1  269TL         TL        Tile  3885.053236      22307.0   \n",
       "2  490TL         TL        Tile  2018.268605       6250.0   \n",
       "3  497TL         TL        Tile   273.843801       6370.0   \n",
       "4  537TL         TL        Tile   281.649002       6000.0   \n",
       "\n",
       "                                            geometry  \n",
       "0  MULTIPOLYGON (((502162.154 4397355.647, 502162...  \n",
       "1  MULTIPOLYGON (((503091.622 4397021.987, 503101...  \n",
       "2  MULTIPOLYGON (((501990.912 4396754.280, 502007...  \n",
       "3  MULTIPOLYGON (((502773.275 4396965.742, 502773...  \n",
       "4  MULTIPOLYGON (((502162.107 4396885.437, 502168...  "
      ]
     },
     "execution_count": 4,
     "metadata": {},
     "output_type": "execute_result"
    }
   ],
   "source": [
    "# ref_fp = os.path.join(maindir,'data/spatial/mod/dc_data/training/dc_data_reference_footprints.gpkg')\n",
    "ref_fp = os.path.join(homedir,'OPP/training/denver/denver_data_reference_footprints.gpkg')\n",
    "ref = gpd.read_file(ref_fp)\n",
    "n_classes = len(ref['class_code'].unique())\n",
    "ref.head()"
   ]
  },
  {
   "cell_type": "code",
   "execution_count": 5,
   "id": "cfe0d1c3-3892-4ba7-8690-2ba0fcc34f3f",
   "metadata": {},
   "outputs": [
    {
     "name": "stdout",
     "output_type": "stream",
     "text": [
      "Code map: \n",
      "{'TL': 0, 'WS': 1, 'CN': 2, 'AP': 3, 'SL': 4, 'TG': 5, 'CS': 6}\n",
      "Description map: \n",
      "{'TL': 'Tile', 'WS': 'Wood shake/shingle', 'CN': 'Concrete', 'AP': 'Asphalt', 'SL': 'Slate', 'TG': 'Tar and gravel', 'CS': 'Composition Shingle'}\n"
     ]
    }
   ],
   "source": [
    "# Create a dictionary mapping class_code to numeric code\n",
    "ref['code'], _ = pd.factorize(ref['class_code'])\n",
    "code_mapping = dict(zip(ref['class_code'], ref['code']))\n",
    "desc_mapping = dict(zip(ref['class_code'], ref['description']))\n",
    "print(f'Code map: \\n{code_mapping}\\nDescription map: \\n{desc_mapping}')"
   ]
  },
  {
   "cell_type": "code",
   "execution_count": null,
   "id": "c9f085c4-a0fc-4961-9c7c-37f67c14bf8d",
   "metadata": {},
   "outputs": [],
   "source": []
  },
  {
   "cell_type": "code",
   "execution_count": null,
   "id": "d2be07ed-6b3d-4b6c-a8fc-9ab9fc722e31",
   "metadata": {},
   "outputs": [],
   "source": [
    "# Load the best XGBoost model from cross-validation based on holdout accuracy"
   ]
  },
  {
   "cell_type": "code",
   "execution_count": 6,
   "id": "ad8b779e-ad65-47b7-afd3-cf53da273bc3",
   "metadata": {},
   "outputs": [
    {
     "name": "stdout",
     "output_type": "stream",
     "text": [
      "{'learning_rate': 0.0017472223984262216, 'max_depth': 6, 'n_estimators': 982, 'min_child_weight': 3, 'subsample': 0.5002215027207308, 'colsample_bytree': 0.5767395115585954, 'gamma': 8.601053095855774e-05}\n"
     ]
    }
   ],
   "source": [
    "best_fold = 1\n",
    "best_params = {\n",
    "    'learning_rate': 0.0017472223984262216,\n",
    "    'max_depth': 6,\n",
    "    'n_estimators': 982,\n",
    "    'min_child_weight': 3,\n",
    "    'subsample': 0.5002215027207308,\n",
    "    'colsample_bytree': 0.5767395115585954,\n",
    "    'gamma': 8.601053095855774e-05\n",
    "}\n",
    "print(best_params)"
   ]
  },
  {
   "cell_type": "code",
   "execution_count": 7,
   "id": "7634d361-1309-4b09-b0f3-5b7b8dbb392e",
   "metadata": {},
   "outputs": [
    {
     "name": "stdout",
     "output_type": "stream",
     "text": [
      "Loading model from path: /home/jovyan/data-store/data/iplant/home/maco4303/data/OPP/results/xgboost-cv/dc-xgb_fold1.model\n",
      "Model loaded !\n"
     ]
    }
   ],
   "source": [
    "# Load the trained model for best fold\n",
    "# model_fp = os.path.join(maindir, f'results/xgboost-cv/denver-xgb_fold{best_fold}.model')\n",
    "model_fp = os.path.join(homedir, f'OPP/results/xgboost-cv/dc-xgb_fold{best_fold}.model')\n",
    "print(f\"Loading model from path: {model_fp}\")\n",
    "\n",
    "xgb_model = xgb.XGBClassifier(\n",
    "    objective='multi:softmax',\n",
    "    num_class=n_classes,\n",
    "    learning_rate=best_params['learning_rate'],\n",
    "    max_depth=best_params['max_depth'],\n",
    "    n_estimators=best_params['n_estimators'],\n",
    "    min_child_weight=best_params['min_child_weight'],\n",
    "    subsample=best_params['subsample'],\n",
    "    colsample_bytree=best_params['colsample_bytree'],\n",
    "    gamma=best_params['gamma'],\n",
    "    eval_metric=['mlogloss', 'auc', 'merror'], # track multiple evaluation metrics\n",
    "    early_stopping_rounds=100, # stop if no improvement\n",
    "    random_state=44\n",
    ")\n",
    "\n",
    "xgb_model.load_model(model_fp)\n",
    "print(\"Model loaded !\")"
   ]
  },
  {
   "cell_type": "code",
   "execution_count": null,
   "id": "d20cf529-18dc-4eb5-b1f0-2b47c7975b15",
   "metadata": {},
   "outputs": [],
   "source": []
  },
  {
   "cell_type": "code",
   "execution_count": null,
   "id": "1fffdc38-1d9f-4a00-8624-a4119ca8754e",
   "metadata": {},
   "outputs": [],
   "source": [
    "# Load the Planet imagery"
   ]
  },
  {
   "cell_type": "code",
   "execution_count": null,
   "id": "fa62d673-1ad1-4475-8c74-b6868d1aed31",
   "metadata": {},
   "outputs": [],
   "source": []
  },
  {
   "cell_type": "code",
   "execution_count": 8,
   "id": "8138695e-3b5b-42de-8bf1-3aba28c337ed",
   "metadata": {},
   "outputs": [
    {
     "name": "stdout",
     "output_type": "stream",
     "text": [
      "shape: (14939, 6330)\n",
      "resolution: (3.0, -3.0)\n",
      "bounds: (489558.0, 4383960.0, 508548.0, 4428777.0)\n",
      "sum: 15.8248291015625\n",
      "CRS: EPSG:32613\n",
      "NoData: None\n",
      "Band names: ['nir', 'NDBIbg', 'NDBIrg', 'NISI', 'MNF1', 'NISI5x5']\n"
     ]
    }
   ],
   "source": [
    "# Load our image data to check on the format\n",
    "# stack_da_fp = os.path.join(maindir,'data/spatial/mod/denver_data/planet-data/denver_0815_psscene8b_final_norm.tif')\n",
    "stack_da_fp = os.path.join(homedir,'OPP/planet/denver/denver_0815_psscene8b_final_norm.tif') # cyverse\n",
    "stack_da = rxr.open_rasterio(stack_da_fp, masked=True, cache=False).squeeze()\n",
    "print_raster(stack_da, open_file=False)\n",
    "band_names = list(stack_da.long_name)\n",
    "print(f\"Band names: {band_names}\")"
   ]
  },
  {
   "cell_type": "code",
   "execution_count": 9,
   "id": "4615bfc9-71fa-484e-8dd0-5a0a47993791",
   "metadata": {},
   "outputs": [
    {
     "data": {
      "text/plain": [
       "(94563870, 6)"
      ]
     },
     "execution_count": 9,
     "metadata": {},
     "output_type": "execute_result"
    }
   ],
   "source": [
    "# Flatten the image for classification\n",
    "stack_da_flat = flatten_array(stack_da)\n",
    "stack_da_flat.shape"
   ]
  },
  {
   "cell_type": "code",
   "execution_count": null,
   "id": "0c448022-4879-4b45-80b4-9869d7ab424b",
   "metadata": {},
   "outputs": [],
   "source": []
  },
  {
   "cell_type": "code",
   "execution_count": null,
   "id": "4b06d695-dc99-4235-aa61-b20d1a0ecc27",
   "metadata": {},
   "outputs": [],
   "source": [
    "# Make predictions on the Planet imagery"
   ]
  },
  {
   "cell_type": "code",
   "execution_count": null,
   "id": "947c9399-2995-429e-84b1-d7e27d7c10a5",
   "metadata": {},
   "outputs": [],
   "source": []
  },
  {
   "cell_type": "code",
   "execution_count": 11,
   "id": "96824ae3-45e4-4368-b565-7d4fae5b3897",
   "metadata": {},
   "outputs": [
    {
     "ename": "ValueError",
     "evalue": "axes don't match array",
     "output_type": "error",
     "traceback": [
      "\u001b[0;31m---------------------------------------------------------------------------\u001b[0m",
      "\u001b[0;31mValueError\u001b[0m                                Traceback (most recent call last)",
      "Cell \u001b[0;32mIn[11], line 8\u001b[0m\n\u001b[1;32m      5\u001b[0m \u001b[38;5;66;03m# Create a new datarray from the predictions, matching to the original Planet imagery\u001b[39;00m\n\u001b[1;32m      6\u001b[0m \u001b[38;5;66;03m# Export to a GeoTIFF\u001b[39;00m\n\u001b[1;32m      7\u001b[0m out_fp \u001b[38;5;241m=\u001b[39m os\u001b[38;5;241m.\u001b[39mpath\u001b[38;5;241m.\u001b[39mjoin(results_dir, \u001b[38;5;124m'\u001b[39m\u001b[38;5;124mdenver-xgboost-best_roof_materials_pred.tif\u001b[39m\u001b[38;5;124m'\u001b[39m)\n\u001b[0;32m----> 8\u001b[0m preds_da \u001b[38;5;241m=\u001b[39m \u001b[43marray_to_xrda\u001b[49m\u001b[43m(\u001b[49m\u001b[43mpreds_\u001b[49m\u001b[43m,\u001b[49m\u001b[43m \u001b[49m\u001b[43mstack_da\u001b[49m\u001b[43m,\u001b[49m\u001b[43m \u001b[49m\u001b[43mdtype\u001b[49m\u001b[38;5;241;43m=\u001b[39;49m\u001b[38;5;124;43m\"\u001b[39;49m\u001b[38;5;124;43muint8\u001b[39;49m\u001b[38;5;124;43m\"\u001b[39;49m\u001b[43m,\u001b[49m\u001b[43m \u001b[49m\u001b[43mclip\u001b[49m\u001b[38;5;241;43m=\u001b[39;49m\u001b[38;5;28;43;01mFalse\u001b[39;49;00m\u001b[43m,\u001b[49m\u001b[43m \u001b[49m\u001b[43mexport\u001b[49m\u001b[38;5;241;43m=\u001b[39;49m\u001b[38;5;28;43;01mTrue\u001b[39;49;00m\u001b[43m,\u001b[49m\u001b[43m \u001b[49m\u001b[43mout_fp\u001b[49m\u001b[38;5;241;43m=\u001b[39;49m\u001b[43mout_fp\u001b[49m\u001b[43m)\u001b[49m\n\u001b[1;32m     10\u001b[0m \u001b[38;5;28mprint\u001b[39m(\u001b[38;5;124m\"\u001b[39m\u001b[38;5;130;01m\\n\u001b[39;00m\u001b[38;5;124m~~~~~~~~~~~~~~~~~~~\u001b[39m\u001b[38;5;130;01m\\n\u001b[39;00m\u001b[38;5;124m\"\u001b[39m)\n\u001b[1;32m     11\u001b[0m t1 \u001b[38;5;241m=\u001b[39m (time\u001b[38;5;241m.\u001b[39mtime() \u001b[38;5;241m-\u001b[39m t0) \u001b[38;5;241m/\u001b[39m \u001b[38;5;241m60\u001b[39m\n",
      "File \u001b[0;32m~/data-store/opp-rooftop-mapping/code/__functions.py:536\u001b[0m, in \u001b[0;36marray_to_xrda\u001b[0;34m(arr, ref_da, dtype, clip, export, out_fp)\u001b[0m\n\u001b[1;32m    534\u001b[0m     in_arr \u001b[38;5;241m=\u001b[39m arr\n\u001b[1;32m    535\u001b[0m \u001b[38;5;28;01melse\u001b[39;00m:\n\u001b[0;32m--> 536\u001b[0m     in_arr \u001b[38;5;241m=\u001b[39m \u001b[43marr\u001b[49m\u001b[38;5;241;43m.\u001b[39;49m\u001b[43mtranspose\u001b[49m\u001b[43m(\u001b[49m\u001b[38;5;241;43m2\u001b[39;49m\u001b[43m,\u001b[49m\u001b[43m \u001b[49m\u001b[38;5;241;43m1\u001b[39;49m\u001b[43m,\u001b[49m\u001b[43m \u001b[49m\u001b[38;5;241;43m0\u001b[39;49m\u001b[43m)\u001b[49m  \u001b[38;5;66;03m# transpose to bands, height, width\u001b[39;00m\n\u001b[1;32m    537\u001b[0m     band_coords \u001b[38;5;241m=\u001b[39m \u001b[38;5;28mrange\u001b[39m(in_arr\u001b[38;5;241m.\u001b[39mshape[\u001b[38;5;241m0\u001b[39m])  \u001b[38;5;66;03m# get the band coordinates\u001b[39;00m\n\u001b[1;32m    538\u001b[0m \u001b[38;5;28mprint\u001b[39m(\u001b[38;5;124mf\u001b[39m\u001b[38;5;124m\"\u001b[39m\u001b[38;5;130;01m\\t\u001b[39;00m\u001b[38;5;124mArray of shape: \u001b[39m\u001b[38;5;132;01m{\u001b[39;00min_arr\u001b[38;5;241m.\u001b[39mshape\u001b[38;5;132;01m}\u001b[39;00m\u001b[38;5;124m\"\u001b[39m)\n",
      "\u001b[0;31mValueError\u001b[0m: axes don't match array"
     ]
    }
   ],
   "source": [
    "t0 = time.time()\n",
    "\n",
    "# Make predictions on the planet array\n",
    "preds_ = xgb_model.predict(stack_da_flat)\n",
    "# Create a new datarray from the predictions, matching to the original Planet imagery\n",
    "# Export to a GeoTIFF\n",
    "out_fp = os.path.join(results_dir, 'denver-xgboost-best_roof_materials_pred.tif')\n",
    "preds_da = array_to_xrda(preds_, stack_da, dtype=\"uint8\", clip=False, export=True, out_fp=out_fp)\n",
    "\n",
    "print(\"\\n~~~~~~~~~~~~~~~~~~~\\n\")\n",
    "t1 = (time.time() - t0) / 60\n",
    "print(f\"Total elapsed time: {t1:.2f} minutes.\")"
   ]
  }
 ],
 "metadata": {
  "kernelspec": {
   "display_name": "macrosystems",
   "language": "python",
   "name": "macrosystems"
  },
  "language_info": {
   "codemirror_mode": {
    "name": "ipython",
    "version": 3
   },
   "file_extension": ".py",
   "mimetype": "text/x-python",
   "name": "python",
   "nbconvert_exporter": "python",
   "pygments_lexer": "ipython3",
   "version": "3.10.13"
  }
 },
 "nbformat": 4,
 "nbformat_minor": 5
}
