{
 "cells": [
  {
   "cell_type": "code",
   "execution_count": null,
   "id": "dd92b15d-3cc3-4301-b41a-699c767fd6b6",
   "metadata": {},
   "outputs": [],
   "source": [
    "\"\"\"\n",
    "Classification of the Planet SuperDove imagery from the XGBoost model\n",
    "Author: maxwell.cook@colorado.edu\n",
    "\"\"\"\n",
    "\n",
    "import os, time, sys\n",
    "import xgboost as xgb\n",
    "\n",
    "# Functions script import\n",
    "sys.path.append(os.path.join(os.getcwd(),'code/'))\n",
    "from __functions import *\n",
    "\n",
    "print(os.getcwd())\n",
    "\n",
    "maindir = '/Users/max/Library/CloudStorage/OneDrive-Personal/mcook/earth-lab/opp-rooftop-mapping'\n",
    "# homedir = '/home/jovyan/data-store/data/iplant/home/maco4303/data/' # cyverse\n",
    "\n",
    "print(\"Imports successful!\")"
   ]
  },
  {
   "cell_type": "code",
   "execution_count": null,
   "id": "a3519d0c-199a-4451-8afb-90586cc5d0a7",
   "metadata": {},
   "outputs": [],
   "source": [
    "results_dir = os.path.join(maindir, 'results/xgboost-cv/classification/')\n",
    "# results_dir = os.path.join(homedir, 'OPP/results/xgboost-cv/classification/') # cyverse\n",
    "if not os.path.exists(results_dir):\n",
    "    os.makedirs(results_dir)\n",
    "print(f\"Saving results to {results_dir}\")"
   ]
  },
  {
   "cell_type": "code",
   "execution_count": null,
   "id": "080be2ef-c6f6-4bff-a93b-9d8b26be6bda",
   "metadata": {},
   "outputs": [],
   "source": []
  },
  {
   "cell_type": "code",
   "execution_count": null,
   "id": "1e0500ea-5a31-4da3-bb3a-2924d4c8636a",
   "metadata": {},
   "outputs": [],
   "source": [
    "# Load the reference footprint data"
   ]
  },
  {
   "cell_type": "code",
   "execution_count": null,
   "id": "04def1b4-3a5f-4c25-a324-84e4d3e2aa9e",
   "metadata": {},
   "outputs": [],
   "source": [
    "ref_fp = os.path.join(maindir,'data/spatial/mod/dc_data/training/dc_data_reference_footprints.gpkg')\n",
    "ref = gpd.read_file(ref_fp)\n",
    "n_classes = len(ref['class_code'].unique())\n",
    "ref.head()"
   ]
  },
  {
   "cell_type": "code",
   "execution_count": null,
   "id": "cfe0d1c3-3892-4ba7-8690-2ba0fcc34f3f",
   "metadata": {},
   "outputs": [],
   "source": [
    "# Create a dictionary mapping class_code to numeric code\n",
    "ref['code'], _ = pd.factorize(ref['class_code'])\n",
    "code_mapping = dict(zip(ref['class_code'], ref['code']))\n",
    "desc_mapping = dict(zip(ref['class_code'], ref['description']))\n",
    "print(f'Code map: \\n{code_mapping}\\nDescription map: \\n{desc_mapping}')"
   ]
  },
  {
   "cell_type": "code",
   "execution_count": null,
   "id": "c9f085c4-a0fc-4961-9c7c-37f67c14bf8d",
   "metadata": {},
   "outputs": [],
   "source": []
  },
  {
   "cell_type": "code",
   "execution_count": null,
   "id": "d2be07ed-6b3d-4b6c-a8fc-9ab9fc722e31",
   "metadata": {},
   "outputs": [],
   "source": [
    "# Load the best XGBoost model from cross-validation based on holdout accuracy"
   ]
  },
  {
   "cell_type": "code",
   "execution_count": null,
   "id": "ad8b779e-ad65-47b7-afd3-cf53da273bc3",
   "metadata": {},
   "outputs": [],
   "source": [
    "best_fold = 4\n",
    "best_params = {\n",
    "    'learning_rate': 0.002185884764883822, \n",
    "    'max_depth': 12, \n",
    "    'n_estimators': 837, \n",
    "    'min_child_weight': 2, \n",
    "    'subsample': 0.5014281326674929, \n",
    "    'colsample_bytree': 0.9226235922462854, \n",
    "    'gamma': 0.8462080004717595\n",
    "}\n",
    "print(best_params)"
   ]
  },
  {
   "cell_type": "code",
   "execution_count": null,
   "id": "7634d361-1309-4b09-b0f3-5b7b8dbb392e",
   "metadata": {},
   "outputs": [],
   "source": [
    "# Load the trained model for best fold\n",
    "model_fp = os.path.join(maindir, f'results/xgboost-cv/dc-xgb_fold{best_fold}.model')\n",
    "print(f\"Loading model from path: {model_fp}\")\n",
    "\n",
    "xgb_model = xgb.XGBClassifier(\n",
    "    objective='multi:softmax',\n",
    "    num_class=n_classes,\n",
    "    learning_rate=best_params['learning_rate'],\n",
    "    max_depth=best_params['max_depth'],\n",
    "    n_estimators=best_params['n_estimators'],\n",
    "    min_child_weight=best_params['min_child_weight'],\n",
    "    subsample=best_params['subsample'],\n",
    "    colsample_bytree=best_params['colsample_bytree'],\n",
    "    gamma=best_params['gamma'],\n",
    "    eval_metric=['mlogloss', 'auc', 'merror'], # track multiple evaluation metrics\n",
    "    early_stopping_rounds=100, # stop if no improvement\n",
    "    random_state=44\n",
    ")\n",
    "\n",
    "xgb_model.load_model(model_fp)\n",
    "print(\"Model loaded !\")"
   ]
  },
  {
   "cell_type": "code",
   "execution_count": null,
   "id": "d20cf529-18dc-4eb5-b1f0-2b47c7975b15",
   "metadata": {},
   "outputs": [],
   "source": []
  },
  {
   "cell_type": "code",
   "execution_count": null,
   "id": "1fffdc38-1d9f-4a00-8624-a4119ca8754e",
   "metadata": {},
   "outputs": [],
   "source": [
    "# Load the Planet imagery"
   ]
  },
  {
   "cell_type": "code",
   "execution_count": null,
   "id": "fa62d673-1ad1-4475-8c74-b6868d1aed31",
   "metadata": {},
   "outputs": [],
   "source": []
  },
  {
   "cell_type": "code",
   "execution_count": null,
   "id": "8138695e-3b5b-42de-8bf1-3aba28c337ed",
   "metadata": {},
   "outputs": [],
   "source": [
    "# Load our image data to check on the format\n",
    "stack_da_fp = os.path.join(maindir,'data/spatial/mod/dc_data/planet-data/dc_0623_psscene8b_final_norm.tif')\n",
    "# stack_da_fp = os.path.join(homedir,'OPP/planet/dc/dc_0623_psscene8b_final_norm.tif') # cyverse\n",
    "stack_da = rxr.open_rasterio(stack_da_fp, masked=True, cache=False).squeeze()\n",
    "print_raster(stack_da, open_file=False)\n",
    "band_names = list(stack_da.long_name)\n",
    "print(f\"Band names: {band_names}\")"
   ]
  },
  {
   "cell_type": "code",
   "execution_count": null,
   "id": "4615bfc9-71fa-484e-8dd0-5a0a47993791",
   "metadata": {},
   "outputs": [],
   "source": [
    "# Flatten the image for classification\n",
    "stack_da_flat = flatten_array(stack_da)\n",
    "stack_da_flat.shape"
   ]
  },
  {
   "cell_type": "code",
   "execution_count": null,
   "id": "0c448022-4879-4b45-80b4-9869d7ab424b",
   "metadata": {},
   "outputs": [],
   "source": []
  },
  {
   "cell_type": "code",
   "execution_count": null,
   "id": "4b06d695-dc99-4235-aa61-b20d1a0ecc27",
   "metadata": {},
   "outputs": [],
   "source": [
    "# Make predictions on the Planet imagery"
   ]
  },
  {
   "cell_type": "code",
   "execution_count": null,
   "id": "947c9399-2995-429e-84b1-d7e27d7c10a5",
   "metadata": {},
   "outputs": [],
   "source": []
  },
  {
   "cell_type": "code",
   "execution_count": null,
   "id": "96824ae3-45e4-4368-b565-7d4fae5b3897",
   "metadata": {},
   "outputs": [],
   "source": [
    "t0 = time.time()\n",
    "\n",
    "# Make predictions on the planet array\n",
    "preds_ = xgb_model.predict(stack_da_flat)\n",
    "# Create a new datarray from the predictions, matching to the original Planet imagery\n",
    "# Export to a GeoTIFF\n",
    "out_fp = os.path.join(results_dir, 'dc-xgboost-best_roof_materials_pred.tif')\n",
    "preds_da = array_toxrda(preds_, stack_da, dtype=\"uint8\", clip=False, export=True, out_fp=out_fp)\n",
    "\n",
    "print(\"\\n~~~~~~~~~~~~~~~~~~~\\n\")\n",
    "t1 = (time.time() - t0) / 60\n",
    "print(f\"Total elapsed time: {t1:.2f} minutes.\")"
   ]
  }
 ],
 "metadata": {
  "kernelspec": {
   "display_name": "rspy",
   "language": "python",
   "name": "rspy"
  },
  "language_info": {
   "codemirror_mode": {
    "name": "ipython",
    "version": 3
   },
   "file_extension": ".py",
   "mimetype": "text/x-python",
   "name": "python",
   "nbconvert_exporter": "python",
   "pygments_lexer": "ipython3",
   "version": "3.10.14"
  }
 },
 "nbformat": 4,
 "nbformat_minor": 5
}
