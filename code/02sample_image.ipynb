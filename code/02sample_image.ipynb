{
 "cells": [
  {
   "cell_type": "code",
   "execution_count": null,
   "id": "9ac4eb5c-bdb4-4893-b5cb-38c8699fcbf5",
   "metadata": {},
   "outputs": [],
   "source": [
    "\"\"\"\n",
    "Convert building footprints to centroid and sample the image stack\n",
    "\"\"\"\n",
    "\n",
    "# Packages\n",
    "import os, time, sys\n",
    "from os.path import join\n",
    "import geopandas as gpd\n",
    "import pandas as pd\n",
    "import rasterio as rio\n",
    "import seaborn as sns\n",
    "\n",
    "from concurrent.futures import ProcessPoolExecutor\n",
    "\n",
    "# Custom functions\n",
    "sys.path.append(os.path.join(os.getcwd(),'code/'))\n",
    "from __functions import *\n",
    "\n",
    "print(os.getcwd())\n",
    "\n",
    "# Coordinate Ref. System\n",
    "proj = 32618  # UTM Zone 18N\n",
    "\n",
    "maindir = '/Users/max/Library/CloudStorage/OneDrive-Personal/mcook/earth-lab/opp-rooftop-mapping/'\n",
    "\n",
    "begin = time.time()  # start time"
   ]
  },
  {
   "cell_type": "code",
   "execution_count": null,
   "id": "32203ae2-67c8-4afa-aaa9-439aa82b029b",
   "metadata": {},
   "outputs": [],
   "source": [
    "# Load the footprint data\n",
    "fp = join(maindir, 'data/spatial/mod/dc_data/training/dc_data_reference_centroids.gpkg')\n",
    "centroids = gpd.read_file(fp)\n",
    "centroids.head()"
   ]
  },
  {
   "cell_type": "code",
   "execution_count": null,
   "id": "92b670d2-4d4a-4d19-a971-e94376282fc4",
   "metadata": {},
   "outputs": [],
   "source": [
    "# Load the final image stack\n",
    "stack_path = join(maindir,'data/spatial/mod/dc_data/planet-data/dc_0623_psscene8b_final_norm.tif')\n",
    "da_stack = rio.open(stack_path)\n",
    "\n",
    "# Grab some metadata\n",
    "desc = list(da_stack.descriptions)\n",
    "metadata = da_stack.meta\n",
    "nodata = da_stack.nodata\n",
    "print(f'Raster description: {desc}; \\n Metadata: {metadata}\\nNo Data: {nodata}')\n",
    "if isinstance(da_stack, rio.io.DatasetReader):\n",
    "    print(\"The object is a rasterio dataset.\")"
   ]
  },
  {
   "cell_type": "code",
   "execution_count": null,
   "id": "1ee26dd1-3132-4258-bec4-ee9d9d64d435",
   "metadata": {},
   "outputs": [],
   "source": [
    "band_names = desc\n",
    "band_names"
   ]
  },
  {
   "cell_type": "code",
   "execution_count": null,
   "id": "421927d8-e5cc-47fe-bc47-29246c495f73",
   "metadata": {},
   "outputs": [],
   "source": [
    "# Sample all the centroids by roof material type\n",
    "all_vals = img_vals_at_pts(da_stack,centroids,band_names)\n",
    "\n",
    "# Check on the results\n",
    "print(all_vals.head())\n",
    "print(all_vals['nir'].describe)  # check one column\n",
    "print(all_vals.columns.values.tolist())"
   ]
  },
  {
   "cell_type": "code",
   "execution_count": null,
   "id": "5d4c7520-93aa-458f-8b74-e6e3ffd86d02",
   "metadata": {},
   "outputs": [],
   "source": [
    "# Write to a gpkg and csv\n",
    "all_vals = all_vals.to_crs(proj)\n",
    "all_vals.to_file(join(maindir,'data/spatial/mod/dc_data/training/dc_data_reference_centroid_sampled.gpkg'))\n",
    "all_vals.drop('geometry',axis=1).to_csv(join(maindir,'data/tabular/mod/dc_data/training/dc_data_reference_centroid_sampled.csv'))"
   ]
  },
  {
   "cell_type": "code",
   "execution_count": null,
   "id": "2367a498-3d4e-4728-930d-562bd1e7367d",
   "metadata": {},
   "outputs": [],
   "source": []
  },
  {
   "cell_type": "code",
   "execution_count": null,
   "id": "1acf1862-64e4-4f5c-9b36-61badd0282fc",
   "metadata": {},
   "outputs": [],
   "source": [
    "import scipy.stats as stats\n",
    "\n",
    "# Assuming df is your DataFrame with columns 'class' and 'reflectance_band1'\n",
    "classes = all_vals['class_code'].unique()\n",
    "\n",
    "# Perform one-way ANOVA\n",
    "f_value, p_value = stats.f_oneway(*(all_vals[all_vals['class_code'] == cls]['NISI9x9'] for cls in classes))\n",
    "f_value_, p_value_ = stats.f_oneway(*(all_vals[all_vals['class_code'] == cls]['NISI27x27'] for cls in classes))\n",
    "\n",
    "print(f'ANOVA F-value (NISI9x9): {f_value}, p-value: {p_value}\\nANOVA F-value (NISI27x27): {f_value_}, p-value: {p_value_}')"
   ]
  },
  {
   "cell_type": "markdown",
   "id": "efac7bd6-babc-4ea0-bbba-9616fda446f6",
   "metadata": {},
   "source": [
    "### Spectral signature plot"
   ]
  },
  {
   "cell_type": "code",
   "execution_count": null,
   "id": "369f7761-4542-48b0-b301-f001639b49c9",
   "metadata": {},
   "outputs": [],
   "source": [
    "# Plot the distribution of abundances per material type by class\n",
    "print(all_vals.columns.values)\n",
    "print(all_vals['description'].unique())\n",
    "\n",
    "new_cols = ['nir', 'NDBIbg', 'NDBIrg', 'NISI', 'MNF1', 'NISI9x9', 'NISI27x27']\n",
    "\n",
    "# Melt the DataFrame to long format\n",
    "all_vals_m = all_vals.melt(\n",
    "    id_vars=['class_code'],\n",
    "    value_vars=new_cols,\n",
    "    var_name='Band',\n",
    "    value_name='Value')\n",
    "# Create a facet plot\n",
    "g = sns.catplot(data=all_vals_m, x='Value', y='class_code', col='Band',\n",
    "                kind='violin', sharey=True, sharex=False, inner='quartile', \n",
    "                col_wrap=2, height=2, aspect=1.5)\n",
    "# Adjusting the titles and axis labels (if needed)\n",
    "g.set_titles(\"{col_name}\")\n",
    "g.set_axis_labels(\"Value\", \"Class Code\")\n",
    "# Display the plot\n",
    "plt.show()"
   ]
  }
 ],
 "metadata": {
  "kernelspec": {
   "display_name": "rspy",
   "language": "python",
   "name": "rspy"
  },
  "language_info": {
   "codemirror_mode": {
    "name": "ipython",
    "version": 3
   },
   "file_extension": ".py",
   "mimetype": "text/x-python",
   "name": "python",
   "nbconvert_exporter": "python",
   "pygments_lexer": "ipython3",
   "version": "3.10.14"
  }
 },
 "nbformat": 4,
 "nbformat_minor": 5
}
