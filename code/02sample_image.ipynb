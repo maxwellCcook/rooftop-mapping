{
 "cells": [
  {
   "cell_type": "code",
   "execution_count": 1,
   "id": "9ac4eb5c-bdb4-4893-b5cb-38c8699fcbf5",
   "metadata": {},
   "outputs": [
    {
     "name": "stdout",
     "output_type": "stream",
     "text": [
      "/Users/max/Library/CloudStorage/OneDrive-Personal/mcook/earth-lab/opp-rooftop-mapping/code\n",
      "Ready !!!\n"
     ]
    }
   ],
   "source": [
    "\"\"\"\n",
    "Convert building footprints to centroid and sample the image stack\n",
    "\"\"\"\n",
    "\n",
    "# Packages\n",
    "import os, time, sys\n",
    "from os.path import join\n",
    "import geopandas as gpd\n",
    "import pandas as pd\n",
    "import rasterio as rio\n",
    "import seaborn as sns\n",
    "\n",
    "print(os.getcwd())\n",
    "maindir = '/Users/max/Library/CloudStorage/OneDrive-Personal/mcook/earth-lab/opp-rooftop-mapping/'\n",
    "\n",
    "# Custom functions\n",
    "sys.path.append(os.getcwd())\n",
    "import __functions\n",
    "from __functions import *\n",
    "\n",
    "# Coordinate Ref. System\n",
    "proj = 32618  # UTM Zone 18N\n",
    "\n",
    "print(\"Ready !!!\")"
   ]
  },
  {
   "cell_type": "code",
   "execution_count": null,
   "id": "47d6cf7e-7821-4226-9ab3-0a34817f89a6",
   "metadata": {},
   "outputs": [],
   "source": []
  },
  {
   "cell_type": "code",
   "execution_count": null,
   "id": "929a41e2-4746-4878-97a3-5f5be5cf670b",
   "metadata": {},
   "outputs": [],
   "source": [
    "# Sample the footprint data !!"
   ]
  },
  {
   "cell_type": "code",
   "execution_count": null,
   "id": "3ec493fa-acee-4aa4-b867-1cac7b6e7f93",
   "metadata": {},
   "outputs": [],
   "source": []
  },
  {
   "cell_type": "code",
   "execution_count": 2,
   "id": "26e09bab-0ab9-4efd-af1f-b30f72c031e5",
   "metadata": {},
   "outputs": [
    {
     "name": "stdout",
     "output_type": "stream",
     "text": [
      "Reference file path: /Users/max/Library/CloudStorage/OneDrive-Personal/mcook/earth-lab/opp-rooftop-mapping/data/spatial/mod/dc_data/training/dc_data_reference_footprints.gpkg;\n",
      "Image file path: /Users/max/Library/CloudStorage/OneDrive-Personal/mcook/earth-lab/opp-rooftop-mapping/data/spatial/mod/dc_data/planet-data/dc_0623_psscene8b_final_norm.tif\n"
     ]
    }
   ],
   "source": [
    "# Reference data (footprints)\n",
    "ref_fp = join(maindir, 'data/spatial/mod/dc_data/training/dc_data_reference_footprints.gpkg')\n",
    "# Image data (see psscene-prep.ipynb)\n",
    "stack_fp = join(maindir,'data/spatial/mod/dc_data/planet-data/dc_0623_psscene8b_final_norm.tif')\n",
    "print(f'Reference file path: {ref_fp};\\nImage file path: {stack_fp}')"
   ]
  },
  {
   "cell_type": "code",
   "execution_count": 3,
   "id": "d6294b61-1e2f-4d1d-8b18-bb373fb919d6",
   "metadata": {},
   "outputs": [
    {
     "name": "stdout",
     "output_type": "stream",
     "text": [
      "Raster contains 7 bands: ['nir', 'NDBIbg', 'NDBIrg', 'NISI', 'MNF1', 'NISI9x9', 'NISI27x27']\n",
      "Using 7 workers.\n"
     ]
    },
    {
     "ename": "ValueError",
     "evalue": "The truth value of a Series is ambiguous. Use a.empty, a.bool(), a.item(), a.any() or a.all().",
     "output_type": "error",
     "traceback": [
      "\u001b[0;31m---------------------------------------------------------------------------\u001b[0m",
      "\u001b[0;31mRemoteTraceback\u001b[0m                           Traceback (most recent call last)",
      "\u001b[0;31mRemoteTraceback\u001b[0m: \n\"\"\"\nTraceback (most recent call last):\n  File \"/opt/miniconda3/envs/rspy/lib/python3.10/multiprocessing/pool.py\", line 125, in worker\n    result = (True, func(*args, **kwds))\n  File \"/opt/miniconda3/envs/rspy/lib/python3.10/multiprocessing/pool.py\", line 51, in starmapstar\n    return list(itertools.starmap(args[0], args[1]))\n  File \"/Users/max/Library/CloudStorage/OneDrive-Personal/mcook/earth-lab/opp-rooftop-mapping/code/__functions.py\", line 366, in process_chunk\n    result = self.compute_band_stats(band_data, stat)\n  File \"/Users/max/Library/CloudStorage/OneDrive-Personal/mcook/earth-lab/opp-rooftop-mapping/code/__functions.py\", line 333, in compute_band_stats\n    if self.geometries.geometry.geom_type in ['Polygon', 'MultiPolygon']:\n  File \"/opt/miniconda3/envs/rspy/lib/python3.10/site-packages/pandas/core/generic.py\", line 1577, in __nonzero__\n    raise ValueError(\nValueError: The truth value of a Series is ambiguous. Use a.empty, a.bool(), a.item(), a.any() or a.all().\n\"\"\"",
      "\nThe above exception was the direct cause of the following exception:\n",
      "\u001b[0;31mValueError\u001b[0m                                Traceback (most recent call last)",
      "Cell \u001b[0;32mIn[3], line 6\u001b[0m\n\u001b[1;32m      4\u001b[0m band_stats_obj \u001b[38;5;241m=\u001b[39m BandStatistics(ref_fp, stack_fp)\n\u001b[1;32m      5\u001b[0m \u001b[38;5;66;03m# Run parallel band statistics computation\u001b[39;00m\n\u001b[0;32m----> 6\u001b[0m result \u001b[38;5;241m=\u001b[39m \u001b[43mband_stats_obj\u001b[49m\u001b[38;5;241;43m.\u001b[39;49m\u001b[43mparallel_compute_stats\u001b[49m\u001b[43m(\u001b[49m\u001b[43mstat\u001b[49m\u001b[38;5;241;43m=\u001b[39;49m\u001b[38;5;124;43m'\u001b[39;49m\u001b[38;5;124;43mmean\u001b[39;49m\u001b[38;5;124;43m'\u001b[39;49m\u001b[43m)\u001b[49m\n\u001b[1;32m      8\u001b[0m t1 \u001b[38;5;241m=\u001b[39m (time\u001b[38;5;241m.\u001b[39mtime() \u001b[38;5;241m-\u001b[39m t0) \u001b[38;5;241m/\u001b[39m \u001b[38;5;241m60\u001b[39m\n\u001b[1;32m      9\u001b[0m \u001b[38;5;28mprint\u001b[39m(\u001b[38;5;124mf\u001b[39m\u001b[38;5;124m\"\u001b[39m\u001b[38;5;124mTotal elapsed time: \u001b[39m\u001b[38;5;132;01m{\u001b[39;00mt1\u001b[38;5;132;01m:\u001b[39;00m\u001b[38;5;124m.2f\u001b[39m\u001b[38;5;132;01m}\u001b[39;00m\u001b[38;5;124m minutes.\u001b[39m\u001b[38;5;124m\"\u001b[39m)\n",
      "File \u001b[0;32m~/Library/CloudStorage/OneDrive-Personal/mcook/earth-lab/opp-rooftop-mapping/code/__functions.py:388\u001b[0m, in \u001b[0;36mBandStatistics.parallel_compute_stats\u001b[0;34m(self, stat)\u001b[0m\n\u001b[1;32m    386\u001b[0m \u001b[38;5;66;03m# Parallel processing using multiprocessing Pool\u001b[39;00m\n\u001b[1;32m    387\u001b[0m \u001b[38;5;28;01mwith\u001b[39;00m mp\u001b[38;5;241m.\u001b[39mPool(processes\u001b[38;5;241m=\u001b[39mnum_workers) \u001b[38;5;28;01mas\u001b[39;00m pool:\n\u001b[0;32m--> 388\u001b[0m     results \u001b[38;5;241m=\u001b[39m \u001b[43mpool\u001b[49m\u001b[38;5;241;43m.\u001b[39;49m\u001b[43mstarmap\u001b[49m\u001b[43m(\u001b[49m\u001b[38;5;28;43mself\u001b[39;49m\u001b[38;5;241;43m.\u001b[39;49m\u001b[43mprocess_chunk\u001b[49m\u001b[43m,\u001b[49m\u001b[43m \u001b[49m\u001b[43m[\u001b[49m\u001b[43m(\u001b[49m\u001b[43mchunk\u001b[49m\u001b[43m,\u001b[49m\u001b[43m \u001b[49m\u001b[43mstat\u001b[49m\u001b[43m)\u001b[49m\u001b[43m \u001b[49m\u001b[38;5;28;43;01mfor\u001b[39;49;00m\u001b[43m \u001b[49m\u001b[43mchunk\u001b[49m\u001b[43m \u001b[49m\u001b[38;5;129;43;01min\u001b[39;49;00m\u001b[43m \u001b[49m\u001b[43mchunks\u001b[49m\u001b[43m]\u001b[49m\u001b[43m)\u001b[49m\n\u001b[1;32m    390\u001b[0m \u001b[38;5;66;03m# Combine the results from all processes\u001b[39;00m\n\u001b[1;32m    391\u001b[0m combined_results \u001b[38;5;241m=\u001b[39m [item \u001b[38;5;28;01mfor\u001b[39;00m sublist \u001b[38;5;129;01min\u001b[39;00m results \u001b[38;5;28;01mfor\u001b[39;00m item \u001b[38;5;129;01min\u001b[39;00m sublist]\n",
      "File \u001b[0;32m/opt/miniconda3/envs/rspy/lib/python3.10/multiprocessing/pool.py:375\u001b[0m, in \u001b[0;36mPool.starmap\u001b[0;34m(self, func, iterable, chunksize)\u001b[0m\n\u001b[1;32m    369\u001b[0m \u001b[38;5;28;01mdef\u001b[39;00m \u001b[38;5;21mstarmap\u001b[39m(\u001b[38;5;28mself\u001b[39m, func, iterable, chunksize\u001b[38;5;241m=\u001b[39m\u001b[38;5;28;01mNone\u001b[39;00m):\n\u001b[1;32m    370\u001b[0m \u001b[38;5;250m    \u001b[39m\u001b[38;5;124;03m'''\u001b[39;00m\n\u001b[1;32m    371\u001b[0m \u001b[38;5;124;03m    Like `map()` method but the elements of the `iterable` are expected to\u001b[39;00m\n\u001b[1;32m    372\u001b[0m \u001b[38;5;124;03m    be iterables as well and will be unpacked as arguments. Hence\u001b[39;00m\n\u001b[1;32m    373\u001b[0m \u001b[38;5;124;03m    `func` and (a, b) becomes func(a, b).\u001b[39;00m\n\u001b[1;32m    374\u001b[0m \u001b[38;5;124;03m    '''\u001b[39;00m\n\u001b[0;32m--> 375\u001b[0m     \u001b[38;5;28;01mreturn\u001b[39;00m \u001b[38;5;28;43mself\u001b[39;49m\u001b[38;5;241;43m.\u001b[39;49m\u001b[43m_map_async\u001b[49m\u001b[43m(\u001b[49m\u001b[43mfunc\u001b[49m\u001b[43m,\u001b[49m\u001b[43m \u001b[49m\u001b[43miterable\u001b[49m\u001b[43m,\u001b[49m\u001b[43m \u001b[49m\u001b[43mstarmapstar\u001b[49m\u001b[43m,\u001b[49m\u001b[43m \u001b[49m\u001b[43mchunksize\u001b[49m\u001b[43m)\u001b[49m\u001b[38;5;241;43m.\u001b[39;49m\u001b[43mget\u001b[49m\u001b[43m(\u001b[49m\u001b[43m)\u001b[49m\n",
      "File \u001b[0;32m/opt/miniconda3/envs/rspy/lib/python3.10/multiprocessing/pool.py:774\u001b[0m, in \u001b[0;36mApplyResult.get\u001b[0;34m(self, timeout)\u001b[0m\n\u001b[1;32m    772\u001b[0m     \u001b[38;5;28;01mreturn\u001b[39;00m \u001b[38;5;28mself\u001b[39m\u001b[38;5;241m.\u001b[39m_value\n\u001b[1;32m    773\u001b[0m \u001b[38;5;28;01melse\u001b[39;00m:\n\u001b[0;32m--> 774\u001b[0m     \u001b[38;5;28;01mraise\u001b[39;00m \u001b[38;5;28mself\u001b[39m\u001b[38;5;241m.\u001b[39m_value\n",
      "\u001b[0;31mValueError\u001b[0m: The truth value of a Series is ambiguous. Use a.empty, a.bool(), a.item(), a.any() or a.all()."
     ]
    }
   ],
   "source": [
    "t0 = time.time()\n",
    "\n",
    "# Create the band stats class\n",
    "band_stats_obj = BandStatistics(ref_fp, stack_fp)\n",
    "# Run parallel band statistics computation\n",
    "result = band_stats_obj.parallel_compute_stats(stat='mean')\n",
    "\n",
    "t1 = (time.time() - t0) / 60\n",
    "print(f\"Total elapsed time: {t1:.2f} minutes.\")\n",
    "print(\"\\n~~~~~~~~~~\\n\")"
   ]
  },
  {
   "cell_type": "code",
   "execution_count": null,
   "id": "bbb68874-535f-475f-9877-d7effc8e8d66",
   "metadata": {},
   "outputs": [],
   "source": []
  },
  {
   "cell_type": "code",
   "execution_count": null,
   "id": "5060f173-4fa1-41ef-a403-8dc61b3c50f1",
   "metadata": {},
   "outputs": [],
   "source": []
  },
  {
   "cell_type": "code",
   "execution_count": null,
   "id": "5f26d957-a15e-4d78-b4da-d6e29f918a1b",
   "metadata": {},
   "outputs": [],
   "source": []
  },
  {
   "cell_type": "code",
   "execution_count": null,
   "id": "421927d8-e5cc-47fe-bc47-29246c495f73",
   "metadata": {},
   "outputs": [],
   "source": [
    "# Sample all the centroids by roof material type\n",
    "all_vals = img_vals_at_pts(da_stack,centroids,band_names)\n",
    "\n",
    "# Check on the results\n",
    "print(all_vals.head())\n",
    "print(all_vals['nir'].describe)  # check one column\n",
    "print(all_vals.columns.values.tolist())"
   ]
  },
  {
   "cell_type": "code",
   "execution_count": null,
   "id": "5d4c7520-93aa-458f-8b74-e6e3ffd86d02",
   "metadata": {},
   "outputs": [],
   "source": [
    "# Write to a gpkg and csv\n",
    "all_vals = all_vals.to_crs(proj)\n",
    "all_vals.to_file(join(maindir,'data/spatial/mod/dc_data/training/dc_data_reference_centroid_sampled.gpkg'))\n",
    "all_vals.drop('geometry',axis=1).to_csv(join(maindir,'data/tabular/mod/dc_data/training/dc_data_reference_centroid_sampled.csv'))"
   ]
  },
  {
   "cell_type": "code",
   "execution_count": null,
   "id": "2367a498-3d4e-4728-930d-562bd1e7367d",
   "metadata": {},
   "outputs": [],
   "source": []
  },
  {
   "cell_type": "code",
   "execution_count": null,
   "id": "1acf1862-64e4-4f5c-9b36-61badd0282fc",
   "metadata": {},
   "outputs": [],
   "source": [
    "import scipy.stats as stats\n",
    "\n",
    "# Assuming df is your DataFrame with columns 'class' and 'reflectance_band1'\n",
    "classes = all_vals['class_code'].unique()\n",
    "\n",
    "# Perform one-way ANOVA\n",
    "f_value, p_value = stats.f_oneway(*(all_vals[all_vals['class_code'] == cls]['NISI9x9'] for cls in classes))\n",
    "f_value_, p_value_ = stats.f_oneway(*(all_vals[all_vals['class_code'] == cls]['NISI27x27'] for cls in classes))\n",
    "\n",
    "print(f'ANOVA F-value (NISI9x9): {f_value}, p-value: {p_value}\\nANOVA F-value (NISI27x27): {f_value_}, p-value: {p_value_}')"
   ]
  },
  {
   "cell_type": "markdown",
   "id": "efac7bd6-babc-4ea0-bbba-9616fda446f6",
   "metadata": {},
   "source": [
    "### Spectral signature plot"
   ]
  },
  {
   "cell_type": "code",
   "execution_count": null,
   "id": "369f7761-4542-48b0-b301-f001639b49c9",
   "metadata": {},
   "outputs": [],
   "source": [
    "# Plot the distribution of abundances per material type by class\n",
    "print(all_vals.columns.values)\n",
    "print(all_vals['description'].unique())\n",
    "\n",
    "new_cols = ['nir', 'NDBIbg', 'NDBIrg', 'NISI', 'MNF1', 'NISI9x9', 'NISI27x27']\n",
    "\n",
    "# Melt the DataFrame to long format\n",
    "all_vals_m = all_vals.melt(\n",
    "    id_vars=['class_code'],\n",
    "    value_vars=new_cols,\n",
    "    var_name='Band',\n",
    "    value_name='Value')\n",
    "# Create a facet plot\n",
    "g = sns.catplot(data=all_vals_m, x='Value', y='class_code', col='Band',\n",
    "                kind='violin', sharey=True, sharex=False, inner='quartile', \n",
    "                col_wrap=2, height=2, aspect=1.5)\n",
    "# Adjusting the titles and axis labels (if needed)\n",
    "g.set_titles(\"{col_name}\")\n",
    "g.set_axis_labels(\"Value\", \"Class Code\")\n",
    "# Display the plot\n",
    "plt.show()"
   ]
  }
 ],
 "metadata": {
  "kernelspec": {
   "display_name": "rspy",
   "language": "python",
   "name": "rspy"
  },
  "language_info": {
   "codemirror_mode": {
    "name": "ipython",
    "version": 3
   },
   "file_extension": ".py",
   "mimetype": "text/x-python",
   "name": "python",
   "nbconvert_exporter": "python",
   "pygments_lexer": "ipython3",
   "version": "3.10.14"
  }
 },
 "nbformat": 4,
 "nbformat_minor": 5
}
