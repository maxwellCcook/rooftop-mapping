{
 "cells": [
  {
   "cell_type": "code",
   "execution_count": 1,
   "id": "e458ffb7-2976-4de0-9d73-4d7d180c1d1d",
   "metadata": {},
   "outputs": [
    {
     "name": "stdout",
     "output_type": "stream",
     "text": [
      "Projected CRS: EPSG:5070\n",
      "Successfully imported all packages!\n"
     ]
    }
   ],
   "source": [
    "\"\"\"\n",
    "Plot example image chunks from reference data\n",
    "\"\"\"\n",
    "\n",
    "import os, sys, time, glob\n",
    "import geopandas as gpd\n",
    "import pandas as pd\n",
    "import rioxarray as rxr\n",
    "import xarray as xr\n",
    "import numpy as np\n",
    "import rasterio as rio\n",
    "import matplotlib.pyplot as plt\n",
    "\n",
    "from fiona.crs import from_epsg\n",
    "from shapely.geometry import box\n",
    "\n",
    "from torch.utils.data import Dataset, DataLoader\n",
    "from torch.utils.data.dataloader import default_collate\n",
    "from torchvision import transforms, utils\n",
    "from torchsat.models.classification import resnet18\n",
    "\n",
    "# Custom functions\n",
    "sys.path.append(os.path.join(os.getcwd(),'code/'))\n",
    "from __functions import *\n",
    "\n",
    "# Ignore warnings\n",
    "import warnings\n",
    "warnings.filterwarnings(\"ignore\")\n",
    "\n",
    "# Projection information\n",
    "wgs = from_epsg(4326)\n",
    "proj = from_epsg(32618)\n",
    "albers = from_epsg(5070)\n",
    "\n",
    "print(f'Projected CRS: {albers}')\n",
    "\n",
    "maindir = '/Users/max/Library/CloudStorage/OneDrive-Personal/mcook/earth-lab/opp-rooftop-mapping'\n",
    "\n",
    "print(\"Successfully imported all packages!\")"
   ]
  },
  {
   "cell_type": "code",
   "execution_count": null,
   "id": "087669f0-fec7-4744-b700-c2ece0d90056",
   "metadata": {},
   "outputs": [],
   "source": []
  },
  {
   "cell_type": "code",
   "execution_count": 24,
   "id": "2ce84a5b-aa1d-4137-bbad-d32b42af7ddf",
   "metadata": {},
   "outputs": [
    {
     "name": "stdout",
     "output_type": "stream",
     "text": [
      "Plotting function ready !!!\n"
     ]
    }
   ],
   "source": [
    "def plot_image_chunks(dataset, class_mapping, bands_to_plot, out_file, figsize=(10,10), labelsize=10, rgb_dc=None, rgb_denver=None):\n",
    "    \"\"\"\n",
    "    Plots a single example image chunk for each class with columns representing different bands.\n",
    "    \n",
    "    Args:\n",
    "    - dataset: The dataset containing the image chunks and labels.\n",
    "    - class_mapping: Dictionary mapping class codes to class labels.\n",
    "    - bands_to_plot: List of band indices to plot, or 'all' to plot every band in the dataset.\n",
    "    \"\"\"\n",
    "    # Determine which bands to plot\n",
    "    first_batch = next(iter(dataset))\n",
    "    num_bands = first_batch['image'].shape[1] if bands_to_plot == 'all' else len(bands_to_plot)\n",
    "    \n",
    "    if bands_to_plot == 'all':\n",
    "        bands_to_plot = list(range(num_bands))\n",
    "    \n",
    "    codes = list(class_mapping.values())  # This should be the numeric values (0, 1, 2, etc.)\n",
    "    classes = list(class_mapping.keys())  # The corresponding class codes (ME, SL, etc.)\n",
    "\n",
    "    # Store examples for each class\n",
    "    samples_dict = {cls: None for cls in codes}\n",
    "    \n",
    "    # Iterate over the DataLoader to find at least one sample for each class\n",
    "    for idx, batch in enumerate(dataset):\n",
    "        # Retrieve the image sample and corresponding label\n",
    "        images, labels = batch['image'], batch['code']\n",
    "        \n",
    "        for i, cls in enumerate(codes):\n",
    "            if samples_dict[cls] is None:  # If no sample has been found for this class yet\n",
    "                cls_indices = (labels == cls).nonzero(as_tuple=True)[0]\n",
    "                if len(cls_indices) > 0:\n",
    "                    idx = cls_indices[0]  # Take the first available sample\n",
    "                    samples_dict[cls] = images[idx].numpy()\n",
    "        \n",
    "        # Break if samples for all classes have been found\n",
    "        if all(sample is not None for sample in samples_dict.values()):\n",
    "            break\n",
    "    \n",
    "    print(f\"Class dictionary: {samples_dict.keys()}\")\n",
    "\n",
    "    # Plot the collected samples\n",
    "    fig, axes = plt.subplots(len(codes), num_bands, figsize=figsize, squeeze=False)\n",
    "    \n",
    "    for i, cls in class_mapping.items():\n",
    "        print(i, cls)\n",
    "        image = samples_dict[i]\n",
    "        if image is None:\n",
    "            print(f\"No samples available for class {cls}.\")\n",
    "            continue\n",
    "        print(image.dtype)\n",
    "        \n",
    "        # # Check which region this class belongs to and select the correct RGB image\n",
    "        # if classes[i] in dc_keep and rgb_fp_dc is not None:\n",
    "        #     rgb_da = rxr.open_rasterio(rgb_fp_dc, masked=True, cache=False).squeeze()\n",
    "        #     rgb_da = rgb_da.sel(band=[6, 4, 2])  # rgb bands\n",
    "        # elif classes[i] in denver_keep and rgb_fp_denver is not None:\n",
    "        #     rgb_da = rxr.open_rasterio(rgb_fp_denver, masked=True, cache=False).squeeze()\n",
    "        #     rgb_da = rgb_da.sel(band=[6, 4, 2])  # rgb bands\n",
    "        # else:\n",
    "        #     print(f\"Class {classes[i]} not found in either D.C. or Denver keep list.\")\n",
    "        #     continue\n",
    "        \n",
    "    #     # Extract the spatial extent using the image sample's pixel coordinates\n",
    "    #     height, width = image.shape[1], image.shape[2]  # Height and width in pixel coordinates\n",
    "\n",
    "    #     # Calculate the window's bounds using the affine transform of rgb_data\n",
    "    #     transform = rgb_data.rio.transform()  # Get the affine transform of the raster\n",
    "    #     x_min_spatial, y_min_spatial = rio.transform.xy(transform, 0, 0, offset='ul')\n",
    "    #     x_max_spatial, y_max_spatial = rio.transform.xy(transform, height - 1, width - 1, offset='lr')\n",
    "    \n",
    "    #     # Extract the RGB chunk using these spatial coordinates\n",
    "    #     try:\n",
    "    #         rgb_chunk = rgb_data.rio.clip_box(\n",
    "    #             minx=x_min_spatial, miny=y_min_spatial, \n",
    "    #             maxx=x_max_spatial, maxy=y_max_spatial\n",
    "    #         ).transpose(\"y\", \"x\", \"band\").values\n",
    "    #     except rio.errors.WindowError as e:\n",
    "    #         print(f\"WindowError for class {classes[i]}: {e}\")\n",
    "    #         continue\n",
    "    \n",
    "    #     # Normalize and clip RGB values to the valid range\n",
    "    #     rgb_chunk = np.clip(rgb_chunk / 255.0, 0, 1)  # Ensure values are between 0 and 1 for display\n",
    "        \n",
    "    #     # Plot the RGB chunk in the first column\n",
    "    #     axes[i, 0].imshow(rgb_chunk)\n",
    "    #     axes[i, 0].axis('off')\n",
    "        \n",
    "    #     # Populate the remaining columns\n",
    "    #     for b, band_idx in enumerate(bands_to_plot):\n",
    "    #         band_image = image[band_idx, :, :]  # Select the specific band\n",
    "    #         axes[i, b].imshow(band_image, cmap='gray')  # Use grayscale for single-band images\n",
    "    #         axes[i, b].axis('off')\n",
    "            \n",
    "    #         # Add title for the first row of each band\n",
    "    #         if i == 0:\n",
    "    #             if b == 0:\n",
    "    #                 axes[i, 0].set_title('RGB', fontsize=labelsize)\n",
    "    #             axes[i, b + 1].set_title(f\"{band_mapping[b+1]}\", fontsize=labelsize)\n",
    "            \n",
    "    #         # Add class label as y-axis title for the first column\n",
    "    #         if b == 0:\n",
    "    #             class_label = list(class_mapping.keys())[list(class_mapping.values()).index(cls)]  # Get the class label\n",
    "    #             axes[i, b].set_ylabel(class_label, fontsize=labelsize, rotation=0, labelpad=40, va='center', ha='right')\n",
    "    #             axes[i, b].yaxis.set_label_position(\"left\")\n",
    "    #             axes[i, b].yaxis.tick_left()\n",
    "    \n",
    "    # # plt.tight_layout()\n",
    "    # plt.subplots_adjust(top=0.95, left=0.15)\n",
    "\n",
    "    # plt.savefig(out_file, dpi=300, bbox_inches='tight')\n",
    "    # plt.show()\n",
    "\n",
    "print(\"Plotting function ready !!!\")"
   ]
  },
  {
   "cell_type": "code",
   "execution_count": 3,
   "id": "d7d1ad14-5ef7-43a3-8f17-6f84c1c29acc",
   "metadata": {},
   "outputs": [
    {
     "data": {
      "text/html": [
       "<div>\n",
       "<style scoped>\n",
       "    .dataframe tbody tr th:only-of-type {\n",
       "        vertical-align: middle;\n",
       "    }\n",
       "\n",
       "    .dataframe tbody tr th {\n",
       "        vertical-align: top;\n",
       "    }\n",
       "\n",
       "    .dataframe thead th {\n",
       "        text-align: right;\n",
       "    }\n",
       "</style>\n",
       "<table border=\"1\" class=\"dataframe\">\n",
       "  <thead>\n",
       "    <tr style=\"text-align: right;\">\n",
       "      <th></th>\n",
       "      <th>uid</th>\n",
       "      <th>class_code</th>\n",
       "      <th>description</th>\n",
       "      <th>areaUTMsqft</th>\n",
       "      <th>lotSizeSqft</th>\n",
       "      <th>geometry</th>\n",
       "    </tr>\n",
       "  </thead>\n",
       "  <tbody>\n",
       "    <tr>\n",
       "      <th>0</th>\n",
       "      <td>1CS</td>\n",
       "      <td>CS</td>\n",
       "      <td>Composition Shingle</td>\n",
       "      <td>357.783709</td>\n",
       "      <td>5574.0</td>\n",
       "      <td>POLYGON ((1618024.537 1931734.332, 1618025.567...</td>\n",
       "    </tr>\n",
       "    <tr>\n",
       "      <th>1</th>\n",
       "      <td>3CS</td>\n",
       "      <td>CS</td>\n",
       "      <td>Composition Shingle</td>\n",
       "      <td>918.640862</td>\n",
       "      <td>1111.0</td>\n",
       "      <td>POLYGON ((1618808.974 1929995.232, 1618810.631...</td>\n",
       "    </tr>\n",
       "    <tr>\n",
       "      <th>2</th>\n",
       "      <td>9CS</td>\n",
       "      <td>CS</td>\n",
       "      <td>Composition Shingle</td>\n",
       "      <td>1383.414170</td>\n",
       "      <td>4222.0</td>\n",
       "      <td>POLYGON ((1623885.735 1919398.71, 1623891.16 1...</td>\n",
       "    </tr>\n",
       "    <tr>\n",
       "      <th>3</th>\n",
       "      <td>19CS</td>\n",
       "      <td>CS</td>\n",
       "      <td>Composition Shingle</td>\n",
       "      <td>836.410297</td>\n",
       "      <td>3450.0</td>\n",
       "      <td>POLYGON ((1628717.795 1926593.614, 1628720.363...</td>\n",
       "    </tr>\n",
       "    <tr>\n",
       "      <th>4</th>\n",
       "      <td>27CS</td>\n",
       "      <td>CS</td>\n",
       "      <td>Composition Shingle</td>\n",
       "      <td>330.514264</td>\n",
       "      <td>4352.0</td>\n",
       "      <td>POLYGON ((1623015.124 1919789.523, 1623019.675...</td>\n",
       "    </tr>\n",
       "  </tbody>\n",
       "</table>\n",
       "</div>"
      ],
      "text/plain": [
       "    uid class_code          description  areaUTMsqft  lotSizeSqft  \\\n",
       "0   1CS         CS  Composition Shingle   357.783709       5574.0   \n",
       "1   3CS         CS  Composition Shingle   918.640862       1111.0   \n",
       "2   9CS         CS  Composition Shingle  1383.414170       4222.0   \n",
       "3  19CS         CS  Composition Shingle   836.410297       3450.0   \n",
       "4  27CS         CS  Composition Shingle   330.514264       4352.0   \n",
       "\n",
       "                                            geometry  \n",
       "0  POLYGON ((1618024.537 1931734.332, 1618025.567...  \n",
       "1  POLYGON ((1618808.974 1929995.232, 1618810.631...  \n",
       "2  POLYGON ((1623885.735 1919398.71, 1623891.16 1...  \n",
       "3  POLYGON ((1628717.795 1926593.614, 1628720.363...  \n",
       "4  POLYGON ((1623015.124 1919789.523, 1623019.675...  "
      ]
     },
     "execution_count": 3,
     "metadata": {},
     "output_type": "execute_result"
    }
   ],
   "source": [
    "# Load the reference data for DC\n",
    "ref_fp = os.path.join(maindir,'data/spatial/mod/dc_data/training/dc_data_reference_footprints.gpkg')\n",
    "ref_dc = gpd.read_file(ref_fp)\n",
    "ref_dc = ref_dc.to_crs(albers)\n",
    "ref_dc.head()"
   ]
  },
  {
   "cell_type": "code",
   "execution_count": 4,
   "id": "4254f076-c6c4-40f9-a4ad-3b7e21203378",
   "metadata": {},
   "outputs": [
    {
     "data": {
      "text/html": [
       "<div>\n",
       "<style scoped>\n",
       "    .dataframe tbody tr th:only-of-type {\n",
       "        vertical-align: middle;\n",
       "    }\n",
       "\n",
       "    .dataframe tbody tr th {\n",
       "        vertical-align: top;\n",
       "    }\n",
       "\n",
       "    .dataframe thead th {\n",
       "        text-align: right;\n",
       "    }\n",
       "</style>\n",
       "<table border=\"1\" class=\"dataframe\">\n",
       "  <thead>\n",
       "    <tr style=\"text-align: right;\">\n",
       "      <th></th>\n",
       "      <th>uid</th>\n",
       "      <th>class_code</th>\n",
       "      <th>description</th>\n",
       "      <th>areaUTMsqft</th>\n",
       "      <th>lotSizeSqft</th>\n",
       "      <th>geometry</th>\n",
       "    </tr>\n",
       "  </thead>\n",
       "  <tbody>\n",
       "    <tr>\n",
       "      <th>0</th>\n",
       "      <td>78TL</td>\n",
       "      <td>TL</td>\n",
       "      <td>Tile</td>\n",
       "      <td>271.028875</td>\n",
       "      <td>4710.0</td>\n",
       "      <td>MULTIPOLYGON (((-761234.666 1892255.157, -7612...</td>\n",
       "    </tr>\n",
       "    <tr>\n",
       "      <th>1</th>\n",
       "      <td>269TL</td>\n",
       "      <td>TL</td>\n",
       "      <td>Tile</td>\n",
       "      <td>3885.053236</td>\n",
       "      <td>22307.0</td>\n",
       "      <td>MULTIPOLYGON (((-760349.372 1891832.63, -76033...</td>\n",
       "    </tr>\n",
       "    <tr>\n",
       "      <th>2</th>\n",
       "      <td>490TL</td>\n",
       "      <td>TL</td>\n",
       "      <td>Tile</td>\n",
       "      <td>2018.268605</td>\n",
       "      <td>6250.0</td>\n",
       "      <td>MULTIPOLYGON (((-761461.065 1891666.741, -7614...</td>\n",
       "    </tr>\n",
       "    <tr>\n",
       "      <th>3</th>\n",
       "      <td>497TL</td>\n",
       "      <td>TL</td>\n",
       "      <td>Tile</td>\n",
       "      <td>273.843801</td>\n",
       "      <td>6370.0</td>\n",
       "      <td>MULTIPOLYGON (((-760668.873 1891805.943, -7606...</td>\n",
       "    </tr>\n",
       "    <tr>\n",
       "      <th>4</th>\n",
       "      <td>537TL</td>\n",
       "      <td>TL</td>\n",
       "      <td>Tile</td>\n",
       "      <td>281.649002</td>\n",
       "      <td>6000.0</td>\n",
       "      <td>MULTIPOLYGON (((-761279.614 1891782.525, -7612...</td>\n",
       "    </tr>\n",
       "  </tbody>\n",
       "</table>\n",
       "</div>"
      ],
      "text/plain": [
       "     uid class_code description  areaUTMsqft  lotSizeSqft  \\\n",
       "0   78TL         TL        Tile   271.028875       4710.0   \n",
       "1  269TL         TL        Tile  3885.053236      22307.0   \n",
       "2  490TL         TL        Tile  2018.268605       6250.0   \n",
       "3  497TL         TL        Tile   273.843801       6370.0   \n",
       "4  537TL         TL        Tile   281.649002       6000.0   \n",
       "\n",
       "                                            geometry  \n",
       "0  MULTIPOLYGON (((-761234.666 1892255.157, -7612...  \n",
       "1  MULTIPOLYGON (((-760349.372 1891832.63, -76033...  \n",
       "2  MULTIPOLYGON (((-761461.065 1891666.741, -7614...  \n",
       "3  MULTIPOLYGON (((-760668.873 1891805.943, -7606...  \n",
       "4  MULTIPOLYGON (((-761279.614 1891782.525, -7612...  "
      ]
     },
     "execution_count": 4,
     "metadata": {},
     "output_type": "execute_result"
    }
   ],
   "source": [
    "# Load the reference data for Denver\n",
    "ref_fp = os.path.join(maindir,'data/spatial/mod/denver_data/training/denver_data_reference_footprints.gpkg')\n",
    "ref_denver = gpd.read_file(ref_fp)\n",
    "ref_denver = ref_denver.to_crs(albers)\n",
    "ref_denver.head()"
   ]
  },
  {
   "cell_type": "code",
   "execution_count": 5,
   "id": "76154ce5-ac1a-41d9-ba07-29304dbfa033",
   "metadata": {},
   "outputs": [
    {
     "name": "stdout",
     "output_type": "stream",
     "text": [
      "class_code\n",
      "CS    37133\n",
      "ME    36864\n",
      "SL    15267\n",
      "UR     1279\n",
      "WS     1152\n",
      "TL      924\n",
      "SH      783\n",
      "Name: count, dtype: int64\n",
      "class_code\n",
      "CS    86561\n",
      "WS    10642\n",
      "AP     8117\n",
      "TL     2843\n",
      "CN     2757\n",
      "SL      230\n",
      "TG      228\n",
      "Name: count, dtype: int64\n"
     ]
    }
   ],
   "source": [
    "print(ref_dc.class_code.value_counts())\n",
    "print(ref_denver.class_code.value_counts())"
   ]
  },
  {
   "cell_type": "code",
   "execution_count": 6,
   "id": "59c756ad-f983-43b9-9f77-c2d99beaf58d",
   "metadata": {},
   "outputs": [],
   "source": [
    "dc_keep = ['ME', 'SL', 'UR', 'SH']\n",
    "denver_keep = ['CS', 'WS', 'AP', 'TL', 'CN', 'TG']\n",
    "# Keep majority classes from each region for example plots\n",
    "ref_dc_sub = ref_dc[ref_dc['class_code'].isin(dc_keep)]\n",
    "ref_denver_sub = ref_denver[ref_denver['class_code'].isin(denver_keep)]"
   ]
  },
  {
   "cell_type": "code",
   "execution_count": 7,
   "id": "42030a2e-2e37-454a-b3c7-889b0792ba62",
   "metadata": {},
   "outputs": [
    {
     "data": {
      "text/plain": [
       "['ME', 'SL', 'UR', 'SH', 'TL', 'WS', 'CN', 'AP', 'TG', 'CS']"
      ]
     },
     "execution_count": 7,
     "metadata": {},
     "output_type": "execute_result"
    }
   ],
   "source": [
    "# Combine the two reference data sets\n",
    "ref = pd.concat([ref_dc_sub, ref_denver_sub], ignore_index=True)\n",
    "list(ref.class_code.unique())"
   ]
  },
  {
   "cell_type": "code",
   "execution_count": 8,
   "id": "4baa8b61-6d34-45ea-ab06-01c8a7bfbbb0",
   "metadata": {},
   "outputs": [
    {
     "data": {
      "text/plain": [
       "class_code\n",
       "CS    86561\n",
       "ME    36864\n",
       "SL    15267\n",
       "WS    10642\n",
       "AP     8117\n",
       "TL     2843\n",
       "CN     2757\n",
       "UR     1279\n",
       "SH      783\n",
       "TG      228\n",
       "Name: count, dtype: int64"
      ]
     },
     "execution_count": 8,
     "metadata": {},
     "output_type": "execute_result"
    }
   ],
   "source": [
    "ref.class_code.value_counts()"
   ]
  },
  {
   "cell_type": "code",
   "execution_count": 9,
   "id": "3be1ccfb-d2f0-4520-ba1e-3e3624061608",
   "metadata": {},
   "outputs": [
    {
     "name": "stdout",
     "output_type": "stream",
     "text": [
      "{'ME': 0, 'SL': 1, 'UR': 2, 'SH': 3, 'TL': 4, 'WS': 5, 'CN': 6, 'AP': 7, 'TG': 8, 'CS': 9}\n"
     ]
    }
   ],
   "source": [
    "# Create a numeric class code \n",
    "ref['code'], _ = pd.factorize(ref['class_code'])\n",
    "# Create a dictionary mapping class_code to code\n",
    "class_mapping = dict(zip(ref['class_code'], ref['code']))\n",
    "print(class_mapping)"
   ]
  },
  {
   "cell_type": "code",
   "execution_count": null,
   "id": "81772c74-4c3e-4f26-bd1b-9c459011004a",
   "metadata": {},
   "outputs": [],
   "source": []
  },
  {
   "cell_type": "code",
   "execution_count": 10,
   "id": "0aeadc17-e8ef-4dea-a1ac-7e680c610838",
   "metadata": {},
   "outputs": [],
   "source": [
    "# Identify areas with \"pure\" material types for examples"
   ]
  },
  {
   "cell_type": "code",
   "execution_count": 11,
   "id": "4eea8b2e-3565-4a0e-9a06-9959fc460469",
   "metadata": {},
   "outputs": [
    {
     "name": "stdout",
     "output_type": "stream",
     "text": [
      "PROJCS[\"NAD83 / Conus Albers\",GEOGCS[\"NAD83\",DATUM[\"North_American_Datum_1983\",SPHEROID[\"GRS 1980\",6378137,298.257222101,AUTHORITY[\"EPSG\",\"7019\"]],AUTHORITY[\"EPSG\",\"6269\"]],PRIMEM[\"Greenwich\",0,AUTHORITY[\"EPSG\",\"8901\"]],UNIT[\"degree\",0.0174532925199433,AUTHORITY[\"EPSG\",\"9122\"]],AUTHORITY[\"EPSG\",\"4269\"]],PROJECTION[\"Albers_Conic_Equal_Area\"],PARAMETER[\"latitude_of_center\",23],PARAMETER[\"longitude_of_center\",-96],PARAMETER[\"standard_parallel_1\",29.5],PARAMETER[\"standard_parallel_2\",45.5],PARAMETER[\"false_easting\",0],PARAMETER[\"false_northing\",0],UNIT[\"metre\",1,AUTHORITY[\"EPSG\",\"9001\"]],AXIS[\"Easting\",EAST],AXIS[\"Northing\",NORTH],AUTHORITY[\"EPSG\",\"5070\"]]\n"
     ]
    }
   ],
   "source": [
    "print(ref.crs)"
   ]
  },
  {
   "cell_type": "code",
   "execution_count": 12,
   "id": "42d7ee5c-73ad-4027-bd72-2eac88632bbe",
   "metadata": {},
   "outputs": [
    {
     "name": "stdout",
     "output_type": "stream",
     "text": [
      "Spatial filtering complete.\n"
     ]
    }
   ],
   "source": [
    "# Create centroids\n",
    "ref_pt = ref.copy()\n",
    "ref_pt = ref_pt.to_crs(albers) # wgs for both ROIs\n",
    "ref_pt['geometry'] = ref_pt['geometry'].centroid\n",
    "\n",
    "# Define the window size and half window (for boxes)\n",
    "window_size = 78\n",
    "half_window = window_size / 2\n",
    "\n",
    "training_windows = [] # image windows with >50% of specific roof type\n",
    "training_roof_types = [] # roof type codes for valid windows\n",
    "\n",
    "# Loop through each footprint individually\n",
    "for geom, roof_type in zip(ref.geometry, ref['class_code']):\n",
    "    # calculate the image window as footprint buffer\n",
    "    centroid = geom.centroid\n",
    "    window = box(centroid.x - half_window, centroid.y - half_window,\n",
    "                 centroid.x + half_window, centroid.y + half_window)\n",
    "\n",
    "    # Intersect with centroids to get class count within window\n",
    "    intersect = ref_pt[ref_pt.intersects(window)]\n",
    "    \n",
    "    # Get the total count and count for the class\n",
    "    total_count = len(intersect)\n",
    "    class_count = len(intersect[intersect['class_code'] == roof_type])\n",
    "\n",
    "    # Check if there is at least 50% of the roof type in that window\n",
    "    if total_count > 0 and (class_count / total_count) > 0.50:\n",
    "        training_windows.append(geom)\n",
    "        training_roof_types.append(roof_type)\n",
    "\n",
    "    del intersect, window, centroid\n",
    "\n",
    "# Create a GeoDataFrame for the training windows with roof types\n",
    "ref_windows = gpd.GeoDataFrame({\n",
    "    'geometry': training_windows, \n",
    "    'class_code': training_roof_types\n",
    "}, crs=ref.crs)\n",
    "\n",
    "# Create a numeric code for the training data frame\n",
    "ref_windows['code'], _ = pd.factorize(ref_windows['class_code'])\n",
    "print(\"Spatial filtering complete.\")"
   ]
  },
  {
   "cell_type": "code",
   "execution_count": 13,
   "id": "1300694e-a6ad-4dbd-9058-9e04746b7da5",
   "metadata": {},
   "outputs": [
    {
     "data": {
      "text/plain": [
       "class_code\n",
       "CS    85879\n",
       "ME    36254\n",
       "SL    14186\n",
       "WS     9675\n",
       "AP     8002\n",
       "CN     2647\n",
       "TL     2479\n",
       "SH      377\n",
       "UR      278\n",
       "TG      172\n",
       "Name: count, dtype: int64"
      ]
     },
     "execution_count": 13,
     "metadata": {},
     "output_type": "execute_result"
    }
   ],
   "source": [
    "ref_windows.class_code.value_counts()"
   ]
  },
  {
   "cell_type": "code",
   "execution_count": 14,
   "id": "0154ccb2-d3e1-42ce-b24e-faf9d11deeaa",
   "metadata": {},
   "outputs": [
    {
     "data": {
      "text/plain": [
       "class_code\n",
       "CS    860\n",
       "ME    860\n",
       "SL    860\n",
       "WS    860\n",
       "AP    860\n",
       "CN    860\n",
       "TL    860\n",
       "SH    377\n",
       "UR    278\n",
       "TG    172\n",
       "Name: count, dtype: int64"
      ]
     },
     "execution_count": 14,
     "metadata": {},
     "output_type": "execute_result"
    }
   ],
   "source": [
    "# Perform balanced sampling (random undersampling)\n",
    "ref_bal = balance_sampling(ref_windows, ratio=5, strategy='undersample')\n",
    "ref_bal.class_code.value_counts()"
   ]
  },
  {
   "cell_type": "code",
   "execution_count": null,
   "id": "6c6c4527-4d26-4808-b434-a381d1890418",
   "metadata": {},
   "outputs": [],
   "source": []
  },
  {
   "cell_type": "code",
   "execution_count": 15,
   "id": "ec460178-91ca-49d0-b1b6-e68f09cf4937",
   "metadata": {},
   "outputs": [],
   "source": [
    "# Load the image data"
   ]
  },
  {
   "cell_type": "code",
   "execution_count": null,
   "id": "5396fc30-bf4a-4439-8aba-9a097c296142",
   "metadata": {},
   "outputs": [],
   "source": []
  },
  {
   "cell_type": "code",
   "execution_count": 16,
   "id": "b75c71c3-7086-4db2-8eb4-11b7839b1721",
   "metadata": {},
   "outputs": [
    {
     "name": "stdout",
     "output_type": "stream",
     "text": [
      "{1: 'nir', 2: 'NDBIbg', 3: 'NDBIrg', 4: 'NISI', 5: 'MNF1', 6: 'NISI5x5'}\n"
     ]
    }
   ],
   "source": [
    "# Load the image stack\n",
    "stack_da_fp_dc = os.path.join(maindir, 'data/spatial/mod/dc_data/planet-data/dc_0623_psscene8b_final_norm.tif')\n",
    "stack_da_dc = rxr.open_rasterio(stack_da_fp_dc, mask=True, cache=False).squeeze()\n",
    "\n",
    "# Extract band names\n",
    "band_desc = stack_da_dc.attrs['long_name']\n",
    "band_idx = stack_da_dc.band.values\n",
    "n_bands = len(band_desc)\n",
    "\n",
    "# Create the dictionary mapping long names to band numbers\n",
    "band_mapping = dict(zip(band_idx, band_desc))\n",
    "print(band_mapping)"
   ]
  },
  {
   "cell_type": "code",
   "execution_count": 17,
   "id": "e8d7d7f9-3dd2-4830-a215-bfedb073d032",
   "metadata": {},
   "outputs": [],
   "source": [
    "# Load the image data for denver as well\n",
    "stack_da_fp_denver = os.path.join(maindir, 'data/spatial/mod/denver_data/planet-data/denver_0815_psscene8b_final_norm.tif')\n",
    "stack_da_denver = rxr.open_rasterio(stack_da_fp_denver, mask=True, cache=False).squeeze()"
   ]
  },
  {
   "cell_type": "code",
   "execution_count": 18,
   "id": "428095e9-2138-44a1-9eed-3b9dcae5d631",
   "metadata": {},
   "outputs": [],
   "source": [
    "# Load the RGB image data for Denver and D.C. (specify the file paths)\n",
    "rgb_fp_dc = os.path.join(maindir, 'data/spatial/mod/dc_data/planet-data/dc_0623_psscene8b.tif')\n",
    "rgb_fp_denver = os.path.join(maindir, 'data/spatial/mod/denver_data/planet-data/denver_0815_psscene8b.tif')"
   ]
  },
  {
   "cell_type": "code",
   "execution_count": 19,
   "id": "0a5c89be-5f4a-4fb3-a63f-ac1dc4102c09",
   "metadata": {},
   "outputs": [
    {
     "name": "stdout",
     "output_type": "stream",
     "text": [
      "Data loaded!\n"
     ]
    }
   ],
   "source": [
    "# Create a DataLoader for both AOIs and combine them\n",
    "\n",
    "window_size = 78\n",
    "\n",
    "# Washington, D.C.\n",
    "ref_bal_dc = ref_bal[ref_bal['class_code'].isin(dc_keep)]\n",
    "ref_bal_dc = ref_bal_dc.to_crs(from_epsg(32618)) # convert back to UTM\n",
    "image_ds_dc = RoofImageDatasetPlanet(\n",
    "    ref_bal_dc[['geometry', 'code']], img_path=stack_da_fp_dc, img_dim=window_size, n_bands=n_bands\n",
    ")\n",
    "\n",
    "# Denver, Colorado\n",
    "ref_bal_denver = ref_bal[ref_bal['class_code'].isin(denver_keep)]\n",
    "ref_bal_denver = ref_bal_denver.to_crs(from_epsg(32613)) # convert back to UTM\n",
    "image_ds_denver = RoofImageDatasetPlanet(\n",
    "    ref_bal_denver[['geometry', 'code']], img_path=stack_da_fp_denver, img_dim=window_size, n_bands=n_bands\n",
    ")\n",
    "\n",
    "# Ensure all samples are available\n",
    "bs = len(image_ds_dc) + len(image_ds_denver)\n",
    "\n",
    "# Combine the datasets for loader\n",
    "image_ds_combined = DataLoader(image_ds_dc + image_ds_denver, batch_size=bs, shuffle=True)\n",
    "\n",
    "print(\"Data loaded!\")"
   ]
  },
  {
   "cell_type": "code",
   "execution_count": 20,
   "id": "bb3289f8-1bd7-443e-8056-1101d7f1e519",
   "metadata": {},
   "outputs": [
    {
     "name": "stdout",
     "output_type": "stream",
     "text": [
      "{'ME': 0, 'SL': 1, 'UR': 2, 'SH': 3, 'TL': 4, 'WS': 5, 'CN': 6, 'AP': 7, 'TG': 8, 'CS': 9}\n"
     ]
    }
   ],
   "source": [
    "print(class_mapping)"
   ]
  },
  {
   "cell_type": "code",
   "execution_count": 25,
   "id": "dc8c5497-00a0-41a9-a5f6-5735927203f8",
   "metadata": {},
   "outputs": [
    {
     "name": "stdout",
     "output_type": "stream",
     "text": [
      "Class dictionary: dict_keys([0, 1, 2, 3, 4, 5, 6, 7, 8, 9])\n",
      "ME 0\n"
     ]
    },
    {
     "ename": "KeyError",
     "evalue": "'ME'",
     "output_type": "error",
     "traceback": [
      "\u001b[0;31m---------------------------------------------------------------------------\u001b[0m",
      "\u001b[0;31mKeyError\u001b[0m                                  Traceback (most recent call last)",
      "Cell \u001b[0;32mIn[25], line 3\u001b[0m\n\u001b[1;32m      1\u001b[0m \u001b[38;5;66;03m# Create a plot of image chunks\u001b[39;00m\n\u001b[1;32m      2\u001b[0m out_png \u001b[38;5;241m=\u001b[39m os\u001b[38;5;241m.\u001b[39mpath\u001b[38;5;241m.\u001b[39mjoin(maindir,\u001b[38;5;124m'\u001b[39m\u001b[38;5;124mfigures/Figure2_dc-denver_image_chunks.png\u001b[39m\u001b[38;5;124m'\u001b[39m)\n\u001b[0;32m----> 3\u001b[0m \u001b[43mplot_image_chunks\u001b[49m\u001b[43m(\u001b[49m\n\u001b[1;32m      4\u001b[0m \u001b[43m    \u001b[49m\u001b[43mimage_ds_combined\u001b[49m\u001b[43m,\u001b[49m\u001b[43m \u001b[49m\u001b[43mclass_mapping\u001b[49m\u001b[43m,\u001b[49m\u001b[43m \u001b[49m\u001b[43mbands_to_plot\u001b[49m\u001b[38;5;241;43m=\u001b[39;49m\u001b[38;5;124;43m'\u001b[39;49m\u001b[38;5;124;43mall\u001b[39;49m\u001b[38;5;124;43m'\u001b[39;49m\u001b[43m,\u001b[49m\u001b[43m \u001b[49m\u001b[43mfigsize\u001b[49m\u001b[38;5;241;43m=\u001b[39;49m\u001b[43m(\u001b[49m\u001b[38;5;241;43m6.5\u001b[39;49m\u001b[43m,\u001b[49m\u001b[38;5;241;43m9\u001b[39;49m\u001b[43m)\u001b[49m\u001b[43m,\u001b[49m\u001b[43m \u001b[49m\u001b[43mout_file\u001b[49m\u001b[38;5;241;43m=\u001b[39;49m\u001b[43mout_png\u001b[49m\u001b[43m,\u001b[49m\n\u001b[1;32m      5\u001b[0m \u001b[43m    \u001b[49m\u001b[43mrgb_dc\u001b[49m\u001b[43m \u001b[49m\u001b[38;5;241;43m=\u001b[39;49m\u001b[43m \u001b[49m\u001b[43mrgb_fp_dc\u001b[49m\u001b[43m,\u001b[49m\u001b[43m \u001b[49m\u001b[43mrgb_denver\u001b[49m\u001b[43m \u001b[49m\u001b[38;5;241;43m=\u001b[39;49m\u001b[43m \u001b[49m\u001b[43mrgb_fp_denver\u001b[49m\n\u001b[1;32m      6\u001b[0m \u001b[43m)\u001b[49m\n",
      "Cell \u001b[0;32mIn[24], line 46\u001b[0m, in \u001b[0;36mplot_image_chunks\u001b[0;34m(dataset, class_mapping, bands_to_plot, out_file, figsize, labelsize, rgb_dc, rgb_denver)\u001b[0m\n\u001b[1;32m     44\u001b[0m \u001b[38;5;28;01mfor\u001b[39;00m i, \u001b[38;5;28mcls\u001b[39m \u001b[38;5;129;01min\u001b[39;00m class_mapping\u001b[38;5;241m.\u001b[39mitems():\n\u001b[1;32m     45\u001b[0m     \u001b[38;5;28mprint\u001b[39m(i, \u001b[38;5;28mcls\u001b[39m)\n\u001b[0;32m---> 46\u001b[0m     image \u001b[38;5;241m=\u001b[39m \u001b[43msamples_dict\u001b[49m\u001b[43m[\u001b[49m\u001b[43mi\u001b[49m\u001b[43m]\u001b[49m\n\u001b[1;32m     47\u001b[0m     \u001b[38;5;28;01mif\u001b[39;00m image \u001b[38;5;129;01mis\u001b[39;00m \u001b[38;5;28;01mNone\u001b[39;00m:\n\u001b[1;32m     48\u001b[0m         \u001b[38;5;28mprint\u001b[39m(\u001b[38;5;124mf\u001b[39m\u001b[38;5;124m\"\u001b[39m\u001b[38;5;124mNo samples available for class \u001b[39m\u001b[38;5;132;01m{\u001b[39;00m\u001b[38;5;28mcls\u001b[39m\u001b[38;5;132;01m}\u001b[39;00m\u001b[38;5;124m.\u001b[39m\u001b[38;5;124m\"\u001b[39m)\n",
      "\u001b[0;31mKeyError\u001b[0m: 'ME'"
     ]
    },
    {
     "data": {
      "image/png": "[encoded data removed]",
      "text/plain": [
       "<Figure size 650x900 with 60 Axes>"
      ]
     },
     "metadata": {},
     "output_type": "display_data"
    }
   ],
   "source": [
    "# Create a plot of image chunks\n",
    "out_png = os.path.join(maindir,'figures/Figure2_dc-denver_image_chunks.png')\n",
    "plot_image_chunks(\n",
    "    image_ds_combined, class_mapping, bands_to_plot='all', figsize=(6.5,9), out_file=out_png,\n",
    "    rgb_dc = rgb_fp_dc, rgb_denver = rgb_fp_denver\n",
    ")"
   ]
  },
  {
   "cell_type": "code",
   "execution_count": null,
   "id": "4e31aed0-e2ba-465d-b88c-f46c39b8b15f",
   "metadata": {},
   "outputs": [],
   "source": []
  },
  {
   "cell_type": "code",
   "execution_count": null,
   "id": "cb8701cf-d79d-44c7-af38-7d24cd7166e4",
   "metadata": {},
   "outputs": [],
   "source": [
    "gc.collect()"
   ]
  },
  {
   "cell_type": "code",
   "execution_count": null,
   "id": "fc03fbf1-6b11-4c03-8e7d-7b06fd2c5f7a",
   "metadata": {},
   "outputs": [],
   "source": []
  }
 ],
 "metadata": {
  "kernelspec": {
   "display_name": "rspy",
   "language": "python",
   "name": "rspy"
  },
  "language_info": {
   "codemirror_mode": {
    "name": "ipython",
    "version": 3
   },
   "file_extension": ".py",
   "mimetype": "text/x-python",
   "name": "python",
   "nbconvert_exporter": "python",
   "pygments_lexer": "ipython3",
   "version": "3.10.14"
  }
 },
 "nbformat": 4,
 "nbformat_minor": 5
}
