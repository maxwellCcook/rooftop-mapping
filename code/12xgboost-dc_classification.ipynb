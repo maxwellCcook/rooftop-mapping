{
 "cells": [
  {
   "cell_type": "code",
   "execution_count": null,
   "id": "dd92b15d-3cc3-4301-b41a-699c767fd6b6",
   "metadata": {},
   "outputs": [],
   "source": [
    "\"\"\"\n",
    "Classification of the Planet SuperDove imagery from the XGBoost model\n",
    "Author: maxwell.cook@colorado.edu\n",
    "\"\"\"\n",
    "\n",
    "import os, time\n",
    "import pandas as pd\n",
    "import rioxarray as rxr\n",
    "import xgboost as xgb\n",
    "import numpy as np\n",
    "import xarray as xr\n",
    "\n",
    "# Functions script import\n",
    "sys.path.append(os.path.join(os.getcwd(),'code/'))\n",
    "from __functions import *\n",
    "\n",
    "print(os.getcwd())\n",
    "\n",
    "maindir = '/Users/max/Library/CloudStorage/OneDrive-Personal/mcook/earth-lab/opp-rooftop-mapping'\n",
    "# homedir = '/home/jovyan/data-store/data/iplant/home/maco4303/data/' # cyverse\n",
    "\n",
    "print(\"Imports successful!\")"
   ]
  },
  {
   "cell_type": "code",
   "execution_count": null,
   "id": "a3519d0c-199a-4451-8afb-90586cc5d0a7",
   "metadata": {},
   "outputs": [],
   "source": [
    "results_dir = os.path.join(maindir, 'results/xgboost-cv/classification/')\n",
    "# results_dir = os.path.join(homedir, 'OPP/results/xgboost-cv/classification/') # cyverse\n",
    "if not os.path.exists(results_dir):\n",
    "    os.makedirs(results_dir)\n",
    "print(f\"Saving results to {results_dir}\")"
   ]
  },
  {
   "cell_type": "code",
   "execution_count": null,
   "id": "cfe0d1c3-3892-4ba7-8690-2ba0fcc34f3f",
   "metadata": {},
   "outputs": [],
   "source": []
  },
  {
   "cell_type": "code",
   "execution_count": null,
   "id": "d2be07ed-6b3d-4b6c-a8fc-9ab9fc722e31",
   "metadata": {},
   "outputs": [],
   "source": [
    "# Load the best XGBoost model from cross-validation based on holdout accuracy"
   ]
  },
  {
   "cell_type": "code",
   "execution_count": null,
   "id": "ad8b779e-ad65-47b7-afd3-cf53da273bc3",
   "metadata": {},
   "outputs": [],
   "source": [
    "best_fold = 4\n",
    "best_params = {\n",
    "    'learning_rate': 0.002185884764883822, \n",
    "    'max_depth': 12, \n",
    "    'n_estimators': 837, \n",
    "    'min_child_weight': 2, \n",
    "    'subsample': 0.5014281326674929, \n",
    "    'colsample_bytree': 0.9226235922462854, \n",
    "    'gamma': 0.8462080004717595\n",
    "}"
   ]
  },
  {
   "cell_type": "code",
   "execution_count": null,
   "id": "7634d361-1309-4b09-b0f3-5b7b8dbb392e",
   "metadata": {},
   "outputs": [],
   "source": [
    "# Load the trained model for best fold\n",
    "model_fp = os.path.join(results_dir, f'dc-xgb_fold{best_fold}.model')\n",
    "print(f\"Loading model from path: {model_fp}\")\n",
    "\n",
    "xgb_model = xgb.XGBClassifier(\n",
    "    objective='multi:softmax',\n",
    "    num_class=len(np.unique(fold_train_bal['code'])),\n",
    "    learning_rate=best_params['learning_rate'],\n",
    "    max_depth=best_params['max_depth'],\n",
    "    n_estimators=best_params['n_estimators'],\n",
    "    min_child_weight=best_params['min_child_weight'],\n",
    "    subsample=best_params['subsample'],\n",
    "    colsample_bytree=best_params['colsample_bytree'],\n",
    "    gamma=best_params['gamma'],\n",
    "    eval_metric=['mlogloss', 'auc', 'merror'], # track multiple evaluation metrics\n",
    "    early_stopping_rounds=100, # stop if no improvement\n",
    "    random_state=44\n",
    ")\n",
    "\n",
    "xgb_model.load_model(model_fp)\n",
    "print(\"Model loaded !\")"
   ]
  }
 ],
 "metadata": {
  "kernelspec": {
   "display_name": "rspy",
   "language": "python",
   "name": "rspy"
  },
  "language_info": {
   "codemirror_mode": {
    "name": "ipython",
    "version": 3
   },
   "file_extension": ".py",
   "mimetype": "text/x-python",
   "name": "python",
   "nbconvert_exporter": "python",
   "pygments_lexer": "ipython3",
   "version": "3.10.14"
  }
 },
 "nbformat": 4,
 "nbformat_minor": 5
}
