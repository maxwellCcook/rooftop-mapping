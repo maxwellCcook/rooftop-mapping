{
 "cells": [
  {
   "cell_type": "code",
   "execution_count": 1,
   "id": "c1a157a0-0b7e-4a0d-900c-79bc0fc3d0ad",
   "metadata": {},
   "outputs": [],
   "source": [
    "# !nvidia-smi"
   ]
  },
  {
   "cell_type": "code",
   "execution_count": 2,
   "id": "4ae6dba8-e355-492b-b096-59ff723e68cc",
   "metadata": {},
   "outputs": [
    {
     "name": "stdout",
     "output_type": "stream",
     "text": [
      "Projected CRS: EPSG:32618\n",
      "Successfully imported all packages!\n"
     ]
    }
   ],
   "source": [
    "\"\"\"\n",
    "Resnet-18 for classifying roof materials from PlanetScope SuperDove imagery\n",
    "Case study in Washington, D.C. \n",
    "\"\"\"\n",
    "\n",
    "import os, sys, time, glob\n",
    "import geopandas as gpd\n",
    "import pandas as pd\n",
    "import rioxarray as rxr\n",
    "import xarray as xr\n",
    "import numpy as np\n",
    "import rasterio as rio\n",
    "import matplotlib.pyplot as plt\n",
    "import seaborn as sns\n",
    "import gc\n",
    "import torch\n",
    "import torch.nn as nn\n",
    "import torch.optim as optim\n",
    "\n",
    "from torch.utils.data import Dataset, DataLoader\n",
    "from torch.utils.data.dataloader import default_collate\n",
    "from torchvision import transforms, utils\n",
    "from torchsat.models.classification import resnet18\n",
    "\n",
    "from sklearn.model_selection import train_test_split\n",
    "from sklearn.utils import resample\n",
    "from sklearn.metrics import confusion_matrix, ConfusionMatrixDisplay, classification_report\n",
    "from sklearn.metrics import roc_auc_score, log_loss, roc_auc_score, roc_curve, auc, f1_score, precision_score, recall_score\n",
    "from sklearn.model_selection import StratifiedKFold\n",
    "\n",
    "from fiona.crs import from_epsg\n",
    "from shapely.geometry import box\n",
    "from os.path import join\n",
    "\n",
    "import warnings\n",
    "warnings.filterwarnings(\"ignore\")\n",
    "\n",
    "# Custom functions\n",
    "sys.path.append(os.path.join(os.getcwd(),'code/'))\n",
    "from __functions import *\n",
    "\n",
    "# Projection information\n",
    "wgs = from_epsg(4326)\n",
    "proj = from_epsg(32618)\n",
    "print(f'Projected CRS: {proj}')\n",
    "\n",
    "# maindir = '/Users/max/Library/CloudStorage/OneDrive-Personal/mcook/earth-lab/opp-rooftop-mapping'\n",
    "\n",
    "print(\"Successfully imported all packages!\")"
   ]
  },
  {
   "cell_type": "code",
   "execution_count": null,
   "id": "c2ce3bf8-31c5-456f-a965-3c7bc461ab09",
   "metadata": {},
   "outputs": [],
   "source": []
  },
  {
   "cell_type": "code",
   "execution_count": null,
   "id": "f698eaec-2a8f-44a9-af31-656cf38de292",
   "metadata": {},
   "outputs": [],
   "source": []
  },
  {
   "cell_type": "code",
   "execution_count": 3,
   "id": "7f1f0db2-184a-4589-b258-7283e30f23de",
   "metadata": {},
   "outputs": [],
   "source": [
    "homedir = '/home/jovyan'"
   ]
  },
  {
   "cell_type": "code",
   "execution_count": null,
   "id": "e7d53102-f55f-43ae-a20d-3bf28ce5de9f",
   "metadata": {},
   "outputs": [],
   "source": []
  },
  {
   "cell_type": "code",
   "execution_count": 4,
   "id": "308774c2-5428-4247-adb3-836626ae7255",
   "metadata": {},
   "outputs": [
    {
     "data": {
      "text/html": [
       "<div>\n",
       "<style scoped>\n",
       "    .dataframe tbody tr th:only-of-type {\n",
       "        vertical-align: middle;\n",
       "    }\n",
       "\n",
       "    .dataframe tbody tr th {\n",
       "        vertical-align: top;\n",
       "    }\n",
       "\n",
       "    .dataframe thead th {\n",
       "        text-align: right;\n",
       "    }\n",
       "</style>\n",
       "<table border=\"1\" class=\"dataframe\">\n",
       "  <thead>\n",
       "    <tr style=\"text-align: right;\">\n",
       "      <th></th>\n",
       "      <th>uid</th>\n",
       "      <th>class_code</th>\n",
       "      <th>description</th>\n",
       "      <th>areaUTMsqft</th>\n",
       "      <th>lotSizeSqft</th>\n",
       "      <th>geometry</th>\n",
       "    </tr>\n",
       "  </thead>\n",
       "  <tbody>\n",
       "    <tr>\n",
       "      <th>0</th>\n",
       "      <td>1CS</td>\n",
       "      <td>CS</td>\n",
       "      <td>Composition Shingle</td>\n",
       "      <td>357.783709</td>\n",
       "      <td>5574.0</td>\n",
       "      <td>POLYGON ((324215.868 4313568.665, 324215.792 4...</td>\n",
       "    </tr>\n",
       "    <tr>\n",
       "      <th>1</th>\n",
       "      <td>3CS</td>\n",
       "      <td>CS</td>\n",
       "      <td>Composition Shingle</td>\n",
       "      <td>918.640862</td>\n",
       "      <td>1111.0</td>\n",
       "      <td>POLYGON ((324602.816 4311717.247, 324604.322 4...</td>\n",
       "    </tr>\n",
       "    <tr>\n",
       "      <th>2</th>\n",
       "      <td>9CS</td>\n",
       "      <td>CS</td>\n",
       "      <td>Composition Shingle</td>\n",
       "      <td>1383.414170</td>\n",
       "      <td>4222.0</td>\n",
       "      <td>POLYGON ((327253.581 4300371.859, 327258.154 4...</td>\n",
       "    </tr>\n",
       "    <tr>\n",
       "      <th>3</th>\n",
       "      <td>19CS</td>\n",
       "      <td>CS</td>\n",
       "      <td>Composition Shingle</td>\n",
       "      <td>836.410297</td>\n",
       "      <td>3450.0</td>\n",
       "      <td>POLYGON ((333608.13 4306267.691, 333607.957 43...</td>\n",
       "    </tr>\n",
       "    <tr>\n",
       "      <th>4</th>\n",
       "      <td>27CS</td>\n",
       "      <td>CS</td>\n",
       "      <td>Composition Shingle</td>\n",
       "      <td>330.514264</td>\n",
       "      <td>4352.0</td>\n",
       "      <td>POLYGON ((326482.699 4300939.466, 326487.386 4...</td>\n",
       "    </tr>\n",
       "  </tbody>\n",
       "</table>\n",
       "</div>"
      ],
      "text/plain": [
       "    uid class_code          description  areaUTMsqft  lotSizeSqft  \\\n",
       "0   1CS         CS  Composition Shingle   357.783709       5574.0   \n",
       "1   3CS         CS  Composition Shingle   918.640862       1111.0   \n",
       "2   9CS         CS  Composition Shingle  1383.414170       4222.0   \n",
       "3  19CS         CS  Composition Shingle   836.410297       3450.0   \n",
       "4  27CS         CS  Composition Shingle   330.514264       4352.0   \n",
       "\n",
       "                                            geometry  \n",
       "0  POLYGON ((324215.868 4313568.665, 324215.792 4...  \n",
       "1  POLYGON ((324602.816 4311717.247, 324604.322 4...  \n",
       "2  POLYGON ((327253.581 4300371.859, 327258.154 4...  \n",
       "3  POLYGON ((333608.13 4306267.691, 333607.957 43...  \n",
       "4  POLYGON ((326482.699 4300939.466, 326487.386 4...  "
      ]
     },
     "execution_count": 4,
     "metadata": {},
     "output_type": "execute_result"
    }
   ],
   "source": [
    "# Load the training data (footprints)\n",
    "# gdf_path = os.path.join(maindir,'data/spatial/mod/dc_data/training/dc_data_reference_footprints.gpkg')\n",
    "gdf_path = join(homedir,'opp-data/dc_data_reference_footprints.gpkg')\n",
    "ref = gpd.read_file(gdf_path)\n",
    "ref.head()"
   ]
  },
  {
   "cell_type": "code",
   "execution_count": 5,
   "id": "627f1d04-70ba-48da-91fe-4ecd358ca528",
   "metadata": {},
   "outputs": [
    {
     "data": {
      "text/plain": [
       "class_code\n",
       "CS    37133\n",
       "ME    36864\n",
       "SL    15267\n",
       "UR     1279\n",
       "WS     1152\n",
       "TL      924\n",
       "SH      783\n",
       "Name: count, dtype: int64"
      ]
     },
     "execution_count": 5,
     "metadata": {},
     "output_type": "execute_result"
    }
   ],
   "source": [
    "# Observe the class imbalance\n",
    "ref.class_code.value_counts()"
   ]
  },
  {
   "cell_type": "code",
   "execution_count": 6,
   "id": "6cfad719-f3c2-48df-aa52-66ee519b11be",
   "metadata": {},
   "outputs": [
    {
     "name": "stdout",
     "output_type": "stream",
     "text": [
      "Code map: \n",
      "{'CS': 0, 'ME': 1, 'SL': 2, 'UR': 3, 'TL': 4, 'WS': 5, 'SH': 6}\n",
      "Description map: \n",
      "{'CS': 'Composition Shingle', 'ME': 'Metal', 'SL': 'Slate', 'UR': 'Urethane', 'TL': 'Tile', 'WS': 'Wood shake/shingle', 'SH': 'Shingle'}\n"
     ]
    }
   ],
   "source": [
    "# Create a numeric code column\n",
    "ref['code'], _ = pd.factorize(ref['class_code'])\n",
    "# Create a dictionary mapping class_code to code\n",
    "code_mapping = dict(zip(ref['class_code'], ref['code']))\n",
    "desc_mapping = dict(zip(ref['class_code'], ref['description']))\n",
    "print(f'Code map: \\n{code_mapping}\\nDescription map: \\n{desc_mapping}')"
   ]
  },
  {
   "cell_type": "code",
   "execution_count": 7,
   "id": "94802aed-11a3-4285-952e-8409b5ff2d8f",
   "metadata": {},
   "outputs": [],
   "source": [
    "# # Calculate the longest side length of the building\n",
    "# area_stats = ref.groupby('class_code').apply(footprint_area_stats).reset_index()\n",
    "# area_stats"
   ]
  },
  {
   "cell_type": "code",
   "execution_count": 8,
   "id": "d2f3f633-3a27-472d-ba32-4248eb2032c5",
   "metadata": {},
   "outputs": [],
   "source": [
    "# # Box plot for mean footprint area across classes\n",
    "# plt.figure(figsize=(5, 3))\n",
    "# sns.boxplot(x='class_code', y='areaUTMsqft', data=ref)\n",
    "# # Set the y-axis to log scale\n",
    "# plt.yscale('log')\n",
    "# plt.title('Average Footprint Area Across Classes (Log Scale)')\n",
    "# plt.ylabel('Mean Area (sqm)')\n",
    "# plt.xlabel('Building Class')\n",
    "# plt.xticks(rotation=45)\n",
    "# plt.tight_layout()\n",
    "# plt.show()"
   ]
  },
  {
   "cell_type": "code",
   "execution_count": 9,
   "id": "04c523f1-01fe-46b4-8ec6-54f3bc3dc2a4",
   "metadata": {},
   "outputs": [],
   "source": [
    "# # Calculate the longest side length for polygons\n",
    "# ref['longest_side_len'] = ref.geometry.apply(lambda geom: calc_longest_side(geom)[2])\n",
    "\n",
    "# # Box plot for mean footprint area across classes\n",
    "# plt.figure(figsize=(5, 3))\n",
    "# sns.boxplot(x='class_code', y='longest_side_len', data=ref)\n",
    "# # Set the y-axis to log scale\n",
    "# plt.yscale('log')\n",
    "# plt.title('Longest Side Length Across Classes')\n",
    "# plt.ylabel('Length (m)')\n",
    "# plt.xlabel('Building Class')\n",
    "# plt.xticks(rotation=45)\n",
    "# plt.tight_layout()\n",
    "# plt.show()"
   ]
  },
  {
   "cell_type": "code",
   "execution_count": null,
   "id": "694bde40-f92c-46ad-bce3-6b40075e4b7e",
   "metadata": {},
   "outputs": [],
   "source": []
  },
  {
   "cell_type": "code",
   "execution_count": 10,
   "id": "9b0f5979-0193-46e0-ab26-1e7449d2714a",
   "metadata": {},
   "outputs": [],
   "source": [
    "# Identify 'pure-ish' training locations"
   ]
  },
  {
   "cell_type": "code",
   "execution_count": null,
   "id": "e399a7ff-e031-4056-9f93-53292e95b5ed",
   "metadata": {},
   "outputs": [],
   "source": []
  },
  {
   "cell_type": "code",
   "execution_count": 11,
   "id": "f6c94b42-ea39-4726-abd2-6cfa775b636e",
   "metadata": {},
   "outputs": [],
   "source": [
    "# print(ref.crs)"
   ]
  },
  {
   "cell_type": "code",
   "execution_count": null,
   "id": "5e3d1851-bb0c-4bdd-bc8a-e41414f47d71",
   "metadata": {},
   "outputs": [],
   "source": []
  },
  {
   "cell_type": "code",
   "execution_count": 12,
   "id": "6d2c96b1-7be7-4baa-9584-6e19c28e41f0",
   "metadata": {},
   "outputs": [],
   "source": [
    "# # Create centroids\n",
    "# ref_pt = ref.copy()\n",
    "# ref_pt = ref_pt.to_crs(epsg=32618)\n",
    "# ref_pt['geometry'] = ref_pt['geometry'].centroid\n",
    "\n",
    "# # Define the window size and half window (for boxes)\n",
    "# window_size = 52 # 4 * average side length (relative neighbors (?))\n",
    "# half_window = window_size / 2\n",
    "\n",
    "# training_windows = [] # image windows with >50% of specific roof type\n",
    "# training_roof_types = [] # roof type codes for valid windows\n",
    "\n",
    "# # Loop through each footprint individually\n",
    "# for geom, roof_type in zip(ref.geometry, ref['class_code']):\n",
    "#     # calculate the image window as footprint buffer\n",
    "#     centroid = geom.centroid\n",
    "#     window = box(centroid.x - half_window, centroid.y - half_window,\n",
    "#                  centroid.x + half_window, centroid.y + half_window)\n",
    "\n",
    "#     # Intersect with centroids to get class count within window\n",
    "#     intersect = ref_pt[ref_pt.intersects(window)]\n",
    "    \n",
    "#     # Get the total count and count for the class\n",
    "#     total_count = len(intersect)\n",
    "#     class_count = len(intersect[intersect['class_code'] == roof_type])\n",
    "\n",
    "#     # Check if there is at least 50% of the roof type in that window\n",
    "#     if total_count > 0 and (class_count / total_count) > 0.50:\n",
    "#         training_windows.append(geom)\n",
    "#         training_roof_types.append(roof_type)\n",
    "\n",
    "#     del intersect, window, centroid\n",
    "\n",
    "# # Create a GeoDataFrame for the training windows with roof types\n",
    "# ref_windows = gpd.GeoDataFrame({\n",
    "#     'geometry': training_windows, \n",
    "#     'class_code': training_roof_types\n",
    "# }, crs=ref.crs)\n",
    "\n",
    "# # Create a numeric code for the training data frame\n",
    "# ref_windows['code'], _ = pd.factorize(ref_windows['class_code'])\n",
    "# print(\"Spatial filtering complete.\")"
   ]
  },
  {
   "cell_type": "code",
   "execution_count": 13,
   "id": "7bf332f4-7848-47f2-8a23-784101265939",
   "metadata": {},
   "outputs": [],
   "source": [
    "# # Save out\n",
    "# os.getcwd()\n",
    "# out_file = os.path.join(maindir,'data/spatial/mod/dc_data/rooftop_materials_training_windows.gpkg')\n",
    "# ref_windows.to_file(out_file)\n",
    "\n",
    "# del training_windows, training_roof_types, ref_pt\n",
    "# gc.collect()"
   ]
  },
  {
   "cell_type": "code",
   "execution_count": 14,
   "id": "8edde283-208e-4368-ad7b-92c4c2ad097e",
   "metadata": {},
   "outputs": [],
   "source": [
    "# # Plot the training locations with colors based on roof type\n",
    "# fig, ax = plt.subplots(figsize=(6, 6))\n",
    "# ref_windows.plot(column='class_code', ax=ax, legend=True, cmap='Set1', edgecolor='none')\n",
    "# plt.title('Training Locations by Roof Material Type')\n",
    "# plt.show()"
   ]
  },
  {
   "cell_type": "code",
   "execution_count": 15,
   "id": "67a09fb4-3432-4cb6-9de6-89728c147413",
   "metadata": {},
   "outputs": [],
   "source": [
    "# ref_windows.class_code.value_counts()"
   ]
  },
  {
   "cell_type": "code",
   "execution_count": 16,
   "id": "3195a3a1-e907-4f3e-87a4-ce28d6001e9e",
   "metadata": {},
   "outputs": [],
   "source": [
    "# # Perform balanced sampling (random undersampling)\n",
    "# ref_bal = balance_sampling(ref_windows, ratio=20, strategy='undersample')\n",
    "# ref_bal.class_code.value_counts()"
   ]
  },
  {
   "cell_type": "code",
   "execution_count": 17,
   "id": "ce5e07b5-4cb5-4c75-9bd8-33305bd6406f",
   "metadata": {},
   "outputs": [
    {
     "data": {
      "text/plain": [
       "class_code\n",
       "CS    7830\n",
       "ME    7830\n",
       "SL    7830\n",
       "UR    1279\n",
       "WS    1152\n",
       "TL     924\n",
       "SH     783\n",
       "Name: count, dtype: int64"
      ]
     },
     "execution_count": 17,
     "metadata": {},
     "output_type": "execute_result"
    }
   ],
   "source": [
    "# Perform balanced sampling (random undersampling)\n",
    "ref_bal = balance_sampling(ref, ratio=10, strategy='undersample')\n",
    "ref_bal.class_code.value_counts()"
   ]
  },
  {
   "cell_type": "code",
   "execution_count": null,
   "id": "b4483537-a9f9-4008-b8e0-049dc6d924e1",
   "metadata": {},
   "outputs": [],
   "source": []
  },
  {
   "cell_type": "code",
   "execution_count": null,
   "id": "f124813b-03f5-4a1f-8db0-269f000739e0",
   "metadata": {},
   "outputs": [],
   "source": []
  },
  {
   "cell_type": "code",
   "execution_count": null,
   "id": "7c6d138d-4766-407b-8d08-0bedbcd88db0",
   "metadata": {},
   "outputs": [],
   "source": []
  },
  {
   "cell_type": "code",
   "execution_count": 18,
   "id": "59df331a-d7e5-401c-8077-f5e2053039c5",
   "metadata": {},
   "outputs": [
    {
     "name": "stdout",
     "output_type": "stream",
     "text": [
      "Train class distribution:\n",
      " code\n",
      "0    4698\n",
      "1    4698\n",
      "2    4698\n",
      "3     767\n",
      "5     691\n",
      "4     554\n",
      "6     469\n",
      "Name: count, dtype: int64\n",
      "Validation class distribution:\n",
      " code\n",
      "0    2505\n",
      "1    2505\n",
      "2    2505\n",
      "3     409\n",
      "5     368\n",
      "4     296\n",
      "6     251\n",
      "Name: count, dtype: int64\n",
      "Test class distribution:\n",
      " code\n",
      "0    627\n",
      "1    627\n",
      "2    627\n",
      "3    103\n",
      "5     93\n",
      "4     74\n",
      "6     63\n",
      "Name: count, dtype: int64\n"
     ]
    }
   ],
   "source": [
    "# Split the train/test data\n",
    "train_df, val_df, test_df = split_training_data(ref_bal, ts=0.4, vs=0.2)\n",
    "\n",
    "# Print the class distribution in training and validation sets to verify stratification\n",
    "print(\"Train class distribution:\\n\", train_df['code'].value_counts())\n",
    "print(\"Validation class distribution:\\n\", val_df['code'].value_counts())\n",
    "print(\"Test class distribution:\\n\", test_df['code'].value_counts())"
   ]
  },
  {
   "cell_type": "code",
   "execution_count": null,
   "id": "aef573cf-7e7b-4af7-8eb9-b998403b5716",
   "metadata": {},
   "outputs": [],
   "source": []
  },
  {
   "cell_type": "code",
   "execution_count": null,
   "id": "ee21eaab-8a6f-4361-9356-9fbbd2ff3ea0",
   "metadata": {},
   "outputs": [],
   "source": []
  },
  {
   "cell_type": "code",
   "execution_count": null,
   "id": "bff13cc3-7121-4e88-8392-f25c83a7f9f1",
   "metadata": {},
   "outputs": [],
   "source": []
  },
  {
   "cell_type": "code",
   "execution_count": 19,
   "id": "3ca50c71-761b-48d5-95ca-e23731769ff6",
   "metadata": {},
   "outputs": [
    {
     "name": "stdout",
     "output_type": "stream",
     "text": [
      "shape: (8223, 6714)\n",
      "bands: 6\n",
      "resolution: (3.0, -3.0)\n",
      "bounds: (315267.0, 4294629.0, 335409.0, 4319298.0)\n",
      "sum: 8.181640625\n",
      "CRS: EPSG:32618\n",
      "NoData: None\n",
      "Array: <xarray.DataArray (band: 6, y: 8223, x: 6714)> Size: 1GB\n",
      "[331255332 values with dtype=float32]\n",
      "Coordinates:\n",
      "  * band         (band) int64 48B 1 2 3 4 5 6\n",
      "  * x            (x) float64 54kB 3.153e+05 3.153e+05 ... 3.354e+05 3.354e+05\n",
      "  * y            (y) float64 66kB 4.319e+06 4.319e+06 ... 4.295e+06 4.295e+06\n",
      "    spatial_ref  int64 8B 0\n",
      "Attributes:\n",
      "    AREA_OR_POINT:  Area\n",
      "    scale_factor:   1.0\n",
      "    add_offset:     0.0\n",
      "    long_name:      ('nir', 'NDBIbg', 'NDBIrg', 'NISI', 'MNF1', 'NISI5x5')\n"
     ]
    }
   ],
   "source": [
    "# Load our image data to check on the format\n",
    "# stack_da_fp = os.path.join(maindir,'data/spatial/mod/dc_data/planet-data/dc_0623_psscene8b_final_norm.tif')\n",
    "stack_da_fp = os.path.join(homedir,'opp-data/dc_0623_psscene8b_final_norm.tif')\n",
    "stack_da = rxr.open_rasterio(stack_da_fp, mask=True, cache=False).squeeze()\n",
    "n_bands = stack_da.values.shape[:1][0] # get a list of band names\n",
    "print(\n",
    "    f\"shape: {stack_da.rio.shape}\\n\"\n",
    "    f\"bands: {n_bands}\\n\"\n",
    "    f\"resolution: {stack_da.rio.resolution()}\\n\"\n",
    "    f\"bounds: {stack_da.rio.bounds()}\\n\"\n",
    "    f\"sum: {stack_da.sum().item()}\\n\"\n",
    "    f\"CRS: {stack_da.rio.crs}\\n\"\n",
    "    f\"NoData: {stack_da.rio.nodata}\\n\"\n",
    "    f\"Array: {stack_da}\"\n",
    ")\n",
    "del stack_da"
   ]
  },
  {
   "cell_type": "code",
   "execution_count": null,
   "id": "1cbfdcfd-1319-445a-92c9-faf298c8d4a6",
   "metadata": {},
   "outputs": [],
   "source": []
  },
  {
   "cell_type": "code",
   "execution_count": 20,
   "id": "5055ca12-c480-447d-b01d-8efc157e579f",
   "metadata": {},
   "outputs": [
    {
     "name": "stdout",
     "output_type": "stream",
     "text": [
      "Model params: {'window_size': 78, 'batch_size': 128, 'learning_rate': 0.001, 'weight_decay': 0.0001, 'momentum': 0.9, 'patience': 5}\n"
     ]
    }
   ],
   "source": [
    "# Best params from tuning\n",
    "params = {'window_size': 78, 'batch_size': 128, 'learning_rate': 0.001, 'weight_decay': 1e-4, 'momentum': 0.9, 'patience': 5}\n",
    "print(f'Model params: {params}')"
   ]
  },
  {
   "cell_type": "code",
   "execution_count": null,
   "id": "a22d7160-f87e-4c9e-903b-44c966444fcb",
   "metadata": {},
   "outputs": [],
   "source": []
  },
  {
   "cell_type": "code",
   "execution_count": 21,
   "id": "d16d0cb6-dcd0-424a-a68e-96abf0819354",
   "metadata": {},
   "outputs": [
    {
     "name": "stdout",
     "output_type": "stream",
     "text": [
      "Using cuda for model dev ...\n",
      "There are 7 roof type classes.\n",
      "Using  1 GPUs!\n",
      "Ready to load data !\n"
     ]
    }
   ],
   "source": [
    "# Set up the Resnet-18 model\n",
    "\n",
    "# Define whether to leverage cpu or gpu (for my local machine it is only cpu)\n",
    "device = torch.device(\"cuda\" if torch.cuda.is_available() else \"cpu\") # get device for gpu or cpu\n",
    "print(f'Using {device} for model dev ...')\n",
    "\n",
    "# Grab the number of classes\n",
    "n_classes = ref_bal.class_code.unique().shape[0]\n",
    "print(f'There are {n_classes} roof type classes.')\n",
    "\n",
    "# Define the Resnet-18 model (in_channels = number of bands in the image)\n",
    "model = resnet18(n_classes, in_channels=n_bands, pretrained=False)\n",
    "\n",
    "# Make model parallel and on GPU\n",
    "if torch.cuda.device_count() >= 1:\n",
    "    print(\"Using \", torch.cuda.device_count(), \"GPUs!\")\n",
    "    model = nn.DataParallel(model)\n",
    "    model.to(device)\n",
    "else:\n",
    "    model = nn.DataParallel(model)\n",
    "    print('Made cpu parallel')\n",
    "\n",
    "# optimizer, learning rate scheduler, loss criterion, scaler (gradient)\n",
    "optimizer = optim.SGD(model.parameters(), lr=params['learning_rate'], momentum=params['momentum'], weight_decay=params['weight_decay'])\n",
    "lr_scheduler = optim.lr_scheduler.ReduceLROnPlateau(optimizer, mode='min', factor=0.1, patience=params['patience'], verbose=False, min_lr=1e-6)\n",
    "scaler = torch.cuda.amp.GradScaler()  # initialize scaler for mixed precision\n",
    "\n",
    "print('Ready to load data !')"
   ]
  },
  {
   "cell_type": "code",
   "execution_count": 22,
   "id": "a12d179c-0bd8-4ca3-9de8-a679e9537406",
   "metadata": {},
   "outputs": [
    {
     "name": "stdout",
     "output_type": "stream",
     "text": [
      "Training and validation data loaded!\n"
     ]
    }
   ],
   "source": [
    "# Load the image data as a Dataset\n",
    "# Uses the opimum window size calculated earlier\n",
    "\n",
    "imdir = stack_da_fp\n",
    "bs = params['batch_size']\n",
    "window_size = params['window_size']\n",
    "\n",
    "# Create the training samples\n",
    "train_ds = RoofImageDatasetPlanet(train_df[['geometry', 'code']], imdir, n_bands=n_bands, img_dim=window_size)\n",
    "train_loader = DataLoader(train_ds, batch_size=bs, num_workers=4, shuffle=True, pin_memory=True) \n",
    "\n",
    "# Create the validation samples\n",
    "val_ds = RoofImageDatasetPlanet(val_df[['geometry', 'code']], imdir, n_bands=n_bands, img_dim=window_size)\n",
    "val_loader = DataLoader(val_ds, batch_size=bs * 2, num_workers=2, shuffle=False, pin_memory=True)\n",
    "\n",
    "# Create the test samples\n",
    "test_ds = RoofImageDatasetPlanet(test_df[['geometry', 'code']], imdir, n_bands=n_bands, img_dim=window_size)\n",
    "test_loader = DataLoader(test_ds, batch_size=bs * 2, num_workers=2, shuffle=False, pin_memory=True)\n",
    "\n",
    "print(\"Training and validation data loaded!\")"
   ]
  },
  {
   "cell_type": "code",
   "execution_count": null,
   "id": "a3ceaf4a-05c9-401c-8d7a-2ebd3feff98b",
   "metadata": {},
   "outputs": [],
   "source": []
  },
  {
   "cell_type": "code",
   "execution_count": 23,
   "id": "5d575af0-fe24-43f0-96b7-467d5475c762",
   "metadata": {},
   "outputs": [
    {
     "name": "stdout",
     "output_type": "stream",
     "text": [
      "Total samples: 16575;\n",
      "Value counts: [4698, 4698, 4698, 767, 691, 554, 469]\n",
      "Class weights: tensor([ 3.5281,  3.5281,  3.5281, 21.6102, 23.9870, 29.9188, 35.3412],\n",
      "       device='cuda:0')\n",
      "Normalized class weights: tensor([0.0291, 0.0291, 0.0291, 0.1779, 0.1975, 0.2464, 0.2910],\n",
      "       device='cuda:0')\n"
     ]
    }
   ],
   "source": [
    "# Number of samples in each class\n",
    "val_counts = list(train_df['code'].value_counts())\n",
    "total_samples = sum(val_counts) # total number of samples\n",
    "print(f'Total samples: {total_samples};\\nValue counts: {val_counts}')\n",
    "\n",
    "# Calculate class weights\n",
    "class_weights = [total_samples / count for count in val_counts]\n",
    "class_weights = torch.tensor(class_weights, dtype=torch.float).to(device)\n",
    "print(f\"Class weights: {class_weights}\")\n",
    "\n",
    "class_weights_norm = class_weights / class_weights.sum()\n",
    "print(f\"Normalized class weights: {class_weights_norm}\")\n",
    "\n",
    "# Updated loss function with weights\n",
    "criterion = nn.CrossEntropyLoss(weight=class_weights_norm).to(device)"
   ]
  },
  {
   "cell_type": "code",
   "execution_count": null,
   "id": "bbd437b1-ec50-480f-8952-f0852ec41bce",
   "metadata": {},
   "outputs": [],
   "source": []
  },
  {
   "cell_type": "code",
   "execution_count": 24,
   "id": "95d9c1a4-3107-4970-816e-c9a122ddeaa8",
   "metadata": {},
   "outputs": [
    {
     "data": {
      "text/plain": [
       "0"
      ]
     },
     "execution_count": 24,
     "metadata": {},
     "output_type": "execute_result"
    }
   ],
   "source": [
    "gc.collect()"
   ]
  },
  {
   "cell_type": "code",
   "execution_count": 26,
   "id": "2350d162-f79d-48fd-a362-34c4982aefba",
   "metadata": {},
   "outputs": [
    {
     "name": "stdout",
     "output_type": "stream",
     "text": [
      "Epoch [1]. Current learning rate: 0.001\n",
      "\ttrain progress: [0/16575] (0.00)%\n",
      "\tbatch train loss: 1.5581;\tcumulative batch: 130\n",
      "\ttrain progress: [4096/16575] (24.62)%\n",
      "\tbatch train loss: 1.3719;\tcumulative batch: 162\n",
      "\ttrain progress: [8192/16575] (49.23)%\n",
      "\tbatch train loss: 1.7002;\tcumulative batch: 194\n",
      "\ttrain progress: [12288/16575] (73.85)%\n",
      "\tbatch train loss: 1.4232;\tcumulative batch: 226\n",
      "\ttrain progress: [16384/16575] (98.46)%\n",
      "\tbatch train loss: 1.4418;\tcumulative batch: 258\n",
      "\n",
      "Epoch [1] completed.\n",
      "\ttrain loss: 1.4668111957036531; validation loss = 1.4323\n",
      "\tAccuracy (validation): [4195/8839] (47.4601)%;\n",
      "\tF1-score (validation): 0.5102\n",
      "Time to complete epoch [1]: 3.54 minutes.\n",
      "\n",
      "~~~~~~~~~~\n",
      "\n",
      "Epoch [2]. Current learning rate: 0.001\n",
      "\ttrain progress: [0/16575] (0.00)%\n",
      "\tbatch train loss: 1.2999;\tcumulative batch: 260\n",
      "\ttrain progress: [4096/16575] (24.62)%\n",
      "\tbatch train loss: 1.4125;\tcumulative batch: 292\n",
      "\ttrain progress: [8192/16575] (49.23)%\n",
      "\tbatch train loss: 1.4854;\tcumulative batch: 324\n",
      "\ttrain progress: [12288/16575] (73.85)%\n",
      "\tbatch train loss: 1.3174;\tcumulative batch: 356\n",
      "\ttrain progress: [16384/16575] (98.46)%\n",
      "\tbatch train loss: 1.5412;\tcumulative batch: 388\n",
      "\n",
      "Epoch [2] completed.\n",
      "\ttrain loss: 1.407534131178489; validation loss = 1.4001\n",
      "\tAccuracy (validation): [4099/8839] (46.3740)%;\n",
      "\tF1-score (validation): 0.4791\n",
      "Time to complete epoch [2]: 3.45 minutes.\n",
      "\n",
      "~~~~~~~~~~\n",
      "\n",
      "Epoch [3]. Current learning rate: 0.001\n",
      "\ttrain progress: [0/16575] (0.00)%\n",
      "\tbatch train loss: 1.2447;\tcumulative batch: 390\n",
      "\ttrain progress: [4096/16575] (24.62)%\n",
      "\tbatch train loss: 1.1924;\tcumulative batch: 422\n",
      "\ttrain progress: [8192/16575] (49.23)%\n",
      "\tbatch train loss: 1.2159;\tcumulative batch: 454\n",
      "\ttrain progress: [12288/16575] (73.85)%\n",
      "\tbatch train loss: 1.1722;\tcumulative batch: 486\n",
      "\ttrain progress: [16384/16575] (98.46)%\n",
      "\tbatch train loss: 1.2412;\tcumulative batch: 518\n",
      "\n",
      "Epoch [3] completed.\n",
      "\ttrain loss: 1.3493058687601334; validation loss = 1.4017\n",
      "\tAccuracy (validation): [4154/8839] (46.9963)%;\n",
      "\tF1-score (validation): 0.4970\n",
      "Time to complete epoch [3]: 3.33 minutes.\n",
      "\n",
      "~~~~~~~~~~\n",
      "\n",
      "Epoch [4]. Current learning rate: 0.001\n",
      "\ttrain progress: [0/16575] (0.00)%\n",
      "\tbatch train loss: 1.2380;\tcumulative batch: 520\n",
      "\ttrain progress: [4096/16575] (24.62)%\n",
      "\tbatch train loss: 1.0566;\tcumulative batch: 552\n",
      "\ttrain progress: [8192/16575] (49.23)%\n",
      "\tbatch train loss: 1.0742;\tcumulative batch: 584\n",
      "\ttrain progress: [12288/16575] (73.85)%\n",
      "\tbatch train loss: 0.9839;\tcumulative batch: 616\n",
      "\ttrain progress: [16384/16575] (98.46)%\n",
      "\tbatch train loss: 0.9622;\tcumulative batch: 648\n",
      "\n",
      "Epoch [4] completed.\n",
      "\ttrain loss: 1.2830047004497969; validation loss = 1.3525\n",
      "\tAccuracy (validation): [4357/8839] (49.2929)%;\n",
      "\tF1-score (validation): 0.5256\n",
      "Time to complete epoch [4]: 3.43 minutes.\n",
      "\n",
      "~~~~~~~~~~\n",
      "\n",
      "Epoch [5]. Current learning rate: 0.001\n",
      "\ttrain progress: [0/16575] (0.00)%\n",
      "\tbatch train loss: 1.0519;\tcumulative batch: 650\n",
      "\ttrain progress: [4096/16575] (24.62)%\n",
      "\tbatch train loss: 0.8709;\tcumulative batch: 682\n",
      "\ttrain progress: [8192/16575] (49.23)%\n",
      "\tbatch train loss: 0.8312;\tcumulative batch: 714\n",
      "\ttrain progress: [12288/16575] (73.85)%\n",
      "\tbatch train loss: 0.8459;\tcumulative batch: 746\n",
      "\ttrain progress: [16384/16575] (98.46)%\n",
      "\tbatch train loss: 0.7814;\tcumulative batch: 778\n",
      "\n",
      "Epoch [5] completed.\n",
      "\ttrain loss: 1.2066129642266494; validation loss = 1.2162\n",
      "\tAccuracy (validation): [4915/8839] (55.6058)%;\n",
      "\tF1-score (validation): 0.5738\n",
      "Time to complete epoch [5]: 3.28 minutes.\n",
      "\n",
      "~~~~~~~~~~\n",
      "\n",
      "Epoch [6]. Current learning rate: 0.001\n",
      "\ttrain progress: [0/16575] (0.00)%\n",
      "\tbatch train loss: 0.6992;\tcumulative batch: 780\n",
      "\ttrain progress: [4096/16575] (24.62)%\n",
      "\tbatch train loss: 0.7500;\tcumulative batch: 812\n",
      "\ttrain progress: [8192/16575] (49.23)%\n",
      "\tbatch train loss: 0.7022;\tcumulative batch: 844\n",
      "\ttrain progress: [12288/16575] (73.85)%\n",
      "\tbatch train loss: 0.5848;\tcumulative batch: 876\n",
      "\ttrain progress: [16384/16575] (98.46)%\n",
      "\tbatch train loss: 0.5802;\tcumulative batch: 908\n",
      "\n",
      "Epoch [6] completed.\n",
      "\ttrain loss: 1.1187407500468767; validation loss = 1.2547\n",
      "\tAccuracy (validation): [4702/8839] (53.1961)%;\n",
      "\tF1-score (validation): 0.5587\n",
      "Time to complete epoch [6]: 3.42 minutes.\n",
      "\n",
      "~~~~~~~~~~\n",
      "\n",
      "Epoch [7]. Current learning rate: 0.001\n",
      "\ttrain progress: [0/16575] (0.00)%\n",
      "\tbatch train loss: 0.6422;\tcumulative batch: 910\n",
      "\ttrain progress: [4096/16575] (24.62)%\n",
      "\tbatch train loss: 0.5188;\tcumulative batch: 942\n",
      "\ttrain progress: [8192/16575] (49.23)%\n",
      "\tbatch train loss: 0.6358;\tcumulative batch: 974\n",
      "\ttrain progress: [12288/16575] (73.85)%\n",
      "\tbatch train loss: 0.3789;\tcumulative batch: 1006\n",
      "\ttrain progress: [16384/16575] (98.46)%\n",
      "\tbatch train loss: 0.5351;\tcumulative batch: 1038\n",
      "\n",
      "Epoch [7] completed.\n",
      "\ttrain loss: 1.0305529722800622; validation loss = 1.1582\n",
      "\tAccuracy (validation): [5388/8839] (60.9571)%;\n",
      "\tF1-score (validation): 0.6115\n",
      "Time to complete epoch [7]: 3.35 minutes.\n",
      "\n",
      "~~~~~~~~~~\n",
      "\n",
      "Epoch [8]. Current learning rate: 0.001\n",
      "\ttrain progress: [0/16575] (0.00)%\n",
      "\tbatch train loss: 0.4126;\tcumulative batch: 1040\n",
      "\ttrain progress: [4096/16575] (24.62)%\n",
      "\tbatch train loss: 0.3546;\tcumulative batch: 1072\n",
      "\ttrain progress: [8192/16575] (49.23)%\n",
      "\tbatch train loss: 0.2919;\tcumulative batch: 1104\n",
      "\ttrain progress: [12288/16575] (73.85)%\n",
      "\tbatch train loss: 0.3237;\tcumulative batch: 1136\n",
      "\ttrain progress: [16384/16575] (98.46)%\n",
      "\tbatch train loss: 0.4599;\tcumulative batch: 1168\n",
      "\n",
      "Epoch [8] completed.\n",
      "\ttrain loss: 0.9486377901326005; validation loss = 1.1577\n",
      "\tAccuracy (validation): [5549/8839] (62.7786)%;\n",
      "\tF1-score (validation): 0.6180\n",
      "Time to complete epoch [8]: 3.30 minutes.\n",
      "\n",
      "~~~~~~~~~~\n",
      "\n",
      "Epoch [9]. Current learning rate: 0.001\n",
      "\ttrain progress: [0/16575] (0.00)%\n",
      "\tbatch train loss: 0.3467;\tcumulative batch: 1170\n",
      "\ttrain progress: [4096/16575] (24.62)%\n",
      "\tbatch train loss: 0.2121;\tcumulative batch: 1202\n",
      "\ttrain progress: [8192/16575] (49.23)%\n",
      "\tbatch train loss: 0.3559;\tcumulative batch: 1234\n",
      "\ttrain progress: [12288/16575] (73.85)%\n",
      "\tbatch train loss: 0.3482;\tcumulative batch: 1266\n",
      "\ttrain progress: [16384/16575] (98.46)%\n",
      "\tbatch train loss: 0.2622;\tcumulative batch: 1298\n",
      "\n",
      "Epoch [9] completed.\n",
      "\ttrain loss: 0.8774900187411879; validation loss = 1.1632\n",
      "\tAccuracy (validation): [5645/8839] (63.8647)%;\n",
      "\tF1-score (validation): 0.6298\n",
      "Time to complete epoch [9]: 3.19 minutes.\n",
      "\n",
      "~~~~~~~~~~\n",
      "\n",
      "Epoch [10]. Current learning rate: 0.001\n",
      "\ttrain progress: [0/16575] (0.00)%\n",
      "\tbatch train loss: 0.3153;\tcumulative batch: 1300\n",
      "\ttrain progress: [4096/16575] (24.62)%\n",
      "\tbatch train loss: 0.3314;\tcumulative batch: 1332\n",
      "\ttrain progress: [8192/16575] (49.23)%\n",
      "\tbatch train loss: 0.2856;\tcumulative batch: 1364\n",
      "\ttrain progress: [12288/16575] (73.85)%\n",
      "\tbatch train loss: 0.3327;\tcumulative batch: 1396\n",
      "\ttrain progress: [16384/16575] (98.46)%\n",
      "\tbatch train loss: 0.2587;\tcumulative batch: 1428\n",
      "\n",
      "Epoch [10] completed.\n",
      "\ttrain loss: 0.8161707800970628; validation loss = 1.2074\n",
      "\tAccuracy (validation): [5533/8839] (62.5976)%;\n",
      "\tF1-score (validation): 0.6173\n",
      "Time to complete epoch [10]: 3.25 minutes.\n",
      "\n",
      "~~~~~~~~~~\n",
      "\n",
      "Epoch [11]. Current learning rate: 0.001\n",
      "\ttrain progress: [0/16575] (0.00)%\n",
      "\tbatch train loss: 0.2591;\tcumulative batch: 1430\n",
      "\ttrain progress: [4096/16575] (24.62)%\n",
      "\tbatch train loss: 0.2480;\tcumulative batch: 1462\n",
      "\ttrain progress: [8192/16575] (49.23)%\n",
      "\tbatch train loss: 0.1941;\tcumulative batch: 1494\n",
      "\ttrain progress: [12288/16575] (73.85)%\n",
      "\tbatch train loss: 0.2566;\tcumulative batch: 1526\n",
      "\ttrain progress: [16384/16575] (98.46)%\n",
      "\tbatch train loss: 0.1927;\tcumulative batch: 1558\n",
      "\n",
      "Epoch [11] completed.\n",
      "\ttrain loss: 0.7619776019579048; validation loss = 1.2442\n",
      "\tAccuracy (validation): [5594/8839] (63.2877)%;\n",
      "\tF1-score (validation): 0.6237\n",
      "Time to complete epoch [11]: 3.44 minutes.\n",
      "\n",
      "~~~~~~~~~~\n",
      "\n",
      "Epoch [12]. Current learning rate: 0.001\n",
      "\ttrain progress: [0/16575] (0.00)%\n",
      "\tbatch train loss: 0.2171;\tcumulative batch: 1560\n",
      "\ttrain progress: [4096/16575] (24.62)%\n",
      "\tbatch train loss: 0.1863;\tcumulative batch: 1592\n",
      "\ttrain progress: [8192/16575] (49.23)%\n",
      "\tbatch train loss: 0.1360;\tcumulative batch: 1624\n",
      "\ttrain progress: [12288/16575] (73.85)%\n",
      "\tbatch train loss: 0.2690;\tcumulative batch: 1656\n",
      "\ttrain progress: [16384/16575] (98.46)%\n",
      "\tbatch train loss: 0.1383;\tcumulative batch: 1688\n",
      "\n",
      "Epoch [12] completed.\n",
      "\ttrain loss: 0.7140165272956858; validation loss = 1.2852\n",
      "\tAccuracy (validation): [5590/8839] (63.2424)%;\n",
      "\tF1-score (validation): 0.6213\n",
      "Time to complete epoch [12]: 3.40 minutes.\n",
      "\n",
      "~~~~~~~~~~\n",
      "\n",
      "Epoch [13]. Current learning rate: 0.001\n",
      "\ttrain progress: [0/16575] (0.00)%\n",
      "\tbatch train loss: 0.1260;\tcumulative batch: 1690\n",
      "\ttrain progress: [4096/16575] (24.62)%\n",
      "\tbatch train loss: 0.1572;\tcumulative batch: 1722\n",
      "\ttrain progress: [8192/16575] (49.23)%\n",
      "\tbatch train loss: 0.2036;\tcumulative batch: 1754\n",
      "\ttrain progress: [12288/16575] (73.85)%\n",
      "\tbatch train loss: 0.1942;\tcumulative batch: 1786\n",
      "\ttrain progress: [16384/16575] (98.46)%\n",
      "\tbatch train loss: 0.1454;\tcumulative batch: 1818\n",
      "\n",
      "Epoch [13] completed.\n",
      "\ttrain loss: 0.671123763156184; validation loss = 1.3020\n",
      "\tAccuracy (validation): [5724/8839] (64.7585)%;\n",
      "\tF1-score (validation): 0.6326\n",
      "Time to complete epoch [13]: 3.45 minutes.\n",
      "\n",
      "~~~~~~~~~~\n",
      "\n",
      "Epoch [14]. Current learning rate: 0.001\n",
      "\ttrain progress: [0/16575] (0.00)%\n",
      "\tbatch train loss: 0.1251;\tcumulative batch: 1820\n",
      "\ttrain progress: [4096/16575] (24.62)%\n",
      "\tbatch train loss: 0.1792;\tcumulative batch: 1852\n",
      "\ttrain progress: [8192/16575] (49.23)%\n",
      "\tbatch train loss: 0.1588;\tcumulative batch: 1884\n",
      "\ttrain progress: [12288/16575] (73.85)%\n",
      "\tbatch train loss: 0.1636;\tcumulative batch: 1916\n",
      "\ttrain progress: [16384/16575] (98.46)%\n",
      "\tbatch train loss: 0.1263;\tcumulative batch: 1948\n",
      "\n",
      "Epoch [14] completed.\n",
      "\ttrain loss: 0.6324286236540302; validation loss = 1.3530\n",
      "\tAccuracy (validation): [5648/8839] (63.8986)%;\n",
      "\tF1-score (validation): 0.6256\n",
      "! LR-Scheduler [ReduceLROnPlateau] adjustment: 0.0001 !\n",
      "Time to complete epoch [14]: 3.36 minutes.\n",
      "\n",
      "~~~~~~~~~~\n",
      "\n",
      "Epoch [15]. Current learning rate: 0.0001\n",
      "\ttrain progress: [0/16575] (0.00)%\n",
      "\tbatch train loss: 0.0972;\tcumulative batch: 1950\n",
      "\ttrain progress: [4096/16575] (24.62)%\n",
      "\tbatch train loss: 0.0915;\tcumulative batch: 1982\n",
      "\ttrain progress: [8192/16575] (49.23)%\n",
      "\tbatch train loss: 0.1178;\tcumulative batch: 2014\n",
      "\ttrain progress: [12288/16575] (73.85)%\n",
      "\tbatch train loss: 0.0691;\tcumulative batch: 2046\n",
      "\ttrain progress: [16384/16575] (98.46)%\n",
      "\tbatch train loss: 0.0897;\tcumulative batch: 2078\n",
      "\n",
      "Epoch [15] completed.\n",
      "\ttrain loss: 0.59693317837249; validation loss = 1.3385\n",
      "\tAccuracy (validation): [5680/8839] (64.2607)%;\n",
      "\tF1-score (validation): 0.6283\n",
      "Time to complete epoch [15]: 3.38 minutes.\n",
      "\n",
      "~~~~~~~~~~\n",
      "\n",
      "Epoch [16]. Current learning rate: 0.0001\n",
      "\ttrain progress: [0/16575] (0.00)%\n",
      "\tbatch train loss: 0.1290;\tcumulative batch: 2080\n",
      "\ttrain progress: [4096/16575] (24.62)%\n",
      "\tbatch train loss: 0.1005;\tcumulative batch: 2112\n",
      "\ttrain progress: [8192/16575] (49.23)%\n",
      "\tbatch train loss: 0.0681;\tcumulative batch: 2144\n",
      "\ttrain progress: [12288/16575] (73.85)%\n",
      "\tbatch train loss: 0.1371;\tcumulative batch: 2176\n",
      "\ttrain progress: [16384/16575] (98.46)%\n",
      "\tbatch train loss: 0.0861;\tcumulative batch: 2208\n",
      "\n",
      "Epoch [16] completed.\n",
      "\ttrain loss: 0.565553998395514; validation loss = 1.3461\n",
      "\tAccuracy (validation): [5690/8839] (64.3738)%;\n",
      "\tF1-score (validation): 0.6285\n",
      "Time to complete epoch [16]: 3.25 minutes.\n",
      "\n",
      "~~~~~~~~~~\n",
      "\n",
      "Epoch [17]. Current learning rate: 0.0001\n",
      "\ttrain progress: [0/16575] (0.00)%\n",
      "\tbatch train loss: 0.0772;\tcumulative batch: 2210\n",
      "\ttrain progress: [4096/16575] (24.62)%\n",
      "\tbatch train loss: 0.0876;\tcumulative batch: 2242\n",
      "\ttrain progress: [8192/16575] (49.23)%\n",
      "\tbatch train loss: 0.0813;\tcumulative batch: 2274\n",
      "\ttrain progress: [12288/16575] (73.85)%\n",
      "\tbatch train loss: 0.1154;\tcumulative batch: 2306\n",
      "\ttrain progress: [16384/16575] (98.46)%\n",
      "\tbatch train loss: 0.0882;\tcumulative batch: 2338\n",
      "\n",
      "Epoch [17] completed.\n",
      "\ttrain loss: 0.5376989648521486; validation loss = 1.3544\n",
      "\tAccuracy (validation): [5671/8839] (64.1588)%;\n",
      "\tF1-score (validation): 0.6281\n",
      "Time to complete epoch [17]: 3.45 minutes.\n",
      "\n",
      "~~~~~~~~~~\n",
      "\n",
      "Epoch [18]. Current learning rate: 0.0001\n",
      "\ttrain progress: [0/16575] (0.00)%\n",
      "\tbatch train loss: 0.0947;\tcumulative batch: 2340\n",
      "\ttrain progress: [4096/16575] (24.62)%\n",
      "\tbatch train loss: 0.0775;\tcumulative batch: 2372\n",
      "\ttrain progress: [8192/16575] (49.23)%\n",
      "\tbatch train loss: 0.0688;\tcumulative batch: 2404\n",
      "\ttrain progress: [12288/16575] (73.85)%\n",
      "\tbatch train loss: 0.0829;\tcumulative batch: 2436\n",
      "\ttrain progress: [16384/16575] (98.46)%\n",
      "\tbatch train loss: 0.0846;\tcumulative batch: 2468\n",
      "\n",
      "Epoch [18] completed.\n",
      "\ttrain loss: 0.512686162830418; validation loss = 1.3583\n",
      "\tAccuracy (validation): [5664/8839] (64.0796)%;\n",
      "\tF1-score (validation): 0.6255\n",
      "Time to complete epoch [18]: 3.23 minutes.\n",
      "\n",
      "~~~~~~~~~~\n",
      "\n",
      "Epoch [19]. Current learning rate: 0.0001\n",
      "\ttrain progress: [0/16575] (0.00)%\n",
      "\tbatch train loss: 0.0762;\tcumulative batch: 2470\n",
      "\ttrain progress: [4096/16575] (24.62)%\n",
      "\tbatch train loss: 0.1078;\tcumulative batch: 2502\n",
      "\ttrain progress: [8192/16575] (49.23)%\n",
      "\tbatch train loss: 0.0796;\tcumulative batch: 2534\n",
      "\ttrain progress: [12288/16575] (73.85)%\n",
      "\tbatch train loss: 0.0804;\tcumulative batch: 2566\n",
      "\ttrain progress: [16384/16575] (98.46)%\n",
      "\tbatch train loss: 0.0898;\tcumulative batch: 2598\n",
      "\n",
      "Epoch [19] completed.\n",
      "\ttrain loss: 0.4901734468018116; validation loss = 1.3647\n",
      "\tAccuracy (validation): [5683/8839] (64.2946)%;\n",
      "\tF1-score (validation): 0.6282\n",
      "Time to complete epoch [19]: 3.39 minutes.\n",
      "\n",
      "~~~~~~~~~~\n",
      "\n",
      "Epoch [20]. Current learning rate: 0.0001\n",
      "\ttrain progress: [0/16575] (0.00)%\n",
      "\tbatch train loss: 0.0644;\tcumulative batch: 2600\n",
      "\ttrain progress: [4096/16575] (24.62)%\n",
      "\tbatch train loss: 0.1072;\tcumulative batch: 2632\n",
      "\ttrain progress: [8192/16575] (49.23)%\n",
      "\tbatch train loss: 0.0689;\tcumulative batch: 2664\n",
      "\ttrain progress: [12288/16575] (73.85)%\n",
      "\tbatch train loss: 0.1065;\tcumulative batch: 2696\n",
      "\ttrain progress: [16384/16575] (98.46)%\n",
      "\tbatch train loss: 0.0824;\tcumulative batch: 2728\n",
      "\n",
      "Epoch [20] completed.\n",
      "\ttrain loss: 0.4699223537284594; validation loss = 1.3647\n",
      "\tAccuracy (validation): [5669/8839] (64.1362)%;\n",
      "\tF1-score (validation): 0.6268\n",
      "! LR-Scheduler [ReduceLROnPlateau] adjustment: 1e-05 !\n",
      "Time to complete epoch [20]: 3.46 minutes.\n",
      "\n",
      "~~~~~~~~~~\n",
      "\n",
      "Epoch [21]. Current learning rate: 1e-05\n",
      "\ttrain progress: [0/16575] (0.00)%\n",
      "\tbatch train loss: 0.1102;\tcumulative batch: 2730\n",
      "\ttrain progress: [4096/16575] (24.62)%\n",
      "\tbatch train loss: 0.0577;\tcumulative batch: 2762\n",
      "\ttrain progress: [8192/16575] (49.23)%\n",
      "\tbatch train loss: 0.0879;\tcumulative batch: 2794\n",
      "\ttrain progress: [12288/16575] (73.85)%\n",
      "\tbatch train loss: 0.0720;\tcumulative batch: 2826\n",
      "\ttrain progress: [16384/16575] (98.46)%\n",
      "\tbatch train loss: 0.1577;\tcumulative batch: 2858\n",
      "\n",
      "Epoch [21] completed.\n",
      "\ttrain loss: 0.4513897259265949; validation loss = 1.3652\n",
      "\tAccuracy (validation): [5656/8839] (63.9891)%;\n",
      "\tF1-score (validation): 0.6254\n",
      "Time to complete epoch [21]: 3.27 minutes.\n",
      "\n",
      "~~~~~~~~~~\n",
      "\n",
      "Total elapsed time: 70.69 minutes.\n"
     ]
    }
   ],
   "source": [
    "t0 = time.time()\n",
    "\n",
    "print_freq = int(len(train_loader) // 4) # quarterly print statements\n",
    "\n",
    "# Initialize lists to track the losses for each epoch\n",
    "train_losses = [] # stores epoch train losses (average)\n",
    "val_losses = [] # stores epoch validation losses (average)\n",
    "batch_train_losses= [] # all batch train losses\n",
    "batch_val_losses = [] # all batch val losses\n",
    "\n",
    "num_epochs = 22 # adjust as needed\n",
    "for epoch in range(1, num_epochs):\n",
    "    t00 = time.time() # epoch start time\n",
    "\n",
    "    # The current learning rate:\n",
    "    current_lr = optimizer.param_groups[0]['lr']\n",
    "    print(f\"Epoch [{epoch}]. Current learning rate: {current_lr}\")\n",
    "\n",
    "    # Training loop\n",
    "    model.train()\n",
    "\n",
    "    epoch_train_losses = [] # to store the loss/batch\n",
    "    \n",
    "    for idx, batch in enumerate(train_loader):\n",
    "        # Ensure a good batch\n",
    "        batch = make_good_batch(batch)\n",
    "        \n",
    "        # Extract samples (image chunk, target label)\n",
    "        image, target = batch['image'].to(device), batch['code'].to(device)\n",
    "\n",
    "        optimizer.zero_grad() # reset the gradient\n",
    "\n",
    "        # Use mixed precision\n",
    "        with torch.cuda.amp.autocast():\n",
    "            output = model(image.float())\n",
    "            loss = criterion(output, target.long())\n",
    "\n",
    "        scaler.scale(loss).backward()  # Mixed precision backward pass\n",
    "        scaler.step(optimizer)  # Optimizer step\n",
    "        scaler.update()\n",
    "\n",
    "        # Print the train progress % and current loss\n",
    "        if idx % print_freq == 0:\n",
    "            print(f'\\ttrain progress: [{idx * len(image)}/{len(train_loader.dataset)}] ({(100. * idx / len(train_loader)):.2f})%')\n",
    "            print(f'\\tbatch train loss: {loss.item():.4f};\\tcumulative batch: {len(train_loader) * epoch + idx}')\n",
    "        \n",
    "        epoch_train_losses.append((idx, loss.item())) # append to epoch batch losses list\n",
    "        batch_train_losses.append((idx, loss.item())) # track all batch losses\n",
    "\n",
    "        del image, target, batch, output, loss\n",
    "                \n",
    "    # average loss for the epoch (across batches)\n",
    "    train_loss = np.array(batch_train_losses)[:,1].mean()\n",
    "    train_losses.append(train_loss)\n",
    "    \n",
    "    # validation loss\n",
    "    model.eval()\n",
    "    \n",
    "    val_loss = 0\n",
    "    correct = 0\n",
    "    all_labs = []\n",
    "    all_preds = []\n",
    "    \n",
    "    with torch.no_grad():\n",
    "        for idx, batch in enumerate(val_loader):\n",
    "            # Ensure a good batch\n",
    "            batch = make_good_batch(batch) \n",
    "            \n",
    "            # Extract samples\n",
    "            image, target = batch['image'].to(device), batch['code'].to(device)\n",
    "            output = model(image.float())\n",
    "\n",
    "            # Get validation loss and predictions\n",
    "            val_loss += criterion(output, target).item()\n",
    "            predicted = output.argmax(dim=1, keepdim=True)  # get the index of the max log-probability\n",
    "            correct += predicted.eq(target.view_as(predicted)).sum().item() # Number of correct\n",
    "            \n",
    "            # Store the labels\n",
    "            all_labs.extend(target.cpu().numpy())\n",
    "            all_preds.extend(predicted.cpu().numpy())\n",
    "\n",
    "            batch_val_losses.append(val_loss) # store the batch val losses (all)\n",
    "\n",
    "            del image, target, batch, output\n",
    "            \n",
    "        val_loss /= len(val_loader.dataset)/val_loader.batch_size\n",
    "        val_losses.append(val_loss)\n",
    "    \n",
    "    print(f\"\\nEpoch [{epoch}] completed.\")\n",
    "    print(f'\\ttrain loss: {train_loss}; validation loss = {val_loss:.4f}')\n",
    "\n",
    "    acc = 100. * correct / len(val_loader.dataset)\n",
    "    f1 = f1_score(all_labs, all_preds, average=\"weighted\")\n",
    "    print(f'\\tAccuracy (validation): [{correct}/{len(val_loader.dataset)}] ({acc:.4f})%;\\n\\tF1-score (validation): {f1:.4f}')\n",
    "\n",
    "    # Adjust the learning rate based on the validation loss\n",
    "    lr_scheduler.step(val_loss)\n",
    "    if optimizer.param_groups[0]['lr'] != current_lr:\n",
    "        print(f\"! LR-Scheduler [ReduceLROnPlateau] adjustment: {optimizer.param_groups[0]['lr']} !\")\n",
    "     \n",
    "    t1 = (time.time() - t00) / 60\n",
    "    print(f\"Time to complete epoch [{epoch}]: {t1:.2f} minutes.\")\n",
    "    print(\"\\n~~~~~~~~~~\\n\")\n",
    "\n",
    "    # # (optional) Implement early stopping based on 'patience'\n",
    "    # if val_loss < best_val_loss:\n",
    "    #     best_val_loss = val_loss\n",
    "    #     counter = 0  # Reset counter if we see an improvement\n",
    "    # else:\n",
    "    #     counter += 1  # Increment counter if no improvement after learning rate adjustment\n",
    "    #     if counter >= params['patience'] + 2:\n",
    "    #         print(f\"Early stopping after [{epoch}] epochs.\")\n",
    "    #         break\n",
    "    \n",
    "    gc.collect() # do a garbage cleanup\n",
    "    torch.cuda.empty_cache()\n",
    "    \n",
    "t2 = (time.time() - t0) / 60\n",
    "print(f\"Total elapsed time: {t2:.2f} minutes.\")"
   ]
  },
  {
   "cell_type": "code",
   "execution_count": null,
   "id": "575d0fc8-11b3-4ae8-9771-2ce256d4dc55",
   "metadata": {},
   "outputs": [],
   "source": []
  },
  {
   "cell_type": "code",
   "execution_count": null,
   "id": "ad061561-38d0-428b-80f2-8a07c8fc7f96",
   "metadata": {},
   "outputs": [],
   "source": []
  },
  {
   "cell_type": "code",
   "execution_count": 30,
   "id": "b0a5366e-7979-4602-bde3-05c216c3d6d1",
   "metadata": {},
   "outputs": [
    {
     "data": {
      "text/plain": [
       "[<matplotlib.lines.Line2D at 0x7307b8f32d00>]"
      ]
     },
     "execution_count": 30,
     "metadata": {},
     "output_type": "execute_result"
    },
    {
     "data": {
      "image/png": "[encoded data removed]",
      "text/plain": [
       "<Figure size 640x480 with 1 Axes>"
      ]
     },
     "metadata": {},
     "output_type": "display_data"
    }
   ],
   "source": [
    "# Plot the model loss function\n",
    "plt.plot(np.array(batch_train_losses)[:,1])"
   ]
  },
  {
   "cell_type": "code",
   "execution_count": 31,
   "id": "5270f143-d978-48dd-b467-d05bd7cb0c87",
   "metadata": {},
   "outputs": [
    {
     "data": {
      "image/png": "[encoded data removed]",
      "text/plain": [
       "<Figure size 640x480 with 1 Axes>"
      ]
     },
     "metadata": {},
     "output_type": "display_data"
    }
   ],
   "source": [
    "# Epoch training loss\n",
    "plt.plot(train_losses, label='epoch training loss')\n",
    "plt.plot(val_losses, label='epoch validation loss')\n",
    "plt.legend()\n",
    "plt.show()"
   ]
  },
  {
   "cell_type": "code",
   "execution_count": 32,
   "id": "7242b8aa-59fd-4eef-98e4-762e40b4740e",
   "metadata": {},
   "outputs": [
    {
     "data": {
      "text/plain": [
       "'/home/jovyan/opp-rooftop-mapping/code'"
      ]
     },
     "execution_count": 32,
     "metadata": {},
     "output_type": "execute_result"
    }
   ],
   "source": [
    "os.getcwd()"
   ]
  },
  {
   "cell_type": "code",
   "execution_count": 35,
   "id": "134768f5-2fa4-4f3e-ba77-ada188abbd95",
   "metadata": {},
   "outputs": [],
   "source": [
    "# Save the model\n",
    "\n",
    "# results directory\n",
    "save_dir = os.path.join(homedir,'results/resnet18/')\n",
    "roi = 'dc'\n",
    "\n",
    "save_res = True\n",
    "if save_res:\n",
    "\n",
    "    if not os.path.exists(save_dir):\n",
    "        os.makedirs(save_dir)\n",
    "\n",
    "    # save the model\n",
    "    step = len(train_losses)\n",
    "    model_path = f\"{roi}_planet_ms_ws{params['window_size']}_bs{params['batch_size']}_lr{params['learning_rate']}_ep{num_epochs}_step{step}.pt\"\n",
    "    model_path = os.path.join(save_dir, model_path)\n",
    "    save = lambda ep: torch.save({\n",
    "            'model': model.state_dict(),\n",
    "            'epoch': epoch,\n",
    "            'step': step,\n",
    "        }, str(model_path))\n",
    "\n",
    "    save(model_path)"
   ]
  },
  {
   "cell_type": "code",
   "execution_count": 36,
   "id": "4d73166d-02a0-4a12-a988-9149467ff2b7",
   "metadata": {},
   "outputs": [],
   "source": [
    "np.savetxt(os.path.join(save_dir, 'losses_ep{}_step{}_b{}.txt'.format(num_epochs, step, bs)), np.array(batch_train_losses))\n",
    "np.savetxt(os.path.join(save_dir, 'epoch_loss_ep{}_step{}_b{}.txt'.format(num_epochs, step, bs)), np.array(train_losses))\n",
    "np.savetxt(os.path.join(save_dir, 'val_losses_ep{}_step{}_b{}.txt'.format(num_epochs, step, bs)), np.array(val_losses))"
   ]
  },
  {
   "cell_type": "code",
   "execution_count": 37,
   "id": "e554d2e0-c1e1-4a85-b09e-990a82f7df59",
   "metadata": {},
   "outputs": [
    {
     "name": "stdout",
     "output_type": "stream",
     "text": [
      "Processed 0 samples...\n",
      "Processed 100 samples...\n",
      "Processed 200 samples...\n",
      "Processed 300 samples...\n",
      "Processed 400 samples...\n",
      "Processed 500 samples...\n",
      "Processed 600 samples...\n",
      "Processed 700 samples...\n",
      "Processed 800 samples...\n",
      "Processed 900 samples...\n",
      "Processed 1000 samples...\n",
      "Processed 1100 samples...\n",
      "Processed 1200 samples...\n",
      "Processed 1300 samples...\n",
      "Processed 1400 samples...\n",
      "Processed 1500 samples...\n",
      "Processed 1600 samples...\n",
      "Processed 1700 samples...\n",
      "Processed 1800 samples...\n",
      "Processed 1900 samples...\n",
      "Processed 2000 samples...\n",
      "Processed 2100 samples...\n",
      "Processed 2200 samples...\n"
     ]
    }
   ],
   "source": [
    "import gc\n",
    "\n",
    "def get_prediction(m, s):\n",
    "    s = s.to(device)  # Ensure the sample is moved to the correct device\n",
    "    res = m(s)\n",
    "    return res\n",
    "\n",
    "true_labels = []\n",
    "pred_labels = []\n",
    "\n",
    "model.eval()  # Set model to evaluation mode\n",
    "\n",
    "for idx, sample in enumerate(test_ds):\n",
    "    try:\n",
    "        if sample['code'] != 255:\n",
    "            # Append true labels\n",
    "            true_labels.append(sample['code'].item())  # Convert tensor to Python scalar\n",
    "                        \n",
    "            # Get prediction and append\n",
    "            pred = get_prediction(model, sample['image'][None, ...].float().to(device))  # Ensure tensor is float and on the correct device\n",
    "            pred_labels.append(pred.argmax().item())  # Convert tensor to Python scalar\n",
    "            \n",
    "        else:\n",
    "            print(f'sample {idx} of {len(test_ds)} had class label 255, skipping...')\n",
    "        \n",
    "        if idx % 100 == 0:\n",
    "            time.sleep(0.3)\n",
    "            gc.collect()\n",
    "            print(f'Processed {idx} samples...')\n",
    "        \n",
    "    except Exception as e:\n",
    "        print(f'Error at sample {idx}: {e}, continuing...')"
   ]
  },
  {
   "cell_type": "code",
   "execution_count": 38,
   "id": "51dba4d1-565e-4e0a-ad67-0eaa092ff625",
   "metadata": {},
   "outputs": [
    {
     "name": "stdout",
     "output_type": "stream",
     "text": [
      "{0: 0, 1: 1, 2: 2, 3: 3, 4: 4, 5: 5, 6: 6}\n",
      "[0, 1, 2, 3, 4, 5, 6]\n"
     ]
    }
   ],
   "source": [
    "# Ensure 'class_code' is of categorical dtype\n",
    "test_df['code'] = test_df['code'].astype('category')\n",
    "\n",
    "# Create the dictionary mapping\n",
    "cat_dict = dict(enumerate(test_df['code'].cat.categories))\n",
    "print(cat_dict)\n",
    "\n",
    "# Filter the class codes present in the test set\n",
    "class_codes_numbers = [k for k in cat_dict.keys() if cat_dict[k] in test_df['code'].unique().tolist()]\n",
    "\n",
    "cor_labels = [cat_dict[c] for c in class_codes_numbers]\n",
    "print(cor_labels)"
   ]
  },
  {
   "cell_type": "code",
   "execution_count": 40,
   "id": "abb19cec-362a-4f0c-85c1-510cd791d5b2",
   "metadata": {},
   "outputs": [
    {
     "data": {
      "text/plain": [
       "(array([708., 680.,   0., 651.,   0.,  93.,  34.,   0.,  38.,  10.]),\n",
       " array([0. , 0.6, 1.2, 1.8, 2.4, 3. , 3.6, 4.2, 4.8, 5.4, 6. ]),\n",
       " <BarContainer object of 10 artists>)"
      ]
     },
     "execution_count": 40,
     "metadata": {},
     "output_type": "execute_result"
    },
    {
     "data": {
      "image/png": "[encoded data removed]",
      "text/plain": [
       "<Figure size 640x480 with 1 Axes>"
      ]
     },
     "metadata": {},
     "output_type": "display_data"
    }
   ],
   "source": [
    "plt.hist(pred_labels)"
   ]
  },
  {
   "cell_type": "code",
   "execution_count": 41,
   "id": "b00bbb05-a44c-46c5-8e19-c3772b90bc78",
   "metadata": {},
   "outputs": [
    {
     "data": {
      "text/plain": [
       "11189511"
      ]
     },
     "execution_count": 41,
     "metadata": {},
     "output_type": "execute_result"
    }
   ],
   "source": [
    "sum(p.numel() for p in model.parameters() if p.requires_grad) # number of trainable model parameters"
   ]
  },
  {
   "cell_type": "code",
   "execution_count": 42,
   "id": "27edc2c6-16d6-470a-aa54-ba97d9812f3a",
   "metadata": {},
   "outputs": [
    {
     "name": "stdout",
     "output_type": "stream",
     "text": [
      "              precision    recall  f1-score      support\n",
      "0              0.612994  0.692185  0.650187   627.000000\n",
      "1              0.747059  0.810207  0.777353   627.000000\n",
      "2              0.608295  0.631579  0.619718   627.000000\n",
      "3              0.505376  0.456311  0.479592   103.000000\n",
      "4              0.411765  0.189189  0.259259    74.000000\n",
      "5              0.578947  0.236559  0.335878    93.000000\n",
      "6              0.100000  0.015873  0.027397    63.000000\n",
      "accuracy       0.642276  0.642276  0.642276     0.642276\n",
      "macro avg      0.509205  0.433129  0.449912  2214.000000\n",
      "weighted avg   0.621870  0.642276  0.625644  2214.000000\n"
     ]
    }
   ],
   "source": [
    "# Generate the classification report\n",
    "cr_df = pd.DataFrame(classification_report(true_labels, pred_labels, target_names=cor_labels, output_dict=True)).transpose()\n",
    "print(cr_df)"
   ]
  },
  {
   "cell_type": "code",
   "execution_count": 44,
   "id": "cb421c7e-9eb1-4345-9deb-0426558db636",
   "metadata": {},
   "outputs": [],
   "source": [
    "cr_df.to_csv(os.path.join(save_dir,'classification_report.csv'))"
   ]
  },
  {
   "cell_type": "code",
   "execution_count": 45,
   "id": "2c694f93-77ad-4f62-9376-2187a428f172",
   "metadata": {},
   "outputs": [
    {
     "name": "stdout",
     "output_type": "stream",
     "text": [
      "627\n",
      "627\n",
      "627\n",
      "103\n",
      "74\n",
      "93\n",
      "63\n"
     ]
    }
   ],
   "source": [
    "for c in cor_labels:\n",
    "    print(test_df.loc[test_df['code'] == c].shape[0])"
   ]
  },
  {
   "cell_type": "code",
   "execution_count": 49,
   "id": "1a222edf-19dc-4873-9aa2-c58f41497d28",
   "metadata": {},
   "outputs": [
    {
     "data": {
      "text/plain": [
       "<sklearn.metrics._plot.confusion_matrix.ConfusionMatrixDisplay at 0x7307b71375b0>"
      ]
     },
     "execution_count": 49,
     "metadata": {},
     "output_type": "execute_result"
    },
    {
     "data": {
      "text/plain": [
       "<Figure size 640x480 with 0 Axes>"
      ]
     },
     "metadata": {},
     "output_type": "display_data"
    },
    {
     "data": {
      "image/png": "[encoded data removed]",
      "text/plain": [
       "<Figure size 640x480 with 2 Axes>"
      ]
     },
     "metadata": {},
     "output_type": "display_data"
    }
   ],
   "source": [
    "class_label_names = cor_labels # get these smartly somehow... categories got a bit mixed up\n",
    "class_labels = class_codes_numbers\n",
    "cm = confusion_matrix(true_labels, pred_labels, labels=cor_labels)\n",
    "disp = ConfusionMatrixDisplay(confusion_matrix=cm, display_labels=cor_labels)\n",
    "plt.savefig(os.path.join(homedir,'results/figures/confusion_matrix.png'), dpi=300, bbox_inches='tight')\n",
    "disp.plot()"
   ]
  }
 ],
 "metadata": {
  "kernelspec": {
   "display_name": "rspy",
   "language": "python",
   "name": "rspy"
  },
  "language_info": {
   "codemirror_mode": {
    "name": "ipython",
    "version": 3
   },
   "file_extension": ".py",
   "mimetype": "text/x-python",
   "name": "python",
   "nbconvert_exporter": "python",
   "pygments_lexer": "ipython3",
   "version": "3.9.19"
  }
 },
 "nbformat": 4,
 "nbformat_minor": 5
}
