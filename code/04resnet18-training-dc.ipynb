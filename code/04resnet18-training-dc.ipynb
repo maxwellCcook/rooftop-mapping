{
 "cells": [
  {
   "cell_type": "code",
   "execution_count": 1,
   "id": "c1a157a0-0b7e-4a0d-900c-79bc0fc3d0ad",
   "metadata": {},
   "outputs": [],
   "source": [
    "# !nvidia-smi"
   ]
  },
  {
   "cell_type": "code",
   "execution_count": 2,
   "id": "4ae6dba8-e355-492b-b096-59ff723e68cc",
   "metadata": {},
   "outputs": [
    {
     "name": "stdout",
     "output_type": "stream",
     "text": [
      "Projected CRS: EPSG:32618\n",
      "Successfully imported all packages!\n"
     ]
    }
   ],
   "source": [
    "\"\"\"\n",
    "Resnet-18 for classifying roof materials from PlanetScope SuperDove imagery\n",
    "Case study in Washington, D.C. \n",
    "\"\"\"\n",
    "\n",
    "import os, sys, time, glob\n",
    "import geopandas as gpd\n",
    "import pandas as pd\n",
    "import rioxarray as rxr\n",
    "import xarray as xr\n",
    "import numpy as np\n",
    "import rasterio as rio\n",
    "import matplotlib.pyplot as plt\n",
    "import seaborn as sns\n",
    "import gc\n",
    "import torch\n",
    "import torch.nn as nn\n",
    "import torch.optim as optim\n",
    "\n",
    "from torch.utils.data import Dataset, DataLoader\n",
    "from torch.utils.data.dataloader import default_collate\n",
    "from torchvision import transforms, utils\n",
    "from torchsat.models.classification import resnet18\n",
    "\n",
    "from sklearn.model_selection import train_test_split\n",
    "from sklearn.utils import resample\n",
    "from sklearn.metrics import confusion_matrix, ConfusionMatrixDisplay, classification_report\n",
    "from sklearn.metrics import roc_auc_score, log_loss, roc_auc_score, roc_curve, auc, f1_score, precision_score, recall_score\n",
    "from sklearn.model_selection import StratifiedKFold\n",
    "\n",
    "from fiona.crs import from_epsg\n",
    "from shapely.geometry import box\n",
    "from os.path import join\n",
    "\n",
    "import warnings\n",
    "warnings.filterwarnings(\"ignore\")\n",
    "\n",
    "# Custom functions\n",
    "sys.path.append(os.path.join(os.getcwd(),'code/'))\n",
    "from __functions import *\n",
    "\n",
    "# Projection information\n",
    "wgs = from_epsg(4326)\n",
    "proj = from_epsg(32618)\n",
    "print(f'Projected CRS: {proj}')\n",
    "\n",
    "maindir = '/Users/max/Library/CloudStorage/OneDrive-Personal/mcook/earth-lab/opp-rooftop-mapping'\n",
    "\n",
    "print(\"Successfully imported all packages!\")"
   ]
  },
  {
   "cell_type": "code",
   "execution_count": null,
   "id": "c2ce3bf8-31c5-456f-a965-3c7bc461ab09",
   "metadata": {},
   "outputs": [],
   "source": []
  },
  {
   "cell_type": "code",
   "execution_count": null,
   "id": "f698eaec-2a8f-44a9-af31-656cf38de292",
   "metadata": {},
   "outputs": [],
   "source": []
  },
  {
   "cell_type": "code",
   "execution_count": 3,
   "id": "7f1f0db2-184a-4589-b258-7283e30f23de",
   "metadata": {},
   "outputs": [],
   "source": [
    "homedir = '/home/jovyan'"
   ]
  },
  {
   "cell_type": "code",
   "execution_count": null,
   "id": "e7d53102-f55f-43ae-a20d-3bf28ce5de9f",
   "metadata": {},
   "outputs": [],
   "source": []
  },
  {
   "cell_type": "code",
   "execution_count": 4,
   "id": "308774c2-5428-4247-adb3-836626ae7255",
   "metadata": {},
   "outputs": [
    {
     "data": {
      "text/html": [
       "<div>\n",
       "<style scoped>\n",
       "    .dataframe tbody tr th:only-of-type {\n",
       "        vertical-align: middle;\n",
       "    }\n",
       "\n",
       "    .dataframe tbody tr th {\n",
       "        vertical-align: top;\n",
       "    }\n",
       "\n",
       "    .dataframe thead th {\n",
       "        text-align: right;\n",
       "    }\n",
       "</style>\n",
       "<table border=\"1\" class=\"dataframe\">\n",
       "  <thead>\n",
       "    <tr style=\"text-align: right;\">\n",
       "      <th></th>\n",
       "      <th>uid</th>\n",
       "      <th>class_code</th>\n",
       "      <th>description</th>\n",
       "      <th>areaUTMsqft</th>\n",
       "      <th>lotSizeSqft</th>\n",
       "      <th>geometry</th>\n",
       "    </tr>\n",
       "  </thead>\n",
       "  <tbody>\n",
       "    <tr>\n",
       "      <th>0</th>\n",
       "      <td>1CS</td>\n",
       "      <td>CS</td>\n",
       "      <td>Composition Shingle</td>\n",
       "      <td>357.783709</td>\n",
       "      <td>5574.0</td>\n",
       "      <td>POLYGON ((324215.868 4313568.665, 324215.792 4...</td>\n",
       "    </tr>\n",
       "    <tr>\n",
       "      <th>1</th>\n",
       "      <td>3CS</td>\n",
       "      <td>CS</td>\n",
       "      <td>Composition Shingle</td>\n",
       "      <td>918.640862</td>\n",
       "      <td>1111.0</td>\n",
       "      <td>POLYGON ((324602.816 4311717.247, 324604.322 4...</td>\n",
       "    </tr>\n",
       "    <tr>\n",
       "      <th>2</th>\n",
       "      <td>9CS</td>\n",
       "      <td>CS</td>\n",
       "      <td>Composition Shingle</td>\n",
       "      <td>1383.414170</td>\n",
       "      <td>4222.0</td>\n",
       "      <td>POLYGON ((327253.581 4300371.859, 327258.154 4...</td>\n",
       "    </tr>\n",
       "    <tr>\n",
       "      <th>3</th>\n",
       "      <td>19CS</td>\n",
       "      <td>CS</td>\n",
       "      <td>Composition Shingle</td>\n",
       "      <td>836.410297</td>\n",
       "      <td>3450.0</td>\n",
       "      <td>POLYGON ((333608.13 4306267.691, 333607.957 43...</td>\n",
       "    </tr>\n",
       "    <tr>\n",
       "      <th>4</th>\n",
       "      <td>27CS</td>\n",
       "      <td>CS</td>\n",
       "      <td>Composition Shingle</td>\n",
       "      <td>330.514264</td>\n",
       "      <td>4352.0</td>\n",
       "      <td>POLYGON ((326482.699 4300939.466, 326487.386 4...</td>\n",
       "    </tr>\n",
       "  </tbody>\n",
       "</table>\n",
       "</div>"
      ],
      "text/plain": [
       "    uid class_code          description  areaUTMsqft  lotSizeSqft  \\\n",
       "0   1CS         CS  Composition Shingle   357.783709       5574.0   \n",
       "1   3CS         CS  Composition Shingle   918.640862       1111.0   \n",
       "2   9CS         CS  Composition Shingle  1383.414170       4222.0   \n",
       "3  19CS         CS  Composition Shingle   836.410297       3450.0   \n",
       "4  27CS         CS  Composition Shingle   330.514264       4352.0   \n",
       "\n",
       "                                            geometry  \n",
       "0  POLYGON ((324215.868 4313568.665, 324215.792 4...  \n",
       "1  POLYGON ((324602.816 4311717.247, 324604.322 4...  \n",
       "2  POLYGON ((327253.581 4300371.859, 327258.154 4...  \n",
       "3  POLYGON ((333608.13 4306267.691, 333607.957 43...  \n",
       "4  POLYGON ((326482.699 4300939.466, 326487.386 4...  "
      ]
     },
     "execution_count": 4,
     "metadata": {},
     "output_type": "execute_result"
    }
   ],
   "source": [
    "# Load the training data (footprints)\n",
    "gdf_path = os.path.join(maindir,'data/spatial/mod/dc_data/training/dc_data_reference_footprints.gpkg')\n",
    "# gdf_path = join(homedir,'opp-data/dc_data_reference_footprints.gpkg')\n",
    "ref = gpd.read_file(gdf_path)\n",
    "ref.head()"
   ]
  },
  {
   "cell_type": "code",
   "execution_count": 5,
   "id": "627f1d04-70ba-48da-91fe-4ecd358ca528",
   "metadata": {},
   "outputs": [
    {
     "data": {
      "text/plain": [
       "class_code\n",
       "CS    37133\n",
       "ME    36864\n",
       "SL    15267\n",
       "UR     1279\n",
       "WS     1152\n",
       "TL      924\n",
       "SH      783\n",
       "Name: count, dtype: int64"
      ]
     },
     "execution_count": 5,
     "metadata": {},
     "output_type": "execute_result"
    }
   ],
   "source": [
    "# Observe the class imbalance\n",
    "ref.class_code.value_counts()"
   ]
  },
  {
   "cell_type": "code",
   "execution_count": 6,
   "id": "6cfad719-f3c2-48df-aa52-66ee519b11be",
   "metadata": {},
   "outputs": [
    {
     "name": "stdout",
     "output_type": "stream",
     "text": [
      "Code map: \n",
      "{'CS': 0, 'ME': 1, 'SL': 2, 'UR': 3, 'TL': 4, 'WS': 5, 'SH': 6}\n",
      "Description map: \n",
      "{'CS': 'Composition Shingle', 'ME': 'Metal', 'SL': 'Slate', 'UR': 'Urethane', 'TL': 'Tile', 'WS': 'Wood shake/shingle', 'SH': 'Shingle'}\n"
     ]
    }
   ],
   "source": [
    "# Create a numeric code column\n",
    "ref['code'], _ = pd.factorize(ref['class_code'])\n",
    "# Create a dictionary mapping class_code to code\n",
    "code_mapping = dict(zip(ref['class_code'], ref['code']))\n",
    "desc_mapping = dict(zip(ref['class_code'], ref['description']))\n",
    "print(f'Code map: \\n{code_mapping}\\nDescription map: \\n{desc_mapping}')"
   ]
  },
  {
   "cell_type": "code",
   "execution_count": null,
   "id": "94802aed-11a3-4285-952e-8409b5ff2d8f",
   "metadata": {},
   "outputs": [],
   "source": [
    "# # Calculate the longest side length of the building\n",
    "# area_stats = ref.groupby('class_code').apply(footprint_area_stats).reset_index()\n",
    "# area_stats"
   ]
  },
  {
   "cell_type": "code",
   "execution_count": null,
   "id": "d2f3f633-3a27-472d-ba32-4248eb2032c5",
   "metadata": {},
   "outputs": [],
   "source": [
    "# # Box plot for mean footprint area across classes\n",
    "# plt.figure(figsize=(5, 3))\n",
    "# sns.boxplot(x='class_code', y='areaUTMsqft', data=ref)\n",
    "# # Set the y-axis to log scale\n",
    "# plt.yscale('log')\n",
    "# plt.title('Average Footprint Area Across Classes (Log Scale)')\n",
    "# plt.ylabel('Mean Area (sqm)')\n",
    "# plt.xlabel('Building Class')\n",
    "# plt.xticks(rotation=45)\n",
    "# plt.tight_layout()\n",
    "# plt.show()"
   ]
  },
  {
   "cell_type": "code",
   "execution_count": null,
   "id": "04c523f1-01fe-46b4-8ec6-54f3bc3dc2a4",
   "metadata": {},
   "outputs": [],
   "source": [
    "# # Calculate the longest side length for polygons\n",
    "# ref['longest_side_len'] = ref.geometry.apply(lambda geom: calc_longest_side(geom)[2])\n",
    "\n",
    "# # Box plot for mean footprint area across classes\n",
    "# plt.figure(figsize=(5, 3))\n",
    "# sns.boxplot(x='class_code', y='longest_side_len', data=ref)\n",
    "# # Set the y-axis to log scale\n",
    "# plt.yscale('log')\n",
    "# plt.title('Longest Side Length Across Classes')\n",
    "# plt.ylabel('Length (m)')\n",
    "# plt.xlabel('Building Class')\n",
    "# plt.xticks(rotation=45)\n",
    "# plt.tight_layout()\n",
    "# plt.show()"
   ]
  },
  {
   "cell_type": "code",
   "execution_count": null,
   "id": "694bde40-f92c-46ad-bce3-6b40075e4b7e",
   "metadata": {},
   "outputs": [],
   "source": []
  },
  {
   "cell_type": "code",
   "execution_count": null,
   "id": "9b0f5979-0193-46e0-ab26-1e7449d2714a",
   "metadata": {},
   "outputs": [],
   "source": [
    "# Identify 'pure-ish' training locations"
   ]
  },
  {
   "cell_type": "code",
   "execution_count": null,
   "id": "e399a7ff-e031-4056-9f93-53292e95b5ed",
   "metadata": {},
   "outputs": [],
   "source": []
  },
  {
   "cell_type": "code",
   "execution_count": null,
   "id": "f6c94b42-ea39-4726-abd2-6cfa775b636e",
   "metadata": {},
   "outputs": [],
   "source": [
    "# print(ref.crs)"
   ]
  },
  {
   "cell_type": "code",
   "execution_count": null,
   "id": "5e3d1851-bb0c-4bdd-bc8a-e41414f47d71",
   "metadata": {},
   "outputs": [],
   "source": []
  },
  {
   "cell_type": "code",
   "execution_count": null,
   "id": "6d2c96b1-7be7-4baa-9584-6e19c28e41f0",
   "metadata": {},
   "outputs": [],
   "source": [
    "# # Create centroids\n",
    "# ref_pt = ref.copy()\n",
    "# ref_pt = ref_pt.to_crs(epsg=32618)\n",
    "# ref_pt['geometry'] = ref_pt['geometry'].centroid\n",
    "\n",
    "# # Define the window size and half window (for boxes)\n",
    "# window_size = 52 # 4 * average side length (relative neighbors (?))\n",
    "# half_window = window_size / 2\n",
    "\n",
    "# training_windows = [] # image windows with >50% of specific roof type\n",
    "# training_roof_types = [] # roof type codes for valid windows\n",
    "\n",
    "# # Loop through each footprint individually\n",
    "# for geom, roof_type in zip(ref.geometry, ref['class_code']):\n",
    "#     # calculate the image window as footprint buffer\n",
    "#     centroid = geom.centroid\n",
    "#     window = box(centroid.x - half_window, centroid.y - half_window,\n",
    "#                  centroid.x + half_window, centroid.y + half_window)\n",
    "\n",
    "#     # Intersect with centroids to get class count within window\n",
    "#     intersect = ref_pt[ref_pt.intersects(window)]\n",
    "    \n",
    "#     # Get the total count and count for the class\n",
    "#     total_count = len(intersect)\n",
    "#     class_count = len(intersect[intersect['class_code'] == roof_type])\n",
    "\n",
    "#     # Check if there is at least 50% of the roof type in that window\n",
    "#     if total_count > 0 and (class_count / total_count) > 0.50:\n",
    "#         training_windows.append(geom)\n",
    "#         training_roof_types.append(roof_type)\n",
    "\n",
    "#     del intersect, window, centroid\n",
    "\n",
    "# # Create a GeoDataFrame for the training windows with roof types\n",
    "# ref_windows = gpd.GeoDataFrame({\n",
    "#     'geometry': training_windows, \n",
    "#     'class_code': training_roof_types\n",
    "# }, crs=ref.crs)\n",
    "\n",
    "# # Create a numeric code for the training data frame\n",
    "# ref_windows['code'], _ = pd.factorize(ref_windows['class_code'])\n",
    "# print(\"Spatial filtering complete.\")"
   ]
  },
  {
   "cell_type": "code",
   "execution_count": null,
   "id": "7bf332f4-7848-47f2-8a23-784101265939",
   "metadata": {},
   "outputs": [],
   "source": [
    "# # Save out\n",
    "# os.getcwd()\n",
    "# out_file = os.path.join(maindir,'data/spatial/mod/dc_data/rooftop_materials_training_windows.gpkg')\n",
    "# ref_windows.to_file(out_file)\n",
    "\n",
    "# del training_windows, training_roof_types, ref_pt\n",
    "# gc.collect()"
   ]
  },
  {
   "cell_type": "code",
   "execution_count": null,
   "id": "8edde283-208e-4368-ad7b-92c4c2ad097e",
   "metadata": {},
   "outputs": [],
   "source": [
    "# # Plot the training locations with colors based on roof type\n",
    "# fig, ax = plt.subplots(figsize=(6, 6))\n",
    "# ref_windows.plot(column='class_code', ax=ax, legend=True, cmap='Set1', edgecolor='none')\n",
    "# plt.title('Training Locations by Roof Material Type')\n",
    "# plt.show()"
   ]
  },
  {
   "cell_type": "code",
   "execution_count": null,
   "id": "67a09fb4-3432-4cb6-9de6-89728c147413",
   "metadata": {},
   "outputs": [],
   "source": [
    "# ref_windows.class_code.value_counts()"
   ]
  },
  {
   "cell_type": "code",
   "execution_count": null,
   "id": "3195a3a1-e907-4f3e-87a4-ce28d6001e9e",
   "metadata": {},
   "outputs": [],
   "source": [
    "# # Perform balanced sampling (random undersampling)\n",
    "# ref_bal = balance_sampling(ref_windows, ratio=20, strategy='undersample')\n",
    "# ref_bal.class_code.value_counts()"
   ]
  },
  {
   "cell_type": "code",
   "execution_count": 7,
   "id": "ce5e07b5-4cb5-4c75-9bd8-33305bd6406f",
   "metadata": {},
   "outputs": [
    {
     "data": {
      "text/plain": [
       "class_code\n",
       "CS    7830\n",
       "ME    7830\n",
       "SL    7830\n",
       "UR    1279\n",
       "WS    1152\n",
       "TL     924\n",
       "SH     783\n",
       "Name: count, dtype: int64"
      ]
     },
     "execution_count": 7,
     "metadata": {},
     "output_type": "execute_result"
    }
   ],
   "source": [
    "# Perform balanced sampling (random undersampling)\n",
    "ref_bal = balance_sampling(ref, ratio=10, strategy='undersample')\n",
    "ref_bal.class_code.value_counts()"
   ]
  },
  {
   "cell_type": "code",
   "execution_count": null,
   "id": "b4483537-a9f9-4008-b8e0-049dc6d924e1",
   "metadata": {},
   "outputs": [],
   "source": []
  },
  {
   "cell_type": "code",
   "execution_count": null,
   "id": "f124813b-03f5-4a1f-8db0-269f000739e0",
   "metadata": {},
   "outputs": [],
   "source": []
  },
  {
   "cell_type": "code",
   "execution_count": null,
   "id": "7c6d138d-4766-407b-8d08-0bedbcd88db0",
   "metadata": {},
   "outputs": [],
   "source": []
  },
  {
   "cell_type": "code",
   "execution_count": 8,
   "id": "59df331a-d7e5-401c-8077-f5e2053039c5",
   "metadata": {},
   "outputs": [
    {
     "name": "stdout",
     "output_type": "stream",
     "text": [
      "Train class distribution:\n",
      " code\n",
      "0    4698\n",
      "1    4698\n",
      "2    4698\n",
      "3     767\n",
      "5     691\n",
      "4     554\n",
      "6     469\n",
      "Name: count, dtype: int64\n",
      "Validation class distribution:\n",
      " code\n",
      "0    2505\n",
      "1    2505\n",
      "2    2505\n",
      "3     409\n",
      "5     368\n",
      "4     296\n",
      "6     251\n",
      "Name: count, dtype: int64\n",
      "Test class distribution:\n",
      " code\n",
      "0    627\n",
      "1    627\n",
      "2    627\n",
      "3    103\n",
      "5     93\n",
      "4     74\n",
      "6     63\n",
      "Name: count, dtype: int64\n"
     ]
    }
   ],
   "source": [
    "# Split the train/test data\n",
    "train_df, val_df, test_df = split_training_data(ref_bal, ts=0.4, vs=0.2)\n",
    "\n",
    "# Print the class distribution in training and validation sets to verify stratification\n",
    "print(\"Train class distribution:\\n\", train_df['code'].value_counts())\n",
    "print(\"Validation class distribution:\\n\", val_df['code'].value_counts())\n",
    "print(\"Test class distribution:\\n\", test_df['code'].value_counts())"
   ]
  },
  {
   "cell_type": "code",
   "execution_count": null,
   "id": "aef573cf-7e7b-4af7-8eb9-b998403b5716",
   "metadata": {},
   "outputs": [],
   "source": []
  },
  {
   "cell_type": "code",
   "execution_count": null,
   "id": "ee21eaab-8a6f-4361-9356-9fbbd2ff3ea0",
   "metadata": {},
   "outputs": [],
   "source": []
  },
  {
   "cell_type": "code",
   "execution_count": null,
   "id": "bff13cc3-7121-4e88-8392-f25c83a7f9f1",
   "metadata": {},
   "outputs": [],
   "source": []
  },
  {
   "cell_type": "code",
   "execution_count": 9,
   "id": "3ca50c71-761b-48d5-95ca-e23731769ff6",
   "metadata": {},
   "outputs": [
    {
     "name": "stdout",
     "output_type": "stream",
     "text": [
      "shape: (8223, 6714)\n",
      "bands: 6\n",
      "resolution: (3.0, -3.0)\n",
      "bounds: (315267.0, 4294629.0, 335409.0, 4319298.0)\n",
      "sum: 8.181640625\n",
      "CRS: EPSG:32618\n",
      "NoData: None\n",
      "Array: <xarray.DataArray (band: 6, y: 8223, x: 6714)> Size: 1GB\n",
      "[331255332 values with dtype=float32]\n",
      "Coordinates:\n",
      "  * band         (band) int64 48B 1 2 3 4 5 6\n",
      "  * x            (x) float64 54kB 3.153e+05 3.153e+05 ... 3.354e+05 3.354e+05\n",
      "  * y            (y) float64 66kB 4.319e+06 4.319e+06 ... 4.295e+06 4.295e+06\n",
      "    spatial_ref  int64 8B 0\n",
      "Attributes:\n",
      "    AREA_OR_POINT:  Area\n",
      "    scale_factor:   1.0\n",
      "    add_offset:     0.0\n",
      "    long_name:      ('nir', 'NDBIbg', 'NDBIrg', 'NISI', 'MNF1', 'NISI5x5')\n"
     ]
    }
   ],
   "source": [
    "# Load our image data to check on the format\n",
    "stack_da_fp = os.path.join(maindir,'data/spatial/mod/dc_data/planet-data/dc_0623_psscene8b_final_norm.tif')\n",
    "# stack_da_fp = os.path.join(homedir,'opp-data/dc_0623_psscene8b_final_norm.tif')\n",
    "stack_da = rxr.open_rasterio(stack_da_fp, mask=True, cache=False).squeeze()\n",
    "n_bands = stack_da.values.shape[:1][0] # get a list of band names\n",
    "print(\n",
    "    f\"shape: {stack_da.rio.shape}\\n\"\n",
    "    f\"bands: {n_bands}\\n\"\n",
    "    f\"resolution: {stack_da.rio.resolution()}\\n\"\n",
    "    f\"bounds: {stack_da.rio.bounds()}\\n\"\n",
    "    f\"sum: {stack_da.sum().item()}\\n\"\n",
    "    f\"CRS: {stack_da.rio.crs}\\n\"\n",
    "    f\"NoData: {stack_da.rio.nodata}\\n\"\n",
    "    f\"Array: {stack_da}\"\n",
    ")\n",
    "del stack_da"
   ]
  },
  {
   "cell_type": "code",
   "execution_count": null,
   "id": "1cbfdcfd-1319-445a-92c9-faf298c8d4a6",
   "metadata": {},
   "outputs": [],
   "source": []
  },
  {
   "cell_type": "code",
   "execution_count": 10,
   "id": "5055ca12-c480-447d-b01d-8efc157e579f",
   "metadata": {},
   "outputs": [
    {
     "name": "stdout",
     "output_type": "stream",
     "text": [
      "Model params: {'window_size': 78, 'batch_size': 64, 'learning_rate': 0.01, 'weight_decay': 0.01, 'momentum': 0.8, 'patience': 5}\n"
     ]
    }
   ],
   "source": [
    "# Best params from tuning\n",
    "params = {'window_size': 78, 'batch_size': 64, 'learning_rate': 0.01, 'weight_decay': 0.01, 'momentum': 0.8, 'patience': 5}\n",
    "print(f'Model params: {params}')"
   ]
  },
  {
   "cell_type": "code",
   "execution_count": null,
   "id": "a22d7160-f87e-4c9e-903b-44c966444fcb",
   "metadata": {},
   "outputs": [],
   "source": []
  },
  {
   "cell_type": "code",
   "execution_count": 11,
   "id": "d16d0cb6-dcd0-424a-a68e-96abf0819354",
   "metadata": {},
   "outputs": [
    {
     "name": "stdout",
     "output_type": "stream",
     "text": [
      "Using cpu for model dev ...\n",
      "There are 7 roof type classes.\n",
      "Made cpu parallel\n",
      "Ready to load data !\n"
     ]
    }
   ],
   "source": [
    "# Set up the Resnet-18 model\n",
    "\n",
    "# Define whether to leverage cpu or gpu (for my local machine it is only cpu)\n",
    "device = torch.device(\"cuda\" if torch.cuda.is_available() else \"cpu\") # get device for gpu or cpu\n",
    "print(f'Using {device} for model dev ...')\n",
    "\n",
    "# Grab the number of classes\n",
    "n_classes = ref_bal.class_code.unique().shape[0]\n",
    "print(f'There are {n_classes} roof type classes.')\n",
    "\n",
    "# Define the Resnet-18 model (in_channels = number of bands in the image)\n",
    "model = resnet18(n_classes, in_channels=n_bands, pretrained=False)\n",
    "\n",
    "# Make model parallel and on GPU\n",
    "if torch.cuda.device_count() >= 1:\n",
    "    print(\"Using \", torch.cuda.device_count(), \"GPUs!\")\n",
    "    model = nn.DataParallel(model)\n",
    "    model.to(device)\n",
    "else:\n",
    "    model = nn.DataParallel(model)\n",
    "    print('Made cpu parallel')\n",
    "\n",
    "# optimizer, learning rate scheduler, loss criterion, scaler (gradient)\n",
    "optimizer = optim.SGD(model.parameters(), lr=params['learning_rate'], momentum=params['momentum'], weight_decay=params['weight_decay'])\n",
    "lr_scheduler = optim.lr_scheduler.ReduceLROnPlateau(optimizer, mode='min', factor=0.1, patience=params['patience'], verbose=False, min_lr=1e-6)\n",
    "scaler = torch.cuda.amp.GradScaler()  # initialize scaler for mixed precision\n",
    "\n",
    "print('Ready to load data !')"
   ]
  },
  {
   "cell_type": "code",
   "execution_count": 12,
   "id": "a12d179c-0bd8-4ca3-9de8-a679e9537406",
   "metadata": {},
   "outputs": [
    {
     "name": "stdout",
     "output_type": "stream",
     "text": [
      "Training and validation data loaded!\n"
     ]
    }
   ],
   "source": [
    "# Load the image data as a Dataset\n",
    "# Uses the opimum window size calculated earlier\n",
    "\n",
    "imdir = stack_da_fp\n",
    "bs = params['batch_size']\n",
    "window_size = params['window_size']\n",
    "\n",
    "pin_memory=False\n",
    "if device == \"cuda\":\n",
    "    pin_memory=True # for GPU make true\n",
    "\n",
    "# Create the training samples\n",
    "train_ds = RoofImageDatasetPlanet(train_df[['geometry', 'code']], imdir, n_bands=n_bands, img_dim=window_size)\n",
    "train_loader = DataLoader(train_ds, batch_size=bs, num_workers=0, shuffle=True, pin_memory=pin_memory) \n",
    "\n",
    "# Create the validation samples\n",
    "val_ds = RoofImageDatasetPlanet(val_df[['geometry', 'code']], imdir, n_bands=n_bands, img_dim=window_size)\n",
    "val_loader = DataLoader(val_ds, batch_size=bs * 2, num_workers=0, shuffle=False, pin_memory=pin_memory)\n",
    "\n",
    "# Create the test samples\n",
    "test_ds = RoofImageDatasetPlanet(test_df[['geometry', 'code']], imdir, n_bands=n_bands, img_dim=window_size)\n",
    "test_loader = DataLoader(test_ds, batch_size=bs * 2, num_workers=0, shuffle=False, pin_memory=pin_memory)\n",
    "\n",
    "print(\"Training and validation data loaded!\")"
   ]
  },
  {
   "cell_type": "code",
   "execution_count": 13,
   "id": "5d575af0-fe24-43f0-96b7-467d5475c762",
   "metadata": {},
   "outputs": [
    {
     "name": "stdout",
     "output_type": "stream",
     "text": [
      "Total samples: 16575;\n",
      "Value counts: [4698, 4698, 4698, 767, 691, 554, 469]\n",
      "Class weights: tensor([ 3.5281,  3.5281,  3.5281, 21.6102, 23.9870, 29.9188, 35.3412])\n",
      "Normalized class weights: tensor([0.0291, 0.0291, 0.0291, 0.1779, 0.1975, 0.2464, 0.2910])\n"
     ]
    }
   ],
   "source": [
    "# Number of samples in each class\n",
    "val_counts = list(train_df['code'].value_counts())\n",
    "total_samples = sum(val_counts) # total number of samples\n",
    "print(f'Total samples: {total_samples};\\nValue counts: {val_counts}')\n",
    "\n",
    "# Calculate class weights\n",
    "class_weights = [total_samples / count for count in val_counts]\n",
    "class_weights = torch.tensor(class_weights, dtype=torch.float).to(device)\n",
    "print(f\"Class weights: {class_weights}\")\n",
    "\n",
    "class_weights_norm = class_weights / class_weights.sum()\n",
    "print(f\"Normalized class weights: {class_weights_norm}\")\n",
    "\n",
    "# Updated loss function with weights\n",
    "criterion = nn.CrossEntropyLoss(weight=class_weights_norm).to(device)"
   ]
  },
  {
   "cell_type": "code",
   "execution_count": null,
   "id": "95d9c1a4-3107-4970-816e-c9a122ddeaa8",
   "metadata": {},
   "outputs": [],
   "source": [
    "gc.collect()"
   ]
  },
  {
   "cell_type": "code",
   "execution_count": 14,
   "id": "2350d162-f79d-48fd-a362-34c4982aefba",
   "metadata": {},
   "outputs": [
    {
     "name": "stdout",
     "output_type": "stream",
     "text": [
      "Epoch [1]. Current learning rate: 0.01\n",
      "\ttrain progress: [0/16575] (0.00)%\n",
      "\tbatch train loss: 2.0440;\tcumulative batch: 259\n",
      "\ttrain progress: [4096/16575] (24.71)%\n",
      "\tbatch train loss: 1.4303;\tcumulative batch: 323\n",
      "\ttrain progress: [8192/16575] (49.42)%\n",
      "\tbatch train loss: 1.1415;\tcumulative batch: 387\n",
      "\ttrain progress: [12288/16575] (74.13)%\n",
      "\tbatch train loss: 1.5130;\tcumulative batch: 451\n",
      "\ttrain progress: [16384/16575] (98.84)%\n",
      "\tbatch train loss: 1.3424;\tcumulative batch: 515\n",
      "\n",
      "Epoch [1] completed.\n",
      "\ttrain loss: 1.6602034007260238; validation loss = 1.3297\n",
      "\tAccuracy (validation): [4440/8839] (50.2319)%;\n",
      "\tF1-score (validation): 0.5346\n",
      "Time to complete epoch [1]: 13.12 minutes.\n",
      "\n",
      "~~~~~~~~~~\n",
      "\n",
      "Epoch [2]. Current learning rate: 0.01\n",
      "\ttrain progress: [0/16575] (0.00)%\n",
      "\tbatch train loss: 1.5290;\tcumulative batch: 518\n",
      "\ttrain progress: [4096/16575] (24.71)%\n",
      "\tbatch train loss: 1.2220;\tcumulative batch: 582\n",
      "\ttrain progress: [8192/16575] (49.42)%\n",
      "\tbatch train loss: 1.5927;\tcumulative batch: 646\n",
      "\ttrain progress: [12288/16575] (74.13)%\n",
      "\tbatch train loss: 1.0202;\tcumulative batch: 710\n",
      "\ttrain progress: [16384/16575] (98.84)%\n",
      "\tbatch train loss: 1.2530;\tcumulative batch: 774\n",
      "\n",
      "Epoch [2] completed.\n",
      "\ttrain loss: 1.428979520862167; validation loss = 1.5800\n",
      "\tAccuracy (validation): [3118/8839] (35.2755)%;\n",
      "\tF1-score (validation): 0.3719\n",
      "Time to complete epoch [2]: 82.90 minutes.\n",
      "\n",
      "~~~~~~~~~~\n",
      "\n",
      "Epoch [3]. Current learning rate: 0.01\n",
      "\ttrain progress: [0/16575] (0.00)%\n",
      "\tbatch train loss: 1.1857;\tcumulative batch: 777\n",
      "\ttrain progress: [4096/16575] (24.71)%\n",
      "\tbatch train loss: 1.4815;\tcumulative batch: 841\n",
      "\ttrain progress: [8192/16575] (49.42)%\n",
      "\tbatch train loss: 1.6366;\tcumulative batch: 905\n",
      "\ttrain progress: [12288/16575] (74.13)%\n",
      "\tbatch train loss: 1.3432;\tcumulative batch: 969\n",
      "\ttrain progress: [16384/16575] (98.84)%\n",
      "\tbatch train loss: 1.6190;\tcumulative batch: 1033\n",
      "\n",
      "Epoch [3] completed.\n",
      "\ttrain loss: 1.2950062213257012; validation loss = 1.3567\n",
      "\tAccuracy (validation): [4247/8839] (48.0484)%;\n",
      "\tF1-score (validation): 0.5186\n",
      "Time to complete epoch [3]: 13.40 minutes.\n",
      "\n",
      "~~~~~~~~~~\n",
      "\n",
      "Epoch [4]. Current learning rate: 0.01\n",
      "\ttrain progress: [0/16575] (0.00)%\n",
      "\tbatch train loss: 0.9473;\tcumulative batch: 1036\n",
      "\ttrain progress: [4096/16575] (24.71)%\n",
      "\tbatch train loss: 0.9786;\tcumulative batch: 1100\n",
      "\ttrain progress: [8192/16575] (49.42)%\n",
      "\tbatch train loss: 1.4727;\tcumulative batch: 1164\n",
      "\ttrain progress: [12288/16575] (74.13)%\n",
      "\tbatch train loss: 1.2218;\tcumulative batch: 1228\n",
      "\ttrain progress: [16384/16575] (98.84)%\n",
      "\tbatch train loss: 1.0030;\tcumulative batch: 1292\n",
      "\n",
      "Epoch [4] completed.\n",
      "\ttrain loss: 1.1748901904779971; validation loss = 1.3078\n",
      "\tAccuracy (validation): [4308/8839] (48.7385)%;\n",
      "\tF1-score (validation): 0.5245\n",
      "Time to complete epoch [4]: 29.26 minutes.\n",
      "\n",
      "~~~~~~~~~~\n",
      "\n",
      "Epoch [5]. Current learning rate: 0.01\n",
      "\ttrain progress: [0/16575] (0.00)%\n",
      "\tbatch train loss: 0.9303;\tcumulative batch: 1295\n",
      "\ttrain progress: [4096/16575] (24.71)%\n",
      "\tbatch train loss: 0.9526;\tcumulative batch: 1359\n",
      "\ttrain progress: [8192/16575] (49.42)%\n",
      "\tbatch train loss: 1.4500;\tcumulative batch: 1423\n",
      "\ttrain progress: [12288/16575] (74.13)%\n",
      "\tbatch train loss: 1.0706;\tcumulative batch: 1487\n",
      "\ttrain progress: [16384/16575] (98.84)%\n",
      "\tbatch train loss: 1.1834;\tcumulative batch: 1551\n",
      "\n",
      "Epoch [5] completed.\n",
      "\ttrain loss: 1.0553830026659725; validation loss = 1.1901\n",
      "\tAccuracy (validation): [4999/8839] (56.5562)%;\n",
      "\tF1-score (validation): 0.5837\n",
      "Time to complete epoch [5]: 44.60 minutes.\n",
      "\n",
      "~~~~~~~~~~\n",
      "\n",
      "Epoch [6]. Current learning rate: 0.01\n",
      "\ttrain progress: [0/16575] (0.00)%\n",
      "\tbatch train loss: 0.7702;\tcumulative batch: 1554\n",
      "\ttrain progress: [4096/16575] (24.71)%\n",
      "\tbatch train loss: 0.5637;\tcumulative batch: 1618\n",
      "\ttrain progress: [8192/16575] (49.42)%\n",
      "\tbatch train loss: 0.9143;\tcumulative batch: 1682\n",
      "\ttrain progress: [12288/16575] (74.13)%\n",
      "\tbatch train loss: 1.2804;\tcumulative batch: 1746\n",
      "\ttrain progress: [16384/16575] (98.84)%\n",
      "\tbatch train loss: 1.0610;\tcumulative batch: 1810\n",
      "\n",
      "Epoch [6] completed.\n",
      "\ttrain loss: 0.9346762513562059; validation loss = 1.4117\n",
      "\tAccuracy (validation): [3994/8839] (45.1861)%;\n",
      "\tF1-score (validation): 0.5010\n",
      "Time to complete epoch [6]: 114.80 minutes.\n",
      "\n",
      "~~~~~~~~~~\n",
      "\n",
      "Epoch [7]. Current learning rate: 0.01\n",
      "\ttrain progress: [0/16575] (0.00)%\n",
      "\tbatch train loss: 0.7835;\tcumulative batch: 1813\n",
      "\ttrain progress: [4096/16575] (24.71)%\n",
      "\tbatch train loss: 0.5746;\tcumulative batch: 1877\n",
      "\ttrain progress: [8192/16575] (49.42)%\n",
      "\tbatch train loss: 0.8910;\tcumulative batch: 1941\n",
      "\ttrain progress: [12288/16575] (74.13)%\n",
      "\tbatch train loss: 0.6557;\tcumulative batch: 2005\n",
      "\ttrain progress: [16384/16575] (98.84)%\n",
      "\tbatch train loss: 0.7581;\tcumulative batch: 2069\n",
      "\n",
      "Epoch [7] completed.\n",
      "\ttrain loss: 0.8389614245145938; validation loss = 1.2306\n",
      "\tAccuracy (validation): [5039/8839] (57.0087)%;\n",
      "\tF1-score (validation): 0.5760\n",
      "Time to complete epoch [7]: 66.61 minutes.\n",
      "\n",
      "~~~~~~~~~~\n",
      "\n",
      "Epoch [8]. Current learning rate: 0.01\n",
      "\ttrain progress: [0/16575] (0.00)%\n",
      "\tbatch train loss: 0.6072;\tcumulative batch: 2072\n",
      "\ttrain progress: [4096/16575] (24.71)%\n",
      "\tbatch train loss: 1.1137;\tcumulative batch: 2136\n",
      "\ttrain progress: [8192/16575] (49.42)%\n",
      "\tbatch train loss: 0.6501;\tcumulative batch: 2200\n",
      "\ttrain progress: [12288/16575] (74.13)%\n",
      "\tbatch train loss: 1.0105;\tcumulative batch: 2264\n",
      "\ttrain progress: [16384/16575] (98.84)%\n",
      "\tbatch train loss: 0.6950;\tcumulative batch: 2328\n",
      "\n",
      "Epoch [8] completed.\n",
      "\ttrain loss: 0.7517999087291335; validation loss = 1.2989\n",
      "\tAccuracy (validation): [4400/8839] (49.7794)%;\n",
      "\tF1-score (validation): 0.5237\n",
      "Time to complete epoch [8]: 13.23 minutes.\n",
      "\n",
      "~~~~~~~~~~\n",
      "\n",
      "Epoch [9]. Current learning rate: 0.01\n",
      "\ttrain progress: [0/16575] (0.00)%\n",
      "\tbatch train loss: 0.6284;\tcumulative batch: 2331\n",
      "\ttrain progress: [4096/16575] (24.71)%\n",
      "\tbatch train loss: 0.7627;\tcumulative batch: 2395\n",
      "\ttrain progress: [8192/16575] (49.42)%\n",
      "\tbatch train loss: 0.6675;\tcumulative batch: 2459\n",
      "\ttrain progress: [12288/16575] (74.13)%\n",
      "\tbatch train loss: 0.6549;\tcumulative batch: 2523\n",
      "\ttrain progress: [16384/16575] (98.84)%\n",
      "\tbatch train loss: 1.0821;\tcumulative batch: 2587\n",
      "\n",
      "Epoch [9] completed.\n",
      "\ttrain loss: 0.68448850385931; validation loss = 1.3558\n",
      "\tAccuracy (validation): [4816/8839] (54.4858)%;\n",
      "\tF1-score (validation): 0.5523\n",
      "Time to complete epoch [9]: 68.27 minutes.\n",
      "\n",
      "~~~~~~~~~~\n",
      "\n",
      "Epoch [10]. Current learning rate: 0.01\n",
      "\ttrain progress: [0/16575] (0.00)%\n",
      "\tbatch train loss: 0.6973;\tcumulative batch: 2590\n",
      "\ttrain progress: [4096/16575] (24.71)%\n",
      "\tbatch train loss: 0.4362;\tcumulative batch: 2654\n",
      "\ttrain progress: [8192/16575] (49.42)%\n",
      "\tbatch train loss: 0.7977;\tcumulative batch: 2718\n",
      "\ttrain progress: [12288/16575] (74.13)%\n",
      "\tbatch train loss: 0.7480;\tcumulative batch: 2782\n",
      "\ttrain progress: [16384/16575] (98.84)%\n",
      "\tbatch train loss: 0.7290;\tcumulative batch: 2846\n",
      "\n",
      "Epoch [10] completed.\n",
      "\ttrain loss: 0.7313979590261305; validation loss = 1.2981\n",
      "\tAccuracy (validation): [4590/8839] (51.9290)%;\n",
      "\tF1-score (validation): 0.5459\n",
      "Time to complete epoch [10]: 77.57 minutes.\n",
      "\n",
      "~~~~~~~~~~\n",
      "\n",
      "Epoch [11]. Current learning rate: 0.01\n",
      "\ttrain progress: [0/16575] (0.00)%\n",
      "\tbatch train loss: 0.4364;\tcumulative batch: 2849\n",
      "\ttrain progress: [4096/16575] (24.71)%\n",
      "\tbatch train loss: 0.4815;\tcumulative batch: 2913\n",
      "\ttrain progress: [8192/16575] (49.42)%\n",
      "\tbatch train loss: 0.8069;\tcumulative batch: 2977\n",
      "\ttrain progress: [12288/16575] (74.13)%\n",
      "\tbatch train loss: 0.7905;\tcumulative batch: 3041\n",
      "\ttrain progress: [16384/16575] (98.84)%\n",
      "\tbatch train loss: 0.9876;\tcumulative batch: 3105\n",
      "\n",
      "Epoch [11] completed.\n",
      "\ttrain loss: 0.6208065169428306; validation loss = 1.3467\n",
      "\tAccuracy (validation): [4470/8839] (50.5713)%;\n",
      "\tF1-score (validation): 0.5360\n",
      "! LR-Scheduler [ReduceLROnPlateau] adjustment: 0.001 !\n",
      "Time to complete epoch [11]: 61.39 minutes.\n",
      "\n",
      "~~~~~~~~~~\n",
      "\n",
      "Epoch [12]. Current learning rate: 0.001\n",
      "\ttrain progress: [0/16575] (0.00)%\n",
      "\tbatch train loss: 0.3611;\tcumulative batch: 3108\n",
      "\ttrain progress: [4096/16575] (24.71)%\n",
      "\tbatch train loss: 0.4323;\tcumulative batch: 3172\n",
      "\ttrain progress: [8192/16575] (49.42)%\n",
      "\tbatch train loss: 0.3165;\tcumulative batch: 3236\n",
      "\ttrain progress: [12288/16575] (74.13)%\n",
      "\tbatch train loss: 0.3426;\tcumulative batch: 3300\n",
      "\ttrain progress: [16384/16575] (98.84)%\n",
      "\tbatch train loss: 0.3741;\tcumulative batch: 3364\n",
      "\n",
      "Epoch [12] completed.\n",
      "\ttrain loss: 0.4414110211907206; validation loss = 1.0936\n",
      "\tAccuracy (validation): [5610/8839] (63.4687)%;\n",
      "\tF1-score (validation): 0.6414\n",
      "Time to complete epoch [12]: 34.73 minutes.\n",
      "\n",
      "~~~~~~~~~~\n",
      "\n",
      "Epoch [13]. Current learning rate: 0.001\n",
      "\ttrain progress: [0/16575] (0.00)%\n",
      "\tbatch train loss: 0.2986;\tcumulative batch: 3367\n",
      "\ttrain progress: [4096/16575] (24.71)%\n",
      "\tbatch train loss: 0.3574;\tcumulative batch: 3431\n",
      "\ttrain progress: [8192/16575] (49.42)%\n",
      "\tbatch train loss: 0.2719;\tcumulative batch: 3495\n",
      "\ttrain progress: [12288/16575] (74.13)%\n",
      "\tbatch train loss: 0.2216;\tcumulative batch: 3559\n",
      "\ttrain progress: [16384/16575] (98.84)%\n",
      "\tbatch train loss: 0.2363;\tcumulative batch: 3623\n",
      "\n",
      "Epoch [13] completed.\n",
      "\ttrain loss: 0.3009081145741304; validation loss = 1.0623\n",
      "\tAccuracy (validation): [5785/8839] (65.4486)%;\n",
      "\tF1-score (validation): 0.6529\n",
      "Time to complete epoch [13]: 13.34 minutes.\n",
      "\n",
      "~~~~~~~~~~\n",
      "\n",
      "Epoch [14]. Current learning rate: 0.001\n",
      "\ttrain progress: [0/16575] (0.00)%\n",
      "\tbatch train loss: 0.3319;\tcumulative batch: 3626\n",
      "\ttrain progress: [4096/16575] (24.71)%\n",
      "\tbatch train loss: 0.2689;\tcumulative batch: 3690\n",
      "\ttrain progress: [8192/16575] (49.42)%\n",
      "\tbatch train loss: 0.2756;\tcumulative batch: 3754\n",
      "\ttrain progress: [12288/16575] (74.13)%\n",
      "\tbatch train loss: 0.2756;\tcumulative batch: 3818\n",
      "\ttrain progress: [16384/16575] (98.84)%\n",
      "\tbatch train loss: 0.2350;\tcumulative batch: 3882\n",
      "\n",
      "Epoch [14] completed.\n",
      "\ttrain loss: 0.24533124014907823; validation loss = 1.0888\n",
      "\tAccuracy (validation): [5779/8839] (65.3807)%;\n",
      "\tF1-score (validation): 0.6520\n",
      "Time to complete epoch [14]: 13.41 minutes.\n",
      "\n",
      "~~~~~~~~~~\n",
      "\n",
      "Epoch [15]. Current learning rate: 0.001\n",
      "\ttrain progress: [0/16575] (0.00)%\n",
      "\tbatch train loss: 0.1757;\tcumulative batch: 3885\n",
      "\ttrain progress: [4096/16575] (24.71)%\n",
      "\tbatch train loss: 0.2072;\tcumulative batch: 3949\n",
      "\ttrain progress: [8192/16575] (49.42)%\n",
      "\tbatch train loss: 0.1566;\tcumulative batch: 4013\n",
      "\ttrain progress: [12288/16575] (74.13)%\n",
      "\tbatch train loss: 0.1702;\tcumulative batch: 4077\n",
      "\ttrain progress: [16384/16575] (98.84)%\n",
      "\tbatch train loss: 0.1898;\tcumulative batch: 4141\n",
      "\n",
      "Epoch [15] completed.\n",
      "\ttrain loss: 0.20444253915525312; validation loss = 1.0954\n",
      "\tAccuracy (validation): [5855/8839] (66.2405)%;\n",
      "\tF1-score (validation): 0.6577\n",
      "Time to complete epoch [15]: 13.38 minutes.\n",
      "\n",
      "~~~~~~~~~~\n",
      "\n",
      "Epoch [16]. Current learning rate: 0.001\n",
      "\ttrain progress: [0/16575] (0.00)%\n",
      "\tbatch train loss: 0.1412;\tcumulative batch: 4144\n",
      "\ttrain progress: [4096/16575] (24.71)%\n",
      "\tbatch train loss: 0.1555;\tcumulative batch: 4208\n",
      "\ttrain progress: [8192/16575] (49.42)%\n",
      "\tbatch train loss: 0.1263;\tcumulative batch: 4272\n",
      "\ttrain progress: [12288/16575] (74.13)%\n",
      "\tbatch train loss: 0.1456;\tcumulative batch: 4336\n",
      "\ttrain progress: [16384/16575] (98.84)%\n",
      "\tbatch train loss: 0.1559;\tcumulative batch: 4400\n",
      "\n",
      "Epoch [16] completed.\n",
      "\ttrain loss: 0.1626635766282505; validation loss = 1.1246\n",
      "\tAccuracy (validation): [5828/8839] (65.9351)%;\n",
      "\tF1-score (validation): 0.6540\n",
      "Time to complete epoch [16]: 67.03 minutes.\n",
      "\n",
      "~~~~~~~~~~\n",
      "\n",
      "Epoch [17]. Current learning rate: 0.001\n",
      "\ttrain progress: [0/16575] (0.00)%\n",
      "\tbatch train loss: 0.0708;\tcumulative batch: 4403\n",
      "\ttrain progress: [4096/16575] (24.71)%\n",
      "\tbatch train loss: 0.1040;\tcumulative batch: 4467\n",
      "\ttrain progress: [8192/16575] (49.42)%\n",
      "\tbatch train loss: 0.0926;\tcumulative batch: 4531\n",
      "\ttrain progress: [12288/16575] (74.13)%\n",
      "\tbatch train loss: 0.1161;\tcumulative batch: 4595\n",
      "\ttrain progress: [16384/16575] (98.84)%\n",
      "\tbatch train loss: 0.1040;\tcumulative batch: 4659\n",
      "\n",
      "Epoch [17] completed.\n",
      "\ttrain loss: 0.12927752114746102; validation loss = 1.1523\n",
      "\tAccuracy (validation): [5830/8839] (65.9577)%;\n",
      "\tF1-score (validation): 0.6536\n",
      "Time to complete epoch [17]: 15.92 minutes.\n",
      "\n",
      "~~~~~~~~~~\n",
      "\n",
      "Epoch [18]. Current learning rate: 0.001\n",
      "\ttrain progress: [0/16575] (0.00)%\n",
      "\tbatch train loss: 0.1126;\tcumulative batch: 4662\n",
      "\ttrain progress: [4096/16575] (24.71)%\n",
      "\tbatch train loss: 0.1335;\tcumulative batch: 4726\n",
      "\ttrain progress: [8192/16575] (49.42)%\n",
      "\tbatch train loss: 0.1061;\tcumulative batch: 4790\n",
      "\ttrain progress: [12288/16575] (74.13)%\n",
      "\tbatch train loss: 0.1042;\tcumulative batch: 4854\n",
      "\ttrain progress: [16384/16575] (98.84)%\n",
      "\tbatch train loss: 0.0550;\tcumulative batch: 4918\n",
      "\n",
      "Epoch [18] completed.\n",
      "\ttrain loss: 0.09627813323756902; validation loss = 1.1884\n",
      "\tAccuracy (validation): [5816/8839] (65.7993)%;\n",
      "\tF1-score (validation): 0.6514\n",
      "Time to complete epoch [18]: 15.99 minutes.\n",
      "\n",
      "~~~~~~~~~~\n",
      "\n",
      "Epoch [19]. Current learning rate: 0.001\n",
      "\ttrain progress: [0/16575] (0.00)%\n",
      "\tbatch train loss: 0.0610;\tcumulative batch: 4921\n",
      "\ttrain progress: [4096/16575] (24.71)%\n",
      "\tbatch train loss: 0.0876;\tcumulative batch: 4985\n",
      "\ttrain progress: [8192/16575] (49.42)%\n",
      "\tbatch train loss: 0.0685;\tcumulative batch: 5049\n",
      "\ttrain progress: [12288/16575] (74.13)%\n",
      "\tbatch train loss: 0.0443;\tcumulative batch: 5113\n",
      "\ttrain progress: [16384/16575] (98.84)%\n",
      "\tbatch train loss: 0.1890;\tcumulative batch: 5177\n",
      "\n",
      "Epoch [19] completed.\n",
      "\ttrain loss: 0.07187986499036601; validation loss = 1.2187\n",
      "\tAccuracy (validation): [5697/8839] (64.4530)%;\n",
      "\tF1-score (validation): 0.6380\n",
      "! LR-Scheduler [ReduceLROnPlateau] adjustment: 0.0001 !\n",
      "Time to complete epoch [19]: 15.91 minutes.\n",
      "\n",
      "~~~~~~~~~~\n",
      "\n",
      "Epoch [20]. Current learning rate: 0.0001\n",
      "\ttrain progress: [0/16575] (0.00)%\n",
      "\tbatch train loss: 0.0523;\tcumulative batch: 5180\n",
      "\ttrain progress: [4096/16575] (24.71)%\n",
      "\tbatch train loss: 0.0381;\tcumulative batch: 5244\n",
      "\ttrain progress: [8192/16575] (49.42)%\n",
      "\tbatch train loss: 0.0453;\tcumulative batch: 5308\n",
      "\ttrain progress: [12288/16575] (74.13)%\n",
      "\tbatch train loss: 0.0651;\tcumulative batch: 5372\n",
      "\ttrain progress: [16384/16575] (98.84)%\n",
      "\tbatch train loss: 0.0365;\tcumulative batch: 5436\n",
      "\n",
      "Epoch [20] completed.\n",
      "\ttrain loss: 0.05297083085453188; validation loss = 1.2044\n",
      "\tAccuracy (validation): [5787/8839] (65.4712)%;\n",
      "\tF1-score (validation): 0.6480\n",
      "Time to complete epoch [20]: 15.88 minutes.\n",
      "\n",
      "~~~~~~~~~~\n",
      "\n",
      "Epoch [21]. Current learning rate: 0.0001\n",
      "\ttrain progress: [0/16575] (0.00)%\n",
      "\tbatch train loss: 0.0403;\tcumulative batch: 5439\n",
      "\ttrain progress: [4096/16575] (24.71)%\n",
      "\tbatch train loss: 0.0424;\tcumulative batch: 5503\n",
      "\ttrain progress: [8192/16575] (49.42)%\n",
      "\tbatch train loss: 0.0253;\tcumulative batch: 5567\n",
      "\ttrain progress: [12288/16575] (74.13)%\n",
      "\tbatch train loss: 0.0434;\tcumulative batch: 5631\n",
      "\ttrain progress: [16384/16575] (98.84)%\n",
      "\tbatch train loss: 0.0463;\tcumulative batch: 5695\n",
      "\n",
      "Epoch [21] completed.\n",
      "\ttrain loss: 0.05193118391465036; validation loss = 1.2109\n",
      "\tAccuracy (validation): [5793/8839] (65.5391)%;\n",
      "\tF1-score (validation): 0.6487\n",
      "Time to complete epoch [21]: 15.94 minutes.\n",
      "\n",
      "~~~~~~~~~~\n",
      "\n",
      "Total elapsed time: 806.74 minutes.\n"
     ]
    }
   ],
   "source": [
    "t0 = time.time()\n",
    "\n",
    "print_freq = int(len(train_loader) // 4) # quarterly print statements\n",
    "\n",
    "# Initialize lists to track the losses for each epoch\n",
    "train_losses = [] # stores epoch train losses\n",
    "val_losses = [] # stores epoch validation losses\n",
    "\n",
    "num_epochs = 22 # adjust as needed\n",
    "for epoch in range(1, num_epochs):\n",
    "    t00 = time.time() # epoch start time\n",
    "\n",
    "    # The current learning rate:\n",
    "    current_lr = optimizer.param_groups[0]['lr']\n",
    "    print(f\"Epoch [{epoch}]. Current learning rate: {current_lr}\")\n",
    "\n",
    "    # Training loop\n",
    "    model.train()\n",
    "\n",
    "    batch_train_losses = [] # to store the loss/batch\n",
    "    \n",
    "    for idx, batch in enumerate(train_loader):\n",
    "        # Ensure a good batch\n",
    "        batch = make_good_batch(batch)\n",
    "        \n",
    "        # Extract samples (image chunk, target label)\n",
    "        image, target = batch['image'].to(device), batch['code'].to(device)\n",
    "\n",
    "        optimizer.zero_grad() # reset the gradient\n",
    "\n",
    "        # Use mixed precision\n",
    "        with torch.cuda.amp.autocast():\n",
    "            output = model(image.float())\n",
    "            loss = criterion(output, target.long())\n",
    "\n",
    "        scaler.scale(loss).backward()  # Mixed precision backward pass\n",
    "        scaler.step(optimizer)  # Optimizer step\n",
    "        scaler.update()\n",
    "\n",
    "        # Print the train progress % and current loss\n",
    "        if idx % print_freq == 0:\n",
    "            print(f'\\ttrain progress: [{idx * len(image)}/{len(train_loader.dataset)}] ({(100. * idx / len(train_loader)):.2f})%')\n",
    "            print(f'\\tbatch train loss: {loss.item():.4f};\\tcumulative batch: {len(train_loader) * epoch + idx}')\n",
    "        \n",
    "        batch_train_losses.append((idx, loss.item())) # append to batch losses list\n",
    "\n",
    "        del image, target, batch, output, loss\n",
    "                \n",
    "    # average loss for the epoch (across batches)\n",
    "    train_loss = np.array(batch_train_losses)[:,1].mean()\n",
    "    train_losses.append(train_loss)\n",
    "    \n",
    "    # validation loss\n",
    "    model.eval()\n",
    "    \n",
    "    val_loss = 0\n",
    "    correct = 0\n",
    "    all_labs = []\n",
    "    all_preds = []\n",
    "    \n",
    "    with torch.no_grad():\n",
    "        for idx, batch in enumerate(val_loader):\n",
    "            # Ensure a good batch\n",
    "            batch = make_good_batch(batch) \n",
    "            \n",
    "            # Extract samples\n",
    "            image, target = batch['image'].to(device), batch['code'].to(device)\n",
    "            output = model(image.float())\n",
    "\n",
    "            # Get validation loss and predictions\n",
    "            val_loss += criterion(output, target).item()\n",
    "            predicted = output.argmax(dim=1, keepdim=True)  # get the index of the max log-probability\n",
    "            correct += predicted.eq(target.view_as(predicted)).sum().item() # Number of correct\n",
    "            \n",
    "            # Store the labels\n",
    "            all_labs.extend(target.cpu().numpy())\n",
    "            all_preds.extend(predicted.cpu().numpy())\n",
    "\n",
    "            del image, target, batch, output\n",
    "            \n",
    "        val_loss /= len(val_loader.dataset)/val_loader.batch_size\n",
    "        val_losses.append(val_loss)\n",
    "    \n",
    "    print(f\"\\nEpoch [{epoch}] completed.\")\n",
    "    print(f'\\ttrain loss: {train_loss}; validation loss = {val_loss:.4f}')\n",
    "\n",
    "    acc = 100. * correct / len(val_loader.dataset)\n",
    "    f1 = f1_score(all_labs, all_preds, average=\"weighted\")\n",
    "    print(f'\\tAccuracy (validation): [{correct}/{len(val_loader.dataset)}] ({acc:.4f})%;\\n\\tF1-score (validation): {f1:.4f}')\n",
    "\n",
    "    # Adjust the learning rate based on the validation loss\n",
    "    lr_scheduler.step(val_loss)\n",
    "    if optimizer.param_groups[0]['lr'] != current_lr:\n",
    "        print(f\"! LR-Scheduler [ReduceLROnPlateau] adjustment: {optimizer.param_groups[0]['lr']} !\")\n",
    "     \n",
    "    t1 = (time.time() - t00) / 60\n",
    "    print(f\"Time to complete epoch [{epoch}]: {t1:.2f} minutes.\")\n",
    "    print(\"\\n~~~~~~~~~~\\n\")\n",
    "\n",
    "    # # (optional) Implement early stopping based on 'patience'\n",
    "    # if val_loss < best_val_loss:\n",
    "    #     best_val_loss = val_loss\n",
    "    #     counter = 0  # Reset counter if we see an improvement\n",
    "    # else:\n",
    "    #     counter += 1  # Increment counter if no improvement after learning rate adjustment\n",
    "    #     if counter >= params['patience'] + 2:\n",
    "    #         print(f\"Early stopping after [{epoch}] epochs.\")\n",
    "    #         break\n",
    "    \n",
    "    gc.collect() # do a garbage cleanup\n",
    "    torch.cuda.empty_cache()\n",
    "    \n",
    "t2 = (time.time() - t0) / 60\n",
    "print(f\"Total elapsed time: {t2:.2f} minutes.\")"
   ]
  },
  {
   "cell_type": "code",
   "execution_count": null,
   "id": "575d0fc8-11b3-4ae8-9771-2ce256d4dc55",
   "metadata": {},
   "outputs": [],
   "source": []
  },
  {
   "cell_type": "code",
   "execution_count": 38,
   "id": "ad061561-38d0-428b-80f2-8a07c8fc7f96",
   "metadata": {},
   "outputs": [],
   "source": [
    "results_dir = os.path.join(maindir,'results/resnet18/')"
   ]
  },
  {
   "cell_type": "code",
   "execution_count": 17,
   "id": "b0a5366e-7979-4602-bde3-05c216c3d6d1",
   "metadata": {},
   "outputs": [
    {
     "data": {
      "text/plain": [
       "[<matplotlib.lines.Line2D at 0x168151cf0>]"
      ]
     },
     "execution_count": 17,
     "metadata": {},
     "output_type": "execute_result"
    },
    {
     "data": {
      "image/png": "[encoded data removed]",
      "text/plain": [
       "<Figure size 640x480 with 1 Axes>"
      ]
     },
     "metadata": {},
     "output_type": "display_data"
    }
   ],
   "source": [
    "# Plot the model loss function\n",
    "plt.plot(np.array(train_losses))"
   ]
  },
  {
   "cell_type": "code",
   "execution_count": 18,
   "id": "5270f143-d978-48dd-b467-d05bd7cb0c87",
   "metadata": {},
   "outputs": [
    {
     "data": {
      "image/png": "[encoded data removed]",
      "text/plain": [
       "<Figure size 640x480 with 1 Axes>"
      ]
     },
     "metadata": {},
     "output_type": "display_data"
    }
   ],
   "source": [
    "# Epoch training loss\n",
    "plt.plot(train_losses, label='epoch training loss')\n",
    "plt.plot(val_losses, label='epoch validation loss')\n",
    "plt.legend()\n",
    "plt.show()"
   ]
  },
  {
   "cell_type": "code",
   "execution_count": 19,
   "id": "7242b8aa-59fd-4eef-98e4-762e40b4740e",
   "metadata": {},
   "outputs": [
    {
     "data": {
      "text/plain": [
       "'/Users/max/Library/CloudStorage/OneDrive-Personal/mcook/earth-lab/opp-rooftop-mapping/code'"
      ]
     },
     "execution_count": 19,
     "metadata": {},
     "output_type": "execute_result"
    }
   ],
   "source": [
    "os.getcwd()"
   ]
  },
  {
   "cell_type": "code",
   "execution_count": 26,
   "id": "134768f5-2fa4-4f3e-ba77-ada188abbd95",
   "metadata": {},
   "outputs": [],
   "source": [
    "# Save the model\n",
    "\n",
    "# results directory\n",
    "save_dir = os.path.join(maindir,f'results/resnet18/{params[\"window_size\"]}_bs{params[\"batch_size\"]}_lr{params[\"learning_rate\"]}')\n",
    "roi = 'dc'\n",
    "\n",
    "save_res = True\n",
    "if save_res:\n",
    "\n",
    "    if not os.path.exists(save_dir):\n",
    "        os.makedirs(save_dir)\n",
    "\n",
    "    # save the model\n",
    "    step = len(train_losses)\n",
    "    model_path = f\"{roi}_planet_ws{params['window_size']}_bs{params['batch_size']}_lr{params['learning_rate']}_ep{num_epochs}_step{step}.pt\"\n",
    "    model_path = os.path.join(save_dir, model_path)\n",
    "    save = lambda ep: torch.save({\n",
    "            'model': model.state_dict(),\n",
    "            'epoch': epoch,\n",
    "            'step': step,\n",
    "        }, str(model_path))\n",
    "\n",
    "    save(model_path)"
   ]
  },
  {
   "cell_type": "code",
   "execution_count": 29,
   "id": "4d73166d-02a0-4a12-a988-9149467ff2b7",
   "metadata": {},
   "outputs": [],
   "source": [
    "# # np.savetxt(os.path.join(save_dir, 'losses_ep{}_step{}_b{}.txt'.format(num_epochs, step, bs)), np.array(losses))\n",
    "# np.savetxt(os.path.join(save_dir, 'epoch_loss_ep{}_step{}_b{}.txt'.format(num_epochs, step, bs)), np.array(train_loss))\n",
    "# np.savetxt(os.path.join(save_dir, 'val_losses_ep{}_step{}_b{}.txt'.format(num_epochs, step, bs)), np.array(val_losses))"
   ]
  },
  {
   "cell_type": "code",
   "execution_count": 30,
   "id": "e554d2e0-c1e1-4a85-b09e-990a82f7df59",
   "metadata": {},
   "outputs": [
    {
     "name": "stdout",
     "output_type": "stream",
     "text": [
      "Processed 0 samples...\n",
      "Processed 100 samples...\n",
      "Processed 200 samples...\n",
      "Processed 300 samples...\n",
      "Processed 400 samples...\n",
      "Processed 500 samples...\n",
      "Processed 600 samples...\n",
      "Processed 700 samples...\n",
      "Processed 800 samples...\n",
      "Processed 900 samples...\n",
      "Processed 1000 samples...\n",
      "Processed 1100 samples...\n",
      "Processed 1200 samples...\n",
      "Processed 1300 samples...\n",
      "Processed 1400 samples...\n",
      "Processed 1500 samples...\n",
      "Processed 1600 samples...\n",
      "Processed 1700 samples...\n",
      "Processed 1800 samples...\n",
      "Processed 1900 samples...\n",
      "Processed 2000 samples...\n",
      "Processed 2100 samples...\n",
      "Processed 2200 samples...\n"
     ]
    }
   ],
   "source": [
    "def get_prediction(m, s):\n",
    "    s = s.to(device)  # Ensure the sample is moved to the correct device\n",
    "    res = m(s)\n",
    "    return res\n",
    "\n",
    "true_labels = []\n",
    "pred_labels = []\n",
    "\n",
    "model.eval()  # Set model to evaluation mode\n",
    "\n",
    "for idx, sample in enumerate(test_ds):\n",
    "    try:\n",
    "        if sample['code'] != 255:\n",
    "            # Append true labels\n",
    "            true_labels.append(sample['code'].item())  # Convert tensor to Python scalar\n",
    "                        \n",
    "            # Get prediction and append\n",
    "            pred = get_prediction(model, sample['image'][None, ...].float().to(device))  # Ensure tensor is float and on the correct device\n",
    "            pred_labels.append(pred.argmax().item())  # Convert tensor to Python scalar\n",
    "            \n",
    "        else:\n",
    "            print(f'sample {idx} of {len(test_ds)} had class label 255, skipping...')\n",
    "        \n",
    "        if idx % 100 == 0:\n",
    "            time.sleep(0.3)\n",
    "            gc.collect()\n",
    "            print(f'Processed {idx} samples...')\n",
    "        \n",
    "    except Exception as e:\n",
    "        print(f'Error at sample {idx}: {e}, continuing...')"
   ]
  },
  {
   "cell_type": "code",
   "execution_count": 31,
   "id": "51dba4d1-565e-4e0a-ad67-0eaa092ff625",
   "metadata": {},
   "outputs": [
    {
     "name": "stdout",
     "output_type": "stream",
     "text": [
      "{0: 0, 1: 1, 2: 2, 3: 3, 4: 4, 5: 5, 6: 6}\n",
      "[0, 1, 2, 3, 4, 5, 6]\n"
     ]
    }
   ],
   "source": [
    "# Ensure 'class_code' is of categorical dtype\n",
    "test_df['code'] = test_df['code'].astype('category')\n",
    "\n",
    "# Create the dictionary mapping\n",
    "cat_dict = dict(enumerate(test_df['code'].cat.categories))\n",
    "print(cat_dict)\n",
    "\n",
    "# Filter the class codes present in the test set\n",
    "class_codes_numbers = [k for k in cat_dict.keys() if cat_dict[k] in test_df['code'].unique().tolist()]\n",
    "\n",
    "cor_labels = [cat_dict[c] for c in class_codes_numbers]\n",
    "print(cor_labels)"
   ]
  },
  {
   "cell_type": "code",
   "execution_count": 33,
   "id": "abb19cec-362a-4f0c-85c1-510cd791d5b2",
   "metadata": {},
   "outputs": [
    {
     "data": {
      "text/plain": [
       "(array([663., 639.,   0., 671.,   0., 104.,  53.,   0.,  60.,  24.]),\n",
       " array([0. , 0.6, 1.2, 1.8, 2.4, 3. , 3.6, 4.2, 4.8, 5.4, 6. ]),\n",
       " <BarContainer object of 10 artists>)"
      ]
     },
     "execution_count": 33,
     "metadata": {},
     "output_type": "execute_result"
    },
    {
     "data": {
      "image/png": "[encoded data removed]",
      "text/plain": [
       "<Figure size 640x480 with 1 Axes>"
      ]
     },
     "metadata": {},
     "output_type": "display_data"
    }
   ],
   "source": [
    "plt.hist(pred_labels)"
   ]
  },
  {
   "cell_type": "code",
   "execution_count": 34,
   "id": "b00bbb05-a44c-46c5-8e19-c3772b90bc78",
   "metadata": {},
   "outputs": [
    {
     "data": {
      "text/plain": [
       "11189511"
      ]
     },
     "execution_count": 34,
     "metadata": {},
     "output_type": "execute_result"
    }
   ],
   "source": [
    "sum(p.numel() for p in model.parameters() if p.requires_grad) # number of trainable model parameters"
   ]
  },
  {
   "cell_type": "code",
   "execution_count": 39,
   "id": "27edc2c6-16d6-470a-aa54-ba97d9812f3a",
   "metadata": {},
   "outputs": [
    {
     "name": "stdout",
     "output_type": "stream",
     "text": [
      "              precision    recall  f1-score      support\n",
      "0              0.642534  0.679426  0.660465   627.000000\n",
      "1              0.777778  0.792663  0.785150   627.000000\n",
      "2              0.614009  0.657097  0.634823   627.000000\n",
      "3              0.490385  0.495146  0.492754   103.000000\n",
      "4              0.547170  0.391892  0.456693    74.000000\n",
      "5              0.466667  0.301075  0.366013    93.000000\n",
      "6              0.375000  0.142857  0.206897    63.000000\n",
      "accuracy       0.655827  0.655827  0.655827     0.655827\n",
      "macro avg      0.559077  0.494308  0.514685  2214.000000\n",
      "weighted avg   0.647491  0.655827  0.648626  2214.000000\n"
     ]
    }
   ],
   "source": [
    "# Generate the classification report\n",
    "cr_df = pd.DataFrame(classification_report(true_labels, pred_labels, target_names=cor_labels, output_dict=True)).transpose()\n",
    "cr_df.to_csv(os.path.join(results_dir,'dc_resnet18_classification_report.csv'))\n",
    "print(cr_df)"
   ]
  },
  {
   "cell_type": "code",
   "execution_count": 36,
   "id": "2c694f93-77ad-4f62-9376-2187a428f172",
   "metadata": {},
   "outputs": [
    {
     "name": "stdout",
     "output_type": "stream",
     "text": [
      "627\n",
      "627\n",
      "627\n",
      "103\n",
      "74\n",
      "93\n",
      "63\n"
     ]
    }
   ],
   "source": [
    "for c in cor_labels:\n",
    "    print(test_df.loc[test_df['code'] == c].shape[0])"
   ]
  },
  {
   "cell_type": "code",
   "execution_count": 37,
   "id": "1a222edf-19dc-4873-9aa2-c58f41497d28",
   "metadata": {},
   "outputs": [
    {
     "data": {
      "text/plain": [
       "<sklearn.metrics._plot.confusion_matrix.ConfusionMatrixDisplay at 0x16a9ee5c0>"
      ]
     },
     "execution_count": 37,
     "metadata": {},
     "output_type": "execute_result"
    },
    {
     "data": {
      "image/png": "[encoded data removed]",
      "text/plain": [
       "<Figure size 640x480 with 2 Axes>"
      ]
     },
     "metadata": {},
     "output_type": "display_data"
    }
   ],
   "source": [
    "class_label_names = cor_labels # get these smartly somehow... categories got a bit mixed up\n",
    "class_labels = class_codes_numbers\n",
    "cm = confusion_matrix(true_labels, pred_labels, labels=cor_labels)\n",
    "disp = ConfusionMatrixDisplay(confusion_matrix=cm, display_labels=cor_labels)\n",
    "disp.plot()"
   ]
  }
 ],
 "metadata": {
  "kernelspec": {
   "display_name": "rspy",
   "language": "python",
   "name": "rspy"
  },
  "language_info": {
   "codemirror_mode": {
    "name": "ipython",
    "version": 3
   },
   "file_extension": ".py",
   "mimetype": "text/x-python",
   "name": "python",
   "nbconvert_exporter": "python",
   "pygments_lexer": "ipython3",
   "version": "3.10.14"
  }
 },
 "nbformat": 4,
 "nbformat_minor": 5
}
