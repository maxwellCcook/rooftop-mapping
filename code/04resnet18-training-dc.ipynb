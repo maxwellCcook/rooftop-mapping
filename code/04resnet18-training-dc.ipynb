{
 "cells": [
  {
   "cell_type": "code",
   "execution_count": 30,
   "id": "c1a157a0-0b7e-4a0d-900c-79bc0fc3d0ad",
   "metadata": {},
   "outputs": [
    {
     "name": "stdout",
     "output_type": "stream",
     "text": [
      "Thu Sep 19 16:11:17 2024       \n",
      "+---------------------------------------------------------------------------------------+\n",
      "| NVIDIA-SMI 535.183.01             Driver Version: 535.183.01   CUDA Version: 12.2     |\n",
      "|-----------------------------------------+----------------------+----------------------+\n",
      "| GPU  Name                 Persistence-M | Bus-Id        Disp.A | Volatile Uncorr. ECC |\n",
      "| Fan  Temp   Perf          Pwr:Usage/Cap |         Memory-Usage | GPU-Util  Compute M. |\n",
      "|                                         |                      |               MIG M. |\n",
      "|=========================================+======================+======================|\n",
      "|   0  NVIDIA GeForce RTX 2070        Off | 00000000:01:00.0 Off |                  N/A |\n",
      "|  0%   34C    P8               5W / 185W |    853MiB /  8192MiB |      0%      Default |\n",
      "|                                         |                      |                  N/A |\n",
      "+-----------------------------------------+----------------------+----------------------+\n",
      "                                                                                         \n",
      "+---------------------------------------------------------------------------------------+\n",
      "| Processes:                                                                            |\n",
      "|  GPU   GI   CI        PID   Type   Process name                            GPU Memory |\n",
      "|        ID   ID                                                             Usage      |\n",
      "|=======================================================================================|\n",
      "+---------------------------------------------------------------------------------------+\n"
     ]
    }
   ],
   "source": [
    "!nvidia-smi"
   ]
  },
  {
   "cell_type": "code",
   "execution_count": 2,
   "id": "4ae6dba8-e355-492b-b096-59ff723e68cc",
   "metadata": {},
   "outputs": [
    {
     "name": "stdout",
     "output_type": "stream",
     "text": [
      "Projected CRS: EPSG:32618\n",
      "Successfully imported all packages!\n"
     ]
    }
   ],
   "source": [
    "\"\"\"\n",
    "Resnet-18 for classifying roof materials from PlanetScope SuperDove imagery\n",
    "Case study in Washington, D.C. \n",
    "\"\"\"\n",
    "\n",
    "# Imports (many are imported in '__functions.py')\n",
    "\n",
    "# Custom functions (__functions.py)\n",
    "sys.path.append(os.path.join(os.getcwd(),'code/'))\n",
    "from __functions import *\n",
    "\n",
    "# Local imports\n",
    "import sys, time, glob, gc\n",
    "import torch.nn as nn\n",
    "import torch.optim as optim\n",
    "\n",
    "from torch.utils.data import DataLoader\n",
    "from torch.utils.data.dataloader import default_collate\n",
    "from torchvision import transforms, utils\n",
    "from torchsat.models.classification import resnet18\n",
    "\n",
    "from sklearn.metrics import confusion_matrix, ConfusionMatrixDisplay, classification_report\n",
    "from sklearn.metrics import roc_auc_score, log_loss, roc_auc_score, roc_curve, auc, f1_score, precision_score, recall_score\n",
    "from sklearn.model_selection import StratifiedKFold\n",
    "\n",
    "from fiona.crs import from_epsg\n",
    "from shapely.geometry import box\n",
    "from os.path import join\n",
    "\n",
    "import warnings\n",
    "warnings.filterwarnings(\"ignore\")\n",
    "\n",
    "# Projection information\n",
    "wgs = from_epsg(4326)\n",
    "proj = from_epsg(32618)\n",
    "print(f'Projected CRS: {proj}')\n",
    "\n",
    "# maindir = '/Users/max/Library/CloudStorage/OneDrive-Personal/mcook/earth-lab/opp-rooftop-mapping'\n",
    "homedir = '/home/jovyan' # cyverse\n",
    "\n",
    "print(\"Successfully imported all packages and functions !\")"
   ]
  },
  {
   "cell_type": "code",
   "execution_count": null,
   "id": "c2ce3bf8-31c5-456f-a965-3c7bc461ab09",
   "metadata": {},
   "outputs": [],
   "source": []
  },
  {
   "cell_type": "code",
   "execution_count": 3,
   "id": "7f1f0db2-184a-4589-b258-7283e30f23de",
   "metadata": {},
   "outputs": [],
   "source": [
    "# Prep the training data"
   ]
  },
  {
   "cell_type": "code",
   "execution_count": null,
   "id": "e7d53102-f55f-43ae-a20d-3bf28ce5de9f",
   "metadata": {},
   "outputs": [],
   "source": []
  },
  {
   "cell_type": "code",
   "execution_count": 4,
   "id": "308774c2-5428-4247-adb3-836626ae7255",
   "metadata": {},
   "outputs": [
    {
     "data": {
      "text/html": [
       "<div>\n",
       "<style scoped>\n",
       "    .dataframe tbody tr th:only-of-type {\n",
       "        vertical-align: middle;\n",
       "    }\n",
       "\n",
       "    .dataframe tbody tr th {\n",
       "        vertical-align: top;\n",
       "    }\n",
       "\n",
       "    .dataframe thead th {\n",
       "        text-align: right;\n",
       "    }\n",
       "</style>\n",
       "<table border=\"1\" class=\"dataframe\">\n",
       "  <thead>\n",
       "    <tr style=\"text-align: right;\">\n",
       "      <th></th>\n",
       "      <th>uid</th>\n",
       "      <th>class_code</th>\n",
       "      <th>description</th>\n",
       "      <th>areaUTMsqft</th>\n",
       "      <th>lotSizeSqft</th>\n",
       "      <th>geometry</th>\n",
       "    </tr>\n",
       "  </thead>\n",
       "  <tbody>\n",
       "    <tr>\n",
       "      <th>0</th>\n",
       "      <td>1CS</td>\n",
       "      <td>CS</td>\n",
       "      <td>Composition Shingle</td>\n",
       "      <td>357.783709</td>\n",
       "      <td>5574.0</td>\n",
       "      <td>POLYGON ((324215.868 4313568.665, 324215.792 4...</td>\n",
       "    </tr>\n",
       "    <tr>\n",
       "      <th>1</th>\n",
       "      <td>3CS</td>\n",
       "      <td>CS</td>\n",
       "      <td>Composition Shingle</td>\n",
       "      <td>918.640862</td>\n",
       "      <td>1111.0</td>\n",
       "      <td>POLYGON ((324602.816 4311717.247, 324604.322 4...</td>\n",
       "    </tr>\n",
       "    <tr>\n",
       "      <th>2</th>\n",
       "      <td>9CS</td>\n",
       "      <td>CS</td>\n",
       "      <td>Composition Shingle</td>\n",
       "      <td>1383.414170</td>\n",
       "      <td>4222.0</td>\n",
       "      <td>POLYGON ((327253.581 4300371.859, 327258.154 4...</td>\n",
       "    </tr>\n",
       "    <tr>\n",
       "      <th>3</th>\n",
       "      <td>19CS</td>\n",
       "      <td>CS</td>\n",
       "      <td>Composition Shingle</td>\n",
       "      <td>836.410297</td>\n",
       "      <td>3450.0</td>\n",
       "      <td>POLYGON ((333608.13 4306267.691, 333607.957 43...</td>\n",
       "    </tr>\n",
       "    <tr>\n",
       "      <th>4</th>\n",
       "      <td>27CS</td>\n",
       "      <td>CS</td>\n",
       "      <td>Composition Shingle</td>\n",
       "      <td>330.514264</td>\n",
       "      <td>4352.0</td>\n",
       "      <td>POLYGON ((326482.699 4300939.466, 326487.386 4...</td>\n",
       "    </tr>\n",
       "  </tbody>\n",
       "</table>\n",
       "</div>"
      ],
      "text/plain": [
       "    uid class_code          description  areaUTMsqft  lotSizeSqft  \\\n",
       "0   1CS         CS  Composition Shingle   357.783709       5574.0   \n",
       "1   3CS         CS  Composition Shingle   918.640862       1111.0   \n",
       "2   9CS         CS  Composition Shingle  1383.414170       4222.0   \n",
       "3  19CS         CS  Composition Shingle   836.410297       3450.0   \n",
       "4  27CS         CS  Composition Shingle   330.514264       4352.0   \n",
       "\n",
       "                                            geometry  \n",
       "0  POLYGON ((324215.868 4313568.665, 324215.792 4...  \n",
       "1  POLYGON ((324602.816 4311717.247, 324604.322 4...  \n",
       "2  POLYGON ((327253.581 4300371.859, 327258.154 4...  \n",
       "3  POLYGON ((333608.13 4306267.691, 333607.957 43...  \n",
       "4  POLYGON ((326482.699 4300939.466, 326487.386 4...  "
      ]
     },
     "execution_count": 4,
     "metadata": {},
     "output_type": "execute_result"
    }
   ],
   "source": [
    "# Load the training data (footprints)\n",
    "# gdf_path = os.path.join(maindir,'data/spatial/mod/dc_data/training/dc_data_reference_footprints.gpkg')\n",
    "gdf_path = join(homedir,'opp-data/dc_data_reference_footprints.gpkg')\n",
    "ref = gpd.read_file(gdf_path)\n",
    "ref.head()"
   ]
  },
  {
   "cell_type": "code",
   "execution_count": 5,
   "id": "627f1d04-70ba-48da-91fe-4ecd358ca528",
   "metadata": {},
   "outputs": [
    {
     "data": {
      "text/plain": [
       "class_code\n",
       "CS    37133\n",
       "ME    36864\n",
       "SL    15267\n",
       "UR     1279\n",
       "WS     1152\n",
       "TL      924\n",
       "SH      783\n",
       "Name: count, dtype: int64"
      ]
     },
     "execution_count": 5,
     "metadata": {},
     "output_type": "execute_result"
    }
   ],
   "source": [
    "ref.class_code.value_counts()"
   ]
  },
  {
   "cell_type": "code",
   "execution_count": 6,
   "id": "6cfad719-f3c2-48df-aa52-66ee519b11be",
   "metadata": {},
   "outputs": [
    {
     "name": "stdout",
     "output_type": "stream",
     "text": [
      "Code map: \n",
      "{'CS': 0, 'ME': 1, 'SL': 2, 'UR': 3, 'TL': 4, 'WS': 5, 'SH': 6}\n",
      "Description map: \n",
      "{'CS': 'Composition Shingle', 'ME': 'Metal', 'SL': 'Slate', 'UR': 'Urethane', 'TL': 'Tile', 'WS': 'Wood shake/shingle', 'SH': 'Shingle'}\n"
     ]
    }
   ],
   "source": [
    "# Create a numeric code column\n",
    "ref['code'], _ = pd.factorize(ref['class_code'])\n",
    "# Create a dictionary mapping class_code to code\n",
    "code_mapping = dict(zip(ref['class_code'], ref['code']))\n",
    "desc_mapping = dict(zip(ref['class_code'], ref['description']))\n",
    "print(f'Code map: \\n{code_mapping}\\nDescription map: \\n{desc_mapping}')"
   ]
  },
  {
   "cell_type": "code",
   "execution_count": 7,
   "id": "ce5e07b5-4cb5-4c75-9bd8-33305bd6406f",
   "metadata": {},
   "outputs": [
    {
     "data": {
      "text/plain": [
       "class_code\n",
       "CS    7830\n",
       "ME    7830\n",
       "SL    7830\n",
       "UR    1279\n",
       "WS    1152\n",
       "TL     924\n",
       "SH     783\n",
       "Name: count, dtype: int64"
      ]
     },
     "execution_count": 7,
     "metadata": {},
     "output_type": "execute_result"
    }
   ],
   "source": [
    "# Perform balanced sampling (random undersampling)\n",
    "ref_bal = balance_sampling(ref, ratio=10, strategy='undersample')\n",
    "ref_bal.class_code.value_counts()"
   ]
  },
  {
   "cell_type": "code",
   "execution_count": null,
   "id": "b4483537-a9f9-4008-b8e0-049dc6d924e1",
   "metadata": {},
   "outputs": [],
   "source": []
  },
  {
   "cell_type": "code",
   "execution_count": null,
   "id": "f124813b-03f5-4a1f-8db0-269f000739e0",
   "metadata": {},
   "outputs": [],
   "source": []
  },
  {
   "cell_type": "code",
   "execution_count": null,
   "id": "7c6d138d-4766-407b-8d08-0bedbcd88db0",
   "metadata": {},
   "outputs": [],
   "source": []
  },
  {
   "cell_type": "code",
   "execution_count": 8,
   "id": "59df331a-d7e5-401c-8077-f5e2053039c5",
   "metadata": {},
   "outputs": [
    {
     "name": "stdout",
     "output_type": "stream",
     "text": [
      "Train class distribution:\n",
      " code\n",
      "0    4698\n",
      "1    4698\n",
      "2    4698\n",
      "3     767\n",
      "5     691\n",
      "4     554\n",
      "6     469\n",
      "Name: count, dtype: int64\n",
      "Validation class distribution:\n",
      " code\n",
      "0    2505\n",
      "1    2505\n",
      "2    2505\n",
      "3     409\n",
      "5     368\n",
      "4     296\n",
      "6     251\n",
      "Name: count, dtype: int64\n",
      "Test class distribution:\n",
      " code\n",
      "0    627\n",
      "1    627\n",
      "2    627\n",
      "3    103\n",
      "5     93\n",
      "4     74\n",
      "6     63\n",
      "Name: count, dtype: int64\n"
     ]
    }
   ],
   "source": [
    "# Split the train/test data\n",
    "train_df, val_df, test_df = split_training_data(ref_bal, ts=0.4, vs=0.2)\n",
    "\n",
    "# Print the class distribution in training and validation sets to verify stratification\n",
    "print(\"Train class distribution:\\n\", train_df['code'].value_counts())\n",
    "print(\"Validation class distribution:\\n\", val_df['code'].value_counts())\n",
    "print(\"Test class distribution:\\n\", test_df['code'].value_counts())"
   ]
  },
  {
   "cell_type": "code",
   "execution_count": null,
   "id": "aef573cf-7e7b-4af7-8eb9-b998403b5716",
   "metadata": {},
   "outputs": [],
   "source": []
  },
  {
   "cell_type": "code",
   "execution_count": null,
   "id": "ee21eaab-8a6f-4361-9356-9fbbd2ff3ea0",
   "metadata": {},
   "outputs": [],
   "source": []
  },
  {
   "cell_type": "code",
   "execution_count": null,
   "id": "bff13cc3-7121-4e88-8392-f25c83a7f9f1",
   "metadata": {},
   "outputs": [],
   "source": []
  },
  {
   "cell_type": "code",
   "execution_count": 9,
   "id": "3ca50c71-761b-48d5-95ca-e23731769ff6",
   "metadata": {},
   "outputs": [
    {
     "name": "stdout",
     "output_type": "stream",
     "text": [
      "shape: (8223, 6714)\n",
      "bands: 6\n",
      "resolution: (3.0, -3.0)\n",
      "bounds: (315267.0, 4294629.0, 335409.0, 4319298.0)\n",
      "sum: 8.181640625\n",
      "CRS: EPSG:32618\n",
      "NoData: None\n",
      "Array: <xarray.DataArray (band: 6, y: 8223, x: 6714)> Size: 1GB\n",
      "[331255332 values with dtype=float32]\n",
      "Coordinates:\n",
      "  * band         (band) int64 48B 1 2 3 4 5 6\n",
      "  * x            (x) float64 54kB 3.153e+05 3.153e+05 ... 3.354e+05 3.354e+05\n",
      "  * y            (y) float64 66kB 4.319e+06 4.319e+06 ... 4.295e+06 4.295e+06\n",
      "    spatial_ref  int64 8B 0\n",
      "Attributes:\n",
      "    AREA_OR_POINT:  Area\n",
      "    scale_factor:   1.0\n",
      "    add_offset:     0.0\n",
      "    long_name:      ('nir', 'NDBIbg', 'NDBIrg', 'NISI', 'MNF1', 'NISI5x5')\n"
     ]
    }
   ],
   "source": [
    "# Load our image data to check on the format\n",
    "# stack_da_fp = os.path.join(maindir,'data/spatial/mod/dc_data/planet-data/dc_0623_psscene8b_final_norm.tif')\n",
    "stack_da_fp = os.path.join(homedir,'opp-data/dc_0623_psscene8b_final_norm.tif')\n",
    "stack_da = rxr.open_rasterio(stack_da_fp, mask=True, cache=False).squeeze()\n",
    "n_bands = stack_da.values.shape[:1][0] # get a list of band names\n",
    "print(\n",
    "    f\"shape: {stack_da.rio.shape}\\n\"\n",
    "    f\"bands: {n_bands}\\n\"\n",
    "    f\"resolution: {stack_da.rio.resolution()}\\n\"\n",
    "    f\"bounds: {stack_da.rio.bounds()}\\n\"\n",
    "    f\"sum: {stack_da.sum().item()}\\n\"\n",
    "    f\"CRS: {stack_da.rio.crs}\\n\"\n",
    "    f\"NoData: {stack_da.rio.nodata}\\n\"\n",
    "    f\"Array: {stack_da}\"\n",
    ")\n",
    "del stack_da"
   ]
  },
  {
   "cell_type": "code",
   "execution_count": null,
   "id": "1cbfdcfd-1319-445a-92c9-faf298c8d4a6",
   "metadata": {},
   "outputs": [],
   "source": []
  },
  {
   "cell_type": "code",
   "execution_count": null,
   "id": "a37bcce5-42af-4a75-8b20-d6382dd5f69f",
   "metadata": {},
   "outputs": [],
   "source": [
    "# Set up the Resnet-18 model"
   ]
  },
  {
   "cell_type": "code",
   "execution_count": null,
   "id": "456bf8de-32fe-4f75-af0e-70379583ceac",
   "metadata": {},
   "outputs": [],
   "source": []
  },
  {
   "cell_type": "code",
   "execution_count": 10,
   "id": "5055ca12-c480-447d-b01d-8efc157e579f",
   "metadata": {},
   "outputs": [
    {
     "name": "stdout",
     "output_type": "stream",
     "text": [
      "Model params: {'window_size': 78, 'batch_size': 64, 'learning_rate': 0.01, 'weight_decay': 0.01, 'momentum': 0.8, 'patience': 3}\n"
     ]
    }
   ],
   "source": [
    "# Best params from tuning\n",
    "params = {'window_size': 78, 'batch_size': 64, 'learning_rate': 0.01, 'weight_decay': 0.01, 'momentum': 0.8, 'patience': 3}\n",
    "print(f'Model params: {params}')"
   ]
  },
  {
   "cell_type": "code",
   "execution_count": null,
   "id": "a22d7160-f87e-4c9e-903b-44c966444fcb",
   "metadata": {},
   "outputs": [],
   "source": []
  },
  {
   "cell_type": "code",
   "execution_count": 11,
   "id": "d16d0cb6-dcd0-424a-a68e-96abf0819354",
   "metadata": {},
   "outputs": [
    {
     "name": "stdout",
     "output_type": "stream",
     "text": [
      "Using cuda for model dev ...\n",
      "There are 7 roof type classes.\n",
      "Using  1 GPUs!\n",
      "Ready to load data !\n"
     ]
    }
   ],
   "source": [
    "# Set up the Resnet-18 model\n",
    "\n",
    "# Define whether to leverage cpu or gpu (for my local machine it is only cpu)\n",
    "device = torch.device(\"cuda\" if torch.cuda.is_available() else \"cpu\") # get device for gpu or cpu\n",
    "print(f'Using {device} for model dev ...')\n",
    "\n",
    "# Grab the number of classes\n",
    "n_classes = ref_bal.class_code.unique().shape[0]\n",
    "print(f'There are {n_classes} roof type classes.')\n",
    "\n",
    "# Define the Resnet-18 model (in_channels = number of bands in the image)\n",
    "model = resnet18(n_classes, in_channels=n_bands, pretrained=False)\n",
    "\n",
    "# Make model parallel and on GPU\n",
    "if torch.cuda.device_count() >= 1:\n",
    "    print(\"Using \", torch.cuda.device_count(), \"GPUs!\")\n",
    "    model = nn.DataParallel(model)\n",
    "    model.to(device)\n",
    "else:\n",
    "    model = nn.DataParallel(model)\n",
    "    print('Made cpu parallel')\n",
    "\n",
    "# optimizer, learning rate scheduler, loss criterion, scaler (gradient)\n",
    "optimizer = optim.SGD(\n",
    "    model.parameters(), \n",
    "    lr=params['learning_rate'], \n",
    "    momentum=params['momentum'], \n",
    "    weight_decay=params['weight_decay']\n",
    ")\n",
    "lr_scheduler = optim.lr_scheduler.ReduceLROnPlateau(\n",
    "    optimizer, \n",
    "    mode='min', \n",
    "    factor=0.1, \n",
    "    patience=params['patience'], \n",
    "    verbose=False, \n",
    "    min_lr=1e-6\n",
    ")\n",
    "scaler = torch.cuda.amp.GradScaler()  # initialize scaler for mixed precision\n",
    "\n",
    "print('Ready to load data !')"
   ]
  },
  {
   "cell_type": "code",
   "execution_count": 13,
   "id": "a12d179c-0bd8-4ca3-9de8-a679e9537406",
   "metadata": {},
   "outputs": [
    {
     "name": "stdout",
     "output_type": "stream",
     "text": [
      "Training and validation data loaded!\n"
     ]
    }
   ],
   "source": [
    "# Load the image data as a Dataset\n",
    "# Uses the opimum window size calculated earlier\n",
    "\n",
    "imdir = stack_da_fp\n",
    "bs = params['batch_size']\n",
    "window_size = params['window_size']\n",
    "\n",
    "# Create the training samples\n",
    "train_ds = RoofImageDatasetPlanet(train_df[['geometry', 'code']], imdir, n_bands=n_bands, img_dim=window_size)\n",
    "train_loader = DataLoader(train_ds, batch_size=bs, num_workers=0, shuffle=True, pin_memory=True) \n",
    "\n",
    "# Create the validation samples\n",
    "val_ds = RoofImageDatasetPlanet(val_df[['geometry', 'code']], imdir, n_bands=n_bands, img_dim=window_size)\n",
    "val_loader = DataLoader(val_ds, batch_size=bs, num_workers=0, shuffle=False, pin_memory=True)\n",
    "\n",
    "# Create the test samples\n",
    "test_ds = RoofImageDatasetPlanet(test_df[['geometry', 'code']], imdir, n_bands=n_bands, img_dim=window_size)\n",
    "test_loader = DataLoader(test_ds, batch_size=bs, num_workers=0, shuffle=False, pin_memory=True)\n",
    "\n",
    "print(\"Training and validation data loaded!\")"
   ]
  },
  {
   "cell_type": "code",
   "execution_count": 14,
   "id": "5d575af0-fe24-43f0-96b7-467d5475c762",
   "metadata": {},
   "outputs": [
    {
     "name": "stdout",
     "output_type": "stream",
     "text": [
      "Total samples: 16575;\n",
      "Value counts: [4698, 4698, 4698, 767, 691, 554, 469]\n",
      "Class weights: tensor([ 3.5281,  3.5281,  3.5281, 21.6102, 23.9870, 29.9188, 35.3412],\n",
      "       device='cuda:0')\n",
      "Normalized class weights: tensor([0.0291, 0.0291, 0.0291, 0.1779, 0.1975, 0.2464, 0.2910],\n",
      "       device='cuda:0')\n"
     ]
    }
   ],
   "source": [
    "# Number of samples in each class\n",
    "val_counts = list(train_df['code'].value_counts())\n",
    "total_samples = sum(val_counts) # total number of samples\n",
    "print(f'Total samples: {total_samples};\\nValue counts: {val_counts}')\n",
    "\n",
    "# Calculate class weights\n",
    "class_weights = [total_samples / count for count in val_counts]\n",
    "class_weights = torch.tensor(class_weights, dtype=torch.float).to(device)\n",
    "print(f\"Class weights: {class_weights}\")\n",
    "\n",
    "class_weights_norm = class_weights / class_weights.sum()\n",
    "print(f\"Normalized class weights: {class_weights_norm}\")\n",
    "\n",
    "# Updated loss function with weights\n",
    "criterion = nn.CrossEntropyLoss(weight=class_weights_norm).to(device)"
   ]
  },
  {
   "cell_type": "code",
   "execution_count": 15,
   "id": "95d9c1a4-3107-4970-816e-c9a122ddeaa8",
   "metadata": {},
   "outputs": [
    {
     "data": {
      "text/plain": [
       "169"
      ]
     },
     "execution_count": 15,
     "metadata": {},
     "output_type": "execute_result"
    }
   ],
   "source": [
    "gc.collect()"
   ]
  },
  {
   "cell_type": "code",
   "execution_count": 16,
   "id": "2350d162-f79d-48fd-a362-34c4982aefba",
   "metadata": {},
   "outputs": [
    {
     "name": "stdout",
     "output_type": "stream",
     "text": [
      "Epoch [1]. Current learning rate: 0.01\n",
      "\ttrain progress: [0/16575] (0.00)%\n",
      "\tbatch train loss: 2.0596;\tcumulative batch: 259\n",
      "\ttrain progress: [4096/16575] (24.71)%\n",
      "\tbatch train loss: 1.6667;\tcumulative batch: 323\n",
      "\ttrain progress: [8192/16575] (49.42)%\n",
      "\tbatch train loss: 1.6543;\tcumulative batch: 387\n",
      "\ttrain progress: [12288/16575] (74.13)%\n",
      "\tbatch train loss: 1.3044;\tcumulative batch: 451\n",
      "\ttrain progress: [16384/16575] (98.84)%\n",
      "\tbatch train loss: 1.4265;\tcumulative batch: 515\n",
      "\n",
      "Epoch [1] completed.\n",
      "\ttrain loss: 1.6320627246584212; validation loss = 1.5201\n",
      "\tAccuracy (validation): [3273/8839] (37.0291)%;\n",
      "\tF1-score (validation): 0.3982\n",
      "Time to complete epoch [1]: 6.40 minutes.\n",
      "\n",
      "~~~~~~~~~~\n",
      "\n",
      "Epoch [2]. Current learning rate: 0.01\n",
      "\ttrain progress: [0/16575] (0.00)%\n",
      "\tbatch train loss: 1.7316;\tcumulative batch: 518\n",
      "\ttrain progress: [4096/16575] (24.71)%\n",
      "\tbatch train loss: 1.2661;\tcumulative batch: 582\n",
      "\ttrain progress: [8192/16575] (49.42)%\n",
      "\tbatch train loss: 1.5783;\tcumulative batch: 646\n",
      "\ttrain progress: [12288/16575] (74.13)%\n",
      "\tbatch train loss: 1.5667;\tcumulative batch: 710\n",
      "\ttrain progress: [16384/16575] (98.84)%\n",
      "\tbatch train loss: 1.4247;\tcumulative batch: 774\n",
      "\n",
      "Epoch [2] completed.\n",
      "\ttrain loss: 1.4262384735479319; validation loss = 1.2257\n",
      "\tAccuracy (validation): [4816/8839] (54.4858)%;\n",
      "\tF1-score (validation): 0.5556\n",
      "Time to complete epoch [2]: 6.34 minutes.\n",
      "\n",
      "~~~~~~~~~~\n",
      "\n",
      "Epoch [3]. Current learning rate: 0.01\n",
      "\ttrain progress: [0/16575] (0.00)%\n",
      "\tbatch train loss: 1.7083;\tcumulative batch: 777\n",
      "\ttrain progress: [4096/16575] (24.71)%\n",
      "\tbatch train loss: 0.9418;\tcumulative batch: 841\n",
      "\ttrain progress: [8192/16575] (49.42)%\n",
      "\tbatch train loss: 1.4243;\tcumulative batch: 905\n",
      "\ttrain progress: [12288/16575] (74.13)%\n",
      "\tbatch train loss: 1.2093;\tcumulative batch: 969\n",
      "\ttrain progress: [16384/16575] (98.84)%\n",
      "\tbatch train loss: 1.0866;\tcumulative batch: 1033\n",
      "\n",
      "Epoch [3] completed.\n",
      "\ttrain loss: 1.2982078790664673; validation loss = 1.3248\n",
      "\tAccuracy (validation): [4138/8839] (46.8153)%;\n",
      "\tF1-score (validation): 0.5141\n",
      "Time to complete epoch [3]: 6.34 minutes.\n",
      "\n",
      "~~~~~~~~~~\n",
      "\n",
      "Epoch [4]. Current learning rate: 0.01\n",
      "\ttrain progress: [0/16575] (0.00)%\n",
      "\tbatch train loss: 1.4154;\tcumulative batch: 1036\n",
      "\ttrain progress: [4096/16575] (24.71)%\n",
      "\tbatch train loss: 1.1349;\tcumulative batch: 1100\n",
      "\ttrain progress: [8192/16575] (49.42)%\n",
      "\tbatch train loss: 1.2160;\tcumulative batch: 1164\n",
      "\ttrain progress: [12288/16575] (74.13)%\n",
      "\tbatch train loss: 1.0142;\tcumulative batch: 1228\n",
      "\ttrain progress: [16384/16575] (98.84)%\n",
      "\tbatch train loss: 1.2595;\tcumulative batch: 1292\n",
      "\n",
      "Epoch [4] completed.\n",
      "\ttrain loss: 1.1902293392590113; validation loss = 1.3453\n",
      "\tAccuracy (validation): [4083/8839] (46.1930)%;\n",
      "\tF1-score (validation): 0.5043\n",
      "Time to complete epoch [4]: 6.33 minutes.\n",
      "\n",
      "~~~~~~~~~~\n",
      "\n",
      "Epoch [5]. Current learning rate: 0.01\n",
      "\ttrain progress: [0/16575] (0.00)%\n",
      "\tbatch train loss: 1.0264;\tcumulative batch: 1295\n",
      "\ttrain progress: [4096/16575] (24.71)%\n",
      "\tbatch train loss: 1.1274;\tcumulative batch: 1359\n",
      "\ttrain progress: [8192/16575] (49.42)%\n",
      "\tbatch train loss: 1.1830;\tcumulative batch: 1423\n",
      "\ttrain progress: [12288/16575] (74.13)%\n",
      "\tbatch train loss: 0.9229;\tcumulative batch: 1487\n",
      "\ttrain progress: [16384/16575] (98.84)%\n",
      "\tbatch train loss: 1.0808;\tcumulative batch: 1551\n",
      "\n",
      "Epoch [5] completed.\n",
      "\ttrain loss: 1.0683799323888359; validation loss = 1.3431\n",
      "\tAccuracy (validation): [4281/8839] (48.4331)%;\n",
      "\tF1-score (validation): 0.5161\n",
      "Time to complete epoch [5]: 6.33 minutes.\n",
      "\n",
      "~~~~~~~~~~\n",
      "\n",
      "Epoch [6]. Current learning rate: 0.01\n",
      "\ttrain progress: [0/16575] (0.00)%\n",
      "\tbatch train loss: 0.8104;\tcumulative batch: 1554\n",
      "\ttrain progress: [4096/16575] (24.71)%\n",
      "\tbatch train loss: 0.8963;\tcumulative batch: 1618\n",
      "\ttrain progress: [8192/16575] (49.42)%\n",
      "\tbatch train loss: 0.6514;\tcumulative batch: 1682\n",
      "\ttrain progress: [12288/16575] (74.13)%\n",
      "\tbatch train loss: 0.9598;\tcumulative batch: 1746\n",
      "\ttrain progress: [16384/16575] (98.84)%\n",
      "\tbatch train loss: 0.9862;\tcumulative batch: 1810\n",
      "\n",
      "Epoch [6] completed.\n",
      "\ttrain loss: 0.9260107531970992; validation loss = 1.2663\n",
      "\tAccuracy (validation): [4540/8839] (51.3633)%;\n",
      "\tF1-score (validation): 0.5457\n",
      "! LR-Scheduler [ReduceLROnPlateau] adjustment: 0.001 !\n",
      "Time to complete epoch [6]: 6.35 minutes.\n",
      "\n",
      "~~~~~~~~~~\n",
      "\n",
      "Epoch [7]. Current learning rate: 0.001\n",
      "\ttrain progress: [0/16575] (0.00)%\n",
      "\tbatch train loss: 0.7742;\tcumulative batch: 1813\n",
      "\ttrain progress: [4096/16575] (24.71)%\n",
      "\tbatch train loss: 0.4799;\tcumulative batch: 1877\n",
      "\ttrain progress: [8192/16575] (49.42)%\n",
      "\tbatch train loss: 0.5128;\tcumulative batch: 1941\n",
      "\ttrain progress: [12288/16575] (74.13)%\n",
      "\tbatch train loss: 0.4721;\tcumulative batch: 2005\n",
      "\ttrain progress: [16384/16575] (98.84)%\n",
      "\tbatch train loss: 0.6210;\tcumulative batch: 2069\n",
      "\n",
      "Epoch [7] completed.\n",
      "\ttrain loss: 0.6080268895303881; validation loss = 1.0931\n",
      "\tAccuracy (validation): [5309/8839] (60.0634)%;\n",
      "\tF1-score (validation): 0.6151\n",
      "Time to complete epoch [7]: 6.36 minutes.\n",
      "\n",
      "~~~~~~~~~~\n",
      "\n",
      "Epoch [8]. Current learning rate: 0.001\n",
      "\ttrain progress: [0/16575] (0.00)%\n",
      "\tbatch train loss: 0.5365;\tcumulative batch: 2072\n",
      "\ttrain progress: [4096/16575] (24.71)%\n",
      "\tbatch train loss: 0.5447;\tcumulative batch: 2136\n",
      "\ttrain progress: [8192/16575] (49.42)%\n",
      "\tbatch train loss: 0.3853;\tcumulative batch: 2200\n",
      "\ttrain progress: [12288/16575] (74.13)%\n",
      "\tbatch train loss: 0.3510;\tcumulative batch: 2264\n",
      "\ttrain progress: [16384/16575] (98.84)%\n",
      "\tbatch train loss: 0.4137;\tcumulative batch: 2328\n",
      "\n",
      "Epoch [8] completed.\n",
      "\ttrain loss: 0.42698112475365746; validation loss = 1.0626\n",
      "\tAccuracy (validation): [5601/8839] (63.3669)%;\n",
      "\tF1-score (validation): 0.6400\n",
      "Time to complete epoch [8]: 6.34 minutes.\n",
      "\n",
      "~~~~~~~~~~\n",
      "\n",
      "Epoch [9]. Current learning rate: 0.001\n",
      "\ttrain progress: [0/16575] (0.00)%\n",
      "\tbatch train loss: 0.4300;\tcumulative batch: 2331\n",
      "\ttrain progress: [4096/16575] (24.71)%\n",
      "\tbatch train loss: 0.2178;\tcumulative batch: 2395\n",
      "\ttrain progress: [8192/16575] (49.42)%\n",
      "\tbatch train loss: 0.3257;\tcumulative batch: 2459\n",
      "\ttrain progress: [12288/16575] (74.13)%\n",
      "\tbatch train loss: 0.3293;\tcumulative batch: 2523\n",
      "\ttrain progress: [16384/16575] (98.84)%\n",
      "\tbatch train loss: 0.3146;\tcumulative batch: 2587\n",
      "\n",
      "Epoch [9] completed.\n",
      "\ttrain loss: 0.344552848272342; validation loss = 1.0489\n",
      "\tAccuracy (validation): [5749/8839] (65.0413)%;\n",
      "\tF1-score (validation): 0.6508\n",
      "Time to complete epoch [9]: 6.34 minutes.\n",
      "\n",
      "~~~~~~~~~~\n",
      "\n",
      "Epoch [10]. Current learning rate: 0.001\n",
      "\ttrain progress: [0/16575] (0.00)%\n",
      "\tbatch train loss: 0.2884;\tcumulative batch: 2590\n",
      "\ttrain progress: [4096/16575] (24.71)%\n",
      "\tbatch train loss: 0.2698;\tcumulative batch: 2654\n",
      "\ttrain progress: [8192/16575] (49.42)%\n",
      "\tbatch train loss: 0.3041;\tcumulative batch: 2718\n",
      "\ttrain progress: [12288/16575] (74.13)%\n",
      "\tbatch train loss: 0.2567;\tcumulative batch: 2782\n",
      "\ttrain progress: [16384/16575] (98.84)%\n",
      "\tbatch train loss: 0.1737;\tcumulative batch: 2846\n",
      "\n",
      "Epoch [10] completed.\n",
      "\ttrain loss: 0.29218025183355484; validation loss = 1.0424\n",
      "\tAccuracy (validation): [5875/8839] (66.4668)%;\n",
      "\tF1-score (validation): 0.6607\n",
      "Time to complete epoch [10]: 6.34 minutes.\n",
      "\n",
      "~~~~~~~~~~\n",
      "\n",
      "Epoch [11]. Current learning rate: 0.001\n",
      "\ttrain progress: [0/16575] (0.00)%\n",
      "\tbatch train loss: 0.3203;\tcumulative batch: 2849\n",
      "\ttrain progress: [4096/16575] (24.71)%\n",
      "\tbatch train loss: 0.2880;\tcumulative batch: 2913\n",
      "\ttrain progress: [8192/16575] (49.42)%\n",
      "\tbatch train loss: 0.4249;\tcumulative batch: 2977\n",
      "\ttrain progress: [12288/16575] (74.13)%\n",
      "\tbatch train loss: 0.2888;\tcumulative batch: 3041\n",
      "\ttrain progress: [16384/16575] (98.84)%\n",
      "\tbatch train loss: 0.3088;\tcumulative batch: 3105\n",
      "\n",
      "Epoch [11] completed.\n",
      "\ttrain loss: 0.25180354346179595; validation loss = 1.0566\n",
      "\tAccuracy (validation): [5884/8839] (66.5686)%;\n",
      "\tF1-score (validation): 0.6609\n",
      "Time to complete epoch [11]: 6.34 minutes.\n",
      "\n",
      "~~~~~~~~~~\n",
      "\n",
      "Epoch [12]. Current learning rate: 0.001\n",
      "\ttrain progress: [0/16575] (0.00)%\n",
      "\tbatch train loss: 0.1974;\tcumulative batch: 3108\n",
      "\ttrain progress: [4096/16575] (24.71)%\n",
      "\tbatch train loss: 0.1995;\tcumulative batch: 3172\n",
      "\ttrain progress: [8192/16575] (49.42)%\n",
      "\tbatch train loss: 0.1786;\tcumulative batch: 3236\n",
      "\ttrain progress: [12288/16575] (74.13)%\n",
      "\tbatch train loss: 0.2138;\tcumulative batch: 3300\n",
      "\ttrain progress: [16384/16575] (98.84)%\n",
      "\tbatch train loss: 0.1915;\tcumulative batch: 3364\n",
      "\n",
      "Epoch [12] completed.\n",
      "\ttrain loss: 0.2175519615987093; validation loss = 1.0822\n",
      "\tAccuracy (validation): [5856/8839] (66.2518)%;\n",
      "\tF1-score (validation): 0.6590\n",
      "Time to complete epoch [12]: 6.35 minutes.\n",
      "\n",
      "~~~~~~~~~~\n",
      "\n",
      "Epoch [13]. Current learning rate: 0.001\n",
      "\ttrain progress: [0/16575] (0.00)%\n",
      "\tbatch train loss: 0.1702;\tcumulative batch: 3367\n",
      "\ttrain progress: [4096/16575] (24.71)%\n",
      "\tbatch train loss: 0.1487;\tcumulative batch: 3431\n",
      "\ttrain progress: [8192/16575] (49.42)%\n",
      "\tbatch train loss: 0.1276;\tcumulative batch: 3495\n",
      "\ttrain progress: [12288/16575] (74.13)%\n",
      "\tbatch train loss: 0.0858;\tcumulative batch: 3559\n",
      "\ttrain progress: [16384/16575] (98.84)%\n",
      "\tbatch train loss: 0.2157;\tcumulative batch: 3623\n",
      "\n",
      "Epoch [13] completed.\n",
      "\ttrain loss: 0.18433726619224292; validation loss = 1.1083\n",
      "\tAccuracy (validation): [5825/8839] (65.9011)%;\n",
      "\tF1-score (validation): 0.6541\n",
      "Time to complete epoch [13]: 6.35 minutes.\n",
      "\n",
      "~~~~~~~~~~\n",
      "\n",
      "Epoch [14]. Current learning rate: 0.001\n",
      "\ttrain progress: [0/16575] (0.00)%\n",
      "\tbatch train loss: 0.1501;\tcumulative batch: 3626\n",
      "\ttrain progress: [4096/16575] (24.71)%\n",
      "\tbatch train loss: 0.1222;\tcumulative batch: 3690\n",
      "\ttrain progress: [8192/16575] (49.42)%\n",
      "\tbatch train loss: 0.1959;\tcumulative batch: 3754\n",
      "\ttrain progress: [12288/16575] (74.13)%\n",
      "\tbatch train loss: 0.1599;\tcumulative batch: 3818\n",
      "\ttrain progress: [16384/16575] (98.84)%\n",
      "\tbatch train loss: 0.1419;\tcumulative batch: 3882\n",
      "\n",
      "Epoch [14] completed.\n",
      "\ttrain loss: 0.14885385837909337; validation loss = 1.1311\n",
      "\tAccuracy (validation): [5871/8839] (66.4215)%;\n",
      "\tF1-score (validation): 0.6580\n",
      "! LR-Scheduler [ReduceLROnPlateau] adjustment: 0.0001 !\n",
      "Time to complete epoch [14]: 6.35 minutes.\n",
      "\n",
      "~~~~~~~~~~\n",
      "\n",
      "Epoch [15]. Current learning rate: 0.0001\n",
      "\ttrain progress: [0/16575] (0.00)%\n",
      "\tbatch train loss: 0.1093;\tcumulative batch: 3885\n",
      "\ttrain progress: [4096/16575] (24.71)%\n",
      "\tbatch train loss: 0.2367;\tcumulative batch: 3949\n",
      "\ttrain progress: [8192/16575] (49.42)%\n",
      "\tbatch train loss: 0.0869;\tcumulative batch: 4013\n",
      "\ttrain progress: [12288/16575] (74.13)%\n",
      "\tbatch train loss: 0.0984;\tcumulative batch: 4077\n",
      "\ttrain progress: [16384/16575] (98.84)%\n",
      "\tbatch train loss: 0.1051;\tcumulative batch: 4141\n",
      "\n",
      "Epoch [15] completed.\n",
      "\ttrain loss: 0.11175983496959606; validation loss = 1.1222\n",
      "\tAccuracy (validation): [5922/8839] (66.9985)%;\n",
      "\tF1-score (validation): 0.6630\n",
      "Time to complete epoch [15]: 6.34 minutes.\n",
      "\n",
      "~~~~~~~~~~\n",
      "\n",
      "Epoch [16]. Current learning rate: 0.0001\n",
      "\ttrain progress: [0/16575] (0.00)%\n",
      "\tbatch train loss: 0.0917;\tcumulative batch: 4144\n",
      "\ttrain progress: [4096/16575] (24.71)%\n",
      "\tbatch train loss: 0.0845;\tcumulative batch: 4208\n",
      "\ttrain progress: [8192/16575] (49.42)%\n",
      "\tbatch train loss: 0.0887;\tcumulative batch: 4272\n",
      "\ttrain progress: [12288/16575] (74.13)%\n",
      "\tbatch train loss: 0.1247;\tcumulative batch: 4336\n",
      "\ttrain progress: [16384/16575] (98.84)%\n",
      "\tbatch train loss: 0.2036;\tcumulative batch: 4400\n",
      "\n",
      "Epoch [16] completed.\n",
      "\ttrain loss: 0.10823510457765181; validation loss = 1.1298\n",
      "\tAccuracy (validation): [5888/8839] (66.6139)%;\n",
      "\tF1-score (validation): 0.6596\n",
      "Time to complete epoch [16]: 6.35 minutes.\n",
      "\n",
      "~~~~~~~~~~\n",
      "\n",
      "Epoch [17]. Current learning rate: 0.0001\n",
      "\ttrain progress: [0/16575] (0.00)%\n",
      "\tbatch train loss: 0.1074;\tcumulative batch: 4403\n",
      "\ttrain progress: [4096/16575] (24.71)%\n",
      "\tbatch train loss: 0.0816;\tcumulative batch: 4467\n",
      "\ttrain progress: [8192/16575] (49.42)%\n",
      "\tbatch train loss: 0.1073;\tcumulative batch: 4531\n",
      "\ttrain progress: [12288/16575] (74.13)%\n",
      "\tbatch train loss: 0.1088;\tcumulative batch: 4595\n",
      "\ttrain progress: [16384/16575] (98.84)%\n",
      "\tbatch train loss: 0.0997;\tcumulative batch: 4659\n",
      "\n",
      "Epoch [17] completed.\n",
      "\ttrain loss: 0.10220990545731254; validation loss = 1.1345\n",
      "\tAccuracy (validation): [5876/8839] (66.4781)%;\n",
      "\tF1-score (validation): 0.6575\n",
      "Time to complete epoch [17]: 6.37 minutes.\n",
      "\n",
      "~~~~~~~~~~\n",
      "\n",
      "Epoch [18]. Current learning rate: 0.0001\n",
      "\ttrain progress: [0/16575] (0.00)%\n",
      "\tbatch train loss: 0.0959;\tcumulative batch: 4662\n",
      "\ttrain progress: [4096/16575] (24.71)%\n",
      "\tbatch train loss: 0.1297;\tcumulative batch: 4726\n",
      "\ttrain progress: [8192/16575] (49.42)%\n",
      "\tbatch train loss: 0.0997;\tcumulative batch: 4790\n",
      "\ttrain progress: [12288/16575] (74.13)%\n",
      "\tbatch train loss: 0.0684;\tcumulative batch: 4854\n",
      "\ttrain progress: [16384/16575] (98.84)%\n",
      "\tbatch train loss: 0.0724;\tcumulative batch: 4918\n",
      "\n",
      "Epoch [18] completed.\n",
      "\ttrain loss: 0.09799708568393954; validation loss = 1.1333\n",
      "\tAccuracy (validation): [5908/8839] (66.8401)%;\n",
      "\tF1-score (validation): 0.6611\n",
      "! LR-Scheduler [ReduceLROnPlateau] adjustment: 1e-05 !\n",
      "Time to complete epoch [18]: 6.38 minutes.\n",
      "\n",
      "~~~~~~~~~~\n",
      "\n",
      "Epoch [19]. Current learning rate: 1e-05\n",
      "\ttrain progress: [0/16575] (0.00)%\n",
      "\tbatch train loss: 0.1953;\tcumulative batch: 4921\n",
      "\ttrain progress: [4096/16575] (24.71)%\n",
      "\tbatch train loss: 0.0996;\tcumulative batch: 4985\n",
      "\ttrain progress: [8192/16575] (49.42)%\n",
      "\tbatch train loss: 0.1250;\tcumulative batch: 5049\n",
      "\ttrain progress: [12288/16575] (74.13)%\n",
      "\tbatch train loss: 0.0859;\tcumulative batch: 5113\n",
      "\ttrain progress: [16384/16575] (98.84)%\n",
      "\tbatch train loss: 0.0899;\tcumulative batch: 5177\n",
      "\n",
      "Epoch [19] completed.\n",
      "\ttrain loss: 0.09646008050062022; validation loss = 1.1341\n",
      "\tAccuracy (validation): [5913/8839] (66.8967)%;\n",
      "\tF1-score (validation): 0.6619\n",
      "Time to complete epoch [19]: 6.42 minutes.\n",
      "\n",
      "~~~~~~~~~~\n",
      "\n",
      "Epoch [20]. Current learning rate: 1e-05\n",
      "\ttrain progress: [0/16575] (0.00)%\n",
      "\tbatch train loss: 0.1123;\tcumulative batch: 5180\n",
      "\ttrain progress: [4096/16575] (24.71)%\n",
      "\tbatch train loss: 0.1020;\tcumulative batch: 5244\n",
      "\ttrain progress: [8192/16575] (49.42)%\n",
      "\tbatch train loss: 0.0867;\tcumulative batch: 5308\n",
      "\ttrain progress: [12288/16575] (74.13)%\n",
      "\tbatch train loss: 0.0811;\tcumulative batch: 5372\n",
      "\ttrain progress: [16384/16575] (98.84)%\n",
      "\tbatch train loss: 0.1061;\tcumulative batch: 5436\n",
      "\n",
      "Epoch [20] completed.\n",
      "\ttrain loss: 0.09664993308858522; validation loss = 1.1326\n",
      "\tAccuracy (validation): [5892/8839] (66.6591)%;\n",
      "\tF1-score (validation): 0.6591\n",
      "Time to complete epoch [20]: 6.45 minutes.\n",
      "\n",
      "~~~~~~~~~~\n",
      "\n",
      "Epoch [21]. Current learning rate: 1e-05\n",
      "\ttrain progress: [0/16575] (0.00)%\n",
      "\tbatch train loss: 0.0991;\tcumulative batch: 5439\n",
      "\ttrain progress: [4096/16575] (24.71)%\n",
      "\tbatch train loss: 0.1260;\tcumulative batch: 5503\n",
      "\ttrain progress: [8192/16575] (49.42)%\n",
      "\tbatch train loss: 0.0775;\tcumulative batch: 5567\n",
      "\ttrain progress: [12288/16575] (74.13)%\n",
      "\tbatch train loss: 0.0922;\tcumulative batch: 5631\n",
      "\ttrain progress: [16384/16575] (98.84)%\n",
      "\tbatch train loss: 0.0799;\tcumulative batch: 5695\n",
      "\n",
      "Epoch [21] completed.\n",
      "\ttrain loss: 0.09470996277903038; validation loss = 1.1320\n",
      "\tAccuracy (validation): [5929/8839] (67.0777)%;\n",
      "\tF1-score (validation): 0.6633\n",
      "Time to complete epoch [21]: 6.42 minutes.\n",
      "\n",
      "~~~~~~~~~~\n",
      "\n",
      "Total elapsed time: 133.61 minutes.\n"
     ]
    }
   ],
   "source": [
    "t0 = time.time()\n",
    "\n",
    "print_freq = int(len(train_loader) // 4) # quarterly print statements\n",
    "\n",
    "# Initialize lists to track the losses for each epoch\n",
    "train_losses = [] # stores epoch train losses\n",
    "val_losses = [] # stores epoch validation losses\n",
    "batch_train_losses= [] # all batch train losses\n",
    "batch_val_losses = [] # all batch val losses\n",
    "\n",
    "num_epochs = 22 # adjust as needed\n",
    "for epoch in range(1, num_epochs):\n",
    "    t00 = time.time() # epoch start time\n",
    "\n",
    "    # The current learning rate:\n",
    "    current_lr = optimizer.param_groups[0]['lr']\n",
    "    print(f\"Epoch [{epoch}]. Current learning rate: {current_lr}\")\n",
    "\n",
    "    # Training loop\n",
    "    model.train()\n",
    "\n",
    "    batch_train_losses = [] # to store the loss/batch\n",
    "    \n",
    "    for idx, batch in enumerate(train_loader):\n",
    "        # Ensure a good batch\n",
    "        batch = make_good_batch(batch)\n",
    "        \n",
    "        # Extract samples (image chunk, target label)\n",
    "        image, target = batch['image'].to(device), batch['code'].to(device)\n",
    "\n",
    "        optimizer.zero_grad() # reset the gradient\n",
    "\n",
    "        # Use mixed precision\n",
    "        with torch.cuda.amp.autocast():\n",
    "            output = model(image.float())\n",
    "            loss = criterion(output, target.long())\n",
    "\n",
    "        scaler.scale(loss).backward()  # Mixed precision backward pass\n",
    "        scaler.step(optimizer)  # Optimizer step\n",
    "        scaler.update()\n",
    "\n",
    "        # Print the train progress % and current loss\n",
    "        if idx % print_freq == 0:\n",
    "            print(f'\\ttrain progress: [{idx * len(image)}/{len(train_loader.dataset)}] ({(100. * idx / len(train_loader)):.2f})%')\n",
    "            print(f'\\tbatch train loss: {loss.item():.4f};\\tcumulative batch: {len(train_loader) * epoch + idx}')\n",
    "        \n",
    "        batch_train_losses.append((idx, loss.item())) # append to batch losses list\n",
    "\n",
    "        del image, target, batch, output, loss\n",
    "                \n",
    "    # average loss for the epoch (across batches)\n",
    "    train_loss = np.array(batch_train_losses)[:,1].mean()\n",
    "    train_losses.append(train_loss)\n",
    "    \n",
    "    # validation loss\n",
    "    model.eval()\n",
    "    \n",
    "    val_loss = 0\n",
    "    correct = 0\n",
    "    all_labs = []\n",
    "    all_preds = []\n",
    "    \n",
    "    with torch.no_grad():\n",
    "        for idx, batch in enumerate(val_loader):\n",
    "            # Ensure a good batch\n",
    "            batch = make_good_batch(batch) \n",
    "            \n",
    "            # Extract samples\n",
    "            image, target = batch['image'].to(device), batch['code'].to(device)\n",
    "            output = model(image.float())\n",
    "\n",
    "            # Get validation loss and predictions\n",
    "            val_loss += criterion(output, target).item()\n",
    "            predicted = output.argmax(dim=1, keepdim=True)  # get the index of the max log-probability\n",
    "            correct += predicted.eq(target.view_as(predicted)).sum().item() # Number of correct\n",
    "            \n",
    "            # Store the labels\n",
    "            all_labs.extend(target.cpu().numpy())\n",
    "            all_preds.extend(predicted.cpu().numpy())\n",
    "\n",
    "            del image, target, batch, output\n",
    "            \n",
    "        val_loss /= len(val_loader.dataset)/val_loader.batch_size\n",
    "        val_losses.append(val_loss)\n",
    "    \n",
    "    print(f\"\\nEpoch [{epoch}] completed.\")\n",
    "    print(f'\\ttrain loss: {train_loss}; validation loss = {val_loss:.4f}')\n",
    "\n",
    "    acc = 100. * correct / len(val_loader.dataset)\n",
    "    f1 = f1_score(all_labs, all_preds, average=\"weighted\")\n",
    "    print(f'\\tAccuracy (validation): [{correct}/{len(val_loader.dataset)}] ({acc:.4f})%;\\n\\tF1-score (validation): {f1:.4f}')\n",
    "\n",
    "    # Adjust the learning rate based on the validation loss\n",
    "    lr_scheduler.step(val_loss)\n",
    "    if optimizer.param_groups[0]['lr'] != current_lr:\n",
    "        print(f\"! LR-Scheduler [ReduceLROnPlateau] adjustment: {optimizer.param_groups[0]['lr']} !\")\n",
    "     \n",
    "    t1 = (time.time() - t00) / 60\n",
    "    print(f\"Time to complete epoch [{epoch}]: {t1:.2f} minutes.\")\n",
    "    print(\"\\n~~~~~~~~~~\\n\")\n",
    "    \n",
    "    gc.collect() # do a garbage cleanup\n",
    "    torch.cuda.empty_cache() # empty the GPU\n",
    "    \n",
    "t2 = (time.time() - t0) / 60\n",
    "print(f\"Total elapsed time: {t2:.2f} minutes.\")"
   ]
  },
  {
   "cell_type": "code",
   "execution_count": null,
   "id": "575d0fc8-11b3-4ae8-9771-2ce256d4dc55",
   "metadata": {},
   "outputs": [],
   "source": []
  },
  {
   "cell_type": "code",
   "execution_count": 17,
   "id": "a2a8dda5-6d81-40f5-a9ab-50c185e1d690",
   "metadata": {},
   "outputs": [],
   "source": [
    "results_dir = os.path.join(homedir,'results/')"
   ]
  },
  {
   "cell_type": "code",
   "execution_count": 38,
   "id": "ad061561-38d0-428b-80f2-8a07c8fc7f96",
   "metadata": {},
   "outputs": [],
   "source": []
  },
  {
   "cell_type": "code",
   "execution_count": 18,
   "id": "49cae6be-fe93-4db0-9700-e61f04a2e6e2",
   "metadata": {},
   "outputs": [
    {
     "data": {
      "image/png": "[encoded data removed]",
      "text/plain": [
       "<Figure size 600x400 with 1 Axes>"
      ]
     },
     "metadata": {},
     "output_type": "display_data"
    }
   ],
   "source": [
    "# Plot the batch losses\n",
    "plt.figure(figsize=(6, 4))\n",
    "\n",
    "plt.plot(np.array(batch_train_losses)[:,1])\n",
    "\n",
    "plt.xlabel('batch')\n",
    "plt.ylabel('loss')\n",
    "plt.tight_layout()\n",
    "\n",
    "out_png = os.path.join(homedir,'results/dc_batch_train_loss.png')\n",
    "plt.savefig(out_png, dpi=300, bbox_inches='tight')\n",
    "\n",
    "plt.show()"
   ]
  },
  {
   "cell_type": "code",
   "execution_count": 19,
   "id": "b0a5366e-7979-4602-bde3-05c216c3d6d1",
   "metadata": {},
   "outputs": [
    {
     "data": {
      "image/png": "[encoded data removed]",
      "text/plain": [
       "<Figure size 640x480 with 1 Axes>"
      ]
     },
     "metadata": {},
     "output_type": "display_data"
    }
   ],
   "source": [
    "# Epoch training loss\n",
    "plt.plot(train_losses, label='training loss')\n",
    "plt.plot(val_losses, label='validation loss')\n",
    "plt.xlabel('epoch')\n",
    "plt.ylabel('loss')\n",
    "plt.tight_layout()\n",
    "plt.legend()\n",
    "\n",
    "out_png = os.path.join(homedir,'results/dc_epoch_trainval_loss.png')\n",
    "plt.savefig(out_png, dpi=300, bbox_inches='tight')\n",
    "\n",
    "plt.show()"
   ]
  },
  {
   "cell_type": "code",
   "execution_count": null,
   "id": "5270f143-d978-48dd-b467-d05bd7cb0c87",
   "metadata": {},
   "outputs": [],
   "source": []
  },
  {
   "cell_type": "code",
   "execution_count": null,
   "id": "e9a614c5-c826-4b09-9cca-596f626134b5",
   "metadata": {},
   "outputs": [],
   "source": [
    "# Check model complexity"
   ]
  },
  {
   "cell_type": "code",
   "execution_count": 20,
   "id": "5f37a36b-6a39-4fc3-8523-a45293f88ef2",
   "metadata": {},
   "outputs": [
    {
     "name": "stdout",
     "output_type": "stream",
     "text": [
      "Number of traininable model parameters: 11189511\n"
     ]
    }
   ],
   "source": [
    "train_model_params = sum(p.numel() for p in model.parameters() if p.requires_grad)\n",
    "print(f\"Number of traininable model parameters: {train_model_params}\")"
   ]
  },
  {
   "cell_type": "code",
   "execution_count": null,
   "id": "0e7453ef-2bde-43b7-85fa-01a23009d4d4",
   "metadata": {},
   "outputs": [],
   "source": []
  },
  {
   "cell_type": "code",
   "execution_count": null,
   "id": "13951ea1-9411-4930-946e-ebb9b4b5f046",
   "metadata": {},
   "outputs": [],
   "source": [
    "# Save the model elements"
   ]
  },
  {
   "cell_type": "code",
   "execution_count": 21,
   "id": "7d81b9fa-1629-4b26-ac09-32af1819816d",
   "metadata": {},
   "outputs": [
    {
     "data": {
      "text/plain": [
       "'/home/jovyan/opp-rooftop-mapping/code'"
      ]
     },
     "execution_count": 21,
     "metadata": {},
     "output_type": "execute_result"
    }
   ],
   "source": [
    "os.getcwd()"
   ]
  },
  {
   "cell_type": "code",
   "execution_count": 22,
   "id": "134768f5-2fa4-4f3e-ba77-ada188abbd95",
   "metadata": {},
   "outputs": [
    {
     "name": "stdout",
     "output_type": "stream",
     "text": [
      "Saved model and losses.\n"
     ]
    }
   ],
   "source": [
    "# Save the model\n",
    "save_res = True\n",
    "\n",
    "if save_res:\n",
    "    # directory\n",
    "    save_dir = os.path.join(homedir,'results/')\n",
    "    if not os.path.exists(save_dir):\n",
    "        os.makedirs(save_dir)\n",
    "\n",
    "    # save the model\n",
    "    step = len(train_losses)\n",
    "    model_nm = f'ep{num_epochs}_step{step}_b{bs}'\n",
    "    model_path = f'dc_planet_ms_{model_nm}.pt'\n",
    "    model_path = os.path.join(save_dir, model_path)\n",
    "    save = lambda ep: torch.save({\n",
    "            'model': model.state_dict(),\n",
    "            'epoch': epoch,\n",
    "            'step': step,\n",
    "        }, str(model_path))\n",
    "    save(model_path)\n",
    "\n",
    "    # save loss, etc\n",
    "\n",
    "    # batch loss\n",
    "    np.savetxt(os.path.join(save_dir,f'dc_batch_train_losses_{model_nm}.txt'), np.array(batch_train_losses))\n",
    "    np.savetxt(os.path.join(save_dir,f'dc_batch_val_losses_{model_nm}.txt'), np.array(batch_val_losses))\n",
    "    \n",
    "    # epoch loss\n",
    "    np.savetxt(os.path.join(save_dir,f'dc_train_losses_{model_nm}.txt'), np.array(train_losses))\n",
    "    np.savetxt(os.path.join(save_dir,f'dc_val_losses_{model_nm}.txt'), np.array(val_losses))\n",
    "\n",
    "print(\"Saved model and losses.\")"
   ]
  },
  {
   "cell_type": "code",
   "execution_count": 29,
   "id": "4d73166d-02a0-4a12-a988-9149467ff2b7",
   "metadata": {},
   "outputs": [],
   "source": []
  },
  {
   "cell_type": "code",
   "execution_count": null,
   "id": "a09351a7-d960-4df3-aaf0-7ce7d7e1928f",
   "metadata": {},
   "outputs": [],
   "source": [
    "# Make predictions on the holdout data"
   ]
  },
  {
   "cell_type": "code",
   "execution_count": null,
   "id": "babfddc5-248f-4279-994e-64f49c66beb8",
   "metadata": {},
   "outputs": [],
   "source": []
  },
  {
   "cell_type": "code",
   "execution_count": 23,
   "id": "e554d2e0-c1e1-4a85-b09e-990a82f7df59",
   "metadata": {},
   "outputs": [
    {
     "name": "stdout",
     "output_type": "stream",
     "text": [
      "Processed 0 samples...\n",
      "Processed 100 samples...\n",
      "Processed 200 samples...\n",
      "Processed 300 samples...\n",
      "Processed 400 samples...\n",
      "Processed 500 samples...\n",
      "Processed 600 samples...\n",
      "Processed 700 samples...\n",
      "Processed 800 samples...\n",
      "Processed 900 samples...\n",
      "Processed 1000 samples...\n",
      "Processed 1100 samples...\n",
      "Processed 1200 samples...\n",
      "Processed 1300 samples...\n",
      "Processed 1400 samples...\n",
      "Processed 1500 samples...\n",
      "Processed 1600 samples...\n",
      "Processed 1700 samples...\n",
      "Processed 1800 samples...\n",
      "Processed 1900 samples...\n",
      "Processed 2000 samples...\n",
      "Processed 2100 samples...\n",
      "Processed 2200 samples...\n"
     ]
    }
   ],
   "source": [
    "def get_prediction(m, s):\n",
    "    s = s.to(device)  # Ensure the sample is moved to the correct device\n",
    "    res = m(s)\n",
    "    return res\n",
    "\n",
    "true_labels = []\n",
    "pred_labels = []\n",
    "\n",
    "model.eval()  # Set model to evaluation mode\n",
    "\n",
    "for idx, sample in enumerate(test_ds):\n",
    "    try:\n",
    "        if sample['code'] != 255:\n",
    "            # Append true labels\n",
    "            true_labels.append(sample['code'].item())  # Convert tensor to Python scalar\n",
    "                        \n",
    "            # Get prediction and append\n",
    "            pred = get_prediction(model, sample['image'][None, ...].float().to(device))  # Ensure tensor is float and on the correct device\n",
    "            pred_labels.append(pred.argmax().item())  # Convert tensor to Python scalar\n",
    "            \n",
    "        else:\n",
    "            print(f'sample {idx} of {len(test_ds)} had class label 255, skipping...')\n",
    "        \n",
    "        if idx % 100 == 0:\n",
    "            time.sleep(0.3)\n",
    "            gc.collect()\n",
    "            print(f'Processed {idx} samples...')\n",
    "        \n",
    "    except Exception as e:\n",
    "        print(f'Error at sample {idx}: {e}, continuing...')"
   ]
  },
  {
   "cell_type": "code",
   "execution_count": 24,
   "id": "51dba4d1-565e-4e0a-ad67-0eaa092ff625",
   "metadata": {},
   "outputs": [
    {
     "name": "stdout",
     "output_type": "stream",
     "text": [
      "Code map: \n",
      "{0: 'CS', 1: 'ME', 2: 'SL', 3: 'UR', 5: 'WS', 4: 'TL', 6: 'SH'}\n",
      "Description map: \n",
      "{'CS': 'Composition Shingle', 'ME': 'Metal', 'SL': 'Slate', 'UR': 'Urethane', 'WS': 'Wood shake/shingle', 'TL': 'Tile', 'SH': 'Shingle'}\n"
     ]
    }
   ],
   "source": [
    "# Ensure 'class_code' is of categorical dtype\n",
    "test_df['code'] = test_df['code'].astype('category')\n",
    "# Create a dictionary mapping class_code to code\n",
    "code_mapping = dict(zip(test_df['code'], test_df['class_code']))\n",
    "desc_mapping = dict(zip(test_df['class_code'], test_df['description']))\n",
    "print(f'Code map: \\n{code_mapping}\\nDescription map: \\n{desc_mapping}')"
   ]
  },
  {
   "cell_type": "code",
   "execution_count": 25,
   "id": "63803f2a-731f-436d-9f52-ee538e32cde6",
   "metadata": {},
   "outputs": [],
   "source": [
    "# Save to a dataframe\n",
    "preds_df = pd.DataFrame({\n",
    "    'true_code': true_labels,\n",
    "    'pred_code': pred_labels\n",
    "})\n",
    "\n",
    "# Add a column for the true class_code using the code_mapping dictionary\n",
    "preds_df['true_class'] = preds_df['true_code'].map(code_mapping)\n",
    "preds_df['pred_class'] = preds_df['pred_code'].map(code_mapping)\n",
    "\n",
    "# Save the DataFrame as a CSV file if needed\n",
    "preds_df.to_csv(os.path.join(homedir,'results/dc_predictions_holdout.csv'), index=False)"
   ]
  },
  {
   "cell_type": "code",
   "execution_count": 26,
   "id": "abb19cec-362a-4f0c-85c1-510cd791d5b2",
   "metadata": {},
   "outputs": [],
   "source": [
    "true_class_labels = [code_mapping[code] for code in true_labels]\n",
    "pred_class_labels = [code_mapping[code] for code in pred_labels]\n",
    "class_codes = list(code_mapping.values())"
   ]
  },
  {
   "cell_type": "code",
   "execution_count": 27,
   "id": "b00bbb05-a44c-46c5-8e19-c3772b90bc78",
   "metadata": {},
   "outputs": [
    {
     "data": {
      "image/png": "[encoded data removed]",
      "text/plain": [
       "<Figure size 500x300 with 1 Axes>"
      ]
     },
     "metadata": {},
     "output_type": "display_data"
    }
   ],
   "source": [
    "pred_class_labels = [code_mapping[code] for code in pred_labels]\n",
    "\n",
    "plt.figure(figsize=(5, 3))\n",
    "sns.countplot(x=pred_class_labels, palette='viridis')\n",
    "plt.xlabel('Class Code')\n",
    "plt.ylabel('Count')\n",
    "plt.tight_layout()\n",
    "\n",
    "out_png = os.path.join(homedir,'results/dc_cnn_pred_labels.png')\n",
    "plt.savefig(out_png, dpi=300, bbox_inches='tight')\n",
    "\n",
    "plt.show()"
   ]
  },
  {
   "cell_type": "code",
   "execution_count": null,
   "id": "778d589c-70d8-4faf-b621-f8546f6fd2b3",
   "metadata": {},
   "outputs": [],
   "source": [
    "# Generate the classification report"
   ]
  },
  {
   "cell_type": "code",
   "execution_count": 34,
   "id": "3d4cdc90-41b3-49fe-b755-a87bdc0620ac",
   "metadata": {},
   "outputs": [
    {
     "name": "stdout",
     "output_type": "stream",
     "text": [
      "['CS', 'CS', 'CS', 'CS', 'CS']\n",
      "['CS', 'ME', 'ME', 'SL', 'CS']\n",
      "['CS', 'ME', 'SL', 'UR', 'WS', 'TL', 'SH']\n"
     ]
    }
   ],
   "source": [
    "print(true_class_labels[0:5])\n",
    "print(pred_class_labels[0:5])\n",
    "print(class_codes)"
   ]
  },
  {
   "cell_type": "code",
   "execution_count": 35,
   "id": "27edc2c6-16d6-470a-aa54-ba97d9812f3a",
   "metadata": {},
   "outputs": [
    {
     "name": "stdout",
     "output_type": "stream",
     "text": [
      "              precision    recall  f1-score     support    class_code\n",
      "CS             0.644800  0.642743  0.643770   627.00000            CS\n",
      "ME             0.759287  0.814992  0.786154   627.00000            ME\n",
      "SH             0.333333  0.158730  0.215054    63.00000            SH\n",
      "SL             0.619942  0.684211  0.650493   627.00000            SL\n",
      "TL             0.586957  0.364865  0.450000    74.00000            TL\n",
      "UR             0.528736  0.446602  0.484211   103.00000            UR\n",
      "WS             0.459016  0.301075  0.363636    93.00000            WS\n",
      "accuracy       0.656730  0.656730  0.656730     0.65673      accuracy\n",
      "macro avg      0.561724  0.487603  0.513331  2214.00000     macro avg\n",
      "weighted avg   0.646183  0.656730  0.648131  2214.00000  weighted avg\n"
     ]
    }
   ],
   "source": [
    "# Generate the classification report\n",
    "cr_df = pd.DataFrame(classification_report(\n",
    "    true_class_labels, pred_class_labels,\n",
    "    output_dict=True)).transpose()\n",
    "cr_df['class_code'] = cr_df.index\n",
    "# Save the report as a CSV\n",
    "cr_df.to_csv(os.path.join(save_dir, 'dc_resnet18_classification_report.csv'))\n",
    "print(cr_df)"
   ]
  },
  {
   "cell_type": "code",
   "execution_count": null,
   "id": "2c694f93-77ad-4f62-9376-2187a428f172",
   "metadata": {},
   "outputs": [],
   "source": []
  },
  {
   "cell_type": "code",
   "execution_count": null,
   "id": "74d6d1e4-c8b9-4a42-9b55-c71a7081cfe1",
   "metadata": {},
   "outputs": [],
   "source": [
    "# Generate the confusion matrix"
   ]
  },
  {
   "cell_type": "code",
   "execution_count": 29,
   "id": "1a222edf-19dc-4873-9aa2-c58f41497d28",
   "metadata": {},
   "outputs": [
    {
     "data": {
      "image/png": "[encoded data removed]",
      "text/plain": [
       "<Figure size 640x480 with 2 Axes>"
      ]
     },
     "metadata": {},
     "output_type": "display_data"
    }
   ],
   "source": [
    "# Get the correct class names\n",
    "class_names = list(code_mapping.values())\n",
    "  \n",
    "# Plot the confusion matrix\n",
    "cm = confusion_matrix(true_class_labels, pred_class_labels, labels=class_names)\n",
    "disp = ConfusionMatrixDisplay(confusion_matrix=cm, display_labels=class_names)\n",
    "disp.plot()\n",
    "\n",
    "# Save it\n",
    "out_png = os.path.join(homedir,'results/dc_cnn_confusion_matrix.png')\n",
    "plt.savefig(out_png, dpi=300, bbox_inches='tight')  "
   ]
  }
 ],
 "metadata": {
  "kernelspec": {
   "display_name": "rspy",
   "language": "python",
   "name": "rspy"
  },
  "language_info": {
   "codemirror_mode": {
    "name": "ipython",
    "version": 3
   },
   "file_extension": ".py",
   "mimetype": "text/x-python",
   "name": "python",
   "nbconvert_exporter": "python",
   "pygments_lexer": "ipython3",
   "version": "3.9.19"
  }
 },
 "nbformat": 4,
 "nbformat_minor": 5
}
