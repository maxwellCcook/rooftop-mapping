{
 "cells": [
  {
   "cell_type": "code",
   "execution_count": 1,
   "id": "c1a157a0-0b7e-4a0d-900c-79bc0fc3d0ad",
   "metadata": {},
   "outputs": [],
   "source": [
    "# !nvidia-smi"
   ]
  },
  {
   "cell_type": "code",
   "execution_count": 2,
   "id": "4ae6dba8-e355-492b-b096-59ff723e68cc",
   "metadata": {},
   "outputs": [
    {
     "name": "stdout",
     "output_type": "stream",
     "text": [
      "Projected CRS: EPSG:32618\n",
      "Successfully imported all packages!\n"
     ]
    }
   ],
   "source": [
    "\"\"\"\n",
    "Resnet-18 for classifying roof materials from PlanetScope SuperDove imagery\n",
    "Case study in Washington, D.C. \n",
    "\"\"\"\n",
    "\n",
    "import os, time, glob\n",
    "import geopandas as gpd\n",
    "import pandas as pd\n",
    "import rioxarray as rxr\n",
    "import xarray as xr\n",
    "import numpy as np\n",
    "import rasterio as rio\n",
    "import matplotlib.pyplot as plt\n",
    "import gc\n",
    "import torch\n",
    "import torch.nn as nn\n",
    "import torch.optim as optim\n",
    "\n",
    "from torch.utils.data import Dataset, DataLoader\n",
    "from torch.utils.data.dataloader import default_collate\n",
    "from torchvision import transforms, utils\n",
    "from torchsat.models.classification import resnet18\n",
    "\n",
    "from sklearn.model_selection import train_test_split\n",
    "from sklearn.utils import resample\n",
    "from sklearn.metrics import confusion_matrix, ConfusionMatrixDisplay, classification_report\n",
    "from sklearn.metrics import roc_auc_score, log_loss, roc_auc_score, roc_curve, auc, f1_score, precision_score, recall_score\n",
    "from sklearn.model_selection import StratifiedKFold\n",
    "\n",
    "from fiona.crs import from_epsg\n",
    "from shapely.geometry import box\n",
    "\n",
    "import warnings\n",
    "warnings.filterwarnings(\"ignore\")\n",
    "\n",
    "plt.ion() # interactive\n",
    "\n",
    "# Projection information\n",
    "wgs = from_epsg(4326)\n",
    "proj = from_epsg(32618)\n",
    "print(f'Projected CRS: {proj}')\n",
    "\n",
    "maindir = '/Users/max/Library/CloudStorage/OneDrive-Personal/mcook/earth-lab/opp-rooftop-mapping'\n",
    "\n",
    "print(\"Successfully imported all packages!\")"
   ]
  },
  {
   "cell_type": "code",
   "execution_count": 3,
   "id": "c2ce3bf8-31c5-456f-a965-3c7bc461ab09",
   "metadata": {},
   "outputs": [
    {
     "name": "stdout",
     "output_type": "stream",
     "text": [
      "Class and functions ready to use!\n"
     ]
    }
   ],
   "source": [
    "class RoofImageDataset_Planet(Dataset):\n",
    "    \"\"\"Class to handle PlanetScope SuperDove imagery for Resnet-18\"\"\"\n",
    "\n",
    "    def __init__(self, gdf, img_path, n_bands, img_dim, transform=None):\n",
    "        \"\"\"\n",
    "        Args:\n",
    "            gdf: Geodataframe containing 'geometry' column and 'class_code' column\n",
    "            img_path: the path to the PlanetScope SuperDove composite image (single mosaic file)\n",
    "                - see 'psscene-prep.py' for spectral indices calculation\n",
    "            imgdim (int): Image dimension for CNN implementation\n",
    "            transform (callable, optional): Optional transform to be applied on a sample\n",
    "\n",
    "        Returns image chunks with class labels\n",
    "        \"\"\"\n",
    "\n",
    "        if not os.path.exists(img_path):\n",
    "            raise ValueError(f'Image does not exists: {img_path}')\n",
    "\n",
    "        self.geometries = [p.centroid for p in gdf.geometry.values] # gather centroid geoms\n",
    "        self.img_path = img_path # path to image data\n",
    "        self.img_dim = img_dim # resnet window dimension, defaults to 64\n",
    "        self.n_bands = n_bands # number of bands in the input image\n",
    "        self.Y = gdf.code.values # class codes (numeric)\n",
    "        self.transform = transform\n",
    "        \n",
    "    def __len__(self):\n",
    "        return len(self.geometries)\n",
    "\n",
    "    def __getitem__(self, idx):\n",
    "        if torch.is_tensor(idx):\n",
    "            idx = idx.tolist()\n",
    "\n",
    "        # Get the geometry of the idx (centroid)\n",
    "        geom = self.geometries[idx]\n",
    "\n",
    "        try:\n",
    "            sample = self.sample_image(geom)  # run the sampling function\n",
    "        \n",
    "            cc = self.Y[idx]  # get the class codes\n",
    "            if type(cc) != int:\n",
    "                cc = cc.astype('uint8') # make sure the cc is an integer\n",
    "            \n",
    "            # Ensure the sample has the correct dimensions\n",
    "            assert sample.shape == (self.n_bands, self.img_dim, self.img_dim), f'Invalid sample shape: {sample.shape}'\n",
    "\n",
    "            if self.transform:\n",
    "                sample = self.transform(sample)\n",
    "                        \n",
    "        except Exception as e:\n",
    "            raise ValueError(e)\n",
    "            print(f\"Skipping invalid sample at index: {idx}\")\n",
    "            sample = torch.from_numpy(np.zeros((self.n_bands, int(self.img_dim), int(self.img_dim))))\n",
    "            cc = 255 # highest int8 number to be flagged\n",
    "         \n",
    "        # Convert the sample array to a Torch object\n",
    "        sample = torch.from_numpy(sample)\n",
    "\n",
    "        # Return the sample and the label as torch objects\n",
    "        return {'image': sample.type(torch.FloatTensor),\n",
    "                'code': torch.tensor(cc).type(torch.LongTensor)}\n",
    "\n",
    "    \n",
    "    def sample_image(self, geom):\n",
    "        \"\"\" Sample the image at each geometry for the specified image chunk size (window) \"\"\"\n",
    " \n",
    "        N = self.img_dim # window size to be used for cropping\n",
    "            \n",
    "        # Use the windows.from_bounds() method to return the window\n",
    "        # Returns image chunks from training data locations\n",
    "        with rio.open(self.img_path) as src:\n",
    "            py, px = src.index(geom.x, geom.y)\n",
    "            window = rio.windows.Window(px - N // 2, py - N // 2, N, N)\n",
    "            # print(window)\n",
    "            \n",
    "            # Read the data in the window\n",
    "            # clip is a nbands * N * N numpy array\n",
    "            clip = src.read(window=window, indexes=list(range(1, self.n_bands + 1)))\n",
    "\n",
    "            del py, px, window # clean up\n",
    "\n",
    "        # Convert the image chunk to a numpy array\n",
    "        clip_arr = np.array(clip)\n",
    "\n",
    "        # Check if the image chunk has valid data\n",
    "        if clip_arr.sum() > 0:\n",
    "            # Mask invalid values in each band independently\n",
    "            ans = np.ma.masked_equal(clip_arr, 0).filled(0)\n",
    "        else:\n",
    "            ans = clip_arr\n",
    "        \n",
    "        del clip, clip_arr # clean up\n",
    "        return ans\n",
    "\n",
    "\n",
    "def make_good_batch(batch):\n",
    "    \"\"\"\n",
    "    Removes bad samples if image dimensions do not match.\n",
    "    Args:\n",
    "        - batch: list of dictionaries, each containing 'image' tensor and 'code' tensor\n",
    "    returns: list of dictionaries same as input with samples having non-matching image dims removed\n",
    "    \"\"\"\n",
    "\n",
    "    _idx = torch.where(batch['code'] != 255)[0] # good batches\n",
    "\n",
    "    new_batch = {}\n",
    "    new_batch['image'] = batch['image'][_idx]\n",
    "    new_batch['code'] = batch['code'][_idx]\n",
    "\n",
    "    return new_batch\n",
    "\n",
    "\n",
    "def balance_sampling(df, ratio=5, strategy='undersample'):\n",
    "    \"\"\"\n",
    "    Generate balanced sample from training data based on the defined ratio.\n",
    "    This can be done with majority undersampling or minority oversampling ('strategy' parameter)\n",
    "    Args:\n",
    "        - df: the dataframe with rows as training data\n",
    "        - ratio: the sampling ration (i.e., 5:1 for minority classes default)\n",
    "    Returns:\n",
    "        - random sample with class ratios as defined\n",
    "    \"\"\"\n",
    "    \n",
    "    # Get the class counts\n",
    "    class_counts = df['class_code'].value_counts()\n",
    "    min_class_count = class_counts.min()\n",
    "    \n",
    "    # Calculate the target count for each class based on the ratio\n",
    "    target_count = {\n",
    "        class_label: max(min_class_count, min(min_class_count * ratio, len(df[df['class_code'] == class_label]))) \n",
    "        for class_label in class_counts.index\n",
    "    }\n",
    "    \n",
    "    # Create an empty list to store balanced dataframes\n",
    "    balanced_dfs = []\n",
    "    for class_label in class_counts.index:\n",
    "        class_df = df[df['class_code'] == class_label]\n",
    "        if strategy == 'undersample':\n",
    "            # Under-sample the majority class, but do not undersample below its original count\n",
    "            balanced_class_df = resample(\n",
    "                class_df, replace=False, n_samples=target_count[class_label], random_state=42)\n",
    "        elif strategy == 'oversample':\n",
    "            # Over-sample the minority class\n",
    "            balanced_class_df = resample(\n",
    "                class_df, replace=True, n_samples=target_count[class_label], random_state=42)\n",
    "        balanced_dfs.append(balanced_class_df)\n",
    "\n",
    "    # Concatenate the results by class\n",
    "    balanced_df = pd.concat(balanced_dfs)\n",
    "    return balanced_df\n",
    "\n",
    "\n",
    "def split_training_data(gdf, ts, vs):\n",
    "    \"\"\" \n",
    "    Splits dataframe into train, test, and validation samples with the defined ratios \n",
    "    Args:\n",
    "        - gdf: training samples (geo data frame)\n",
    "        - ts: test size #\n",
    "        - vs: validation size #\n",
    "    Returns:\n",
    "        train, test, and validation dataframes\n",
    "    \"\"\"\n",
    "    \n",
    "    train_df, test_df, val_df = [], [], []\n",
    "\n",
    "    for cl in gdf.class_code.unique():\n",
    "        \n",
    "        # subset to class\n",
    "        _gdf = gdf.loc[gdf.class_code == cl]\n",
    "        \n",
    "        # get train and test validation arrays. \n",
    "        # test array is validation array split in half.\n",
    "        _train, _valtest = train_test_split(_gdf, random_state=27, test_size=ts)\n",
    "        train_df.append(_train)\n",
    "        \n",
    "        _val, _test = train_test_split(_valtest, random_state=27, test_size=vs)\n",
    "        test_df.append(_test)\n",
    "        val_df.append(_val)\n",
    "\n",
    "    # Concatenate the samples across classes\n",
    "    all_train_df = pd.concat(train_df)\n",
    "    all_train_df = gpd.GeoDataFrame(all_train_df, crs=gdf.crs)\n",
    "    \n",
    "    all_val_df = pd.concat(val_df)\n",
    "    all_val_df = gpd.GeoDataFrame(all_val_df, crs=gdf.crs)\n",
    "    \n",
    "    all_test_df = pd.concat(test_df)\n",
    "    all_test_df = gpd.GeoDataFrame(all_test_df, crs=gdf.crs)\n",
    "\n",
    "    return all_train_df, all_val_df, all_test_df\n",
    "\n",
    "\n",
    "print(\"Class and functions ready to use!\")"
   ]
  },
  {
   "cell_type": "code",
   "execution_count": null,
   "id": "f698eaec-2a8f-44a9-af31-656cf38de292",
   "metadata": {},
   "outputs": [],
   "source": []
  },
  {
   "cell_type": "code",
   "execution_count": 4,
   "id": "7f1f0db2-184a-4589-b258-7283e30f23de",
   "metadata": {},
   "outputs": [
    {
     "name": "stdout",
     "output_type": "stream",
     "text": [
      "/home/jovyan\n"
     ]
    }
   ],
   "source": [
    "os.chdir('/home/jovyan')\n",
    "print(os.getcwd())"
   ]
  },
  {
   "cell_type": "code",
   "execution_count": null,
   "id": "e7d53102-f55f-43ae-a20d-3bf28ce5de9f",
   "metadata": {},
   "outputs": [],
   "source": []
  },
  {
   "cell_type": "code",
   "execution_count": 5,
   "id": "308774c2-5428-4247-adb3-836626ae7255",
   "metadata": {},
   "outputs": [
    {
     "data": {
      "text/html": [
       "<div>\n",
       "<style scoped>\n",
       "    .dataframe tbody tr th:only-of-type {\n",
       "        vertical-align: middle;\n",
       "    }\n",
       "\n",
       "    .dataframe tbody tr th {\n",
       "        vertical-align: top;\n",
       "    }\n",
       "\n",
       "    .dataframe thead th {\n",
       "        text-align: right;\n",
       "    }\n",
       "</style>\n",
       "<table border=\"1\" class=\"dataframe\">\n",
       "  <thead>\n",
       "    <tr style=\"text-align: right;\">\n",
       "      <th></th>\n",
       "      <th>class_code</th>\n",
       "      <th>areaUTMsqft</th>\n",
       "      <th>uid</th>\n",
       "      <th>description</th>\n",
       "      <th>code</th>\n",
       "      <th>geometry</th>\n",
       "    </tr>\n",
       "  </thead>\n",
       "  <tbody>\n",
       "    <tr>\n",
       "      <th>0</th>\n",
       "      <td>CS</td>\n",
       "      <td>357.783709</td>\n",
       "      <td>1CS</td>\n",
       "      <td>Composition Shingle</td>\n",
       "      <td>0</td>\n",
       "      <td>POLYGON ((324215.868 4313568.665, 324215.792 4...</td>\n",
       "    </tr>\n",
       "    <tr>\n",
       "      <th>1</th>\n",
       "      <td>CS</td>\n",
       "      <td>918.640862</td>\n",
       "      <td>2CS</td>\n",
       "      <td>Composition Shingle</td>\n",
       "      <td>0</td>\n",
       "      <td>POLYGON ((324602.816 4311717.247, 324604.322 4...</td>\n",
       "    </tr>\n",
       "    <tr>\n",
       "      <th>2</th>\n",
       "      <td>CS</td>\n",
       "      <td>1383.414170</td>\n",
       "      <td>3CS</td>\n",
       "      <td>Composition Shingle</td>\n",
       "      <td>0</td>\n",
       "      <td>POLYGON ((327253.581 4300371.859, 327258.154 4...</td>\n",
       "    </tr>\n",
       "    <tr>\n",
       "      <th>3</th>\n",
       "      <td>CS</td>\n",
       "      <td>836.410297</td>\n",
       "      <td>4CS</td>\n",
       "      <td>Composition Shingle</td>\n",
       "      <td>0</td>\n",
       "      <td>POLYGON ((333608.13 4306267.691, 333607.957 43...</td>\n",
       "    </tr>\n",
       "    <tr>\n",
       "      <th>4</th>\n",
       "      <td>CS</td>\n",
       "      <td>330.514264</td>\n",
       "      <td>5CS</td>\n",
       "      <td>Composition Shingle</td>\n",
       "      <td>0</td>\n",
       "      <td>POLYGON ((326482.699 4300939.466, 326487.386 4...</td>\n",
       "    </tr>\n",
       "  </tbody>\n",
       "</table>\n",
       "</div>"
      ],
      "text/plain": [
       "  class_code  areaUTMsqft  uid          description  code  \\\n",
       "0         CS   357.783709  1CS  Composition Shingle     0   \n",
       "1         CS   918.640862  2CS  Composition Shingle     0   \n",
       "2         CS  1383.414170  3CS  Composition Shingle     0   \n",
       "3         CS   836.410297  4CS  Composition Shingle     0   \n",
       "4         CS   330.514264  5CS  Composition Shingle     0   \n",
       "\n",
       "                                            geometry  \n",
       "0  POLYGON ((324215.868 4313568.665, 324215.792 4...  \n",
       "1  POLYGON ((324602.816 4311717.247, 324604.322 4...  \n",
       "2  POLYGON ((327253.581 4300371.859, 327258.154 4...  \n",
       "3  POLYGON ((333608.13 4306267.691, 333607.957 43...  \n",
       "4  POLYGON ((326482.699 4300939.466, 326487.386 4...  "
      ]
     },
     "execution_count": 5,
     "metadata": {},
     "output_type": "execute_result"
    }
   ],
   "source": [
    "# Load the training data (footprints)\n",
    "# gdf_path = os.path.join(maindir,'data/spatial/mod/dc_data/training/dc_data_reference_footprints.gpkg')\n",
    "gdf_path = 'opp-data/dc_data_reference_footprints.gpkg'\n",
    "footprints = gpd.read_file(gdf_path)\n",
    "footprints.head()"
   ]
  },
  {
   "cell_type": "code",
   "execution_count": 6,
   "id": "d2f3f633-3a27-472d-ba32-4248eb2032c5",
   "metadata": {},
   "outputs": [
    {
     "name": "stdout",
     "output_type": "stream",
     "text": [
      "Mean footprint area (sqm): 99.499113\n",
      "90th percentile footprint area (sqm): 158.13312473978425\n",
      "90th percentile side length (m): 12\n",
      "\n",
      "Mean footprint area by class_code (sqm):\n",
      " class_code\n",
      "CS    106.067916\n",
      "ME     83.614598\n",
      "SH    115.680340\n",
      "SL    122.038118\n",
      "TL    150.720654\n",
      "UR     80.790722\n",
      "WS    124.480158\n",
      "Name: areaUTMsqft, dtype: float64\n"
     ]
    }
   ],
   "source": [
    "# Calculate the 'optimal' window size from the footprint areas (meters)\n",
    "mean_area_sqm = int(footprints.areaUTMsqft.values.mean()) * 0.092903\n",
    "pct90_area_sqm = np.percentile(footprints.areaUTMsqft, 90) * 0.092903\n",
    "print(f'Mean footprint area (sqm): {mean_area_sqm}')\n",
    "print(f'90th percentile footprint area (sqm): {pct90_area_sqm}')\n",
    "# Calculate the side length ('optimal' window size) * 3 \n",
    "print(f'90th percentile side length (m): {int(np.sqrt(pct90_area_sqm))}')\n",
    "\n",
    "# Calculate the mean across different class codes\n",
    "class_code_means = footprints.groupby('class_code')['areaUTMsqft'].mean() * 0.092903\n",
    "print(f'\\nMean footprint area by class_code (sqm):\\n {class_code_means}')"
   ]
  },
  {
   "cell_type": "code",
   "execution_count": 7,
   "id": "bb845358-d7eb-4350-89fd-5ae7dbbc2c85",
   "metadata": {},
   "outputs": [
    {
     "data": {
      "text/plain": [
       "class_code\n",
       "ME    29651\n",
       "CS    27687\n",
       "SL    11080\n",
       "UR     1018\n",
       "WS      866\n",
       "TL      617\n",
       "SH      589\n",
       "Name: count, dtype: int64"
      ]
     },
     "execution_count": 7,
     "metadata": {},
     "output_type": "execute_result"
    }
   ],
   "source": [
    "# Observe the class imbalance\n",
    "footprints.class_code.value_counts()"
   ]
  },
  {
   "cell_type": "code",
   "execution_count": 8,
   "id": "f18afdd2-df96-4bc6-8b64-c445134f787f",
   "metadata": {},
   "outputs": [],
   "source": [
    "# # Combine SH and WS\n",
    "# ref = footprints\n",
    "# # Merge the shingle classes (wood shingle and shingle)\n",
    "# merge = {'WS': 'WSH', 'SH': 'WSH'}\n",
    "# ref['class_code'].replace(merge, inplace=True)\n",
    "# print(ref['class_code'].value_counts())  # check the counts\n",
    "# del footprints\n",
    "# gc.collect()"
   ]
  },
  {
   "cell_type": "code",
   "execution_count": 9,
   "id": "6cfad719-f3c2-48df-aa52-66ee519b11be",
   "metadata": {},
   "outputs": [
    {
     "name": "stdout",
     "output_type": "stream",
     "text": [
      "{'CS': 0, 'ME': 1, 'SL': 2, 'UR': 3, 'TL': 4, 'WS': 5, 'SH': 6}\n"
     ]
    }
   ],
   "source": [
    "ref = footprints\n",
    "# Create a numeric code column\n",
    "ref['code'], _ = pd.factorize(ref['class_code'])\n",
    "# Create a dictionary mapping class_code to code\n",
    "class_mapping = dict(zip(ref['class_code'], ref['code']))\n",
    "print(class_mapping)"
   ]
  },
  {
   "cell_type": "code",
   "execution_count": null,
   "id": "694bde40-f92c-46ad-bce3-6b40075e4b7e",
   "metadata": {},
   "outputs": [],
   "source": []
  },
  {
   "cell_type": "code",
   "execution_count": 10,
   "id": "9b0f5979-0193-46e0-ab26-1e7449d2714a",
   "metadata": {},
   "outputs": [],
   "source": [
    "# Identify 'good' training locations"
   ]
  },
  {
   "cell_type": "code",
   "execution_count": 10,
   "id": "f6c94b42-ea39-4726-abd2-6cfa775b636e",
   "metadata": {},
   "outputs": [
    {
     "name": "stdout",
     "output_type": "stream",
     "text": [
      "EPSG:32618\n"
     ]
    }
   ],
   "source": [
    "print(ref.crs)"
   ]
  },
  {
   "cell_type": "code",
   "execution_count": 11,
   "id": "6d2c96b1-7be7-4baa-9584-6e19c28e41f0",
   "metadata": {},
   "outputs": [
    {
     "name": "stdout",
     "output_type": "stream",
     "text": [
      "Spatial filtering complete.\n"
     ]
    }
   ],
   "source": [
    "# Create centroids\n",
    "ref_pt = ref.copy()\n",
    "ref_pt = ref_pt.to_crs(epsg=32618)\n",
    "ref_pt['geometry'] = ref_pt['geometry'].centroid\n",
    "\n",
    "# Define the window size and half window (for boxes)\n",
    "window_size = 52 # 4 * average side length (relative neighbors (?))\n",
    "half_window = window_size / 2\n",
    "\n",
    "training_windows = [] # image windows with >50% of specific roof type\n",
    "training_roof_types = [] # roof type codes for valid windows\n",
    "\n",
    "# Loop through each footprint individually\n",
    "for geom, roof_type in zip(ref.geometry, ref['class_code']):\n",
    "    # calculate the image window as footprint buffer\n",
    "    centroid = geom.centroid\n",
    "    window = box(centroid.x - half_window, centroid.y - half_window,\n",
    "                 centroid.x + half_window, centroid.y + half_window)\n",
    "\n",
    "    # Intersect with centroids to get class count within window\n",
    "    intersect = ref_pt[ref_pt.intersects(window)]\n",
    "    \n",
    "    # Get the total count and count for the class\n",
    "    total_count = len(intersect)\n",
    "    class_count = len(intersect[intersect['class_code'] == roof_type])\n",
    "\n",
    "    # Check if there is at least 50% of the roof type in that window\n",
    "    if total_count > 0 and (class_count / total_count) > 0.50:\n",
    "        training_windows.append(geom)\n",
    "        training_roof_types.append(roof_type)\n",
    "\n",
    "    del intersect, window, centroid\n",
    "\n",
    "# Create a GeoDataFrame for the training windows with roof types\n",
    "ref_windows = gpd.GeoDataFrame({\n",
    "    'geometry': training_windows, \n",
    "    'class_code': training_roof_types\n",
    "}, crs=ref.crs)\n",
    "\n",
    "# Create a numeric code for the training data frame\n",
    "ref_windows['code'], _ = pd.factorize(ref_windows['class_code'])\n",
    "print(\"Spatial filtering complete.\")"
   ]
  },
  {
   "cell_type": "code",
   "execution_count": 13,
   "id": "7bf332f4-7848-47f2-8a23-784101265939",
   "metadata": {},
   "outputs": [
    {
     "data": {
      "text/plain": [
       "0"
      ]
     },
     "execution_count": 13,
     "metadata": {},
     "output_type": "execute_result"
    }
   ],
   "source": [
    "# Save out\n",
    "os.getcwd()\n",
    "out_file = os.path.join(maindir,'data/spatial/mod/dc_data/rooftop_materials_training_windows.gpkg')\n",
    "ref_windows.to_file(out_file)\n",
    "\n",
    "del training_windows, training_roof_types, ref_pt\n",
    "gc.collect()"
   ]
  },
  {
   "cell_type": "code",
   "execution_count": 12,
   "id": "8edde283-208e-4368-ad7b-92c4c2ad097e",
   "metadata": {},
   "outputs": [
    {
     "data": {
      "image/png": "[encoded data removed]",
      "text/plain": [
       "<Figure size 600x600 with 1 Axes>"
      ]
     },
     "metadata": {},
     "output_type": "display_data"
    }
   ],
   "source": [
    "# Plot the training locations with colors based on roof type\n",
    "fig, ax = plt.subplots(figsize=(6, 6))\n",
    "ref_windows.plot(column='class_code', ax=ax, legend=True, cmap='Set1', edgecolor='none')\n",
    "plt.title('Training Locations by Roof Material Type')\n",
    "plt.show()"
   ]
  },
  {
   "cell_type": "code",
   "execution_count": 13,
   "id": "67a09fb4-3432-4cb6-9de6-89728c147413",
   "metadata": {},
   "outputs": [
    {
     "data": {
      "text/plain": [
       "class_code\n",
       "ME    28557\n",
       "CS    24698\n",
       "SL     8619\n",
       "WS      362\n",
       "UR      286\n",
       "TL      260\n",
       "SH      175\n",
       "Name: count, dtype: int64"
      ]
     },
     "execution_count": 13,
     "metadata": {},
     "output_type": "execute_result"
    }
   ],
   "source": [
    "ref_windows.class_code.value_counts()"
   ]
  },
  {
   "cell_type": "code",
   "execution_count": 14,
   "id": "3195a3a1-e907-4f3e-87a4-ce28d6001e9e",
   "metadata": {},
   "outputs": [
    {
     "data": {
      "text/plain": [
       "class_code\n",
       "ME    1750\n",
       "CS    1750\n",
       "SL    1750\n",
       "WS     362\n",
       "UR     286\n",
       "TL     260\n",
       "SH     175\n",
       "Name: count, dtype: int64"
      ]
     },
     "execution_count": 14,
     "metadata": {},
     "output_type": "execute_result"
    }
   ],
   "source": [
    "# Perform balanced sampling (random undersampling)\n",
    "ref_bal = balance_sampling(ref_windows, ratio=10, strategy='undersample')\n",
    "ref_bal.class_code.value_counts()"
   ]
  },
  {
   "cell_type": "code",
   "execution_count": null,
   "id": "b4483537-a9f9-4008-b8e0-049dc6d924e1",
   "metadata": {},
   "outputs": [],
   "source": []
  },
  {
   "cell_type": "code",
   "execution_count": null,
   "id": "f124813b-03f5-4a1f-8db0-269f000739e0",
   "metadata": {},
   "outputs": [],
   "source": []
  },
  {
   "cell_type": "code",
   "execution_count": null,
   "id": "7c6d138d-4766-407b-8d08-0bedbcd88db0",
   "metadata": {},
   "outputs": [],
   "source": []
  },
  {
   "cell_type": "code",
   "execution_count": 15,
   "id": "59df331a-d7e5-401c-8077-f5e2053039c5",
   "metadata": {},
   "outputs": [
    {
     "name": "stdout",
     "output_type": "stream",
     "text": [
      "Train class distribution:\n",
      " code\n",
      "1    1050\n",
      "0    1050\n",
      "2    1050\n",
      "5     217\n",
      "3     171\n",
      "4     156\n",
      "6     105\n",
      "Name: count, dtype: int64\n",
      "Validation class distribution:\n",
      " code\n",
      "1    560\n",
      "0    560\n",
      "2    560\n",
      "5    116\n",
      "3     92\n",
      "4     83\n",
      "6     56\n",
      "Name: count, dtype: int64\n",
      "Test class distribution:\n",
      " code\n",
      "1    140\n",
      "0    140\n",
      "2    140\n",
      "5     29\n",
      "3     23\n",
      "4     21\n",
      "6     14\n",
      "Name: count, dtype: int64\n"
     ]
    }
   ],
   "source": [
    "# Split the train/test data\n",
    "train_df, val_df, test_df = split_training_data(ref_bal, ts=0.4, vs=0.2)\n",
    "\n",
    "# Print the class distribution in training and validation sets to verify stratification\n",
    "print(\"Train class distribution:\\n\", train_df['code'].value_counts())\n",
    "print(\"Validation class distribution:\\n\", val_df['code'].value_counts())\n",
    "print(\"Test class distribution:\\n\", test_df['code'].value_counts())"
   ]
  },
  {
   "cell_type": "code",
   "execution_count": null,
   "id": "aef573cf-7e7b-4af7-8eb9-b998403b5716",
   "metadata": {},
   "outputs": [],
   "source": []
  },
  {
   "cell_type": "code",
   "execution_count": null,
   "id": "ee21eaab-8a6f-4361-9356-9fbbd2ff3ea0",
   "metadata": {},
   "outputs": [],
   "source": []
  },
  {
   "cell_type": "code",
   "execution_count": null,
   "id": "bff13cc3-7121-4e88-8392-f25c83a7f9f1",
   "metadata": {},
   "outputs": [],
   "source": []
  },
  {
   "cell_type": "code",
   "execution_count": 18,
   "id": "3ca50c71-761b-48d5-95ca-e23731769ff6",
   "metadata": {},
   "outputs": [
    {
     "name": "stdout",
     "output_type": "stream",
     "text": [
      "shape: (8223, 6714)\n",
      "bands: 6\n",
      "resolution: (3.0, -3.0)\n",
      "bounds: (315267.0, 4294629.0, 335409.0, 4319298.0)\n",
      "sum: 8.181640625\n",
      "CRS: EPSG:32618\n",
      "NoData: None\n",
      "Array: <xarray.DataArray (band: 6, y: 8223, x: 6714)> Size: 1GB\n",
      "[331255332 values with dtype=float32]\n",
      "Coordinates:\n",
      "  * band         (band) int64 48B 1 2 3 4 5 6\n",
      "  * x            (x) float64 54kB 3.153e+05 3.153e+05 ... 3.354e+05 3.354e+05\n",
      "  * y            (y) float64 66kB 4.319e+06 4.319e+06 ... 4.295e+06 4.295e+06\n",
      "    spatial_ref  int64 8B 0\n",
      "Attributes:\n",
      "    AREA_OR_POINT:  Area\n",
      "    scale_factor:   1.0\n",
      "    add_offset:     0.0\n",
      "    long_name:      ('nir', 'NDBIbg', 'NDBIrg', 'NISI', 'MNF1', 'NISI5x5')\n"
     ]
    }
   ],
   "source": [
    "# Load our image data to check on the format\n",
    "# stack_da_fp = os.path.join(maindir,'data/spatial/mod/dc_data/planet-data/dc_0623_psscene8b_final_norm.tif')\n",
    "stack_da_fp = os.path.join('opp-data/dc_0623_psscene8b_final_norm.tif')\n",
    "stack_da = rxr.open_rasterio(stack_da_fp, mask=True, cache=False).squeeze()\n",
    "n_bands = stack_da.values.shape[:1][0] # get a list of band names\n",
    "print(\n",
    "    f\"shape: {stack_da.rio.shape}\\n\"\n",
    "    f\"bands: {n_bands}\\n\"\n",
    "    f\"resolution: {stack_da.rio.resolution()}\\n\"\n",
    "    f\"bounds: {stack_da.rio.bounds()}\\n\"\n",
    "    f\"sum: {stack_da.sum().item()}\\n\"\n",
    "    f\"CRS: {stack_da.rio.crs}\\n\"\n",
    "    f\"NoData: {stack_da.rio.nodata}\\n\"\n",
    "    f\"Array: {stack_da}\"\n",
    ")\n",
    "del stack_da"
   ]
  },
  {
   "cell_type": "code",
   "execution_count": null,
   "id": "1cbfdcfd-1319-445a-92c9-faf298c8d4a6",
   "metadata": {},
   "outputs": [],
   "source": []
  },
  {
   "cell_type": "code",
   "execution_count": 31,
   "id": "5055ca12-c480-447d-b01d-8efc157e579f",
   "metadata": {},
   "outputs": [
    {
     "name": "stdout",
     "output_type": "stream",
     "text": [
      "Model parameters: {'window_size': 104, 'batch_size': 64, 'learning_rate': 0.01, 'weight_decay': 0.0001, 'momentum': 0.9, 'patience': 3}\n"
     ]
    }
   ],
   "source": [
    "# Best params from tuning\n",
    "params = {'window_size': 104, 'batch_size': 64, 'learning_rate': 0.01, 'weight_decay': 2e-4, 'momentum': 0.9, 'patience': 3}\n",
    "print(f'Model parameters: {params}')"
   ]
  },
  {
   "cell_type": "code",
   "execution_count": null,
   "id": "a22d7160-f87e-4c9e-903b-44c966444fcb",
   "metadata": {},
   "outputs": [],
   "source": []
  },
  {
   "cell_type": "code",
   "execution_count": 32,
   "id": "d16d0cb6-dcd0-424a-a68e-96abf0819354",
   "metadata": {},
   "outputs": [
    {
     "name": "stdout",
     "output_type": "stream",
     "text": [
      "Using cuda for model dev ...\n",
      "There are 7 roof type classes.\n",
      "Using  1 GPUs!\n",
      "Ready to load data!\n"
     ]
    }
   ],
   "source": [
    "# Set up the Resnet-18 model\n",
    "\n",
    "# Define whether to leverage cpu or gpu (for my local machine it is only cpu)\n",
    "device = torch.device(\"cuda\" if torch.cuda.is_available() else \"cpu\") # get device for gpu or cpu\n",
    "print(f'Using {device} for model dev ...')\n",
    "\n",
    "# Grab the number of classes\n",
    "n_classes = ref_bal.class_code.unique().shape[0]\n",
    "print(f'There are {n_classes} roof type classes.')\n",
    "\n",
    "# Define the Resnet-18 model (in_channels = number of bands in the image)\n",
    "model = resnet18(n_classes, in_channels=n_bands, pretrained=False)\n",
    "\n",
    "# Make model parallel and on GPU\n",
    "if torch.cuda.device_count() >= 1:\n",
    "    print(\"Using \", torch.cuda.device_count(), \"GPUs!\")\n",
    "    model = nn.DataParallel(model)\n",
    "    model.to(device)\n",
    "else:\n",
    "    #ps_model = nn.DataParallel(ps_model)\n",
    "    model = nn.DataParallel(model)\n",
    "    print('Made cpu parallel')\n",
    "\n",
    "# optimizer, learning rate scheduler, loss criterion\n",
    "optimizer = optim.SGD(model.parameters(), lr=params['learning_rate'], momentum=params['momentum'], weight_decay=params['weight_decay']).to(device)\n",
    "lr_scheduler = optim.lr_scheduler.ReduceLROnPlateau(optimizer, mode='min', factor=0.1, patience=params['patience'], verbose=False, min_lr=1e-6).to(device)\n",
    "# lr_scheduler = optim.lr_scheduler.StepLR(optimizer, step_size=10, gamma=0.1)\n",
    "print('Ready to load data !')"
   ]
  },
  {
   "cell_type": "code",
   "execution_count": 33,
   "id": "a12d179c-0bd8-4ca3-9de8-a679e9537406",
   "metadata": {},
   "outputs": [
    {
     "name": "stdout",
     "output_type": "stream",
     "text": [
      "Training and validation data loaded!\n"
     ]
    }
   ],
   "source": [
    "# Load the image data as a Dataset\n",
    "# Uses the opimum window size calculated earlier\n",
    "\n",
    "imdir = stack_da_fp\n",
    "bs = params['batch_size']\n",
    "window_size = params['window_size']\n",
    "\n",
    "pin_memory=False\n",
    "if device == \"cuda\":\n",
    "    pin_memory=True # for GPU make true\n",
    "\n",
    "# Create the training samples\n",
    "train_ds = RoofImageDataset_Planet(\n",
    "    train_df[['geometry', 'code']], imdir, n_bands=n_bands, img_dim=window_size)\n",
    "train_loader = DataLoader(train_ds, batch_size=bs, shuffle=True, pin_memory=pin_memory) \n",
    "\n",
    "# Create the validation samples\n",
    "val_ds = RoofImageDataset_Planet(\n",
    "    val_df[['geometry', 'code']], imdir, n_bands=n_bands, img_dim=window_size)\n",
    "val_loader = DataLoader(val_ds, batch_size=bs, shuffle=True, pin_memory=pin_memory)\n",
    "\n",
    "# Create the test samples\n",
    "test_ds = RoofImageDataset_Planet(\n",
    "    test_df[['geometry', 'code']], imdir, n_bands=n_bands, img_dim=window_size)\n",
    "test_loader = DataLoader(test_ds, batch_size=bs, shuffle=True, pin_memory=pin_memory)\n",
    "\n",
    "print(\"Training and validation data loaded!\")"
   ]
  },
  {
   "cell_type": "code",
   "execution_count": 34,
   "id": "de33d04c-8d55-4079-9ad3-c1cc4e10df7f",
   "metadata": {},
   "outputs": [
    {
     "name": "stdout",
     "output_type": "stream",
     "text": [
      "Total samples: 3799;\n",
      "Value counts: [1050, 1050, 1050, 217, 171, 156, 105]\n",
      "Class weights: tensor([ 3.6181,  3.6181,  3.6181, 17.5069, 22.2164, 24.3526, 36.1810],\n",
      "       device='cuda:0')\n",
      "Normalized class weights: tensor([0.0326, 0.0326, 0.0326, 0.1576, 0.1999, 0.2192, 0.3256],\n",
      "       device='cuda:0')\n"
     ]
    }
   ],
   "source": [
    "# Number of samples in each class\n",
    "val_counts = list(train_df['code'].value_counts())\n",
    "total_samples = sum(val_counts) # total number of samples\n",
    "print(f'Total samples: {total_samples};\\nValue counts: {val_counts}')\n",
    "\n",
    "# Calculate class weights\n",
    "class_weights = [total_samples / count for count in val_counts]\n",
    "class_weights = torch.tensor(class_weights, dtype=torch.float).to(device)\n",
    "print(f\"Class weights: {class_weights}\")\n",
    "\n",
    "class_weights_norm = class_weights / class_weights.sum()\n",
    "print(f\"Normalized class weights: {class_weights_norm}\")\n",
    "\n",
    "# Updated loss function with weights\n",
    "criterion = nn.CrossEntropyLoss(weight=class_weights_norm).to(device)"
   ]
  },
  {
   "cell_type": "code",
   "execution_count": 35,
   "id": "95d9c1a4-3107-4970-816e-c9a122ddeaa8",
   "metadata": {},
   "outputs": [
    {
     "data": {
      "text/plain": [
       "0"
      ]
     },
     "execution_count": 35,
     "metadata": {},
     "output_type": "execute_result"
    }
   ],
   "source": [
    "gc.collect()"
   ]
  },
  {
   "cell_type": "code",
   "execution_count": 36,
   "id": "2350d162-f79d-48fd-a362-34c4982aefba",
   "metadata": {},
   "outputs": [
    {
     "name": "stdout",
     "output_type": "stream",
     "text": [
      "Epoch [1]. Current learning rate: 0.01\n",
      "train progress: 1 [0/3799 (0%)]\n",
      "batch train/loss: 1.9538;\tcumulative batch: 60\n",
      "train progress: 1 [960/3799 (25%)]\n",
      "batch train/loss: 1.6466;\tcumulative batch: 75\n",
      "train progress: 1 [1920/3799 (50%)]\n",
      "batch train/loss: 2.2631;\tcumulative batch: 90\n",
      "train progress: 1 [2880/3799 (75%)]\n",
      "batch train/loss: 1.5589;\tcumulative batch: 105\n",
      "\ttest set: val_loss = 1.7256;\n",
      "accuracy = 1079/2027 (53.2%)\n",
      "\n",
      "Epoch [1] completed:\n",
      "\tf1-score: 0.5393\n",
      "\taverage training loss: 1.8556, average validation loss: 1.7256\n",
      "\n",
      "Total elapsed time for epoch 1: 3.20 minutes.\n",
      "\n",
      "~~~~~~~~~~\n",
      "\n",
      "Epoch [2]. Current learning rate: 0.01\n",
      "train progress: 2 [0/3799 (0%)]\n",
      "batch train/loss: 1.3245;\tcumulative batch: 120\n",
      "train progress: 2 [960/3799 (25%)]\n",
      "batch train/loss: 1.6068;\tcumulative batch: 135\n",
      "train progress: 2 [1920/3799 (50%)]\n",
      "batch train/loss: 1.5059;\tcumulative batch: 150\n",
      "train progress: 2 [2880/3799 (75%)]\n",
      "batch train/loss: 2.2462;\tcumulative batch: 165\n",
      "\ttest set: val_loss = 1.8137;\n",
      "accuracy = 1034/2027 (51.0%)\n",
      "\n",
      "Epoch [2] completed:\n",
      "\tf1-score: 0.5000\n",
      "\taverage training loss: 1.7632, average validation loss: 1.7696\n",
      "\n",
      "Total elapsed time for epoch 2: 2.80 minutes.\n",
      "\n",
      "~~~~~~~~~~\n",
      "\n",
      "Epoch [3]. Current learning rate: 0.01\n",
      "train progress: 3 [0/3799 (0%)]\n",
      "batch train/loss: 1.0161;\tcumulative batch: 180\n",
      "train progress: 3 [960/3799 (25%)]\n",
      "batch train/loss: 1.1937;\tcumulative batch: 195\n",
      "train progress: 3 [1920/3799 (50%)]\n",
      "batch train/loss: 0.8801;\tcumulative batch: 210\n",
      "train progress: 3 [2880/3799 (75%)]\n",
      "batch train/loss: 0.8599;\tcumulative batch: 225\n",
      "\ttest set: val_loss = 1.6487;\n",
      "accuracy = 973/2027 (48.0%)\n",
      "\n",
      "Epoch [3] completed:\n",
      "\tf1-score: 0.5336\n",
      "\taverage training loss: 1.5046, average validation loss: 1.7293\n",
      "\n",
      "Total elapsed time for epoch 3: 2.83 minutes.\n",
      "\n",
      "~~~~~~~~~~\n",
      "\n",
      "Epoch [4]. Current learning rate: 0.01\n",
      "train progress: 4 [0/3799 (0%)]\n",
      "batch train/loss: 0.7086;\tcumulative batch: 240\n",
      "train progress: 4 [960/3799 (25%)]\n",
      "batch train/loss: 1.4419;\tcumulative batch: 255\n",
      "train progress: 4 [1920/3799 (50%)]\n",
      "batch train/loss: 1.0169;\tcumulative batch: 270\n",
      "train progress: 4 [2880/3799 (75%)]\n",
      "batch train/loss: 0.7811;\tcumulative batch: 285\n",
      "\ttest set: val_loss = 1.8644;\n",
      "accuracy = 688/2027 (33.9%)\n",
      "\n",
      "Epoch [4] completed:\n",
      "\tf1-score: 0.3043\n",
      "\taverage training loss: 1.3753, average validation loss: 1.7631\n",
      "\n",
      "Total elapsed time for epoch 4: 2.72 minutes.\n",
      "\n",
      "~~~~~~~~~~\n",
      "\n",
      "Epoch [5]. Current learning rate: 0.01\n",
      "train progress: 5 [0/3799 (0%)]\n",
      "batch train/loss: 1.0565;\tcumulative batch: 300\n",
      "train progress: 5 [960/3799 (25%)]\n",
      "batch train/loss: 0.9793;\tcumulative batch: 315\n",
      "train progress: 5 [1920/3799 (50%)]\n",
      "batch train/loss: 0.7980;\tcumulative batch: 330\n",
      "train progress: 5 [2880/3799 (75%)]\n",
      "batch train/loss: 0.6151;\tcumulative batch: 345\n",
      "\ttest set: val_loss = 2.0205;\n",
      "accuracy = 1246/2027 (61.5%)\n",
      "\n",
      "Epoch [5] completed:\n",
      "\tf1-score: 0.6114\n",
      "\taverage training loss: 1.2727, average validation loss: 1.8146\n",
      "\n",
      "Total elapsed time for epoch 5: 2.71 minutes.\n",
      "\n",
      "~~~~~~~~~~\n",
      "\n",
      "Epoch [6]. Current learning rate: 0.01\n",
      "train progress: 6 [0/3799 (0%)]\n",
      "batch train/loss: 1.2089;\tcumulative batch: 360\n",
      "train progress: 6 [960/3799 (25%)]\n",
      "batch train/loss: 0.3112;\tcumulative batch: 375\n",
      "train progress: 6 [1920/3799 (50%)]\n",
      "batch train/loss: 0.7018;\tcumulative batch: 390\n",
      "train progress: 6 [2880/3799 (75%)]\n",
      "batch train/loss: 0.5652;\tcumulative batch: 405\n",
      "\ttest set: val_loss = 1.5854;\n",
      "accuracy = 1329/2027 (65.6%)\n",
      "\n",
      "Epoch [6] completed:\n",
      "\tf1-score: 0.6625\n",
      "\taverage training loss: 1.1767, average validation loss: 1.7764\n",
      "\n",
      "Total elapsed time for epoch 6: 2.72 minutes.\n",
      "\n",
      "~~~~~~~~~~\n",
      "\n",
      "Epoch [7]. Current learning rate: 0.01\n",
      "train progress: 7 [0/3799 (0%)]\n",
      "batch train/loss: 0.3165;\tcumulative batch: 420\n",
      "train progress: 7 [960/3799 (25%)]\n",
      "batch train/loss: 0.4058;\tcumulative batch: 435\n",
      "train progress: 7 [1920/3799 (50%)]\n",
      "batch train/loss: 0.3054;\tcumulative batch: 450\n",
      "train progress: 7 [2880/3799 (75%)]\n",
      "batch train/loss: 0.5416;\tcumulative batch: 465\n",
      "\ttest set: val_loss = 1.7748;\n",
      "accuracy = 1235/2027 (60.9%)\n",
      "\n",
      "Epoch [7] completed:\n",
      "\tf1-score: 0.6201\n",
      "\taverage training loss: 1.0646, average validation loss: 1.7761\n",
      "\n",
      "Total elapsed time for epoch 7: 2.72 minutes.\n",
      "\n",
      "~~~~~~~~~~\n",
      "\n",
      "Epoch [8]. Current learning rate: 0.01\n",
      "train progress: 8 [0/3799 (0%)]\n",
      "batch train/loss: 0.2235;\tcumulative batch: 480\n",
      "train progress: 8 [960/3799 (25%)]\n",
      "batch train/loss: 0.1541;\tcumulative batch: 495\n",
      "train progress: 8 [1920/3799 (50%)]\n",
      "batch train/loss: 0.2202;\tcumulative batch: 510\n",
      "train progress: 8 [2880/3799 (75%)]\n",
      "batch train/loss: 0.1229;\tcumulative batch: 525\n",
      "\ttest set: val_loss = 1.9682;\n",
      "accuracy = 1363/2027 (67.2%)\n",
      "\n",
      "Epoch [8] completed:\n",
      "\tf1-score: 0.6794\n",
      "\taverage training loss: 0.9541, average validation loss: 1.8002\n",
      "\n",
      "Total elapsed time for epoch 8: 2.73 minutes.\n",
      "\n",
      "~~~~~~~~~~\n",
      "\n",
      "Epoch [9]. Current learning rate: 0.01\n",
      "train progress: 9 [0/3799 (0%)]\n",
      "batch train/loss: 0.1267;\tcumulative batch: 540\n",
      "train progress: 9 [960/3799 (25%)]\n",
      "batch train/loss: 0.1059;\tcumulative batch: 555\n",
      "train progress: 9 [1920/3799 (50%)]\n",
      "batch train/loss: 0.0722;\tcumulative batch: 570\n",
      "train progress: 9 [2880/3799 (75%)]\n",
      "batch train/loss: 0.0597;\tcumulative batch: 585\n",
      "\ttest set: val_loss = 2.2932;\n",
      "accuracy = 1431/2027 (70.6%)\n",
      "\n",
      "Epoch [9] completed:\n",
      "\tf1-score: 0.7037\n",
      "\taverage training loss: 0.8582, average validation loss: 1.8549\n",
      "\n",
      "Total elapsed time for epoch 9: 2.72 minutes.\n",
      "\n",
      "~~~~~~~~~~\n",
      "\n",
      "Epoch [10]. Current learning rate: 0.01\n",
      "train progress: 10 [0/3799 (0%)]\n",
      "batch train/loss: 0.0434;\tcumulative batch: 600\n",
      "train progress: 10 [960/3799 (25%)]\n",
      "batch train/loss: 0.0372;\tcumulative batch: 615\n",
      "train progress: 10 [1920/3799 (50%)]\n",
      "batch train/loss: 0.0226;\tcumulative batch: 630\n",
      "train progress: 10 [2880/3799 (75%)]\n",
      "batch train/loss: 0.0211;\tcumulative batch: 645\n",
      "\ttest set: val_loss = 2.1430;\n",
      "accuracy = 1379/2027 (68.0%)\n",
      "\n",
      "Epoch [10] completed:\n",
      "\tf1-score: 0.6835\n",
      "\taverage training loss: 0.7755, average validation loss: 1.8837\n",
      "\n",
      "LR-Scheduler: ReduceLROnPlateau\n",
      "Learning rate adjustment: 0.001\n",
      "\n",
      "Total elapsed time for epoch 10: 2.73 minutes.\n",
      "\n",
      "~~~~~~~~~~\n",
      "\n",
      "Epoch [11]. Current learning rate: 0.001\n",
      "train progress: 11 [0/3799 (0%)]\n",
      "batch train/loss: 0.0351;\tcumulative batch: 660\n",
      "train progress: 11 [960/3799 (25%)]\n",
      "batch train/loss: 0.0309;\tcumulative batch: 675\n",
      "train progress: 11 [1920/3799 (50%)]\n",
      "batch train/loss: 0.0242;\tcumulative batch: 690\n",
      "train progress: 11 [2880/3799 (75%)]\n",
      "batch train/loss: 0.0054;\tcumulative batch: 705\n",
      "\ttest set: val_loss = 2.3437;\n",
      "accuracy = 1445/2027 (71.3%)\n",
      "\n",
      "Epoch [11] completed:\n",
      "\tf1-score: 0.7105\n",
      "\taverage training loss: 0.7072, average validation loss: 1.9256\n",
      "\n",
      "Total elapsed time for epoch 11: 2.77 minutes.\n",
      "\n",
      "~~~~~~~~~~\n",
      "\n",
      "Total elapsed time: 30.68 minutes.\n"
     ]
    }
   ],
   "source": [
    "t0 = time.time()\n",
    "\n",
    "print_freq = int(len(train_loader) // 4) # quarterly print statements\n",
    "\n",
    "losses = [] # to store training loss values\n",
    "epoch_losses = [] # to store average epoch loss\n",
    "val_losses = [] # to store epoch validation loss\n",
    "val_losses_c = 0 # for cumulative val_loss\n",
    "best_val_loss = float('inf') # to store the best val_loss\n",
    "counter = 0 # set a counter for checking val_loss\n",
    "\n",
    "num_epochs = 12 # adjust as needed\n",
    "for epoch in range(1, num_epochs):\n",
    "    t00 = time.time()\n",
    "    current_lr = optimizer.param_groups[0]['lr']\n",
    "    print(f\"Epoch [{epoch}]. Current learning rate: {current_lr}\")\n",
    "    \n",
    "    model.train()\n",
    "    for idx, batch in enumerate(train_loader):\n",
    "        \n",
    "        # extract samples\n",
    "        image, target = batch['image'].to(device), batch['code'].to(device)\n",
    "                    \n",
    "        output = model(image.float()) \n",
    "        loss = criterion(output, target.long())\n",
    "            \n",
    "        optimizer.zero_grad()\n",
    "        loss.backward()\n",
    "        optimizer.step()\n",
    "\n",
    "        if idx % print_freq == 0:\n",
    "            print('train progress: [{}/{} ({:.0f}%)]'.format(\n",
    "                idx * len(image), len(train_loader.dataset), 100. * idx / len(train_loader)))\n",
    "            print(f'batch train/loss: {loss.item():.4f};\\tcumulative batch: {len(train_loader) * epoch + idx}')\n",
    "            losses.append((idx, loss.item()))\n",
    "\n",
    "        # Clear variables to free up memory\n",
    "        del image, target, batch, output, loss\n",
    "        gc.collect()\n",
    "                \n",
    "    # average loss for the epoch\n",
    "    epoch_losses.append(np.array(losses)[:,1].mean())\n",
    "    \n",
    "    # validation loss\n",
    "    model.eval()\n",
    "    \n",
    "    val_loss = 0\n",
    "    correct = 0\n",
    "    all_preds = [] # store the predicted labels\n",
    "    all_labs = [] # store the assigned labels\n",
    "    \n",
    "    with torch.no_grad():\n",
    "        for idx, batch in enumerate(val_loader):\n",
    "                \n",
    "            # extract samples\n",
    "            image, target = batch['image'].to(device, non_blocking=True), batch['code'].to(device, non_blocking=True)\n",
    "\n",
    "            # extract the model and validation loss\n",
    "            output = model(image)\n",
    "            val_loss += criterion(output, target).item()\n",
    "            predicted = output.argmax(dim=1, keepdim=True)  # get the index of the max log-probability\n",
    "            correct += predicted.eq(target.view_as(predicted)).sum().item() # Number of correct\n",
    "\n",
    "            # Collect predictions and true labels for F1-score calculation\n",
    "            all_preds.extend(predicted.cpu().numpy())\n",
    "            all_labs.extend(target.cpu().numpy())\n",
    "            \n",
    "             # Clear variables to free up memory\n",
    "            del image, target, batch, output, predicted\n",
    "            gc.collect()\n",
    "            \n",
    "        val_loss /= len(val_loader.dataset)/val_loader.batch_size\n",
    "        val_losses.append(val_loss)\n",
    "\n",
    "        print(f'\\ttest set: val_loss = {val_loss:.4f};\\naccuracy = {correct}/{len(val_loader.dataset)} ({100. * correct / len(val_loader.dataset):.1f}%)')\n",
    "    \n",
    "    print(f\"\\nEpoch [{epoch}] completed:\")\n",
    "    print(f'\\tf1-score: {f1_score(all_labs, all_preds, average=\"weighted\"):.4f}')\n",
    "\n",
    "    # Adjust the learning rate based on the validation loss\n",
    "    lr_scheduler.step(val_loss)\n",
    "    \n",
    "    new_lr = optimizer.param_groups[0]['lr']\n",
    "    if new_lr != current_lr:\n",
    "        print(f\"LR-Scheduler: ReduceLROnPlateau\")\n",
    "        print(f\"Learning rate adjustment: {new_lr}\\n\")\n",
    "        \n",
    "    # Print the average training loss for the current epoch\n",
    "    avg_train_loss = epoch_losses[-1]\n",
    "    val_losses_c += val_loss\n",
    "    print(f'\\taverage training loss: {avg_train_loss:.4f}, average validation loss: {(val_losses_c / int(epoch)):.4f}\\n')\n",
    "        \n",
    "    t1 = (time.time() - t00) / 60\n",
    "    print(f\"Total elapsed time for epoch {epoch}: {t1:.2f} minutes.\")\n",
    "    print(\"\\n~~~~~~~~~~\\n\")\n",
    "\n",
    "    # # Implement early stopping based on 'patience'\n",
    "    # if val_loss < best_val_loss:\n",
    "    #     best_val_loss = val_loss\n",
    "    #     counter = 0  # Reset counter if we see an improvement\n",
    "    # else:\n",
    "    #     counter += 1  # Increment counter if no improvement\n",
    "    #     if counter >= params['patience']:\n",
    "    #         print(f\"Early stopping after [{epoch}] epochs.\")\n",
    "    #         break\n",
    "    \n",
    "    gc.collect()\n",
    "    \n",
    "t2 = (time.time() - t0) / 60\n",
    "print(f\"Total elapsed time: {t2:.2f} minutes.\")"
   ]
  },
  {
   "cell_type": "code",
   "execution_count": null,
   "id": "575d0fc8-11b3-4ae8-9771-2ce256d4dc55",
   "metadata": {},
   "outputs": [],
   "source": []
  },
  {
   "cell_type": "code",
   "execution_count": null,
   "id": "ad061561-38d0-428b-80f2-8a07c8fc7f96",
   "metadata": {},
   "outputs": [],
   "source": []
  },
  {
   "cell_type": "code",
   "execution_count": 37,
   "id": "b0a5366e-7979-4602-bde3-05c216c3d6d1",
   "metadata": {},
   "outputs": [
    {
     "data": {
      "text/plain": [
       "[<matplotlib.lines.Line2D at 0x7a01583bd220>]"
      ]
     },
     "execution_count": 37,
     "metadata": {},
     "output_type": "execute_result"
    },
    {
     "data": {
      "image/png": "[encoded data removed]",
      "text/plain": [
       "<Figure size 640x480 with 1 Axes>"
      ]
     },
     "metadata": {},
     "output_type": "display_data"
    }
   ],
   "source": [
    "# Plot the model loss function\n",
    "plt.plot(np.array(losses)[:,1])"
   ]
  },
  {
   "cell_type": "code",
   "execution_count": 38,
   "id": "5270f143-d978-48dd-b467-d05bd7cb0c87",
   "metadata": {},
   "outputs": [
    {
     "data": {
      "image/png": "[encoded data removed]",
      "text/plain": [
       "<Figure size 640x480 with 1 Axes>"
      ]
     },
     "metadata": {},
     "output_type": "display_data"
    }
   ],
   "source": [
    "# Epoch training loss\n",
    "plt.plot(epoch_losses, label='epoch training loss')\n",
    "plt.plot(val_losses, label='epoch validation loss')\n",
    "plt.legend()\n",
    "plt.show()"
   ]
  },
  {
   "cell_type": "code",
   "execution_count": 39,
   "id": "7242b8aa-59fd-4eef-98e4-762e40b4740e",
   "metadata": {},
   "outputs": [
    {
     "data": {
      "text/plain": [
       "'/home/jovyan'"
      ]
     },
     "execution_count": 39,
     "metadata": {},
     "output_type": "execute_result"
    }
   ],
   "source": [
    "os.getcwd()"
   ]
  },
  {
   "cell_type": "code",
   "execution_count": null,
   "id": "134768f5-2fa4-4f3e-ba77-ada188abbd95",
   "metadata": {},
   "outputs": [],
   "source": [
    "# Save the model\n",
    "\n",
    "# results directory\n",
    "save_dir = os.path.join(maindir,'results/resnet18/')\n",
    "roi = 'dc'\n",
    "\n",
    "save_res = True\n",
    "if save_res:\n",
    "\n",
    "    if not os.path.exists(save_dir):\n",
    "        os.makedirs(save_dir)\n",
    "\n",
    "    # save the model\n",
    "    step = len(losses)\n",
    "    model_path = f'{roi}_planet_ms_ws{params['window_size']}_bs{params['batch_size']}_lr{params['learning_rate']}_ep{num_epochs}_step{step}.pt'\n",
    "    model_path = os.path.join(save_dir, model_path)\n",
    "    save = lambda ep: torch.save({\n",
    "            'model': model.state_dict(),\n",
    "            'epoch': epoch,\n",
    "            'step': step,\n",
    "        }, str(model_path))\n",
    "\n",
    "    save(model_path)"
   ]
  },
  {
   "cell_type": "code",
   "execution_count": null,
   "id": "4d73166d-02a0-4a12-a988-9149467ff2b7",
   "metadata": {},
   "outputs": [],
   "source": [
    "np.savetxt(os.path.join(save_dir, 'losses_ep{}_step{}_b{}.txt'.format(num_epochs, step, bs)), np.array(losses))\n",
    "np.savetxt(os.path.join(save_dir, 'epoch_loss_ep{}_step{}_b{}.txt'.format(num_epochs, step, bs)), np.array(epoch_loss))\n",
    "np.savetxt(os.path.join(save_dir, 'val_losses_ep{}_step{}_b{}.txt'.format(num_epochs, step, bs)), np.array(val_losses))"
   ]
  },
  {
   "cell_type": "code",
   "execution_count": 40,
   "id": "e554d2e0-c1e1-4a85-b09e-990a82f7df59",
   "metadata": {},
   "outputs": [
    {
     "name": "stdout",
     "output_type": "stream",
     "text": [
      "Processed 0 samples...\n",
      "Processed 100 samples...\n",
      "Processed 200 samples...\n",
      "Processed 300 samples...\n",
      "Processed 400 samples...\n",
      "Processed 500 samples...\n"
     ]
    }
   ],
   "source": [
    "import gc\n",
    "\n",
    "def get_prediction(m, s):\n",
    "    s = s.to(device)  # Ensure the sample is moved to the correct device\n",
    "    res = m(s)\n",
    "    return res\n",
    "\n",
    "true_labels = []\n",
    "pred_labels = []\n",
    "\n",
    "model.eval()  # Set model to evaluation mode\n",
    "\n",
    "for idx, sample in enumerate(test_ds):\n",
    "    try:\n",
    "        if sample['code'] != 255:\n",
    "            # Append true labels\n",
    "            true_labels.append(sample['code'].item())  # Convert tensor to Python scalar\n",
    "                        \n",
    "            # Get prediction and append\n",
    "            pred = get_prediction(model, sample['image'][None, ...].float().to(device))  # Ensure tensor is float and on the correct device\n",
    "            pred_labels.append(pred.argmax().item())  # Convert tensor to Python scalar\n",
    "            \n",
    "        else:\n",
    "            print(f'sample {idx} of {len(test_ds)} had class label 255, skipping...')\n",
    "        \n",
    "        if idx % 100 == 0:\n",
    "            time.sleep(0.3)\n",
    "            gc.collect()\n",
    "            print(f'Processed {idx} samples...')\n",
    "        \n",
    "    except Exception as e:\n",
    "        print(f'Error at sample {idx}: {e}, continuing...')"
   ]
  },
  {
   "cell_type": "code",
   "execution_count": 41,
   "id": "51dba4d1-565e-4e0a-ad67-0eaa092ff625",
   "metadata": {},
   "outputs": [
    {
     "name": "stdout",
     "output_type": "stream",
     "text": [
      "{0: 0, 1: 1, 2: 2, 3: 3, 4: 4, 5: 5, 6: 6}\n",
      "[0, 1, 2, 3, 4, 5, 6]\n"
     ]
    }
   ],
   "source": [
    "# Ensure 'class_code' is of categorical dtype\n",
    "test_df['code'] = test_df['code'].astype('category')\n",
    "\n",
    "# Create the dictionary mapping\n",
    "cat_dict = dict(enumerate(test_df['code'].cat.categories))\n",
    "print(cat_dict)\n",
    "\n",
    "# Filter the class codes present in the test set\n",
    "class_codes_numbers = [k for k in cat_dict.keys() if cat_dict[k] in test_df['code'].unique().tolist()]\n",
    "\n",
    "cor_labels = [cat_dict[c] for c in class_codes_numbers]\n",
    "print(cor_labels)"
   ]
  },
  {
   "cell_type": "code",
   "execution_count": 42,
   "id": "abb19cec-362a-4f0c-85c1-510cd791d5b2",
   "metadata": {},
   "outputs": [
    {
     "data": {
      "text/plain": [
       "(array([140., 140.,   0., 140.,   0.,  23.,  21.,   0.,  29.,  14.]),\n",
       " array([0. , 0.6, 1.2, 1.8, 2.4, 3. , 3.6, 4.2, 4.8, 5.4, 6. ]),\n",
       " <BarContainer object of 10 artists>)"
      ]
     },
     "execution_count": 42,
     "metadata": {},
     "output_type": "execute_result"
    },
    {
     "data": {
      "image/png": "[encoded data removed]",
      "text/plain": [
       "<Figure size 640x480 with 1 Axes>"
      ]
     },
     "metadata": {},
     "output_type": "display_data"
    }
   ],
   "source": [
    "plt.hist(true_labels)"
   ]
  },
  {
   "cell_type": "code",
   "execution_count": 43,
   "id": "b00bbb05-a44c-46c5-8e19-c3772b90bc78",
   "metadata": {},
   "outputs": [
    {
     "data": {
      "text/plain": [
       "11189511"
      ]
     },
     "execution_count": 43,
     "metadata": {},
     "output_type": "execute_result"
    }
   ],
   "source": [
    "sum(p.numel() for p in model.parameters() if p.requires_grad) # number of trainable model parameters"
   ]
  },
  {
   "cell_type": "code",
   "execution_count": 44,
   "id": "27edc2c6-16d6-470a-aa54-ba97d9812f3a",
   "metadata": {},
   "outputs": [
    {
     "name": "stdout",
     "output_type": "stream",
     "text": [
      "              precision    recall  f1-score     support\n",
      "0              0.681481  0.657143  0.669091  140.000000\n",
      "1              0.834437  0.900000  0.865979  140.000000\n",
      "2              0.641026  0.714286  0.675676  140.000000\n",
      "3              0.684211  0.565217  0.619048   23.000000\n",
      "4              0.833333  0.476190  0.606061   21.000000\n",
      "5              0.680000  0.586207  0.629630   29.000000\n",
      "6              0.555556  0.357143  0.434783   14.000000\n",
      "accuracy       0.715976  0.715976  0.715976    0.715976\n",
      "macro avg      0.701435  0.608027  0.642895  507.000000\n",
      "weighted avg   0.715398  0.715976  0.711669  507.000000\n"
     ]
    }
   ],
   "source": [
    "# Generate the classification report\n",
    "cr_df = pd.DataFrame(classification_report(true_labels, pred_labels, target_names=cor_labels, output_dict=True)).transpose()\n",
    "print(cr_df)"
   ]
  },
  {
   "cell_type": "code",
   "execution_count": 45,
   "id": "2c694f93-77ad-4f62-9376-2187a428f172",
   "metadata": {},
   "outputs": [
    {
     "name": "stdout",
     "output_type": "stream",
     "text": [
      "140\n",
      "140\n",
      "140\n",
      "23\n",
      "21\n",
      "29\n",
      "14\n"
     ]
    }
   ],
   "source": [
    "for c in cor_labels:\n",
    "    print(test_df.loc[test_df['code'] == c].shape[0])"
   ]
  },
  {
   "cell_type": "code",
   "execution_count": 46,
   "id": "1a222edf-19dc-4873-9aa2-c58f41497d28",
   "metadata": {},
   "outputs": [
    {
     "data": {
      "text/plain": [
       "<sklearn.metrics._plot.confusion_matrix.ConfusionMatrixDisplay at 0x7a0159f1b310>"
      ]
     },
     "execution_count": 46,
     "metadata": {},
     "output_type": "execute_result"
    },
    {
     "data": {
      "image/png": "[encoded data removed]",
      "text/plain": [
       "<Figure size 640x480 with 2 Axes>"
      ]
     },
     "metadata": {},
     "output_type": "display_data"
    }
   ],
   "source": [
    "class_label_names = cor_labels # get these smartly somehow... categories got a bit mixed up\n",
    "class_labels = class_codes_numbers\n",
    "cm = confusion_matrix(true_labels, pred_labels, labels=cor_labels)\n",
    "disp = ConfusionMatrixDisplay(confusion_matrix=cm, display_labels=cor_labels)\n",
    "disp.plot()"
   ]
  }
 ],
 "metadata": {
  "kernelspec": {
   "display_name": "rspy",
   "language": "python",
   "name": "rspy"
  },
  "language_info": {
   "codemirror_mode": {
    "name": "ipython",
    "version": 3
   },
   "file_extension": ".py",
   "mimetype": "text/x-python",
   "name": "python",
   "nbconvert_exporter": "python",
   "pygments_lexer": "ipython3",
   "version": "3.9.19"
  }
 },
 "nbformat": 4,
 "nbformat_minor": 5
}
