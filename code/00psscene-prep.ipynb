{
 "cells": [
  {
   "cell_type": "code",
   "execution_count": null,
   "id": "054aad15-0ee4-4725-9e49-a883d510d718",
   "metadata": {},
   "outputs": [],
   "source": [
    "\"\"\"\n",
    "Pre-processing PlanetScope SuperDove imagery\n",
    "\n",
    "1. Calculate Spectral Indices:\n",
    "    a. Normalized Difference Red-edge Index (NDRE)\n",
    "    b. Visible Green-Based Built-Up Index (VgNIRBI)\n",
    "    c. Visible Red-Based Built-Up Index (VrNIRBI)\n",
    "    d. Blue-Green Normalized Built-Up Index (NDBIbg)\n",
    "    e. Red-Green Normalized Built-up Index (NDBIrg)\n",
    "    f. Normalized Impervious Surface Index (NISI)\n",
    "\n",
    "2. Check Band Correlations\n",
    "\n",
    "3. Minimum Noise Fraction (MNF) Transformation\n",
    "\n",
    "4. Remove Highly Correlated Bands\n",
    "\n",
    "5. Texture Calculations\n",
    "\n",
    "5. Export to GeoTIFF\n",
    "\n",
    "\"\"\"\n",
    "\n",
    "\n",
    "import os, sys, time\n",
    "from glob import glob\n",
    "import rioxarray as rxr\n",
    "import xarray as xr\n",
    "import numpy as np\n",
    "import matplotlib.pyplot as plt\n",
    "import seaborn as sns\n",
    "import earthpy.plot as ep\n",
    "import rasterio as rio\n",
    "import pysptools.util as sp_utils\n",
    "import geopandas as gpd\n",
    "import warnings\n",
    "import gc\n",
    "\n",
    "from rioxarray.merge import merge_arrays\n",
    "from rasterio.crs import CRS\n",
    "\n",
    "warnings.filterwarnings('ignore')\n",
    "\n",
    "begin = time.time()  # start time\n",
    "\n",
    "# Custom functions\n",
    "sys.path.append(os.path.join(os.getcwd(),'code/'))\n",
    "from __functions import *\n",
    "\n",
    "# Load the environment variables\n",
    "\n",
    "maindir = '/Users/max/Library/CloudStorage/OneDrive-Personal/mcook/earth-lab/opp-rooftop-mapping'\n",
    "\n",
    "# Coordinate Ref. System\n",
    "proj = 32618  # UTM Zone 18N (Washington, D.C.)\n",
    "\n",
    "print(\"Ready !\")"
   ]
  },
  {
   "cell_type": "code",
   "execution_count": null,
   "id": "23ccdd3a-d172-4767-9e8e-4485827e6de2",
   "metadata": {},
   "outputs": [],
   "source": [
    "# PSScene list of GeoTIFFs\n",
    "psscenes = glob(os.path.join(maindir,'data/spatial/raw/dc_data/planet-data/PSScene8Band_23/*_composite.tif'))\n",
    "# psscenes = glob(os.path.join(maindir,'data/spatial/raw/*/*/*/*_composite.tif'))\n",
    "print([os.path.basename(f) for f in psscenes])"
   ]
  },
  {
   "cell_type": "code",
   "execution_count": null,
   "id": "ee173407-36e5-4596-a4b3-14833e9ab2c8",
   "metadata": {},
   "outputs": [],
   "source": [
    "# Open the files and store in a list\n",
    "strips = []\n",
    "for i in range(len(psscenes)):\n",
    "    print(os.path.basename(psscenes[i]))\n",
    "    strip = rxr.open_rasterio(\n",
    "        psscenes[i],masked=True,cache=False\n",
    "    ).squeeze().astype(rio.uint16)\n",
    "    strips.append(strip)  # append to the empty list\n",
    "    del strip\n",
    "\n",
    "print(strips[0].rio.crs)\n",
    "print(strips[0].rio.resolution())\n",
    "height, width = strips[0].rio.resolution()[0], strips[0].rio.resolution()[1]"
   ]
  },
  {
   "cell_type": "code",
   "execution_count": null,
   "id": "4fa3751d-477e-455a-a93d-6704c327fada",
   "metadata": {},
   "outputs": [],
   "source": [
    "# Merge the strips\n",
    "mosaic = merge_arrays(\n",
    "    dataarrays=strips,\n",
    "    res=(height, abs(width)),\n",
    "    crs=CRS.from_epsg(proj),\n",
    "    nodata=0,\n",
    "    method='max'\n",
    ")\n",
    "\n",
    "# Define the list of long names for each band\n",
    "long_names = ['coastal_blue', 'blue', 'green_i', 'green', 'yellow', 'red', 'rededge', 'nir']\n",
    "# Assign long names to each band\n",
    "mosaic.attrs['long_name'] = tuple(long_names)\n",
    "# Print raster attributes\n",
    "shp, gt, wkt, nd = mosaic.shape, mosaic.spatial_ref.GeoTransform, mosaic.rio.crs, mosaic.rio.nodata\n",
    "print(\n",
    "    f\"Shape: {shp}; \\n\"\n",
    "    f\"GeoTransform: {gt}; \\n\"\n",
    "    f\"WKT: {wkt}; \\n\"\n",
    "    f\"NoData Value: {nd}; \\n\"\n",
    "    f\"Bands: {mosaic.band}; \\n\"\n",
    "    f\"Band Names: {mosaic.attrs['long_name']}; \\n\"\n",
    "    f\"Data Type: {mosaic[0].dtype}\")\n",
    "\n",
    "# Write to disk\n",
    "out_img = os.path.join(maindir,'data/spatial/mod/dc_data/planet-data/dc_0623_psscene8b.tif')\n",
    "mosaic.rio.to_raster(\n",
    "    out_img, compress='zstd', zstd_level=9,\n",
    "    dtype='uint16', driver='GTiff')\n",
    "strips = []  # clear the list\n",
    "\n",
    "print(f\"Successfully exported the 8-band composite: {out_img}\")\n",
    "\n",
    "del mosaic, strips, height, width   # clean up\n",
    "gc.collect()"
   ]
  },
  {
   "cell_type": "code",
   "execution_count": null,
   "id": "f29e54df-b4c5-41e3-bb33-2ecea787895f",
   "metadata": {},
   "outputs": [],
   "source": []
  },
  {
   "cell_type": "code",
   "execution_count": null,
   "id": "314d9aaa-19c0-4a12-b7f1-36dd1382ac08",
   "metadata": {},
   "outputs": [],
   "source": []
  },
  {
   "cell_type": "code",
   "execution_count": null,
   "id": "7802ec1a-b5e5-4e39-873f-5072a7f7938f",
   "metadata": {},
   "outputs": [],
   "source": []
  },
  {
   "cell_type": "code",
   "execution_count": null,
   "id": "0f75946e-7441-4e3e-a959-ca9d7bf40d01",
   "metadata": {},
   "outputs": [],
   "source": [
    "# Reload the mosaic\n",
    "da = rxr.open_rasterio(out_img, masked=True, cache=False)\n",
    "print(da)"
   ]
  },
  {
   "cell_type": "code",
   "execution_count": null,
   "id": "3c063f81-7abc-485b-8c37-804753a6e29a",
   "metadata": {},
   "outputs": [],
   "source": [
    "print(da[1])"
   ]
  },
  {
   "cell_type": "code",
   "execution_count": null,
   "id": "f8fdfd90-3d41-406e-8e8b-12fc8ba40a8d",
   "metadata": {},
   "outputs": [],
   "source": [
    "# Calculate the spectral indices\n",
    "\n",
    "# Copy attributes from the Green band (arbitrary, could be any band)\n",
    "NDRE = da[3].copy(data=(da[7] - da[6]) / (da[7] + da[6])) # red, nir\n",
    "VgNIRBI = da[3].copy(data=(da[3] - da[7]) / (da[3] + da[7]))  # 'green','nir'\n",
    "VrNIRBI = da[3].copy(data=(da[5] - da[7]) / (da[5] + da[7]))  # 'red','nir'\n",
    "NDBIbg = da[3].copy(data=(da[1] - da[3]) / (da[1] + da[3]))  # 'blue','green'\n",
    "NDBIrg = da[3].copy(data=(da[5] - da[3]) / (da[5] + da[3]))  # 'red','green'\n",
    "NISI = da[3].copy(data=(((da[1] + da[3] + da[5]) - da[7]) / ((da[1] + da[3] + da[5]) + da[7])))\n",
    "\n",
    "# Put the indices into a list\n",
    "si_stack = xr.concat([NDRE, VgNIRBI, VrNIRBI, NDBIbg, NDBIrg, NISI], dim='band')  # create and image stack\n",
    "\n",
    "# Reorder the band numbers in prep to merge\n",
    "si_stack = si_stack.assign_coords(band=np.arange(9, 9 + si_stack.shape[0]))\n",
    "\n",
    "# Define the list of long names for each band\n",
    "si_long_names = ['NDRE', 'VgNIRBI', 'VrNIRBI', 'NDBIbg', 'NDBIrg', 'NISI']\n",
    "# Assign long names to each band\n",
    "si_stack.attrs['long_name'] = tuple(long_names)\n",
    "\n",
    "# Print the attributes\n",
    "print_raster(si_stack, open_file=False)\n",
    "\n",
    "del NDRE, VgNIRBI, VrNIRBI, NDBIbg, NDBIrg, NISI\n",
    "gc.collect()"
   ]
  },
  {
   "cell_type": "code",
   "execution_count": null,
   "id": "07a69714-35bd-4646-a009-a9d75c3078a3",
   "metadata": {},
   "outputs": [],
   "source": [
    "ep.plot_bands(si_stack, scale=False, figsize=(10,8))"
   ]
  },
  {
   "cell_type": "code",
   "execution_count": null,
   "id": "4c27bfbf-59e3-4785-a09e-b4e7659a9c9a",
   "metadata": {},
   "outputs": [],
   "source": []
  },
  {
   "cell_type": "code",
   "execution_count": null,
   "id": "8584141e-de10-4443-91ac-71d3ad55d655",
   "metadata": {},
   "outputs": [],
   "source": [
    "# Stack the original SuperDove bands and the spectral indices"
   ]
  },
  {
   "cell_type": "code",
   "execution_count": null,
   "id": "2573052c-18d1-4f51-8272-5583be9555ae",
   "metadata": {},
   "outputs": [],
   "source": []
  },
  {
   "cell_type": "code",
   "execution_count": null,
   "id": "1881bf52-477a-419d-a28c-c74177162f83",
   "metadata": {},
   "outputs": [],
   "source": [
    "# Create the final multi-band image stack\n",
    "da_stack = xr.concat([da, si_stack], dim='band').astype(np.float32)\n",
    "\n",
    "# Update the long_name attribute to include the other names\n",
    "long_names = list(da_stack.attrs['long_name']) + si_long_names\n",
    "da_stack.attrs['long_name'] = tuple(long_names)\n",
    "print(f\"shape: {da_stack.shape}; long_name: {da_stack.attrs['long_name']}\")\n",
    "\n",
    "# Test by plotting the 9th band (should be vgnir)\n",
    "ep.plot_bands(\n",
    "    da_stack[13].squeeze(),\n",
    "    scale=False,\n",
    "    vmin=-1,vmax=1,\n",
    "    title=\"NISI\",\n",
    "    figsize=(6,6))"
   ]
  },
  {
   "cell_type": "code",
   "execution_count": null,
   "id": "357ee073-74ce-463f-a0cc-5f8f329d0c8a",
   "metadata": {},
   "outputs": [],
   "source": [
    "del da, si_stack\n",
    "gc.collect()"
   ]
  },
  {
   "cell_type": "markdown",
   "id": "c1b8ad41-6ea2-458f-bce0-4194f89930a3",
   "metadata": {},
   "source": [
    "### Examine Band Correlations"
   ]
  },
  {
   "cell_type": "code",
   "execution_count": null,
   "id": "0a117d10-0830-43ad-a424-083b29424483",
   "metadata": {},
   "outputs": [],
   "source": [
    "# Convert to a numpy array and test band correlations\n",
    "image_np = da_stack.values\n",
    "\n",
    "# img_data is now a numpy array of shape (bands, height, width)\n",
    "print(f\"Image data shape: {image_np.shape}\")\n",
    "print(f\"Data type: {image_np.dtype}\")\n",
    "# Check if the data contains only zeros or NaNs\n",
    "print(f\"Data contains NaNs: {np.isnan(image_np).any()}\")\n",
    "print(f\"Data contains only zeros: {np.all(image_np == 0)}\")"
   ]
  },
  {
   "cell_type": "code",
   "execution_count": null,
   "id": "a6035bf7-5f50-4af0-b4b6-c772a9619d48",
   "metadata": {},
   "outputs": [],
   "source": [
    "out_png = os.path.join(maindir,'figures/FigX_band_correlations.png')\n",
    "band_correlations(da_stack, out_png) # see functions.py\n",
    "gc.collect()"
   ]
  },
  {
   "cell_type": "markdown",
   "id": "78409cde-5aa3-4884-bc3c-2c908afef186",
   "metadata": {},
   "source": [
    "### Calculate Minimum Noise Fraction (MNF) Transform\n",
    "\n",
    "The Planet SuperDove visible bands (1-7) are highly correlated (all but the NIR). To handle this issue, we can try to distill the information down using a decomposition method. Minimum Noise Fraction minimizes noise in an image, producing sequential images of decreasing quality."
   ]
  },
  {
   "cell_type": "code",
   "execution_count": null,
   "id": "b630a090-c6e0-4277-b25c-41d7d8a9b744",
   "metadata": {},
   "outputs": [],
   "source": [
    "print(f\"Image array shape: {image_np.shape}; and type: {type(image_np)}\")"
   ]
  },
  {
   "cell_type": "code",
   "execution_count": null,
   "id": "3126acf7-3eee-415f-8a24-ae715ccc8b48",
   "metadata": {},
   "outputs": [],
   "source": [
    "planet_bands_vis = image_np[:7, ...]\n",
    "planet_bands_vis = np.nan_to_num(planet_bands_vis, nan=0.0)\n",
    "print(planet_bands_vis.shape)"
   ]
  },
  {
   "cell_type": "code",
   "execution_count": null,
   "id": "bdc0f3ba-22b2-4c99-b0cb-9466c9f7f940",
   "metadata": {},
   "outputs": [],
   "source": []
  },
  {
   "cell_type": "code",
   "execution_count": null,
   "id": "5ac1ec5f-61f0-47ef-afad-b5df4aec7e75",
   "metadata": {},
   "outputs": [],
   "source": [
    "# MNF transform implmentation\n",
    "da_mnf = mnf_transform(planet_bands_vis)  # see functions.py\n",
    "print(\n",
    "    f\"MNF image shape: {da_mnf.shape}; \\n\"\n",
    "    f\"transposed shape: {da_mnf.T.shape}; \\n\"\n",
    "    f\"and type: {type(da_mnf)};\")"
   ]
  },
  {
   "cell_type": "code",
   "execution_count": null,
   "id": "ec61915d-4ff5-48ff-94f2-53157f30976a",
   "metadata": {},
   "outputs": [],
   "source": [
    "# Explore the dimensionality of the data\n",
    "# Filter out NoData values from the MNF-transformed image\n",
    "filtered = ravel_and_filter(np.where(planet_bands_vis == 0, 0, da_mnf.T))\n",
    "# Obtain the covariance matrix\n",
    "cov_m = sp_utils.cov(filtered)\n",
    "# Compute the eigenvalues, sort them, reverse the sorting\n",
    "eigenvals = np.sort(np.linalg.eig(cov_m)[0])[::-1]\n",
    "eigenvals_p = np.power(eigenvals, 2) / sum(np.power(eigenvals, 2))\n",
    "print(f\"Variance explained by MNF rotations: \\n {list(map(lambda x: round(x, 3), eigenvals_p.tolist()))}\")"
   ]
  },
  {
   "cell_type": "code",
   "execution_count": null,
   "id": "83dc93a5-97f5-4307-9542-d25e9d2e01bc",
   "metadata": {},
   "outputs": [],
   "source": [
    "# retain the first rotation which explains 100% (??) of the variation\n",
    "da_mnf_ = da_mnf[:,:,:1].T # transpose to match the da stack\n",
    "print(da_mnf_.shape)\n",
    "\n",
    "del da_mnf\n",
    "gc.collect()"
   ]
  },
  {
   "cell_type": "code",
   "execution_count": null,
   "id": "d9128b15-101c-4daa-b6d1-e98694310235",
   "metadata": {},
   "outputs": [],
   "source": [
    "# Export to GeoTIFF\n",
    "out_path = os.path.join(maindir,'data/spatial/mod/dc_data/planet-data/dc_0623_psscene8b_mnf.tif')\n",
    "mnf_img = array_to_tif(da_mnf_.T, da_stack, out_path, 'float32', clip=False)  \n",
    "\n",
    "# Convert to DataArray\n",
    "mnf_array = xr.DataArray(data=da_mnf_, # transposed mnf array\n",
    "                         dims=['band','y', 'x'],\n",
    "                         coords={'y': da_stack.coords['y'], 'x': da_stack.coords['x'], 'band': [15]},\n",
    "                         attrs=da_stack.attrs)\n",
    "\n",
    "# Set the long name for the MNF band\n",
    "mnf_array.attrs['long_name'] = 'mnf1'\n",
    "mnf_array.rio.write_crs(proj, inplace=True) # write the CRS\n",
    "print(mnf_array)"
   ]
  },
  {
   "cell_type": "code",
   "execution_count": null,
   "id": "0354f831-1576-43b4-964c-502d20391a71",
   "metadata": {},
   "outputs": [],
   "source": [
    "del da_mnf_, filtered, cov_m, eigenvals, eigenvals_p\n",
    "gc.collect()"
   ]
  },
  {
   "cell_type": "code",
   "execution_count": null,
   "id": "dbe5407e-df68-4bda-b871-bbf9573ac7ce",
   "metadata": {},
   "outputs": [],
   "source": [
    "# Merge into new data stack with correlated SuperDove bands removed\n",
    "da_stack_ = da_stack[7:, :, :] # drop the superdove bands\n",
    "stack_out = xr.concat([da_stack_, mnf_array], dim='band') # Concatenate all bands\n",
    "print(stack_out.shape)"
   ]
  },
  {
   "cell_type": "code",
   "execution_count": null,
   "id": "2e011313-ebfa-4577-b274-6819a171562d",
   "metadata": {},
   "outputs": [],
   "source": [
    "del da_stack\n",
    "gc.collect()"
   ]
  },
  {
   "cell_type": "code",
   "execution_count": null,
   "id": "158c9959-1d22-43fc-bd70-c9d3c72dae72",
   "metadata": {},
   "outputs": [],
   "source": [
    "# Update 'long_name' attribute\n",
    "new_bands = ['nir', 'NDRE', 'VgNIRBI', 'VrNIRBI', 'NDBIbg', 'NDBIrg', 'NISI', 'MNF1']\n",
    "stack_out.attrs['long_name'] = new_bands\n",
    "print(\n",
    "    f\"Shape: {stack_out.shape}; \\n\"\n",
    "    f\"CRS:  {stack_out.rio.crs}; \\n\"\n",
    "    f\"NoData Value: {stack_out.rio.nodata}; \\n\"\n",
    "    f\"Bands: {stack_out.band}; \\n\"\n",
    "    f\"Band Names: {stack_out.long_name}; \\n\"\n",
    "    f\"Data Type: {stack_out[0].dtype}\")"
   ]
  },
  {
   "cell_type": "code",
   "execution_count": null,
   "id": "3803d0ac-4486-46e7-bcba-72fc61c9274f",
   "metadata": {},
   "outputs": [],
   "source": [
    "# Plot the final bands (MNF + Indices)\n",
    "ep.plot_bands(stack_out, figsize=(8,8))"
   ]
  },
  {
   "cell_type": "code",
   "execution_count": null,
   "id": "42ab3b35-ae6a-4e6a-852b-9684d74da653",
   "metadata": {},
   "outputs": [],
   "source": []
  },
  {
   "cell_type": "code",
   "execution_count": null,
   "id": "decf4494-774e-4e88-b514-508de50e6862",
   "metadata": {},
   "outputs": [],
   "source": [
    "# RERUN THE CORRELATION"
   ]
  },
  {
   "cell_type": "code",
   "execution_count": null,
   "id": "37be37f0-c6bf-4bc9-804a-0f0acd1ba732",
   "metadata": {},
   "outputs": [],
   "source": []
  },
  {
   "cell_type": "code",
   "execution_count": null,
   "id": "a5f2e302-18fd-4b25-85e6-84566d907780",
   "metadata": {},
   "outputs": [],
   "source": [
    "print(new_bands)\n",
    "\n",
    "# Plot the correlation matrix\n",
    "out_png = os.path.join(maindir,'figures/FigX_band_correlations_filtered.png')\n",
    "band_correlations(stack_out, out_png)\n",
    "\n",
    "gc.collect()"
   ]
  },
  {
   "cell_type": "markdown",
   "id": "6a092f01-051c-4207-828f-97f22de95e9a",
   "metadata": {},
   "source": [
    "##### It appears that the NDRE, VgNIRBI, and VrNIRBI are all highly correlated. These bands are also highly correlated with the NISI. So, we should remove the three bands and keep NISI"
   ]
  },
  {
   "cell_type": "code",
   "execution_count": null,
   "id": "355fcd53-020b-40b4-bc7d-7c138973ef5e",
   "metadata": {},
   "outputs": [],
   "source": [
    "# List of long names of the bands to remove\n",
    "rm_names = ['NDRE', 'VgNIRBI', 'VrNIRBI']\n",
    "# Get the indices of the bands with matching long names\n",
    "rm_idx = [i for i, name in enumerate(stack_out.attrs['long_name']) if name in rm_names]\n",
    "# Remove those bands by index\n",
    "stack_out_f = stack_out.isel(band=np.delete(np.arange(stack_out.sizes['band']), rm_idx))\n",
    "\n",
    "# Update the long names\n",
    "new_names = ['nir', 'NDBIbg', 'NDBIrg', 'NISI', 'MNF1']\n",
    "stack_out_f.attrs['long_name'] = new_names\n",
    "print(\n",
    "    f\"Shape: {stack_out_f.shape}; \\n\"\n",
    "    f\"CRS:  {stack_out_f.rio.crs}; \\n\"\n",
    "    f\"NoData Value: {stack_out_f.rio.nodata}; \\n\"\n",
    "    f\"Bands: {stack_out_f.band}; \\n\"\n",
    "    f\"Band Names: {stack_out_f.long_name}; \\n\"\n",
    "    f\"Data Type: {stack_out_f[0].dtype}\")"
   ]
  },
  {
   "cell_type": "code",
   "execution_count": null,
   "id": "5ee94e6e-293a-48c3-9d7e-fec43926413f",
   "metadata": {},
   "outputs": [],
   "source": [
    "del stack_out # free up space\n",
    "gc.collect()"
   ]
  },
  {
   "cell_type": "code",
   "execution_count": null,
   "id": "b40cd9ae-d4d7-4957-91ac-7e7bbe47686f",
   "metadata": {},
   "outputs": [],
   "source": []
  },
  {
   "cell_type": "code",
   "execution_count": null,
   "id": "55371e7f-0bdc-4f7d-904e-67c3d57f6e9b",
   "metadata": {},
   "outputs": [],
   "source": [
    "# Convert to a numpy array and test band correlations\n",
    "image_np = stack_out_f.values\n",
    "\n",
    "# Reshape the data to (bands, pixels)\n",
    "bands, height, width = image_np.shape\n",
    "image_np_t = image_np.reshape(bands, -1).T  # Transpose to get shape (pixels, bands)\n",
    "\n",
    "# Create a mask for non-NaN values\n",
    "valid_mask = ~np.isnan(image_np_t).any(axis=1)\n",
    "# Handle NaN for the correlation matrix\n",
    "image_np_tm = image_np_t[valid_mask]\n",
    "# Calculate the correlation matrix\n",
    "cor_mat_tm = np.corrcoef(image_np_tm, rowvar=False)\n",
    "\n",
    "# Plot the correlation matrix\n",
    "plt.figure(figsize=(10, 8))\n",
    "sns.heatmap(cor_mat_tm, annot=True, cmap='coolwarm', vmin=-1, vmax=1)\n",
    "plt.title('Band Correlation Matrix')\n",
    "plt.savefig(os.path.join(maindir,'figures/FigX_band_correlations.png'), dpi=300, bbox_inches='tight')\n",
    "plt.show()"
   ]
  },
  {
   "cell_type": "code",
   "execution_count": null,
   "id": "4ca34cb9-8a48-447e-bc55-29e60dcce895",
   "metadata": {},
   "outputs": [],
   "source": [
    "band_names = ['ndre', 'vrnir', 'ndbibg', 'ndbirg', 'mnf1']"
   ]
  },
  {
   "cell_type": "code",
   "execution_count": null,
   "id": "55831dbb-823d-43a3-9537-49b53a26b1c2",
   "metadata": {},
   "outputs": [],
   "source": []
  },
  {
   "cell_type": "code",
   "execution_count": null,
   "id": "66d8c927-da11-43a3-93a9-1a8e53659f36",
   "metadata": {},
   "outputs": [],
   "source": [
    "# Normalize the remaining bands\n",
    "from sklearn.preprocessing import StandardScaler\n",
    "\n",
    "scaler = StandardScaler()\n",
    "image_np_tmn = scaler.fit_transform(image_np_tm)\n",
    "\n",
    "# Reshape normalized data back to (bands, height, width)\n",
    "\n",
    "# Create an empty array and place the normalized values back into the original shape\n",
    "image_np_tmn_r = np.full(image_np_t.shape, np.nan)\n",
    "image_np_tmn_r[valid_mask] = image_np_tmn\n",
    "image_np_tmn_r = image_np_tmn_r.T.reshape(bands, height, width)\n",
    "\n",
    "# Convert the normalized array back to a DataArray\n",
    "image_norm = xr.DataArray(\n",
    "    image_np_tmn_r,\n",
    "    dims=stack_out_f.dims,\n",
    "    coords=stack_out_f.coords,\n",
    "    attrs=stack_out_f.attrs\n",
    ")\n",
    "\n",
    "print(image_norm.shape)"
   ]
  },
  {
   "cell_type": "code",
   "execution_count": null,
   "id": "86676073-f3de-43b6-ab0a-36c3d19d2eb3",
   "metadata": {},
   "outputs": [],
   "source": [
    "del image_np, image_np_t, valid_mask, image_np_tm, cor_mat_tm, image_np_tmn_r, image_np_tmn\n",
    "gc.collect()"
   ]
  },
  {
   "cell_type": "code",
   "execution_count": null,
   "id": "3a73ccc2-0732-45f2-9f52-4b96002fd3d0",
   "metadata": {},
   "outputs": [],
   "source": [
    "# Handle the loing name attribute\n"
   ]
  },
  {
   "cell_type": "code",
   "execution_count": null,
   "id": "2a0a463a-362b-4730-bc4d-668502df639e",
   "metadata": {},
   "outputs": [],
   "source": [
    "# Save the normalized image array out with the correct CRS and compression\n",
    "image_norm_fp = os.path.join(maindir,'data/spatial/mod/dc_data/planet-data/dc_data_psscene_cor_norm.tif')\n",
    "image_norm.rio.to_raster(image_norm_fp, compress='zstd', zstd_level=9, driver='GTiff', dtype='float32')"
   ]
  },
  {
   "cell_type": "code",
   "execution_count": null,
   "id": "a49b4c75-0e1f-45f8-b3f4-af793a266b63",
   "metadata": {},
   "outputs": [],
   "source": []
  },
  {
   "cell_type": "code",
   "execution_count": null,
   "id": "1f50275c-b8d7-4c36-a6df-f7060774468d",
   "metadata": {},
   "outputs": [],
   "source": []
  },
  {
   "cell_type": "markdown",
   "id": "60156014-81c7-44df-b20d-17d57ed5c662",
   "metadata": {},
   "source": [
    "### Including GLCM Texture Features"
   ]
  },
  {
   "cell_type": "code",
   "execution_count": null,
   "id": "8b1158ee-fd62-41f6-8004-92e21dabdbc0",
   "metadata": {},
   "outputs": [],
   "source": [
    "def calculate_glcm_contrast(band, window_size=7, distance=1, angle=0):\n",
    "    \"\"\"\n",
    "    Calculate the GLCM contrast for a single band of an image.\n",
    "\n",
    "    Parameters:\n",
    "    - band: 2D numpy array, the band of the image to calculate GLCM on.\n",
    "    - window_size: int, the size of the window to calculate GLCM.\n",
    "    - distance: int, the pixel distance for GLCM.\n",
    "    - angle: float, the angle for GLCM calculation.\n",
    "\n",
    "    Returns:\n",
    "    - contrast_band: 2D numpy array, the contrast values for the band.\n",
    "    \"\"\"\n",
    "    # Convert the band to uint8 or any other suitable integer type\n",
    "    band = (band * 255 / band.max()).astype(np.uint8)\n",
    "    \n",
    "    # Initialize an empty array to store contrast values\n",
    "    contrast_band = np.zeros_like(band)\n",
    "\n",
    "    offset = window_size // 2\n",
    "\n",
    "    for i in range(offset, band.shape[0] - offset):\n",
    "        for j in range(offset, band.shape[1] - offset):\n",
    "\n",
    "            # Extract the window\n",
    "            glcm_window = band[i-offset:i+offset+1, j-offset:j+offset+1]\n",
    "            glcm = graycomatrix(glcm_window, [distance], [angle], symmetric=True, normed=True)\n",
    "\n",
    "            # Calculate the contrast and assign it to the center pixel\n",
    "            contrast = graycoprops(glcm, 'contrast')[0, 0]\n",
    "            contrast_band[i, j] = contrast\n",
    "\n",
    "    return contrast_band"
   ]
  },
  {
   "cell_type": "code",
   "execution_count": null,
   "id": "497f5fe1-6344-45fa-aae6-4b6b3ce9a384",
   "metadata": {},
   "outputs": [],
   "source": [
    "# Apply the GLCM calculation to each band in the stack\n",
    "glcm_contrast_bands = []\n",
    "for band_index in range(stack_out_.shape[0]):\n",
    "    print(f\"Processing band {band_index + 1}/{stack_out_.shape[0]}\")\n",
    "    contrast_band = calculate_glcm_contrast(stack_out_[band_index, :, :])\n",
    "    glcm_contrast_bands.append(contrast_band)\n",
    "\n",
    "# Convert the list to a numpy array\n",
    "glcm_contrast_stack = np.array(glcm_contrast_bands)\n",
    "\n",
    "# Visualize the GLCM contrast for the first band\n",
    "plt.imshow(glcm_contrast_stack[0], cmap='gray')\n",
    "plt.title('GLCM Contrast for Band 1')\n",
    "plt.show()"
   ]
  },
  {
   "cell_type": "code",
   "execution_count": null,
   "id": "8f863d96-cacb-4058-b394-e389ed18f544",
   "metadata": {},
   "outputs": [],
   "source": []
  },
  {
   "cell_type": "code",
   "execution_count": null,
   "id": "cd210cad-f159-4913-b9c5-2826181d0822",
   "metadata": {},
   "outputs": [],
   "source": []
  },
  {
   "cell_type": "code",
   "execution_count": null,
   "id": "a300f7e3-1334-42a4-bbe6-568f995af5b2",
   "metadata": {},
   "outputs": [],
   "source": []
  },
  {
   "cell_type": "code",
   "execution_count": null,
   "id": "76def5fa-a970-4d61-89c1-ded91fd0e929",
   "metadata": {},
   "outputs": [],
   "source": [
    "# save the new image stack out to a file"
   ]
  }
 ],
 "metadata": {
  "kernelspec": {
   "display_name": "rspy",
   "language": "python",
   "name": "rspy"
  },
  "language_info": {
   "codemirror_mode": {
    "name": "ipython",
    "version": 3
   },
   "file_extension": ".py",
   "mimetype": "text/x-python",
   "name": "python",
   "nbconvert_exporter": "python",
   "pygments_lexer": "ipython3",
   "version": "3.10.14"
  }
 },
 "nbformat": 4,
 "nbformat_minor": 5
}
