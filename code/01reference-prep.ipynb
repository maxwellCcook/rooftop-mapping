{
 "cells": [
  {
   "cell_type": "code",
   "execution_count": null,
   "id": "367c73ac-8fde-4008-aeed-f39ce8f932e4",
   "metadata": {},
   "outputs": [],
   "source": [
    "\"\"\"\n",
    "\"\"\"\n",
    "\n",
    "import os, sys\n",
    "import pandas as pd\n",
    "import geopandas as gpd\n",
    "import numpy as np\n",
    "import matplotlib.pyplot as plt\n",
    "\n",
    "# Custom functions\n",
    "sys.path.append(os.path.join(os.getcwd(),'code/'))\n",
    "from __functions import *\n",
    "\n",
    "# Load the environment variables\n",
    "\n",
    "maindir = '/Users/max/Library/CloudStorage/OneDrive-Personal/mcook/earth-lab/opp-rooftop-mapping'\n",
    "\n",
    "# Coordinate Ref. System\n",
    "utm18n = 32618  # UTM Zone 18N (Washington, D.C.)\n",
    "utm13n = 32613  # UTM Zone 13N (Denver, CO)\n",
    "\n",
    "print(\"Ready !\")"
   ]
  },
  {
   "cell_type": "code",
   "execution_count": null,
   "id": "e3ecf4af-8450-419b-9bc2-fe5194719795",
   "metadata": {},
   "outputs": [],
   "source": [
    "lookup = pd.read_csv(os.path.join(maindir,'data/tabular/raw/variable_lookup/RoofCoverStndCode_encoding.csv'))\n",
    "lookup.head(10)"
   ]
  },
  {
   "cell_type": "code",
   "execution_count": null,
   "id": "da7da07c-e417-4b52-91f4-fef80584b785",
   "metadata": {},
   "outputs": [],
   "source": [
    "gdf_fps = [\n",
    "    os.path.join(maindir, 'data/spatial/raw/dc_data/boundaries/dc_data_ocm_w_ztrax_matched.gpkg'),\n",
    "    os.path.join(maindir, 'data/spatial/raw/denver_data/training/denver_data_reference.gpkg')\n",
    "]\n",
    "gdfs = {}\n",
    "rois = ['dc','denver']\n",
    "proj_utm = [utm18n, utm13n]\n",
    "for i in range(len(gdf_fps)):\n",
    "    gdfs[rois[i]] = gpd.read_file(gdf_fps[i]).to_crs(proj_utm[i])\n",
    "\n",
    "print(f'Length of DC data: {len(gdfs[\"dc\"])};\\nLength of Denver data: {len(gdfs[\"denver\"])}')"
   ]
  },
  {
   "cell_type": "code",
   "execution_count": null,
   "id": "0482a8f2-c71c-4512-87c3-a0c9fe55d307",
   "metadata": {},
   "outputs": [],
   "source": [
    "gdfs['denver'].class_code.unique()"
   ]
  },
  {
   "cell_type": "code",
   "execution_count": null,
   "id": "ba4d9c46-1065-4817-b24e-fc99bee21b6b",
   "metadata": {},
   "outputs": [],
   "source": [
    "print(gdfs['denver']['RoofCoverStndCode'].unique())"
   ]
  },
  {
   "cell_type": "code",
   "execution_count": null,
   "id": "c5676e06-921c-4802-b3be-36d6df0e6469",
   "metadata": {},
   "outputs": [],
   "source": [
    "gdfs_ = {}\n",
    "\n",
    "for key, gdf in gdfs.items():\n",
    "    print(f'Processing {key} data ...')\n",
    "    \n",
    "    # Create the area attribute\n",
    "    gdf['areaUTM'] = [geom.area for geom in gdf.geometry]\n",
    "    gdf['areaUTMsqft'] = [geom.area*10.7639 for geom in gdf.geometry]\n",
    "    \n",
    "    # filter the footprints by distance metric and area mismatch\n",
    "    gdf = gdf.loc[(gdf._distance <= 10) & (gdf.areaUTMsqft <= gdf.LotSizeSquareFeet)]\n",
    "    \n",
    "    # add the class code categorical variable\n",
    "    gdf['class_code'] = gdf.RoofCoverStndCode.astype('category')  # category type is required for encoding\n",
    "    print(list(gdf['class_code'].unique()))\n",
    "    \n",
    "    # # Filter out footprints below the 10th percentile of size for that class\n",
    "    # gdfs_f = []\n",
    "    # for cls in gdf['class_code'].unique():\n",
    "    #     # Filter to that class\n",
    "    #     gdf_cls = gdf[gdf['class_code'] == cls].copy()\n",
    "    #     # Calculate the 10th percentile in building size\n",
    "    #     p10 = np.percentile(gdf_cls['areaUTMsqft'], 10)\n",
    "    #     gdf_cls = gdf_cls[gdf_cls['areaUTMsqft'] > p10].copy()  # filter based on the 10th percentile\n",
    "    #     # append to the output list\n",
    "    #     gdfs_f.append(gdf_cls)\n",
    "    \n",
    "    #     del p10, gdf_cls\n",
    "    \n",
    "    # # Merge them back\n",
    "    # gdf = pd.concat(gdfs_f, ignore_index=True)\n",
    "    \n",
    "    # # Retain required columns\n",
    "    # gdf = gdf[['class_code','areaUTMsqft','geometry']].reset_index(drop=True)\n",
    "    \n",
    "    # # Create a unique ID column\n",
    "    # gdf['uid'] = gdf.index + 1\n",
    "    # gdf['uid'] = gdf['uid'].astype(str) + gdf['class_code'].astype(str)\n",
    "    \n",
    "    # # Join to the description as well\n",
    "    # lookup = lookup[['Description','Code']]\n",
    "    # lookup = lookup.rename(columns={\"Code\": \"class_code\",\"Description\": \"description\"})\n",
    "    # gdf = gdf.merge(lookup, on='class_code')\n",
    "\n",
    "    # # Append to dictionary\n",
    "    # gdfs[key] = gdf"
   ]
  },
  {
   "cell_type": "code",
   "execution_count": null,
   "id": "4f80cb44-9068-4aa6-b09f-0eb2c68cad79",
   "metadata": {},
   "outputs": [],
   "source": []
  },
  {
   "cell_type": "code",
   "execution_count": null,
   "id": "a9a947aa-ae1a-4987-a370-069205d2f401",
   "metadata": {},
   "outputs": [],
   "source": []
  },
  {
   "cell_type": "code",
   "execution_count": null,
   "id": "abfed61d-c566-4f2e-92b7-e3b322e1fd64",
   "metadata": {},
   "outputs": [],
   "source": [
    "# Observe the class imbalance\n",
    "footprints.class_code.value_counts()"
   ]
  },
  {
   "cell_type": "code",
   "execution_count": null,
   "id": "03183077-efb1-489d-b974-831c35f1f1fe",
   "metadata": {},
   "outputs": [],
   "source": [
    "# Combine SH and WS\n",
    "ref = footprints.copy()  # Create a copy to avoid modifying the original DataFrame\n",
    "\n",
    "# Merge the shingle classes (wood shingle and shingle)\n",
    "merge = {'WS': 'WSH', 'SH': 'WSH'}\n",
    "ref['class_code'] = ref['class_code'].replace(merge)\n",
    "\n",
    "print(ref['class_code'].value_counts())  # check the counts"
   ]
  },
  {
   "cell_type": "code",
   "execution_count": null,
   "id": "e25e72f5-ab3d-4c57-998d-cf68c6c54782",
   "metadata": {},
   "outputs": [],
   "source": [
    "# Create the centroids for point sampling\n",
    "reference_pt = ref.copy()\n",
    "reference_pt['geometry'] = reference_pt['geometry'].centroid"
   ]
  },
  {
   "cell_type": "code",
   "execution_count": null,
   "id": "829a1f9e-7f0f-422e-9702-9690058fa033",
   "metadata": {},
   "outputs": [],
   "source": [
    "from shapely.geometry import box\n",
    "\n",
    "window_size = 64\n",
    "half_window = window_size / 2\n",
    "\n",
    "# Ensure the GeoDataFrame is in the correct coordinate system\n",
    "gdf = ref.to_crs(epsg=32618)\n",
    "\n",
    "# Create training locations with roof types\n",
    "training_windows = []\n",
    "training_roof_types = []\n",
    "\n",
    "# Loop through each footprint individually\n",
    "for geom, roof_type in zip(gdf.geometry, gdf['class_code']):\n",
    "    centroid = geom.centroid\n",
    "    window = box(centroid.x - half_window, centroid.y - half_window,\n",
    "                 centroid.x + half_window, centroid.y + half_window)\n",
    "\n",
    "    # Intersect with footprint centroids\n",
    "    intersect = reference_pt[reference_pt.intersects(window)]\n",
    "    \n",
    "    # Get the total count and count for the class\n",
    "    total_count = len(intersect)\n",
    "    class_count = len(intersect[intersect['class_code'] == roof_type])\n",
    "\n",
    "    if total_count > 0 and (class_count / total_count) > 0.50:\n",
    "        training_windows.append(centroid)\n",
    "        training_roof_types.append(roof_type)\n",
    "\n",
    "    del intersect, centroid, window\n",
    "\n",
    "# Create a GeoDataFrame for the training windows with roof types\n",
    "training_gdf = gpd.GeoDataFrame({'geometry': training_windows, 'class_code': training_roof_types}, crs=gdf.crs)\n",
    "\n",
    "# Plot the training locations with colors based on roof type\n",
    "fig, ax = plt.subplots(figsize=(10, 10))\n",
    "gdf.plot(ax=ax, color='grey', alpha=0.5, edgecolor='none')\n",
    "training_gdf.plot(column='class_code', ax=ax, legend=True, cmap='Set1', edgecolor='black')\n",
    "plt.title('Training Locations by Roof Material Type')\n",
    "plt.show()"
   ]
  },
  {
   "cell_type": "code",
   "execution_count": null,
   "id": "608ec7b4-2bfe-4cec-96b9-5a8b7ccee105",
   "metadata": {},
   "outputs": [],
   "source": [
    "print(training_gdf.class_code.value_counts())"
   ]
  },
  {
   "cell_type": "code",
   "execution_count": null,
   "id": "e2e11b6a-480b-4d7a-8a17-fd138d3d3bd5",
   "metadata": {},
   "outputs": [],
   "source": [
    "# Save this file out\n",
    "\n",
    "training_gdf.to_file(os.path.join(maindir,'data/spatial/mod/dc_data/training/reference_samples_pure.gpkg'))"
   ]
  }
 ],
 "metadata": {
  "kernelspec": {
   "display_name": "rspy",
   "language": "python",
   "name": "rspy"
  },
  "language_info": {
   "codemirror_mode": {
    "name": "ipython",
    "version": 3
   },
   "file_extension": ".py",
   "mimetype": "text/x-python",
   "name": "python",
   "nbconvert_exporter": "python",
   "pygments_lexer": "ipython3",
   "version": "3.10.14"
  }
 },
 "nbformat": 4,
 "nbformat_minor": 5
}
