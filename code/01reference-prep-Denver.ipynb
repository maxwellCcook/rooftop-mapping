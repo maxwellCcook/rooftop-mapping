{
 "cells": [
  {
   "cell_type": "code",
   "execution_count": 1,
   "id": "367c73ac-8fde-4008-aeed-f39ce8f932e4",
   "metadata": {},
   "outputs": [
    {
     "name": "stdout",
     "output_type": "stream",
     "text": [
      "Ready !\n"
     ]
    }
   ],
   "source": [
    "\"\"\"\n",
    "Preparation of reference data for \n",
    "\"\"\"\n",
    "\n",
    "import os, sys\n",
    "import pandas as pd\n",
    "import geopandas as gpd\n",
    "import numpy as np\n",
    "import matplotlib.pyplot as plt\n",
    "import gc\n",
    "\n",
    "# Custom functions\n",
    "sys.path.append(os.path.join(os.getcwd(),'code/'))\n",
    "from __functions import *\n",
    "\n",
    "# Load the environment variables\n",
    "\n",
    "maindir = '/Users/max/Library/CloudStorage/OneDrive-Personal/mcook/earth-lab/opp-rooftop-mapping'\n",
    "\n",
    "# Coordinate Ref. System\n",
    "utm13n = 32613  # UTM Zone 13N (Denver, CO)\n",
    "\n",
    "print(\"Ready !\")"
   ]
  },
  {
   "cell_type": "code",
   "execution_count": null,
   "id": "f5229138-ae13-4824-8177-7b1c72c7e45e",
   "metadata": {},
   "outputs": [],
   "source": []
  },
  {
   "cell_type": "code",
   "execution_count": 2,
   "id": "da7da07c-e417-4b52-91f4-fef80584b785",
   "metadata": {},
   "outputs": [
    {
     "name": "stdout",
     "output_type": "stream",
     "text": [
      "Length of Denver data: 463865;\n"
     ]
    }
   ],
   "source": [
    "gdf_fp = os.path.join(maindir, 'data/spatial/raw/denver_data/training/denver_data_ocm_w_ztrax_matched_.gpkg')\n",
    "gdf = gpd.read_file(gdf_fp)\n",
    "gdf = gdf.to_crs(utm13n) # local projection\n",
    "print(f'Length of Denver data: {len(gdf)};')"
   ]
  },
  {
   "cell_type": "code",
   "execution_count": null,
   "id": "0482a8f2-c71c-4512-87c3-a0c9fe55d307",
   "metadata": {},
   "outputs": [],
   "source": [
    "gdf.RoofCoverStndCode.unique()"
   ]
  },
  {
   "cell_type": "code",
   "execution_count": null,
   "id": "86001fa0-8420-497a-a5eb-cb0a992774ac",
   "metadata": {},
   "outputs": [],
   "source": [
    "# add the class code categorical variable\n",
    "gdf.loc[:, 'class_code'] = gdf['RoofCoverStndCode'].astype('category')\n",
    "print(list(gdf['class_code'].unique()))"
   ]
  },
  {
   "cell_type": "code",
   "execution_count": null,
   "id": "f7a6aff0-76b4-4c30-883b-85020b433804",
   "metadata": {},
   "outputs": [],
   "source": [
    "# Drop footprints with no roof material information\n",
    "gdf = gdf[gdf['class_code'] != '']\n",
    "gdf.class_code.value_counts()"
   ]
  },
  {
   "cell_type": "code",
   "execution_count": null,
   "id": "30d7d9fe-e563-485a-a4ef-ee9c3533d276",
   "metadata": {},
   "outputs": [],
   "source": [
    "# Remove footprints with no roof material code"
   ]
  },
  {
   "cell_type": "code",
   "execution_count": null,
   "id": "ba4d9c46-1065-4817-b24e-fc99bee21b6b",
   "metadata": {},
   "outputs": [],
   "source": [
    "# Create the area attribute and filter mismatches\n",
    "gdf['areaUTM'] = [geom.area for geom in gdf.geometry]\n",
    "gdf['areaUTMsqft'] = [geom.area * 10.7639 for geom in gdf.geometry]\n",
    "# Calculate the percent difference between the area and reported lot size\n",
    "gdf['areaPctDiff'] = (gdf['areaUTMsqft'] - gdf['LotSizeSquareFeet']).abs() / gdf['LotSizeSquareFeet'] * 100\n",
    "\n",
    "# filter the footprints by distance metric (output from fuzzy join) and percent difference\n",
    "gdf_ = gdf.loc[(gdf._distance <= 30) & (gdf.areaUTMsqft <= gdf.LotSizeSquareFeet)]\n",
    "len(gdf_)"
   ]
  },
  {
   "cell_type": "code",
   "execution_count": null,
   "id": "c5676e06-921c-4802-b3be-36d6df0e6469",
   "metadata": {},
   "outputs": [],
   "source": [
    "gdf_.class_code.value_counts()"
   ]
  },
  {
   "cell_type": "code",
   "execution_count": null,
   "id": "ae883897-507f-412e-b1c8-6fadb984ca50",
   "metadata": {},
   "outputs": [],
   "source": [
    "# Handle 'bad' classes\n",
    "bad_classes = ['','BU','OT'] # empty, \"Built Up\", \"other\"\n",
    "\n",
    "out_gdfs = []\n",
    "for cl in gdf.class_code.unique():\n",
    "\n",
    "    if cl in bad_classes:\n",
    "        continue\n",
    "\n",
    "    _gdf = gdf.loc[gdf.class_code == cl]\n",
    "\n",
    "    # skip small sample size\n",
    "    if _gdf.shape[0] < 10:\n",
    "        print(f'Class {cl} has shape {_gdf.shape} ... skipping ...')\n",
    "        continue\n",
    "\n",
    "    out_gdfs.append(_gdf)\n",
    "\n",
    "# Concatenate the reference data\n",
    "ref = pd.concat(out_gdfs)\n",
    "print(ref['class_code'].value_counts())\n",
    "\n",
    "del out_gdfs, _gdf\n",
    "gc.collect()"
   ]
  },
  {
   "cell_type": "code",
   "execution_count": null,
   "id": "3fd4f08f-46f5-48ff-a8d1-013e2faed957",
   "metadata": {},
   "outputs": [],
   "source": [
    "# Load the class code lookup table\n",
    "lookup = pd.read_csv(os.path.join(maindir,'data/tabular/raw/variable_lookup/RoofCoverStndCode_encoding.csv'))\n",
    "lookup.head(25)"
   ]
  },
  {
   "cell_type": "code",
   "execution_count": null,
   "id": "4f80cb44-9068-4aa6-b09f-0eb2c68cad79",
   "metadata": {},
   "outputs": [],
   "source": [
    "# Create a unique ID column\n",
    "ref['uid'] = ref.index + 1\n",
    "ref['uid'] = ref['uid'].astype(str) + ref['class_code'].astype(str)\n",
    "\n",
    "# Join to the lookup table to get the description\n",
    "lookup = lookup[['Description','Code']]\n",
    "lookup = lookup.rename(columns={\"Code\": \"class_code\",\"Description\": \"description\"})\n",
    "ref = ref.merge(lookup, on='class_code')\n",
    "\n",
    "# Select the required columns\n",
    "ref = ref[['uid', 'class_code', 'description', 'areaUTMsqft', 'LotSizeSquareFeet', 'geometry']]\n",
    "ref = ref.rename(columns={\"LotSizeSquareFeet\": \"lotSizeSqft\"})\n",
    "ref.head()"
   ]
  },
  {
   "cell_type": "code",
   "execution_count": null,
   "id": "a9a947aa-ae1a-4987-a370-069205d2f401",
   "metadata": {},
   "outputs": [],
   "source": [
    "desc_mapping = dict(zip(ref['class_code'], ref['description']))\n",
    "print(f'Description map: \\n{desc_mapping}')"
   ]
  },
  {
   "cell_type": "code",
   "execution_count": null,
   "id": "c2ce47c7-296d-4ff2-9760-d095164a951f",
   "metadata": {},
   "outputs": [],
   "source": []
  },
  {
   "cell_type": "code",
   "execution_count": null,
   "id": "7173a509-8aea-4ade-8f36-00697fa0809f",
   "metadata": {},
   "outputs": [],
   "source": [
    "# Summary statistics for footprint area"
   ]
  },
  {
   "cell_type": "code",
   "execution_count": null,
   "id": "6afe2315-95aa-4beb-a439-393978028545",
   "metadata": {},
   "outputs": [],
   "source": []
  },
  {
   "cell_type": "code",
   "execution_count": null,
   "id": "4323db53-7e5d-4feb-9701-e5fdfd285acf",
   "metadata": {},
   "outputs": [],
   "source": [
    "# Calculate the longest side length of the building\n",
    "area_stats = ref.groupby('class_code', observed=True).apply(footprint_area_stats, include_groups=False).reset_index()\n",
    "area_stats"
   ]
  },
  {
   "cell_type": "code",
   "execution_count": null,
   "id": "29ff2317-e424-4f4e-a937-cc68d9da0066",
   "metadata": {},
   "outputs": [],
   "source": [
    "# Box plot for mean footprint area across classes\n",
    "plt.figure(figsize=(5, 3))\n",
    "sns.boxplot(x='class_code', y='areaUTMsqft', data=ref)\n",
    "# Set the y-axis to log scale\n",
    "plt.yscale('log')\n",
    "plt.title('Average Footprint Area Across Classes (Log Scale)')\n",
    "plt.ylabel('Mean Area (sqm)')\n",
    "plt.xlabel('Building Class')\n",
    "plt.xticks(rotation=45)\n",
    "plt.tight_layout()\n",
    "plt.show()"
   ]
  },
  {
   "cell_type": "code",
   "execution_count": null,
   "id": "dff8add2-5d5a-49b8-b32c-2ac15740494d",
   "metadata": {},
   "outputs": [],
   "source": []
  },
  {
   "cell_type": "code",
   "execution_count": null,
   "id": "c381dc20-6e32-4ec3-b63e-72e65c48a424",
   "metadata": {},
   "outputs": [],
   "source": [
    "# Map of reference data"
   ]
  },
  {
   "cell_type": "code",
   "execution_count": null,
   "id": "1bcb4903-b34c-4d7d-b01e-d78213545a0e",
   "metadata": {},
   "outputs": [],
   "source": [
    "# Plot the training locations with colors based on roof type\n",
    "fig, ax = plt.subplots(figsize=(10, 10))\n",
    "ref.plot(column='description', ax=ax, legend=True, cmap='Set1', edgecolor='none')\n",
    "plt.title('Training Locations by Roof Material Type')\n",
    "plt.show()"
   ]
  },
  {
   "cell_type": "code",
   "execution_count": null,
   "id": "0644fc04-3989-439e-bed2-c8c4dc7d6dc3",
   "metadata": {},
   "outputs": [],
   "source": []
  },
  {
   "cell_type": "code",
   "execution_count": null,
   "id": "608ec7b4-2bfe-4cec-96b9-5a8b7ccee105",
   "metadata": {},
   "outputs": [],
   "source": []
  },
  {
   "cell_type": "code",
   "execution_count": null,
   "id": "e2e11b6a-480b-4d7a-8a17-fd138d3d3bd5",
   "metadata": {},
   "outputs": [],
   "source": [
    "# Save to geopackage\n",
    "ref.to_file(os.path.join(maindir,'data/spatial/mod/dc_data/training/reference_samples_pure.gpkg'))"
   ]
  },
  {
   "cell_type": "code",
   "execution_count": null,
   "id": "ba58b28f-a61f-4116-94ed-a9e6627ebd04",
   "metadata": {},
   "outputs": [],
   "source": [
    "gc.collect()"
   ]
  }
 ],
 "metadata": {
  "kernelspec": {
   "display_name": "rspy",
   "language": "python",
   "name": "rspy"
  },
  "language_info": {
   "codemirror_mode": {
    "name": "ipython",
    "version": 3
   },
   "file_extension": ".py",
   "mimetype": "text/x-python",
   "name": "python",
   "nbconvert_exporter": "python",
   "pygments_lexer": "ipython3",
   "version": "3.10.14"
  }
 },
 "nbformat": 4,
 "nbformat_minor": 5
}
