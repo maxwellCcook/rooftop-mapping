{
 "cells": [
  {
   "cell_type": "code",
   "execution_count": 1,
   "id": "e458ffb7-2976-4de0-9d73-4d7d180c1d1d",
   "metadata": {},
   "outputs": [
    {
     "name": "stdout",
     "output_type": "stream",
     "text": [
      "Projected CRS: EPSG:32613\n",
      "Successfully imported all packages!\n"
     ]
    }
   ],
   "source": [
    "\"\"\"\n",
    "Plot example image chunks from reference data\n",
    "\"\"\"\n",
    "\n",
    "import os, sys, time, glob\n",
    "import geopandas as gpd\n",
    "import pandas as pd\n",
    "import rioxarray as rxr\n",
    "import xarray as xr\n",
    "import numpy as np\n",
    "import rasterio as rio\n",
    "import matplotlib.pyplot as plt\n",
    "\n",
    "from fiona.crs import from_epsg\n",
    "from shapely.geometry import box\n",
    "\n",
    "from torch.utils.data import Dataset, DataLoader\n",
    "from torch.utils.data.dataloader import default_collate\n",
    "from torchvision import transforms, utils\n",
    "from torchsat.models.classification import resnet18\n",
    "\n",
    "# Custom functions\n",
    "sys.path.append(os.path.join(os.getcwd(),'code/'))\n",
    "from __functions import *\n",
    "\n",
    "# Ignore warnings\n",
    "import warnings\n",
    "warnings.filterwarnings(\"ignore\")\n",
    "\n",
    "# Projection information\n",
    "wgs = from_epsg(4326)\n",
    "proj = from_epsg(32613)\n",
    "print(f'Projected CRS: {proj}')\n",
    "\n",
    "maindir = '/Users/max/Library/CloudStorage/OneDrive-Personal/mcook/earth-lab/opp-rooftop-mapping'\n",
    "\n",
    "print(\"Successfully imported all packages!\")"
   ]
  },
  {
   "cell_type": "code",
   "execution_count": 3,
   "id": "1c0a5348-d93e-4d82-96a0-a85722448f25",
   "metadata": {},
   "outputs": [
    {
     "name": "stdout",
     "output_type": "stream",
     "text": [
      "Plotting function ready !!!\n"
     ]
    }
   ],
   "source": [
    "def plot_image_chunks(dataset, class_mapping, bands_to_plot, out_file, figsize=(10,10), labelsize=10):\n",
    "    \"\"\"\n",
    "    Plots a single example image chunk for each class with columns representing different bands.\n",
    "    \n",
    "    Args:\n",
    "    - dataset: The dataset containing the image chunks and labels.\n",
    "    - class_mapping: Dictionary mapping class codes to class labels.\n",
    "    - bands_to_plot: List of band indices to plot, or 'all' to plot every band in the dataset.\n",
    "    \"\"\"\n",
    "    # Determine which bands to plot\n",
    "    first_batch = next(iter(dataset))\n",
    "    num_bands = first_batch['image'].shape[1] if bands_to_plot == 'all' else len(bands_to_plot)\n",
    "    \n",
    "    if bands_to_plot == 'all':\n",
    "        bands_to_plot = list(range(num_bands))\n",
    "    \n",
    "    classes = list(class_mapping.keys())\n",
    "    fig, axes = plt.subplots(len(classes), num_bands, figsize=(num_bands * 3, len(classes) * 3))\n",
    "    \n",
    "    # Store examples for each class\n",
    "    samples_dict = {cls: None for cls in classes}\n",
    "    \n",
    "    # Iterate over the DataLoader to find at least one sample for each class\n",
    "    for batch in dataset:\n",
    "        images, labels = batch['image'], batch['code']\n",
    "        \n",
    "        for i, cls in enumerate(classes):\n",
    "            if samples_dict[cls] is None:  # If no sample has been found for this class yet\n",
    "                cls_indices = (labels == cls).nonzero(as_tuple=True)[0]\n",
    "                if len(cls_indices) > 0:\n",
    "                    idx = cls_indices[0]  # Take the first available sample\n",
    "                    samples_dict[cls] = images[idx].numpy()\n",
    "        \n",
    "        # Break if samples for all classes have been found\n",
    "        if all(sample is not None for sample in samples_dict.values()):\n",
    "            break\n",
    "    \n",
    "    # Plot the collected samples\n",
    "    fig, axes = plt.subplots(len(classes), num_bands, figsize=figsize)\n",
    "    \n",
    "    for i, cls in enumerate(classes):\n",
    "        image = samples_dict[cls]\n",
    "        if image is None:\n",
    "            print(f\"No samples available for class {cls}.\")\n",
    "            continue\n",
    "        \n",
    "        for b, band_idx in enumerate(bands_to_plot):\n",
    "            band_image = image[band_idx, :, :]  # Select the specific band\n",
    "            axes[i, b].imshow(band_image, cmap='gray')  # Use grayscale for single-band images\n",
    "            axes[i, b].axis('off')\n",
    "            \n",
    "            # Add title for the first row of each band\n",
    "            if i == 0:\n",
    "                axes[i, b].set_title(f\"Band {band_idx + 1}\", fontsize=8)\n",
    "            \n",
    "            # Add class label as y-axis title for the first column\n",
    "            if b == 0:\n",
    "                class_label = class_mapping[cls]\n",
    "                axes[i, b].set_ylabel(class_label, fontsize=labelsize)\n",
    "\n",
    "    plt.tight_layout()\n",
    "    plt.subplots_adjust(top=0.95)\n",
    "\n",
    "    plt.savefig(out_file, dpi=300, bbox_inches='tight')\n",
    "    plt.show()\n",
    "\n",
    "print(\"Plotting function ready !!!\")"
   ]
  },
  {
   "cell_type": "code",
   "execution_count": 4,
   "id": "d7d1ad14-5ef7-43a3-8f17-6f84c1c29acc",
   "metadata": {},
   "outputs": [
    {
     "data": {
      "text/html": [
       "<div>\n",
       "<style scoped>\n",
       "    .dataframe tbody tr th:only-of-type {\n",
       "        vertical-align: middle;\n",
       "    }\n",
       "\n",
       "    .dataframe tbody tr th {\n",
       "        vertical-align: top;\n",
       "    }\n",
       "\n",
       "    .dataframe thead th {\n",
       "        text-align: right;\n",
       "    }\n",
       "</style>\n",
       "<table border=\"1\" class=\"dataframe\">\n",
       "  <thead>\n",
       "    <tr style=\"text-align: right;\">\n",
       "      <th></th>\n",
       "      <th>uid</th>\n",
       "      <th>class_code</th>\n",
       "      <th>description</th>\n",
       "      <th>areaUTMsqft</th>\n",
       "      <th>lotSizeSqft</th>\n",
       "      <th>geometry</th>\n",
       "    </tr>\n",
       "  </thead>\n",
       "  <tbody>\n",
       "    <tr>\n",
       "      <th>0</th>\n",
       "      <td>78TL</td>\n",
       "      <td>TL</td>\n",
       "      <td>Tile</td>\n",
       "      <td>271.028875</td>\n",
       "      <td>4710.0</td>\n",
       "      <td>MULTIPOLYGON (((502162.154 4397355.647, 502162...</td>\n",
       "    </tr>\n",
       "    <tr>\n",
       "      <th>1</th>\n",
       "      <td>269TL</td>\n",
       "      <td>TL</td>\n",
       "      <td>Tile</td>\n",
       "      <td>3885.053236</td>\n",
       "      <td>22307.0</td>\n",
       "      <td>MULTIPOLYGON (((503091.622 4397021.987, 503101...</td>\n",
       "    </tr>\n",
       "    <tr>\n",
       "      <th>2</th>\n",
       "      <td>490TL</td>\n",
       "      <td>TL</td>\n",
       "      <td>Tile</td>\n",
       "      <td>2018.268605</td>\n",
       "      <td>6250.0</td>\n",
       "      <td>MULTIPOLYGON (((501990.912 4396754.28, 502007....</td>\n",
       "    </tr>\n",
       "    <tr>\n",
       "      <th>3</th>\n",
       "      <td>497TL</td>\n",
       "      <td>TL</td>\n",
       "      <td>Tile</td>\n",
       "      <td>273.843801</td>\n",
       "      <td>6370.0</td>\n",
       "      <td>MULTIPOLYGON (((502773.275 4396965.742, 502773...</td>\n",
       "    </tr>\n",
       "    <tr>\n",
       "      <th>4</th>\n",
       "      <td>537TL</td>\n",
       "      <td>TL</td>\n",
       "      <td>Tile</td>\n",
       "      <td>281.649002</td>\n",
       "      <td>6000.0</td>\n",
       "      <td>MULTIPOLYGON (((502162.107 4396885.437, 502168...</td>\n",
       "    </tr>\n",
       "  </tbody>\n",
       "</table>\n",
       "</div>"
      ],
      "text/plain": [
       "     uid class_code description  areaUTMsqft  lotSizeSqft  \\\n",
       "0   78TL         TL        Tile   271.028875       4710.0   \n",
       "1  269TL         TL        Tile  3885.053236      22307.0   \n",
       "2  490TL         TL        Tile  2018.268605       6250.0   \n",
       "3  497TL         TL        Tile   273.843801       6370.0   \n",
       "4  537TL         TL        Tile   281.649002       6000.0   \n",
       "\n",
       "                                            geometry  \n",
       "0  MULTIPOLYGON (((502162.154 4397355.647, 502162...  \n",
       "1  MULTIPOLYGON (((503091.622 4397021.987, 503101...  \n",
       "2  MULTIPOLYGON (((501990.912 4396754.28, 502007....  \n",
       "3  MULTIPOLYGON (((502773.275 4396965.742, 502773...  \n",
       "4  MULTIPOLYGON (((502162.107 4396885.437, 502168...  "
      ]
     },
     "execution_count": 4,
     "metadata": {},
     "output_type": "execute_result"
    }
   ],
   "source": [
    "# Load the reference data\n",
    "ref_fp = os.path.join(maindir,'data/spatial/mod/denver_data/training/denver_data_reference_footprints.gpkg')\n",
    "ref = gpd.read_file(ref_fp)\n",
    "ref.head()"
   ]
  },
  {
   "cell_type": "code",
   "execution_count": 5,
   "id": "3be1ccfb-d2f0-4520-ba1e-3e3624061608",
   "metadata": {},
   "outputs": [
    {
     "name": "stdout",
     "output_type": "stream",
     "text": [
      "{0: 'TL', 1: 'WS', 2: 'CN', 3: 'AP', 4: 'SL', 5: 'TG', 6: 'CS'}\n"
     ]
    }
   ],
   "source": [
    "# Create a numeric class code \n",
    "ref['code'], _ = pd.factorize(ref['class_code'])\n",
    "# Create a dictionary mapping class_code to code\n",
    "class_mapping = dict(zip(ref['code'], ref['class_code']))\n",
    "print(class_mapping)"
   ]
  },
  {
   "cell_type": "code",
   "execution_count": null,
   "id": "81772c74-4c3e-4f26-bd1b-9c459011004a",
   "metadata": {},
   "outputs": [],
   "source": []
  },
  {
   "cell_type": "code",
   "execution_count": null,
   "id": "0aeadc17-e8ef-4dea-a1ac-7e680c610838",
   "metadata": {},
   "outputs": [],
   "source": [
    "# Identify areas with \"pure\" material types for examples"
   ]
  },
  {
   "cell_type": "code",
   "execution_count": null,
   "id": "4eea8b2e-3565-4a0e-9a06-9959fc460469",
   "metadata": {},
   "outputs": [],
   "source": []
  },
  {
   "cell_type": "code",
   "execution_count": 7,
   "id": "42d7ee5c-73ad-4027-bd72-2eac88632bbe",
   "metadata": {},
   "outputs": [
    {
     "name": "stdout",
     "output_type": "stream",
     "text": [
      "Spatial filtering complete.\n"
     ]
    }
   ],
   "source": [
    "# Create centroids\n",
    "ref_pt = ref.copy()\n",
    "ref_pt = ref_pt.to_crs(proj)\n",
    "ref_pt['geometry'] = ref_pt['geometry'].centroid\n",
    "\n",
    "# Define the window size and half window (for boxes)\n",
    "window_size = 144 # 4 * average side length (relative neighbors (?))\n",
    "half_window = window_size / 2\n",
    "\n",
    "training_windows = [] # image windows with >50% of specific roof type\n",
    "training_roof_types = [] # roof type codes for valid windows\n",
    "\n",
    "# Loop through each footprint individually\n",
    "for geom, roof_type in zip(ref.geometry, ref['class_code']):\n",
    "    # calculate the image window as footprint buffer\n",
    "    centroid = geom.centroid\n",
    "    window = box(centroid.x - half_window, centroid.y - half_window,\n",
    "                 centroid.x + half_window, centroid.y + half_window)\n",
    "\n",
    "    # Intersect with centroids to get class count within window\n",
    "    intersect = ref_pt[ref_pt.intersects(window)]\n",
    "    \n",
    "    # Get the total count and count for the class\n",
    "    total_count = len(intersect)\n",
    "    class_count = len(intersect[intersect['class_code'] == roof_type])\n",
    "\n",
    "    # Check if there is at least 50% of the roof type in that window\n",
    "    if total_count > 0 and (class_count / total_count) > 0.50:\n",
    "        training_windows.append(geom)\n",
    "        training_roof_types.append(roof_type)\n",
    "\n",
    "    del intersect, window, centroid\n",
    "\n",
    "# Create a GeoDataFrame for the training windows with roof types\n",
    "ref_windows = gpd.GeoDataFrame({\n",
    "    'geometry': training_windows, \n",
    "    'class_code': training_roof_types\n",
    "}, crs=ref.crs)\n",
    "\n",
    "# Create a numeric code for the training data frame\n",
    "ref_windows['code'], _ = pd.factorize(ref_windows['class_code'])\n",
    "print(\"Spatial filtering complete.\")"
   ]
  },
  {
   "cell_type": "code",
   "execution_count": null,
   "id": "1300694e-a6ad-4dbd-9058-9e04746b7da5",
   "metadata": {},
   "outputs": [],
   "source": [
    "ref_windows.class_code.value_counts()"
   ]
  },
  {
   "cell_type": "code",
   "execution_count": null,
   "id": "0154ccb2-d3e1-42ce-b24e-faf9d11deeaa",
   "metadata": {},
   "outputs": [],
   "source": [
    "# Perform balanced sampling (random undersampling)\n",
    "ref_bal = balance_sampling(ref_windows, ratio=50, strategy='undersample')\n",
    "ref_bal.class_code.value_counts()"
   ]
  },
  {
   "cell_type": "code",
   "execution_count": null,
   "id": "6c6c4527-4d26-4808-b434-a381d1890418",
   "metadata": {},
   "outputs": [],
   "source": []
  },
  {
   "cell_type": "code",
   "execution_count": null,
   "id": "ec460178-91ca-49d0-b1b6-e68f09cf4937",
   "metadata": {},
   "outputs": [],
   "source": [
    "# Load the image data"
   ]
  },
  {
   "cell_type": "code",
   "execution_count": null,
   "id": "5396fc30-bf4a-4439-8aba-9a097c296142",
   "metadata": {},
   "outputs": [],
   "source": []
  },
  {
   "cell_type": "code",
   "execution_count": null,
   "id": "b75c71c3-7086-4db2-8eb4-11b7839b1721",
   "metadata": {},
   "outputs": [],
   "source": [
    "# Load the image stack\n",
    "stack_da_fp = os.path.join(maindir, 'data/spatial/mod/dc_data/planet-data/dc_0623_psscene8b_final_norm.tif')\n",
    "stack_da = rxr.open_rasterio(stack_da_fp, mask=True, cache=False).squeeze()\n",
    "\n",
    "# Extract band names\n",
    "band_desc = stack_da.attrs['long_name']\n",
    "n_bands = len(band_desc)\n",
    "\n",
    "# Create the dictionary mapping long names to band numbers\n",
    "band_dict = {band_desc[i]: i + 1 for i in range(len(band_desc))}\n",
    "print(band_dict)"
   ]
  },
  {
   "cell_type": "code",
   "execution_count": null,
   "id": "18a28452-6154-4202-a332-b44023d5719a",
   "metadata": {},
   "outputs": [],
   "source": [
    "# # Select the red, green, and blue bands\n",
    "# red_band = stack_da[band_dict['red'] - 1]  # subtract 1 because xarray is 0-indexed\n",
    "# green_band = stack_da[band_dict['green'] - 1]\n",
    "# blue_band = stack_da[band_dict['blue'] - 1]\n",
    "\n",
    "# # Stack the selected bands into an RGB image\n",
    "# rgb_image = np.stack([red_band, green_band, blue_band], axis=0)\n",
    "\n",
    "# # Save the RGB image\n",
    "# rgb_image_path = os.path.join(maindir, 'data/spatial/mod/dc_data/planet-data/dc_data_psscene_rgb.tif')\n",
    "\n",
    "# # Define the metadata including the long_name attribute\n",
    "# metadata = {\n",
    "#     'driver': 'GTiff',\n",
    "#     'height': rgb_image.shape[1],\n",
    "#     'width': rgb_image.shape[2],\n",
    "#     'count': 3,\n",
    "#     'dtype': rgb_image.dtype,\n",
    "#     'crs': stack_da.rio.crs,\n",
    "#     'transform': stack_da.rio.transform(),\n",
    "#     'compress': 'lzw'\n",
    "# }\n",
    "\n",
    "# with rio.open(rgb_image_path, 'w', **metadata) as dst:\n",
    "#     dst.write(rgb_image)\n",
    "#     dst.set_band_description(1, 'red')\n",
    "#     dst.set_band_description(2, 'green')\n",
    "#     dst.set_band_description(3, 'blue')\n",
    "    \n",
    "# print(\"RGB image saved successfully!\")"
   ]
  },
  {
   "cell_type": "code",
   "execution_count": null,
   "id": "e0576295-827a-4695-b6b1-d7ce90ebb803",
   "metadata": {},
   "outputs": [],
   "source": [
    "# # Load our image data to check on the format\n",
    "# rgb = rxr.open_rasterio(rgb_image_path, masked=True, cache=False).squeeze()\n",
    "# print_raster(rgb, open_file=False)\n",
    "# band_names = rgb.long_name\n",
    "# del stack_da"
   ]
  },
  {
   "cell_type": "code",
   "execution_count": null,
   "id": "0a5c89be-5f4a-4fb3-a63f-ac1dc4102c09",
   "metadata": {},
   "outputs": [],
   "source": [
    "# Create a DataLoader\n",
    "\n",
    "# Extract image chunks and labels\n",
    "image_ds = RoofImageDatasetPlanet(\n",
    "    ref_bal[['geometry', 'code']], img_path=stack_da_fp, img_dim=144, n_bands=n_bands\n",
    ")\n",
    "\n",
    "# Ensure all samples are available\n",
    "bs = len(image_ds)\n",
    "\n",
    "# Load the Dataset\n",
    "da_loader = DataLoader(\n",
    "    image_ds, \n",
    "    batch_size=bs, \n",
    "    shuffle=True, \n",
    ")\n",
    "print(\"Data loaded!\")"
   ]
  },
  {
   "cell_type": "code",
   "execution_count": null,
   "id": "dc8c5497-00a0-41a9-a5f6-5735927203f8",
   "metadata": {},
   "outputs": [],
   "source": [
    "# Create a plot of image chunks\n",
    "out_png = os.path.join(maindir,'figures/FigX_denver_image_chunks.png')\n",
    "plot_image_chunks(da_loader, class_mapping, bands_to_plot='all', out_file=out_png)"
   ]
  },
  {
   "cell_type": "code",
   "execution_count": null,
   "id": "7a776a23-f314-4d0f-bdae-bcc2d222ad2e",
   "metadata": {},
   "outputs": [],
   "source": [
    "# # Create a plot of example image chunks (RGB)\n",
    "\n",
    "# # Ensure that train_df and other DataFrames have the numeric codes\n",
    "# ref['code'], class_mapping = pd.factorize(ref['class_code'])\n",
    "# class_mapping = dict(enumerate(class_mapping))\n",
    "# print(\"Class mapping:\", class_mapping)\n",
    "\n",
    "# # Ensure train_df has the numeric codes\n",
    "# train_df = train_df.dropna(subset=['class_code'])\n",
    "# train_df['code'] = train_df['class_code'].map(lambda x: list(class_mapping.keys())[list(class_mapping.values()).index(x)])\n",
    "# val_df['code'] = val_df['class_code'].map(lambda x: list(class_mapping.keys())[list(class_mapping.values()).index(x)])\n",
    "# test_df['code'] = test_df['class_code'].map(lambda x: list(class_mapping.keys())[list(class_mapping.values()).index(x)])\n",
    "\n",
    "# # Verify the mapping\n",
    "# print(\"Train DataFrame head:\")\n",
    "# print(train_df.head())\n",
    "# print(\"Validation DataFrame head:\")\n",
    "# print(val_df.head())\n",
    "# print(\"Test DataFrame head:\")\n",
    "# print(test_df.head())\n",
    "\n",
    "# # Plot example chunks\n",
    "# plot_example_chunks(train_ds, class_mapping, num_examples=3)"
   ]
  }
 ],
 "metadata": {
  "kernelspec": {
   "display_name": "rspy",
   "language": "python",
   "name": "rspy"
  },
  "language_info": {
   "codemirror_mode": {
    "name": "ipython",
    "version": 3
   },
   "file_extension": ".py",
   "mimetype": "text/x-python",
   "name": "python",
   "nbconvert_exporter": "python",
   "pygments_lexer": "ipython3",
   "version": "3.10.14"
  }
 },
 "nbformat": 4,
 "nbformat_minor": 5
}
