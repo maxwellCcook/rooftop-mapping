{
 "cells": [
  {
   "cell_type": "code",
   "execution_count": 1,
   "id": "054aad15-0ee4-4725-9e49-a883d510d718",
   "metadata": {},
   "outputs": [
    {
     "name": "stdout",
     "output_type": "stream",
     "text": [
      "Ready !\n"
     ]
    }
   ],
   "source": [
    "\"\"\"\n",
    "Pre-processing PlanetScope SuperDove imagery\n",
    "\n",
    "    1. Calculate Spectral Indices:\n",
    "        a. Normalized Difference Red-edge Index (NDRE)\n",
    "        b. Visible Green-Based Built-Up Index (VgNIRBI)\n",
    "        c. Visible Red-Based Built-Up Index (VrNIRBI)\n",
    "        d. Blue-Green Normalized Built-Up Index (NDBIbg)\n",
    "        e. Red-Green Normalized Built-up Index (NDBIrg)\n",
    "        f. Normalized Impervious Surface Index (NISI)\n",
    "    2. Check Band Correlations\n",
    "    3. Minimum Noise Fraction (MNF) Transformation\n",
    "    4. Remove Highly Correlated Bands\n",
    "    5. Texture Calculations\n",
    "    5. Export to GeoTIFF\n",
    "\n",
    "\"\"\"\n",
    "import os, sys, time\n",
    "from glob import glob\n",
    "import rioxarray as rxr\n",
    "import xarray as xr\n",
    "import numpy as np\n",
    "import matplotlib.pyplot as plt\n",
    "import seaborn as sns\n",
    "import earthpy.plot as ep\n",
    "import rasterio as rio\n",
    "import pysptools.util as sp_utils\n",
    "import geopandas as gpd\n",
    "import warnings\n",
    "import gc\n",
    "\n",
    "from rioxarray.merge import merge_arrays\n",
    "from rasterio.crs import CRS\n",
    "from sklearn.preprocessing import StandardScaler\n",
    "from scipy.ndimage import generic_filter\n",
    "\n",
    "warnings.filterwarnings('ignore')\n",
    "\n",
    "# Custom functions\n",
    "sys.path.append(os.path.join(os.getcwd(),'code/'))\n",
    "from __functions import *\n",
    "\n",
    "# Load the environment variables\n",
    "\n",
    "# maindir = '/Users/max/Library/CloudStorage/OneDrive-Personal/mcook/earth-lab/opp-rooftop-mapping'\n",
    "maindir = '/home/jovyan/'\n",
    "datadir = os.path.join(maindir,'data-store/data/iplant/home/maco4303/data/OPP')\n",
    "\n",
    "# Coordinate Ref. System\n",
    "proj = 32618  # UTM Zone 18N (Washington, D.C.)\n",
    "\n",
    "print(\"Ready !\")"
   ]
  },
  {
   "cell_type": "code",
   "execution_count": 2,
   "id": "9f947290-8581-49e7-9059-3991202ae3b5",
   "metadata": {},
   "outputs": [
    {
     "data": {
      "text/plain": [
       "['code', 'combust', 'planet', 'training']"
      ]
     },
     "execution_count": 2,
     "metadata": {},
     "output_type": "execute_result"
    }
   ],
   "source": [
    "os.listdir(datadir)"
   ]
  },
  {
   "cell_type": "code",
   "execution_count": 3,
   "id": "23ccdd3a-d172-4767-9e8e-4485827e6de2",
   "metadata": {},
   "outputs": [
    {
     "name": "stdout",
     "output_type": "stream",
     "text": [
      "['2023-08-15_strip_6714424_add_composite.tif', '2023-08-15_strip_6714424_composite.tif', '2023-08-15_strip_6714613_composite.tif']\n"
     ]
    }
   ],
   "source": [
    "# PSScene list of GeoTIFFs\n",
    "# psscenes = glob(os.path.join(maindir,'data/spatial/raw/dc_data/planet-data/PSScene8Band_23/*_composite.tif'))\n",
    "psscenes = glob(os.path.join(datadir,'planet/denver/*_composite.tif')) # cyverse\n",
    "print([os.path.basename(f) for f in psscenes])"
   ]
  },
  {
   "cell_type": "code",
   "execution_count": null,
   "id": "12b888d4-874f-4fc1-868a-8a005b87c3cc",
   "metadata": {},
   "outputs": [],
   "source": [
    "# Load the clipping geometry\n",
    "bounds_fp = os.path.join(datadir,'planet/denver/denver_data_training_bounds.gpkg')\n",
    "bounds = gpd.read_file(bounds_fp)"
   ]
  },
  {
   "cell_type": "code",
   "execution_count": null,
   "id": "ee173407-36e5-4596-a4b3-14833e9ab2c8",
   "metadata": {},
   "outputs": [],
   "source": [
    "# Open the files and store in a list\n",
    "strips = []\n",
    "for i in range(len(psscenes)):\n",
    "    print(os.path.basename(psscenes[i]))\n",
    "    strip = rxr.open_rasterio(\n",
    "        psscenes[i],masked=True,cache=False\n",
    "    ).squeeze().astype(rio.uint16)\n",
    "    strip = strip.rio.clip(bounds.geometry) # clip to training bounds\n",
    "    strips.append(strip)  # append to the empty list\n",
    "    del strip\n",
    "\n",
    "print(strips[0].rio.crs)\n",
    "print(strips[0].rio.resolution())\n",
    "height, width = strips[0].rio.resolution()[0], strips[0].rio.resolution()[1]"
   ]
  },
  {
   "cell_type": "code",
   "execution_count": null,
   "id": "4fa3751d-477e-455a-a93d-6704c327fada",
   "metadata": {},
   "outputs": [],
   "source": [
    "# Merge the strips\n",
    "mosaic = merge_arrays(\n",
    "    dataarrays=strips,\n",
    "    res=(height, abs(width)),\n",
    "    crs=CRS.from_epsg(proj),\n",
    "    nodata=0,\n",
    "    method='max'\n",
    ")\n",
    "\n",
    "# Define the list of long names for each band\n",
    "long_names = ['coastal_blue', 'blue', 'green_i', 'green', 'yellow', 'red', 'rededge', 'nir']\n",
    "# Assign long names to each band\n",
    "mosaic.attrs['long_name'] = tuple(long_names)\n",
    "# Print raster attributes\n",
    "shp, gt, wkt, nd = mosaic.shape, mosaic.spatial_ref.GeoTransform, mosaic.rio.crs, mosaic.rio.nodata\n",
    "print(\n",
    "    f\"Shape: {shp}; \\n\"\n",
    "    f\"GeoTransform: {gt}; \\n\"\n",
    "    f\"WKT: {wkt}; \\n\"\n",
    "    f\"NoData Value: {nd}; \\n\"\n",
    "    f\"Bands: {mosaic.band}; \\n\"\n",
    "    f\"Band Names: {mosaic.attrs['long_name']}; \\n\"\n",
    "    f\"Data Type: {mosaic[0].dtype}\")\n",
    "\n",
    "# Write to disk\n",
    "# out_img = os.path.join(maindir,'data/spatial/mod/dc_data/planet-data/dc_0623_psscene8b.tif')\n",
    "out_img = os.path.join(maindir,'data-store/data_output/dc_0623_psscene8b.tif') # cyverse\n",
    "mosaic.rio.to_raster(\n",
    "    out_img, compress='zstd', zstd_level=9,\n",
    "    dtype='uint16', driver='GTiff')\n",
    "strips = []  # clear the list\n",
    "\n",
    "print(f\"Successfully exported the 8-band composite: {out_img}\")\n",
    "\n",
    "del mosaic, strips, height, width   # clean up\n",
    "gc.collect()"
   ]
  },
  {
   "cell_type": "code",
   "execution_count": null,
   "id": "f29e54df-b4c5-41e3-bb33-2ecea787895f",
   "metadata": {},
   "outputs": [],
   "source": []
  },
  {
   "cell_type": "code",
   "execution_count": null,
   "id": "314d9aaa-19c0-4a12-b7f1-36dd1382ac08",
   "metadata": {},
   "outputs": [],
   "source": []
  },
  {
   "cell_type": "code",
   "execution_count": null,
   "id": "7802ec1a-b5e5-4e39-873f-5072a7f7938f",
   "metadata": {},
   "outputs": [],
   "source": []
  },
  {
   "cell_type": "markdown",
   "id": "c1b8ad41-6ea2-458f-bce0-4194f89930a3",
   "metadata": {},
   "source": [
    "### Examine Band Correlations\n"
   ]
  },
  {
   "cell_type": "code",
   "execution_count": null,
   "id": "0f75946e-7441-4e3e-a959-ca9d7bf40d01",
   "metadata": {},
   "outputs": [],
   "source": [
    "# Reload the mosaic\n",
    "da = rxr.open_rasterio(out_img, masked=True, cache=False)\n",
    "print(da)"
   ]
  },
  {
   "cell_type": "code",
   "execution_count": null,
   "id": "0a117d10-0830-43ad-a424-083b29424483",
   "metadata": {},
   "outputs": [],
   "source": [
    "# Convert to a numpy array and test band correlations\n",
    "image_np = da.values\n",
    "# img_data is now a numpy array of shape (bands, height, width)\n",
    "print(f\"Image data shape: {image_np.shape}\")\n",
    "print(f\"Data type: {image_np.dtype}\")\n",
    "# Check if the data contains only zeros or NaNs\n",
    "print(f\"Data contains NaNs: {np.isnan(image_np).any()}\")\n",
    "print(f\"Data contains only zeros: {np.all(image_np == 0)}\")"
   ]
  },
  {
   "cell_type": "code",
   "execution_count": null,
   "id": "a6035bf7-5f50-4af0-b4b6-c772a9619d48",
   "metadata": {},
   "outputs": [],
   "source": [
    "out_png = os.path.join(maindir,'data-store/figures_output/FigX_band_correlationsV1.png')\n",
    "band_correlations(da, out_png) # see __functions.py\n",
    "gc.collect()"
   ]
  },
  {
   "cell_type": "markdown",
   "id": "d5394803-2103-4055-9595-deedcee58d05",
   "metadata": {},
   "source": [
    "### Handle Band Correlations in Planet SuperDove Visible Bands\n",
    "\n",
    "The Planet SuperDove visible bands (1-7) are highly correlated. \n",
    "\n",
    "To handle this issue, we can do some further feature extraction to generate meaningful layers before removing the correlated bands. \n",
    "\n",
    "First, we can calculate spectral indices to derive uncorrelated spectral features from the original bands. \n",
    "\n",
    "Second, we can try to distill the spectral information down using a decomposition method. Minimum Noise Fraction (MNF) minimizes noise in an image, producing sequential images of decreasing quality. Here we apply MNF to the SuperDove visible bands."
   ]
  },
  {
   "cell_type": "code",
   "execution_count": null,
   "id": "c1e9d150-4422-40a0-b20b-e145b60dba2b",
   "metadata": {},
   "outputs": [],
   "source": [
    "##### Calculate spectral indices"
   ]
  },
  {
   "cell_type": "code",
   "execution_count": null,
   "id": "f8fdfd90-3d41-406e-8e8b-12fc8ba40a8d",
   "metadata": {},
   "outputs": [],
   "source": [
    "# Copy attributes from the Green band (arbitrary, could be any band)\n",
    "NDRE = da[3].copy(data=(da[7] - da[6]) / (da[7] + da[6])) # red, nir\n",
    "VgNIRBI = da[3].copy(data=(da[3] - da[7]) / (da[3] + da[7]))  # 'green','nir'\n",
    "VrNIRBI = da[3].copy(data=(da[5] - da[7]) / (da[5] + da[7]))  # 'red','nir'\n",
    "NDBIbg = da[3].copy(data=(da[1] - da[3]) / (da[1] + da[3]))  # 'blue','green'\n",
    "NDBIrg = da[3].copy(data=(da[5] - da[3]) / (da[5] + da[3]))  # 'red','green'\n",
    "NISI = da[3].copy(data=(((da[1] + da[3] + da[5]) - da[7]) / ((da[1] + da[3] + da[5]) + da[7])))\n",
    "\n",
    "# Put the indices into a list\n",
    "si_stack = xr.concat([NDRE, VgNIRBI, VrNIRBI, NDBIbg, NDBIrg, NISI], dim='band')  # create and image stack\n",
    "\n",
    "# Reorder the band numbers in prep to merge\n",
    "si_stack = si_stack.assign_coords(band=np.arange(9, 9 + si_stack.shape[0]))\n",
    "\n",
    "# Define the list of long names for each band\n",
    "si_long_names = ['NDRE', 'VgNIRBI', 'VrNIRBI', 'NDBIbg', 'NDBIrg', 'NISI']\n",
    "# Assign long names to each band\n",
    "si_stack.attrs['long_name'] = tuple(si_long_names)\n",
    "\n",
    "# Print raster attributes\n",
    "shp, gt, wkt, nd = si_stack.shape, si_stack.spatial_ref.GeoTransform, si_stack.rio.crs, si_stack.rio.nodata\n",
    "print(\n",
    "    f\"Shape: {shp}; \\n\"\n",
    "    f\"GeoTransform: {gt}; \\n\"\n",
    "    f\"WKT: {wkt}; \\n\"\n",
    "    f\"NoData Value: {nd}; \\n\"\n",
    "    f\"Bands: {si_stack.band}; \\n\"\n",
    "    f\"Band Names: {si_stack.attrs['long_name']}; \\n\"\n",
    "    f\"Data Type: {si_stack[0].dtype}\")\n",
    "\n",
    "del NDRE, VgNIRBI, VrNIRBI, NDBIbg, NDBIrg, NISI\n",
    "gc.collect()"
   ]
  },
  {
   "cell_type": "code",
   "execution_count": null,
   "id": "07a69714-35bd-4646-a009-a9d75c3078a3",
   "metadata": {},
   "outputs": [],
   "source": [
    "ep.plot_bands(si_stack, scale=False, figsize=(10,8))"
   ]
  },
  {
   "cell_type": "code",
   "execution_count": null,
   "id": "46f1ec47-deb5-43be-b661-00e39bb6127b",
   "metadata": {},
   "outputs": [],
   "source": []
  },
  {
   "cell_type": "code",
   "execution_count": null,
   "id": "4c27bfbf-59e3-4785-a09e-b4e7659a9c9a",
   "metadata": {},
   "outputs": [],
   "source": [
    "##### Calculate the MNF transformation on visible bands"
   ]
  },
  {
   "cell_type": "code",
   "execution_count": null,
   "id": "3126acf7-3eee-415f-8a24-ae715ccc8b48",
   "metadata": {},
   "outputs": [],
   "source": [
    "planet_bands_vis = image_np[:7, ...]\n",
    "planet_bands_vis = np.nan_to_num(planet_bands_vis, nan=-9999)\n",
    "print(planet_bands_vis.shape)"
   ]
  },
  {
   "cell_type": "code",
   "execution_count": null,
   "id": "b630a090-c6e0-4277-b25c-41d7d8a9b744",
   "metadata": {},
   "outputs": [],
   "source": [
    "print(f\"Image array shape: {image_np.shape}; and type: {type(image_np)}\")"
   ]
  },
  {
   "cell_type": "code",
   "execution_count": null,
   "id": "5ac1ec5f-61f0-47ef-afad-b5df4aec7e75",
   "metadata": {},
   "outputs": [],
   "source": [
    "# MNF transform implmentation\n",
    "da_mnf = mnf_transform(planet_bands_vis)  # see functions.py\n",
    "print(\n",
    "    f\"MNF image shape: {da_mnf.shape}; \\n\"\n",
    "    f\"transposed shape: {da_mnf.T.shape}; \\n\"\n",
    "    f\"and type: {type(da_mnf)};\")"
   ]
  },
  {
   "cell_type": "code",
   "execution_count": null,
   "id": "ec61915d-4ff5-48ff-94f2-53157f30976a",
   "metadata": {},
   "outputs": [],
   "source": [
    "# Explore the dimensionality of the data\n",
    "\n",
    "# Filter out NoData values from the MNF-transformed image\n",
    "filtered = ravel_and_filter(np.where(planet_bands_vis == -9999, -9999, da_mnf.T))\n",
    "# Obtain the covariance matrix\n",
    "cov_m = sp_utils.cov(filtered)\n",
    "# Compute the eigenvalues, sort them, reverse the sorting\n",
    "eigenvals = np.sort(np.linalg.eig(cov_m)[0])[::-1]\n",
    "eigenvals_p = np.power(eigenvals, 2) / sum(np.power(eigenvals, 2))\n",
    "print(f\"Variance explained by MNF rotations: \\n {list(map(lambda x: round(x, 3), eigenvals_p.tolist()))}\")\n",
    "\n",
    "del filtered, cov_m, eigenvals, eigenvals_p\n",
    "gc.collect()"
   ]
  },
  {
   "cell_type": "code",
   "execution_count": null,
   "id": "83dc93a5-97f5-4307-9542-d25e9d2e01bc",
   "metadata": {},
   "outputs": [],
   "source": [
    "# retain the first rotation which explains 100% (??) of the variation\n",
    "da_mnf_ = da_mnf[:,:,:1].T # transpose to match the da stack\n",
    "print(da_mnf_.shape)"
   ]
  },
  {
   "cell_type": "code",
   "execution_count": null,
   "id": "d9128b15-101c-4daa-b6d1-e98694310235",
   "metadata": {},
   "outputs": [],
   "source": [
    "# Export to GeoTIFF\n",
    "# out_path = os.path.join(maindir,'data/spatial/mod/dc_data/planet-data/dc_0623_psscene8b_mnf.tif')\n",
    "out_path = os.path.join(maindir,'data-store/data_output/dc_0623_psscene8b_mnf.tif') # cyverse\n",
    "mnf_img = array_to_tif(da_mnf_.T, da, out_path, 'float32', clip=False)  \n",
    "\n",
    "# Convert to DataArray\n",
    "mnf_array = xr.DataArray(data=da_mnf_, # transposed mnf array\n",
    "                         dims=['band','y', 'x'],\n",
    "                         coords={'y': da.coords['y'], 'x': da.coords['x'], 'band': [15]},\n",
    "                         attrs=da.attrs)\n",
    "\n",
    "# Set the long name for the MNF band\n",
    "mnf_array.attrs['long_name'] = 'mnf1'\n",
    "mnf_array.rio.write_crs(proj, inplace=True) # write the CRS\n",
    "print(mnf_array)"
   ]
  },
  {
   "cell_type": "code",
   "execution_count": null,
   "id": "e20a2805-7622-4ccc-835e-9eb480f318c0",
   "metadata": {},
   "outputs": [],
   "source": []
  },
  {
   "cell_type": "code",
   "execution_count": null,
   "id": "8584141e-de10-4443-91ac-71d3ad55d655",
   "metadata": {},
   "outputs": [],
   "source": [
    "##### Stack the bands together and test for correlations again"
   ]
  },
  {
   "cell_type": "code",
   "execution_count": null,
   "id": "b8e7fa23-79fa-44aa-b606-24721b1a8080",
   "metadata": {},
   "outputs": [],
   "source": []
  },
  {
   "cell_type": "code",
   "execution_count": null,
   "id": "1881bf52-477a-419d-a28c-c74177162f83",
   "metadata": {},
   "outputs": [],
   "source": [
    "# Create the final multi-band image stack\n",
    "da_stack = xr.concat([da, si_stack, mnf_array], dim='band').astype(np.float32)\n",
    "\n",
    "# Update the long_name attribute to include the other names\n",
    "long_names = list(da_stack.attrs['long_name']) + si_long_names + ['mnf1']\n",
    "da_stack.attrs['long_name'] = tuple(long_names)\n",
    "print(f\"shape: {da_stack.shape};\\nlong_name: {da_stack.attrs['long_name']}\")\n",
    "\n",
    "# Plot the NISI index\n",
    "ep.plot_bands(\n",
    "    da_stack[13].squeeze(),\n",
    "    scale=False,\n",
    "    vmin=-1,vmax=1,\n",
    "    title=\"NISI\",\n",
    "    figsize=(6,6))"
   ]
  },
  {
   "cell_type": "code",
   "execution_count": null,
   "id": "357ee073-74ce-463f-a0cc-5f8f329d0c8a",
   "metadata": {},
   "outputs": [],
   "source": [
    "del da, si_stack, da_mnf, da_mnf_\n",
    "gc.collect()"
   ]
  },
  {
   "cell_type": "code",
   "execution_count": null,
   "id": "0354f831-1576-43b4-964c-502d20391a71",
   "metadata": {},
   "outputs": [],
   "source": [
    "out_png = os.path.join(maindir,'data-store/figures_output/FigX_band_correlationsV2.png')\n",
    "band_correlations(da_stack, out_png) # see __functions.py\n",
    "gc.collect()"
   ]
  },
  {
   "cell_type": "markdown",
   "id": "b71f3360-3fdc-4788-824a-730b8365a68c",
   "metadata": {},
   "source": [
    "#### Remove highly correlated bands\n",
    "\n",
    "Now that we have successfully created additional, uncorrelated features. We should remove the correlated bands to minimize redundancy and save on computation time for model development. \n",
    "\n",
    "The visible bands of the SuperDove instrument are all highly correlated and now accounted for by the first MNF rotation. Additionally, NDRE, VrNIRBI, and VgNIRBI are all highly correlated with each other and to the NISI index so these can be removed as well.\n",
    "\n",
    "Finally, we will create one additional correlation matrix to ensure that the remaining bands are not correlated."
   ]
  },
  {
   "cell_type": "code",
   "execution_count": null,
   "id": "4fe20875-3537-4946-a95c-724057c4f010",
   "metadata": {},
   "outputs": [],
   "source": [
    "band_idx_to_keep = [7,11,12,13,14] # uncorrelated bands\n",
    "da_stack_ = da_stack.isel(band=band_idx_to_keep)\n",
    "\n",
    "# Update the long_name attribute to reflect only the selected bands\n",
    "new_band_names = [long_names[i] for i in band_idx_to_keep]\n",
    "print(f'Uncorrelated bands: {new_band_names}')\n",
    "da_stack_.attrs['long_name'] = tuple(new_band_names)\n",
    "print(da_stack_.shape)"
   ]
  },
  {
   "cell_type": "code",
   "execution_count": null,
   "id": "9c922810-6b7d-46b7-8ca1-2d3b8c00c961",
   "metadata": {},
   "outputs": [],
   "source": [
    "out_png = os.path.join(maindir,'data-store/figures_output/FigX_band_correlationsV3.png')\n",
    "band_correlations(da_stack_, out_png) # see __functions.py\n",
    "gc.collect()"
   ]
  },
  {
   "cell_type": "code",
   "execution_count": null,
   "id": "55b06712-21d7-4b46-a220-f6b746b7e1f3",
   "metadata": {},
   "outputs": [],
   "source": [
    "del da_stack\n",
    "gc.collect()"
   ]
  },
  {
   "cell_type": "code",
   "execution_count": null,
   "id": "9d24311d-a7dc-4847-bf88-99e7fecb85a5",
   "metadata": {},
   "outputs": [],
   "source": [
    "print(\n",
    "    f\"Shape: {da_stack_.shape}; \\n\"\n",
    "    f\"CRS:  {da_stack_.rio.crs}; \\n\"\n",
    "    f\"NoData Value: {da_stack_.rio.nodata}; \\n\"\n",
    "    f\"Bands: {da_stack_.band}; \\n\"\n",
    "    f\"Band Names: {da_stack_.long_name}; \\n\"\n",
    "    f\"Data Type: {da_stack_[0].dtype}\")"
   ]
  },
  {
   "cell_type": "code",
   "execution_count": null,
   "id": "df81218e-8342-4fd2-bfc4-55779ef77da9",
   "metadata": {},
   "outputs": [],
   "source": [
    "# Plot the final uncorrelated bands\n",
    "ep.plot_bands(da_stack_, figsize=(10,8))"
   ]
  },
  {
   "cell_type": "code",
   "execution_count": null,
   "id": "3803d0ac-4486-46e7-bcba-72fc61c9274f",
   "metadata": {},
   "outputs": [],
   "source": []
  },
  {
   "cell_type": "code",
   "execution_count": null,
   "id": "1c1998be-3e05-4faa-8a28-e63c86080713",
   "metadata": {},
   "outputs": [],
   "source": []
  },
  {
   "cell_type": "markdown",
   "id": "30476d03-0589-4a7b-91a5-1dbf732ddb1d",
   "metadata": {},
   "source": [
    "#### Calculate Simple Texture Features\n",
    "\n",
    "Now that we have an image stack of uncorrelated bands, we can use some feature extraction to create additional data. In particular, creating textural metrics from the spectral data may improve image classification. In the section below, we calculate image texture using a simple moving window analysis on the Normalised Impervious Surface Index (NISI). We use the NISI because of its sensitivity to impervious surfaces, characterizing texture patterns of the built environment."
   ]
  },
  {
   "cell_type": "code",
   "execution_count": null,
   "id": "a4459bb5-ef50-4fa5-9d6d-9d00622d6f01",
   "metadata": {},
   "outputs": [],
   "source": [
    "# TEXTURE ANALYSIS"
   ]
  },
  {
   "cell_type": "code",
   "execution_count": null,
   "id": "4ef923a2-b63f-418c-b321-e64d03e000c6",
   "metadata": {},
   "outputs": [],
   "source": [
    "print(f\"Band Names: {da_stack_.long_name}\\nBand Inices: {da_stack_.band.values}\")\n",
    "band_mapping = dict(zip(da_stack_.long_name, da_stack_.band.values))\n",
    "print(band_mapping)"
   ]
  },
  {
   "cell_type": "code",
   "execution_count": null,
   "id": "c70e4430-45f9-4b6a-a19c-6fa0ea670970",
   "metadata": {},
   "outputs": [],
   "source": [
    "# Select the NISI band for analysis\n",
    "nisi = da_stack_[3]\n",
    "print(nisi)"
   ]
  },
  {
   "cell_type": "code",
   "execution_count": null,
   "id": "55831dbb-823d-43a3-9537-49b53a26b1c2",
   "metadata": {},
   "outputs": [],
   "source": [
    "t0 = time.time()\n",
    "\n",
    "# Define the window size (N x N)\n",
    "window_sizes = [5,9,27]  # 5x5, 9x9, 27x27\n",
    "\n",
    "da_out = {} # to store the data arrays\n",
    "for window_size in window_sizes:\n",
    "    t00 = time.time()\n",
    "    name = str(window_size)+'x'+str(window_size)\n",
    "    print(f\"Processing a {name} window size ...\")\n",
    "    \n",
    "    # Calculate the standard deviation using a moving window\n",
    "    nisi_std = generic_filter(nisi, np.std, size=window_size)\n",
    "    \n",
    "    # Convert the result to a DataArray with the same coordinates and dimensions as the original band\n",
    "    nisi_std_da = xr.DataArray(\n",
    "        nisi_std,\n",
    "        dims=nisi.dims,\n",
    "        coords=nisi.coords,\n",
    "        attrs=nisi.attrs\n",
    "    )\n",
    "\n",
    "    # Prep the array for export as a GeoTIFF\n",
    "    # Assign the long name attribute\n",
    "    nisi_std_da.attrs['long_name'] = 'NISI' + str(name)\n",
    "    nisi_std_da.rio.write_crs(proj, inplace=True) # write the CRS\n",
    "\n",
    "    # Plot the result to visualize the texture\n",
    "    ep.plot_bands(nisi_std_da, figsize=(4,4))\n",
    "\n",
    "    da_out[name] = nisi_std_da\n",
    "\n",
    "    t1 = (time.time() - t00) / 60\n",
    "    print(f\"Elapsed time for {name}: {t1:.2f} minutes.\")\n",
    "\n",
    "t2 = (time.time() - t0) / 60\n",
    "print(f\"Total elapsed time: {t2:.2f} minutes.\")"
   ]
  },
  {
   "cell_type": "code",
   "execution_count": null,
   "id": "347c6da3-28f7-48b8-9143-7993c0048293",
   "metadata": {},
   "outputs": [],
   "source": [
    "# Create a multiband image stack from the results\n",
    "da_texture = xr.concat(list(da_out.values()), dim='band')\n",
    "\n",
    "# Assign band labels (window sizes) as a coordinate for the 'band' dimension\n",
    "da_texture = da_texture.assign_coords(band=np.arange(6, 6 + len(da_out)))\n",
    "\n",
    "# Set the long_name attribute for each band\n",
    "new_names = ['NISI5x5','NISI9x9','NISI27x27']\n",
    "da_texture.attrs['long_name'] = tuple(new_names)\n",
    "\n",
    "# View the shape of the multiband texture stack\n",
    "print(\n",
    "    f\"Shape: {da_texture.shape}; \\n\"\n",
    "    f\"CRS:  {da_texture.rio.crs}; \\n\"\n",
    "    f\"NoData Value: {da_texture.rio.nodata}; \\n\"\n",
    "    f\"Bands: {da_texture.band}; \\n\"\n",
    "    f\"Band Names: {da_texture.long_name}; \\n\"\n",
    "    f\"Data Type: {da_texture[0].dtype}\")"
   ]
  },
  {
   "cell_type": "code",
   "execution_count": null,
   "id": "f4ec417e-834f-43cc-9bb4-8d65ddcefb92",
   "metadata": {},
   "outputs": [],
   "source": [
    "# Test the band correlations to make sure we can keep them all ...\n",
    "print(new_names)\n",
    "# Plot the correlation matrix\n",
    "out_png = os.path.join(maindir,'data-store/figures_output/FigX_band_correlationsV4_texture.png')\n",
    "band_correlations(da_texture, out_png)\n",
    "gc.collect()"
   ]
  },
  {
   "cell_type": "code",
   "execution_count": null,
   "id": "6ebbb21e-24b2-411e-aee2-5773dcf6d92d",
   "metadata": {},
   "outputs": [],
   "source": [
    "# out_img = os.path.join(maindir,'data-store/data_output/dc_0623_psscene8b_nisi_texture.tif') # cyverse\n",
    "# da_texture.rio.to_raster(out_img, compress='zstd', zstd_level=9, driver='GTiff')"
   ]
  },
  {
   "cell_type": "code",
   "execution_count": null,
   "id": "0365848e-356e-4e95-91b4-46f6ab3cc883",
   "metadata": {},
   "outputs": [],
   "source": [
    "# print_raster(out_img, open_file=True)"
   ]
  },
  {
   "cell_type": "code",
   "execution_count": null,
   "id": "63ebcf22-732c-4b6e-ad6a-296460cd16bc",
   "metadata": {},
   "outputs": [],
   "source": []
  },
  {
   "cell_type": "code",
   "execution_count": null,
   "id": "ca6cf5b7-c442-44c6-b3d3-e39d436a1f74",
   "metadata": {},
   "outputs": [],
   "source": [
    "# Test class seperability to identify which texture metric(s) should be kept"
   ]
  },
  {
   "cell_type": "code",
   "execution_count": null,
   "id": "6e32bde6-44ac-4f85-96aa-4f569ab75f60",
   "metadata": {},
   "outputs": [],
   "source": [
    "ref_fp = os.path.join(datadir,'training/dc_data_reference_footprints.gpkg')\n",
    "ref = gpd.read_file(ref_fp)\n",
    "ref.head()"
   ]
  },
  {
   "cell_type": "code",
   "execution_count": null,
   "id": "419ef499-191c-40fa-b9fd-5b7fc5662543",
   "metadata": {},
   "outputs": [],
   "source": [
    "# First, calculate the zonal mean for building footprints.\n",
    "t0 = time.time()\n",
    "\n",
    "affine = da_texture.rio.transform()\n",
    "bands = da_texture.shape[0]\n",
    "band_desc = list(da_texture.long_name)\n",
    "\n",
    "results = []  # Initialize results list\n",
    "\n",
    "for band in range(0, bands):\n",
    "    print(f'Processing band {band}')\n",
    "    band_data = da_texture[band].values  # Convert to numpy array\n",
    "    \n",
    "    stats = zonal_stats(\n",
    "        ref[['uid', 'class_code', 'geometry']],\n",
    "        band_data,\n",
    "        affine=affine,\n",
    "        stats=['mean'],\n",
    "        all_touched=True,\n",
    "        nodata=da_texture.rio.nodata,\n",
    "        geojson_out=True  # Retain original attributes in the output\n",
    "    )\n",
    "    \n",
    "    # Convert the list of dicts to a DataFrame, extract properties\n",
    "    stats_df = pd.DataFrame(stats)\n",
    "    \n",
    "    # Tidy the columns\n",
    "    stats_df['uid'] = stats_df['properties'].apply(lambda x: x.get('uid'))\n",
    "    stats_df['class_code'] = stats_df['properties'].apply(lambda x: x.get('class_code'))\n",
    "    stats_df['mean'] = stats_df['properties'].apply(lambda x: x.get('mean'))\n",
    "    stats_df = stats_df[['uid', 'class_code', 'mean']]\n",
    "    # Rename the band statistic column\n",
    "    stats_df.rename(columns={'mean': f'{band_desc[band - 1]}'}, inplace=True)\n",
    "\n",
    "    results.append(stats_df)\n",
    "    \n",
    "t1 = (time.time() - t0) / 60\n",
    "print(f\"Total elapsed time: {t1:.2f} minutes.\")\n",
    "print(\"\\n~~~~~~~~~~\\n\")"
   ]
  },
  {
   "cell_type": "code",
   "execution_count": null,
   "id": "f3edf01a-f846-471e-ab90-1b2e5427cf98",
   "metadata": {},
   "outputs": [],
   "source": [
    "results_df = results[1].merge(results[2], on='uid', how='left')  # Merge on uid\n",
    "results_df = results_df.merge(results[0], on='uid', how='left')  # Merge on uid\n",
    "results_df = results_df.drop(['class_code_x', 'class_code_y'], axis='columns')\n",
    "results_df.head()"
   ]
  },
  {
   "cell_type": "code",
   "execution_count": null,
   "id": "e85a58c9-b2e4-45f4-95bb-393da78dfba9",
   "metadata": {},
   "outputs": [],
   "source": [
    "import scipy.stats as stats\n",
    "\n",
    "# Assuming df is your DataFrame with columns 'class' and 'reflectance_band1'\n",
    "classes = results_df['class_code'].unique()\n",
    "# Perform one-way ANOVA\n",
    "f_value5, p_value5 = stats.f_oneway(*(results_df[results_df['class_code'] == cls]['NISI5x5'] for cls in classes))\n",
    "f_value9, p_value9 = stats.f_oneway(*(results_df[results_df['class_code'] == cls]['NISI9x9'] for cls in classes))\n",
    "f_value27, p_value27 = stats.f_oneway(*(results_df[results_df['class_code'] == cls]['NISI27x27'] for cls in classes))\n",
    "\n",
    "print(f'ANOVA F-value (NISI5x5): {f_value5}, p-value: {p_value5}\\n')\n",
    "print(f'ANOVA F-value (NISI9x9): {f_value9}, p-value: {p_value9}\\n')\n",
    "print(f'ANOVA F-value (NISI27x27): {f_value27}, p-value: {p_value27}')"
   ]
  },
  {
   "cell_type": "code",
   "execution_count": null,
   "id": "63434b09-61b2-49e0-a14c-a00700e628eb",
   "metadata": {},
   "outputs": [],
   "source": [
    "print(da_texture.band.values)\n",
    "print(da_texture.long_name)"
   ]
  },
  {
   "cell_type": "code",
   "execution_count": null,
   "id": "d9a26b69-4f8c-4590-b6f1-38bcf5417d1f",
   "metadata": {},
   "outputs": [],
   "source": [
    "# Retain the 5x5 texture\n",
    "da_texture_ = da_texture.isel(band=0)\n",
    "da_texture_.attrs['long_name'] = ['NISI5x5']\n",
    "print(da_texture_)"
   ]
  },
  {
   "cell_type": "code",
   "execution_count": null,
   "id": "573adbc4-f48a-4afb-90f4-4a1a2523f06c",
   "metadata": {},
   "outputs": [],
   "source": [
    "# Merge with the original data\n",
    "stack_out = xr.concat([da_stack_, da_texture_], dim='band') # Concatenate all bands\n",
    "\n",
    "new_names = ['nir', 'NDBIbg', 'NDBIrg', 'NISI', 'MNF1', 'NISI5x5']\n",
    "stack_out.attrs['long_name'] = tuple(new_names)\n",
    "\n",
    "print(stack_out.shape)"
   ]
  },
  {
   "cell_type": "code",
   "execution_count": null,
   "id": "ffb2c6e7-56f7-4c12-b9d4-b2ad1fbecc94",
   "metadata": {},
   "outputs": [],
   "source": [
    "del da_texture, da_texture_, results_df, band_data, ref, stats, stats_df\n",
    "gc.collect()"
   ]
  },
  {
   "cell_type": "code",
   "execution_count": null,
   "id": "a0c87c6d-39b5-41de-8dbf-3fd808b02ec6",
   "metadata": {},
   "outputs": [],
   "source": []
  },
  {
   "cell_type": "code",
   "execution_count": null,
   "id": "890c0baf-652d-45e3-95a2-1dc8add97826",
   "metadata": {},
   "outputs": [],
   "source": [
    "# PERFORM BAND NORMALIZATION"
   ]
  },
  {
   "cell_type": "code",
   "execution_count": null,
   "id": "ace9e3b5-5493-458e-b3c2-71559be4c565",
   "metadata": {},
   "outputs": [],
   "source": []
  },
  {
   "cell_type": "code",
   "execution_count": null,
   "id": "66d8c927-da11-43a3-93a9-1a8e53659f36",
   "metadata": {},
   "outputs": [],
   "source": [
    "scaler = StandardScaler() # from sklearn\n",
    "\n",
    "image_np = stack_out.values # convert to numpy array\n",
    "\n",
    "# Reshape the data to (bands, pixels)\n",
    "bands, height, width = image_np.shape\n",
    "image_np_t = image_np.reshape(bands, -1).T  # Transpose to get shape (pixels, bands)\n",
    "# Create a mask for non-NaN values\n",
    "valid_mask = ~np.isnan(image_np_t).any(axis=1)\n",
    "# Handle NaN for the correlation matrix\n",
    "image_np_tm = image_np_t[valid_mask]\n",
    "\n",
    "# Fit the scalar transform to the data\n",
    "image_np_tmn = scaler.fit_transform(image_np_tm)\n",
    "\n",
    "# Reshape normalized data back to (bands, height, width)\n",
    "\n",
    "# Create an empty array and place the normalized values back into the original shape\n",
    "image_np_tmn_r = np.full(image_np_t.shape, np.nan)\n",
    "image_np_tmn_r[valid_mask] = image_np_tmn\n",
    "image_np_tmn_r = image_np_tmn_r.T.reshape(bands, height, width)\n",
    "\n",
    "# Convert the normalized array back to a DataArray\n",
    "stack_out_norm = xr.DataArray(\n",
    "    image_np_tmn_r,\n",
    "    dims=stack_out.dims,\n",
    "    coords=stack_out.coords,\n",
    "    attrs=stack_out.attrs\n",
    ")\n",
    "\n",
    "print(stack_out_norm.shape)"
   ]
  },
  {
   "cell_type": "code",
   "execution_count": null,
   "id": "86676073-f3de-43b6-ab0a-36c3d19d2eb3",
   "metadata": {},
   "outputs": [],
   "source": [
    "del image_np, image_np_t, valid_mask, image_np_tm, image_np_tmn, image_np_tmn_r\n",
    "gc.collect()"
   ]
  },
  {
   "cell_type": "code",
   "execution_count": null,
   "id": "3a73ccc2-0732-45f2-9f52-4b96002fd3d0",
   "metadata": {},
   "outputs": [],
   "source": []
  },
  {
   "cell_type": "code",
   "execution_count": null,
   "id": "9029b166-bfc7-4001-940d-2250bfda1bb2",
   "metadata": {},
   "outputs": [],
   "source": []
  },
  {
   "cell_type": "code",
   "execution_count": null,
   "id": "2a0a463a-362b-4730-bc4d-668502df639e",
   "metadata": {},
   "outputs": [],
   "source": [
    "# Save the normalized image array out with the correct CRS and compression\n",
    "# stack_out_norm_fp = os.path.join(maindir,'data/spatial/mod/dc_data/planet-data/dc_0623_psscene8b_final_norm.tif')\n",
    "stack_out_norm_fp = os.path.join(maindir,'data-store/data_output/dc_0623_psscene8b_final_norm.tif')\n",
    "\n",
    "stack_out_norm.rio.write_crs(proj, inplace=True) # write the CRS\n",
    "stack_out_norm.rio.to_raster(stack_out_norm_fp, compress='zstd', zstd_level=9, driver='GTiff', dtype='float32')\n",
    "\n",
    "print(f\"Saved raster stack to: {stack_out_norm_fp}\")"
   ]
  },
  {
   "cell_type": "code",
   "execution_count": null,
   "id": "a49b4c75-0e1f-45f8-b3f4-af793a266b63",
   "metadata": {},
   "outputs": [],
   "source": []
  },
  {
   "cell_type": "code",
   "execution_count": null,
   "id": "1f50275c-b8d7-4c36-a6df-f7060774468d",
   "metadata": {},
   "outputs": [],
   "source": [
    "gc.collect()"
   ]
  },
  {
   "cell_type": "code",
   "execution_count": null,
   "id": "a36459b2-de8b-40c3-b57a-2a3b06c929d3",
   "metadata": {},
   "outputs": [],
   "source": []
  },
  {
   "cell_type": "code",
   "execution_count": null,
   "id": "3ee99ab4-68b9-4518-9b5c-8d65d8f9aa40",
   "metadata": {},
   "outputs": [],
   "source": []
  },
  {
   "cell_type": "code",
   "execution_count": null,
   "id": "6eb46d71-1dd7-4bde-8b81-696802c4d433",
   "metadata": {},
   "outputs": [],
   "source": []
  }
 ],
 "metadata": {
  "kernelspec": {
   "display_name": "macrosystems",
   "language": "python",
   "name": "macrosystems"
  },
  "language_info": {
   "codemirror_mode": {
    "name": "ipython",
    "version": 3
   },
   "file_extension": ".py",
   "mimetype": "text/x-python",
   "name": "python",
   "nbconvert_exporter": "python",
   "pygments_lexer": "ipython3",
   "version": "3.10.13"
  }
 },
 "nbformat": 4,
 "nbformat_minor": 5
}
